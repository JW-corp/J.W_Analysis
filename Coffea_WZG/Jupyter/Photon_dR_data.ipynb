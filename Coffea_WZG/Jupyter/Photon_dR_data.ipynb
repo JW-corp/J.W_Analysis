{
 "cells": [
  {
   "cell_type": "code",
   "execution_count": 3,
   "metadata": {},
   "outputs": [],
   "source": [
    "import awkward1 as ak\n",
    "from coffea.nanoevents import NanoEventsFactory, NanoAODSchema\n",
    "import numpy as np"
   ]
  },
  {
   "cell_type": "code",
   "execution_count": 4,
   "metadata": {},
   "outputs": [],
   "source": [
    "import matplotlib.pyplot as plt"
   ]
  },
  {
   "cell_type": "code",
   "execution_count": 5,
   "metadata": {},
   "outputs": [],
   "source": [
    "infile=\"data/data/F61C1E0B-F61C-B044-9B45-A711DABCFB75_skim_2ElIdPt20.root\"\n",
    "#infile=\"data/mc/59AB328B-F0E3-F544-98BB-E5E55577C649_skim_2ElIdPt20.root\""
   ]
  },
  {
   "cell_type": "code",
   "execution_count": 6,
   "metadata": {},
   "outputs": [],
   "source": [
    "events = NanoEventsFactory.from_root(infile, schemaclass=NanoAODSchema).events()"
   ]
  },
  {
   "cell_type": "code",
   "execution_count": 7,
   "metadata": {},
   "outputs": [],
   "source": [
    "Electron = events.Electron\n",
    "Photon   = events.Photon"
   ]
  },
  {
   "cell_type": "markdown",
   "metadata": {},
   "source": [
    "### 1. Particle Selection"
   ]
  },
  {
   "cell_type": "code",
   "execution_count": 8,
   "metadata": {},
   "outputs": [],
   "source": [
    "def Particle_selection(ele,pho):\n",
    "    # Electron selection\n",
    "    EleSelmask = (ele.pt > 25) & (np.abs(ele.eta) < 2.5) & (ele.cutBased > 2)\n",
    "\n",
    "    # Photon selection\n",
    "    # 0 Fail 1 Loose 2 Medium 3 Tight\n",
    "    # -- HoE cut is added manually\n",
    "    #PhoSelmaskEE = (pho.pt > 25) & (pho.cutBased > 1) &  pho.isScEtaEE & (pho.hoe < 0.0326)\n",
    "    #PhoSelmaskEB = (pho.pt > 25) & (pho.cutBased > 1) &  pho.isScEtaEB & (pho.hoe < 0.02197)\n",
    "    #PhoSelmask = PhoSelmaskEE | PhoSelmaskEB\n",
    "    \n",
    "    # -- Original Photon selection\n",
    "    PhoSelmask = (pho.pt > 25) & (pho.cutBased > 1)\n",
    "    return EleSelmask,PhoSelmask"
   ]
  },
  {
   "cell_type": "code",
   "execution_count": 9,
   "metadata": {},
   "outputs": [],
   "source": [
    "# Event Selection\n",
    "Electron_mask, Photon_mask  = Particle_selection(Electron,Photon)\n",
    "Ele_channel_mask = ak.num(Electron[Electron_mask]) > 1\n",
    "Pho_channel_mask = ak.num(Photon[Photon_mask]) > 0\n",
    "Ele_channel_events = events[Ele_channel_mask & Pho_channel_mask]"
   ]
  },
  {
   "cell_type": "markdown",
   "metadata": {},
   "source": [
    "### 2. Make Paricle array from selected events"
   ]
  },
  {
   "cell_type": "code",
   "execution_count": 10,
   "metadata": {},
   "outputs": [],
   "source": [
    "Ele = Ele_channel_events.Electron\n",
    "Pho = Ele_channel_events.Photon"
   ]
  },
  {
   "cell_type": "code",
   "execution_count": 11,
   "metadata": {},
   "outputs": [],
   "source": [
    "Electron_mask,Photon_mask = Particle_selection(Ele,Pho)\n",
    "Ele_sel = Ele[Electron_mask]\n",
    "Pho_sel = Pho[Photon_mask]\n",
    "\n",
    "# Helper function: High PT argmax\n",
    "def make_leading_pair(target,base):\n",
    "\n",
    "    return target[ak.argmax(base.pt,axis=1,keepdims=True)]\n",
    "\n",
    "leading_pho = make_leading_pair(Pho_sel,Pho_sel)"
   ]
  },
  {
   "cell_type": "markdown",
   "metadata": {},
   "source": [
    "### 3. Select Electron pair"
   ]
  },
  {
   "cell_type": "code",
   "execution_count": 12,
   "metadata": {},
   "outputs": [],
   "source": [
    "# Electron pair\n",
    "ele_pairs = ak.combinations(Ele_sel,2,axis=1)\n",
    "ele_left, ele_right = ak.unzip(ele_pairs)\n",
    "diele = ele_left + ele_right\n",
    "\n",
    "\n",
    "# -- Only Leading pair --\n",
    "leading_diele = make_leading_pair(diele,diele)\n",
    "leading_ele   = make_leading_pair(ele_left,diele)\n",
    "subleading_ele= make_leading_pair(ele_right,diele)"
   ]
  },
  {
   "cell_type": "markdown",
   "metadata": {},
   "source": [
    "### 4. Calculate Delta R"
   ]
  },
  {
   "cell_type": "code",
   "execution_count": 15,
   "metadata": {},
   "outputs": [],
   "source": [
    "## -- Helper function for making delta_R\n",
    "import math\n",
    "def dR(ele,pho):\n",
    "    # -- delta eta -- #\n",
    "    deta = abs(ele.eta - pho.eta)\n",
    "    \n",
    "    # -- delta phi == # \n",
    "    if abs(ele.phi - pho.phi) > math.pi: \n",
    "        dphi = 2*math.pi - abs(ele.phi - pho.phi)\n",
    "    else:\n",
    "        dphi = abs(ele.phi - pho.phi)\n",
    "        \n",
    "    # -- delta R -- #\n",
    "    return np.sqrt(deta*deta + dphi*dphi)"
   ]
  },
  {
   "cell_type": "code",
   "execution_count": 16,
   "metadata": {},
   "outputs": [
    {
     "name": "stdout",
     "output_type": "stream",
     "text": [
      "Wall time: 26.2 s\n"
     ]
    }
   ],
   "source": [
    "%%time\n",
    "dR_leading_ele=[]\n",
    "dR_subleading_ele=[]\n",
    "\n",
    "Low_dR_ele1_pt=[]\n",
    "Low_dR_ele2_pt=[]\n",
    "Low_dR_pho_e1_pt=[]\n",
    "Low_dR_pho_e2_pt=[]\n",
    "\n",
    "for evt,photon in enumerate(Pho_sel):\n",
    "    for pho_idx,_ in enumerate(photon):\n",
    "               \n",
    "        dR_e1= dR(leading_ele[evt][0],Pho_sel[evt][pho_idx])\n",
    "        dR_e2= dR(subleading_ele[evt][0],Pho_sel[evt][pho_idx])        \n",
    "        dR_leading_ele.append(dR_e1)\n",
    "        dR_subleading_ele.append(dR_e2)\n",
    "        \n",
    "        \n",
    "        if dR_e1 <= 0.4:\n",
    "            Low_dR_ele1_pt.append(leading_ele[evt][0].pt)\n",
    "            Low_dR_pho_e1_pt.append(Pho_sel[evt][pho_idx].pt)\n",
    "        if dR_e2 <= 0.4:\n",
    "            Low_dR_ele2_pt.append(subleading_ele[evt][0].pt)\n",
    "            Low_dR_pho_e2_pt.append(Pho_sel[evt][pho_idx].pt)"
   ]
  },
  {
   "cell_type": "markdown",
   "metadata": {},
   "source": [
    "### 5. dR histogram and plot(elept vs phopt) in low dR region"
   ]
  },
  {
   "cell_type": "code",
   "execution_count": 26,
   "metadata": {},
   "outputs": [
    {
     "data": {
      "text/plain": [
       "Text(0.5, 1.0, 'dR(ele1,pho)')"
      ]
     },
     "execution_count": 26,
     "metadata": {},
     "output_type": "execute_result"
    },
    {
     "data": {
      "image/png": "[encoded data removed]",
      "text/plain": [
       "<Figure size 432x288 with 1 Axes>"
      ]
     },
     "metadata": {
      "needs_background": "light"
     },
     "output_type": "display_data"
    }
   ],
   "source": [
    "plt.hist(dR_leading_ele,bins=100,label='dR(e1 and pho)')\n",
    "plt.yscale('log')\n",
    "#plt.xlim(0,)\n",
    "plt.legend()\n",
    "plt.title('dR(ele1,pho)')"
   ]
  },
  {
   "cell_type": "code",
   "execution_count": 36,
   "metadata": {},
   "outputs": [
    {
     "data": {
      "text/plain": [
       "Text(0.5, 1.0, 'dR(ele1,pho) zoom [0.1]')"
      ]
     },
     "execution_count": 36,
     "metadata": {},
     "output_type": "execute_result"
    },
    {
     "data": {
      "image/png": "[encoded data removed]",
      "text/plain": [
       "<Figure size 432x288 with 1 Axes>"
      ]
     },
     "metadata": {
      "needs_background": "light"
     },
     "output_type": "display_data"
    }
   ],
   "source": [
    "plt.hist(dR_leading_ele,bins=1000,label='dR(e1 and pho)')\n",
    "plt.yscale('log')\n",
    "plt.xlim(0,1)\n",
    "plt.legend()\n",
    "plt.title('dR(ele1,pho) zoom [0.1]')"
   ]
  },
  {
   "cell_type": "code",
   "execution_count": 28,
   "metadata": {},
   "outputs": [
    {
     "data": {
      "text/plain": [
       "Text(0.5, 1.0, 'dR(ele2,pho)')"
      ]
     },
     "execution_count": 28,
     "metadata": {},
     "output_type": "execute_result"
    },
    {
     "data": {
      "image/png": "[encoded data removed]",
      "text/plain": [
       "<Figure size 432x288 with 1 Axes>"
      ]
     },
     "metadata": {
      "needs_background": "light"
     },
     "output_type": "display_data"
    }
   ],
   "source": [
    "plt.close()\n",
    "plt.hist(dR_subleading_ele,bins=100,color='darkorange',label='dR(e2 and pho)',)\n",
    "plt.yscale('log')\n",
    "plt.legend()\n",
    "plt.title('dR(ele2,pho)')"
   ]
  },
  {
   "cell_type": "code",
   "execution_count": 35,
   "metadata": {},
   "outputs": [
    {
     "data": {
      "text/plain": [
       "Text(0.5, 1.0, 'dR(ele2,pho) zoom [0,1]')"
      ]
     },
     "execution_count": 35,
     "metadata": {},
     "output_type": "execute_result"
    },
    {
     "data": {
      "image/png": "[encoded data removed]",
      "text/plain": [
       "<Figure size 432x288 with 1 Axes>"
      ]
     },
     "metadata": {
      "needs_background": "light"
     },
     "output_type": "display_data"
    }
   ],
   "source": [
    "plt.close()\n",
    "plt.hist(dR_subleading_ele,bins=1000,color='darkorange',label='dR(e2 and pho)',)\n",
    "plt.yscale('log')\n",
    "plt.legend()\n",
    "plt.xlim(0,1)\n",
    "plt.title('dR(ele2,pho) zoom [0,1]')"
   ]
  },
  {
   "cell_type": "code",
   "execution_count": 34,
   "metadata": {},
   "outputs": [
    {
     "data": {
      "text/plain": [
       "Text(0.5, 1.0, 'ele1pt vs phopt in dR<0.4')"
      ]
     },
     "execution_count": 34,
     "metadata": {},
     "output_type": "execute_result"
    },
    {
     "data": {
      "image/png": "[encoded data removed]",
      "text/plain": [
       "<Figure size 432x288 with 1 Axes>"
      ]
     },
     "metadata": {
      "needs_background": "light"
     },
     "output_type": "display_data"
    }
   ],
   "source": [
    "plt.plot(Low_dR_ele1_pt,Low_dR_pho_e1_pt,'.')\n",
    "plt.grid()\n",
    "plt.xlabel('ele1 PT')\n",
    "plt.ylabel('pho PT')\n",
    "plt.title('ele1pt vs phopt in dR<0.4')"
   ]
  },
  {
   "cell_type": "code",
   "execution_count": 33,
   "metadata": {},
   "outputs": [
    {
     "data": {
      "text/plain": [
       "Text(0.5, 1.0, 'ele2pt vs phopt in dR<0.4')"
      ]
     },
     "execution_count": 33,
     "metadata": {},
     "output_type": "execute_result"
    },
    {
     "data": {
      "image/png": "[encoded data removed]",
      "text/plain": [
       "<Figure size 432x288 with 1 Axes>"
      ]
     },
     "metadata": {
      "needs_background": "light"
     },
     "output_type": "display_data"
    }
   ],
   "source": [
    "plt.plot(Low_dR_ele2_pt,Low_dR_pho_e2_pt,'.')\n",
    "plt.grid()\n",
    "plt.xlabel('ele2 PT')\n",
    "plt.ylabel('pho PT')\n",
    "plt.title('ele2pt vs phopt in dR<0.4')"
   ]
  },
  {
   "cell_type": "code",
   "execution_count": null,
   "metadata": {},
   "outputs": [],
   "source": []
  }
 ],
 "metadata": {
  "kernelspec": {
   "display_name": "Python 3",
   "language": "python",
   "name": "python3"
  },
  "language_info": {
   "codemirror_mode": {
    "name": "ipython",
    "version": 3
   },
   "file_extension": ".py",
   "mimetype": "text/x-python",
   "name": "python",
   "nbconvert_exporter": "python",
   "pygments_lexer": "ipython3",
   "version": "3.7.5"
  }
 },
 "nbformat": 4,
 "nbformat_minor": 4
}
