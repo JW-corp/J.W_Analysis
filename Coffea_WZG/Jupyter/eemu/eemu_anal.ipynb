{
 "cells": [
  {
   "cell_type": "code",
   "execution_count": 1,
   "metadata": {},
   "outputs": [],
   "source": [
    "import awkward as ak\n",
    "from coffea.nanoevents import NanoEventsFactory, NanoAODSchema\n",
    "import numpy as np\n",
    "from tqdm import tqdm,trange\n",
    "import matplotlib.pyplot as plt\n",
    "import numba"
   ]
  },
  {
   "cell_type": "markdown",
   "metadata": {},
   "source": [
    "### Setup parameters"
   ]
  },
  {
   "cell_type": "code",
   "execution_count": 2,
   "metadata": {},
   "outputs": [],
   "source": [
    "infile = \"../data/signal/wza_UL18_sum.root\" # --signal\n",
    "#infile = \"data/mc/ZZ/5B850510-FC7D-AD4C-A534-33F6C24D14D1.root\"\n",
    "#infile = \"data/mc/TTZToLL/30FD3469-AEFB-B742-8F3E-4551B23D529B.root\"\n",
    "#infile='data/data/7B56E217-555E-1C41-9494-491849A9835F_skim_2ElIdPt20.root' # --data \n",
    "#infile = 'data/data/CA42F3A2-614F-4A4F-AF18-F6E66CDA2C85_skim_2ElIdPt20.root'\n",
    "#infile = 'data/Ntuple/EGamma_Run2018B.root'\n",
    "#infile=\"data/mc/59AB328B-F0E3-F544-98BB-E5E55577C649_skim_2ElIdPt20.root\" # --mc\n",
    "\n",
    "dataset=\"WZG\"\n",
    "year='2018'"
   ]
  },
  {
   "cell_type": "code",
   "execution_count": 3,
   "metadata": {},
   "outputs": [],
   "source": [
    "events = NanoEventsFactory.from_root(infile, schemaclass=NanoAODSchema).events()"
   ]
  },
  {
   "cell_type": "code",
   "execution_count": 4,
   "metadata": {},
   "outputs": [],
   "source": [
    "# Trigger set\n",
    "doubleelectron_triggers  ={\n",
    "    '2018': [\n",
    "            \"Ele23_Ele12_CaloIdL_TrackIdL_IsoVL\", # Recomended\n",
    "            ]\n",
    "}\n",
    "\n",
    "\n",
    "\n",
    "singleelectron_triggers = { #2017 and 2018 from monojet, applying dedicated trigger weights\n",
    "        '2016': [\n",
    "            'Ele27_WPTight_Gsf',\n",
    "            'Ele105_CaloIdVT_GsfTrkIdT'\n",
    "        ],\n",
    "        '2017': [\n",
    "            'Ele35_WPTight_Gsf',\n",
    "            'Ele115_CaloIdVT_GsfTrkIdT',\n",
    "            'Photon200'\n",
    "        ],\n",
    "        '2018': [\n",
    "            'Ele32_WPTight_Gsf',    # Recomended\n",
    "        ]\n",
    "    }\n",
    "\n",
    "\n",
    "\n",
    "isData = \"genWeight\" not in events.fields\n",
    "\n",
    "\n",
    "# Golden Json file\n",
    "if (year == \"2018\") and isData:\n",
    "    injson = \"data/json/Cert_314472-325175_13TeV_Legacy2018_Collisions18_JSON.txt.RunABD\""
   ]
  },
  {
   "cell_type": "markdown",
   "metadata": {},
   "source": [
    "### Helper functions"
   ]
  },
  {
   "cell_type": "code",
   "execution_count": 5,
   "metadata": {},
   "outputs": [],
   "source": [
    "# << Sort by PT  helper function >>\n",
    "def sort_by_pt(ele,pho,jet):\n",
    "    ele = ele[ak.argsort(ele.pt,ascending=False,axis=1)]\n",
    "    pho = pho[ak.argsort(pho.pt,ascending=False,axis=1)]\n",
    "    jet = jet[ak.argsort(jet.pt,ascending=False,axis=1)]\n",
    "\n",
    "    return ele,pho,jet\n",
    "events.Electron, events.Photon, events.Jet = sort_by_pt(\n",
    "            events.Electron, events.Photon, events.Jet\n",
    "        )\n",
    "\n",
    "# Lorentz vectors\n",
    "from coffea.nanoevents.methods import vector\n",
    "ak.behavior.update(vector.behavior)\n",
    "\n",
    "def TLorentz_vector(vec):\n",
    "    vec = ak.zip(\n",
    "        {\"x\": vec.x, \"y\": vec.y, \"z\": vec.z, \"t\": vec.t},\n",
    "        with_name=\"LorentzVector\",\n",
    "    )\n",
    "    return vec\n",
    "\n",
    "def TLorentz_vector_cylinder(vec):\n",
    "\n",
    "    vec = ak.zip(\n",
    "        {\n",
    "            \"pt\": vec.pt,\n",
    "            \"eta\": vec.eta,\n",
    "            \"phi\": vec.phi,\n",
    "            \"mass\": vec.mass,\n",
    "        },\n",
    "        with_name=\"PtEtaPhiMLorentzVector\",\n",
    "    )\n",
    "\n",
    "    return vec\n",
    "\n"
   ]
  },
  {
   "cell_type": "markdown",
   "metadata": {},
   "source": [
    "### Good-Run check ( Data-only )"
   ]
  },
  {
   "cell_type": "code",
   "execution_count": 6,
   "metadata": {},
   "outputs": [],
   "source": [
    "from coffea import lumi_tools\n",
    "\n",
    "if isData:\n",
    "    lumi_mask_builder = lumi_tools.LumiMask(injson)\n",
    "    lumimask = ak.Array(\n",
    "        lumi_mask_builder.__call__(events.run, events.luminosityBlock)\n",
    "    )\n",
    "    events = events[lumimask]"
   ]
  },
  {
   "cell_type": "markdown",
   "metadata": {},
   "source": [
    "### 1. Trigger"
   ]
  },
  {
   "cell_type": "code",
   "execution_count": 7,
   "metadata": {},
   "outputs": [
    {
     "name": "stdout",
     "output_type": "stream",
     "text": [
      "Events passing triggers and skiimig:  22276\n"
     ]
    }
   ],
   "source": [
    "# double lepton trigger\n",
    "is_double_ele_trigger=True\n",
    "if not is_double_ele_trigger:\n",
    "    double_ele_triggers_arr=np.ones(len(events), dtype=np.bool)\n",
    "else:\n",
    "    double_ele_triggers_arr = np.zeros(len(events), dtype=np.bool)\n",
    "    for path in doubleelectron_triggers[year]:\n",
    "        if path not in events.HLT.fields: continue\n",
    "        double_ele_triggers_arr = double_ele_triggers_arr | events.HLT[path]\n",
    "\n",
    "\n",
    "# single lepton trigger\n",
    "is_single_ele_trigger=True\n",
    "if not is_single_ele_trigger:\n",
    "    single_ele_triggers_arr=np.ones(len(events), dtype=np.bool)\n",
    "else:\n",
    "    single_ele_triggers_arr = np.zeros(len(events), dtype=np.bool)\n",
    "    for path in singleelectron_triggers[year]:\n",
    "        if path not in events.HLT.fields: continue\n",
    "        single_ele_triggers_arr = single_ele_triggers_arr | events.HLT[path]\n",
    "\n",
    "# Sort particle order by PT  # RunD --> has problem\n",
    "events.Electron,events.Photon,events.Jet = sort_by_pt(events.Electron,events.Photon,events.Jet)\n",
    "\n",
    "Initial_events = events\n",
    "#events = events[single_ele_triggers_arr | double_ele_triggers_arr]\n",
    "events = events[double_ele_triggers_arr]\n",
    "print(\"Events passing triggers and skiimig: \",len(events) )"
   ]
  },
  {
   "cell_type": "code",
   "execution_count": 8,
   "metadata": {},
   "outputs": [],
   "source": [
    "# Set Particle\n",
    "Electron = events.Electron\n",
    "Muon = events.Muon\n",
    "Photon = events.Photon\n",
    "MET = events.MET\n",
    "Jet = events.Jet"
   ]
  },
  {
   "cell_type": "markdown",
   "metadata": {},
   "source": [
    "### 2. Muon"
   ]
  },
  {
   "cell_type": "code",
   "execution_count": 9,
   "metadata": {},
   "outputs": [],
   "source": [
    "#  --Muon \n",
    "#MuSelmask = (\n",
    "#    (Muon.pt >= 10)\n",
    "#    & (abs(Muon.eta) <= 2.5)\n",
    "#    & (Muon.tightId)\n",
    "#    & (Muon.pfRelIso04_all < 0.15)\n",
    "#)\n",
    "# Muon = ak.mask(Muon,MuSelmask)\n",
    "\n",
    "\n",
    "\n",
    "MuSelmask = (abs(Muon.eta) <= 2.5) \n",
    "Muon = Muon[MuSelmask]"
   ]
  },
  {
   "cell_type": "code",
   "execution_count": 10,
   "metadata": {},
   "outputs": [
    {
     "data": {
      "text/plain": [
       "7525"
      ]
     },
     "execution_count": 10,
     "metadata": {},
     "output_type": "execute_result"
    }
   ],
   "source": [
    "# Exatly one muon\n",
    "Muon_sel_mask = (ak.num(Muon) >= 1)\n",
    "Electron = Electron[Muon_sel_mask]\n",
    "Photon = Photon[Muon_sel_mask]\n",
    "Jet = Jet[Muon_sel_mask]\n",
    "MET = MET[Muon_sel_mask]\n",
    "Muon = Muon[Muon_sel_mask]\n",
    "events = events[Muon_sel_mask]\n",
    "len(Electron)"
   ]
  },
  {
   "cell_type": "markdown",
   "metadata": {},
   "source": [
    "### 3. Electron"
   ]
  },
  {
   "cell_type": "code",
   "execution_count": 11,
   "metadata": {},
   "outputs": [],
   "source": [
    "##----------- Cut flow3: Electron Selection\n",
    "\n",
    "EleSelmask = (\n",
    "    (Electron.pt >= 10)\n",
    "    & (np.abs(Electron.eta + Electron.deltaEtaSC) < 1.479)\n",
    "    & (Electron.cutBased > 2)\n",
    "    & (abs(Electron.dxy) < 0.05)\n",
    "    & (abs(Electron.dz) < 0.1)\n",
    ") | (\n",
    "    (Electron.pt >= 10)\n",
    "    & (np.abs(Electron.eta + Electron.deltaEtaSC) > 1.479)\n",
    "    & (np.abs(Electron.eta + Electron.deltaEtaSC) <= 2.5)\n",
    "    & (Electron.cutBased > 2)\n",
    "    & (abs(Electron.dxy) < 0.1)\n",
    "    & (abs(Electron.dz) < 0.2)\n",
    ")\n",
    "\n",
    "Electron = Electron[EleSelmask]"
   ]
  },
  {
   "cell_type": "code",
   "execution_count": 12,
   "metadata": {},
   "outputs": [
    {
     "data": {
      "text/plain": [
       "4036"
      ]
     },
     "execution_count": 12,
     "metadata": {},
     "output_type": "execute_result"
    }
   ],
   "source": [
    "# apply cut 2\n",
    "eemu_mask = ak.num(Electron) >=2\n",
    "\n",
    "Electron = Electron[eemu_mask]\n",
    "Photon = Photon[eemu_mask]\n",
    "Jet = Jet[eemu_mask]\n",
    "MET = MET[eemu_mask]\n",
    "Muon = Muon[eemu_mask]\n",
    "events = events[eemu_mask]\n",
    "len(events)"
   ]
  },
  {
   "cell_type": "markdown",
   "metadata": {},
   "source": [
    "### 3. Photon Selection:  pho > 0 "
   ]
  },
  {
   "cell_type": "code",
   "execution_count": 13,
   "metadata": {},
   "outputs": [],
   "source": [
    "##----------- Cut flow3: Photon Selection\n",
    "\n",
    "# Basic photon selection\n",
    "isgap_mask = (abs(Photon.eta) < 1.442) | (\n",
    "    (abs(Photon.eta) > 1.566) & (abs(Photon.eta) < 2.5)\n",
    ")\n",
    "Pixel_seed_mask = ~Photon.pixelSeed\n",
    "\n",
    "if (dataset == \"ZZ\") and (year == \"2017\"):\n",
    "    PT_ID_mask = (Photon.pt >= 20) & (\n",
    "        Photon.cutBasedBitmap >= 3\n",
    "    )  # 2^0(Loose) + 2^1(Medium) + 2^2(Tights)\n",
    "else:\n",
    "    PT_ID_mask = (Photon.pt >= 20) & (Photon.cutBased > 1)\n",
    "\n",
    "# dR cut with selected Muon and Electrons\n",
    "dr_pho_ele_mask = ak.all(\n",
    "    Photon.metric_table(Electron) >= 0.5, axis=-1\n",
    ")  # default metric table: delta_r\n",
    "dr_pho_mu_mask = ak.all(Photon.metric_table(Muon) >= 0.5, axis=-1)\n",
    "\n",
    "# genPartFlav cut\n",
    "\"\"\"\n",
    "if dataset == \"WZG\":\n",
    "    isPrompt = (Photon.genPartFlav == 1) | (Photon.genPartFlav == 11)\n",
    "    PhoSelmask = PT_ID_mask & isgap_mask &  Pixel_seed_mask & isPrompt & dr_pho_ele_mask & dr_pho_mu_mask\n",
    "elif dataset == \"WZ\":\n",
    "    isPrompt = (Photon.genPartFlav == 1) \n",
    "    PhoSelmask = PT_ID_mask & isgap_mask &  Pixel_seed_mask & ~isPrompt & dr_pho_ele_mask & dr_pho_mu_mask\n",
    "\n",
    "else:\n",
    "    PhoSelmask = PT_ID_mask  & isgap_mask &  Pixel_seed_mask & dr_pho_ele_mask & dr_pho_mu_mask\n",
    "\"\"\"\n",
    "\n",
    "PhoSelmask = (\n",
    "    PT_ID_mask & isgap_mask & Pixel_seed_mask & dr_pho_ele_mask & dr_pho_mu_mask\n",
    ")\n",
    "Photon = Photon[PhoSelmask]"
   ]
  },
  {
   "cell_type": "code",
   "execution_count": 14,
   "metadata": {},
   "outputs": [],
   "source": [
    "# Apply cut 3\n",
    "A_photon_mask = ak.num(Photon) > 0\n",
    "Electron = Electron[A_photon_mask]\n",
    "Photon = Photon[A_photon_mask]\n",
    "Jet = Jet[A_photon_mask]\n",
    "Muon = Muon[A_photon_mask]\n",
    "MET = MET[A_photon_mask]\n",
    "events = events[A_photon_mask]"
   ]
  },
  {
   "cell_type": "code",
   "execution_count": 15,
   "metadata": {},
   "outputs": [
    {
     "data": {
      "text/plain": [
       "1047"
      ]
     },
     "execution_count": 15,
     "metadata": {},
     "output_type": "execute_result"
    }
   ],
   "source": [
    "len(events)"
   ]
  },
  {
   "cell_type": "markdown",
   "metadata": {},
   "source": [
    "### 4. OSSF Selection"
   ]
  },
  {
   "cell_type": "code",
   "execution_count": 16,
   "metadata": {},
   "outputs": [],
   "source": [
    "ossf_mask = Electron.charge[:,0] + Electron.charge[:,1] == 0"
   ]
  },
  {
   "cell_type": "code",
   "execution_count": 17,
   "metadata": {},
   "outputs": [],
   "source": [
    "# Apply cut 4\n",
    "Electron = Electron[ossf_mask]\n",
    "Photon = Photon[ossf_mask]\n",
    "Jet = Jet[ossf_mask]\n",
    "MET = MET[ossf_mask]\n",
    "Muon = Muon[ossf_mask]\n",
    "events = events[ossf_mask]"
   ]
  },
  {
   "cell_type": "code",
   "execution_count": 18,
   "metadata": {},
   "outputs": [
    {
     "data": {
      "text/plain": [
       "927"
      ]
     },
     "execution_count": 18,
     "metadata": {},
     "output_type": "execute_result"
    }
   ],
   "source": [
    "len(events)"
   ]
  },
  {
   "cell_type": "code",
   "execution_count": 19,
   "metadata": {},
   "outputs": [],
   "source": [
    "# Define Electron Triplet\n",
    "Diele = ak.zip(\n",
    "    {\n",
    "        \"lep1\": Electron[:,0],\n",
    "        \"lep2\": Electron[:,1],\n",
    "        \"p4\": TLorentz_vector(Electron[:,0] + Electron[:,1]),\n",
    "    }\n",
    ")\n",
    "\n",
    "\n",
    "leading_ele =Diele.lep1\n",
    "subleading_ele = Diele.lep2\n",
    "\n",
    "def make_leading_pair(target, base):\n",
    "    return target[ak.argmax(base.pt, axis=1, keepdims=True)]\n",
    "\n",
    "leading_pho = make_leading_pair(Photon, Photon)"
   ]
  },
  {
   "cell_type": "markdown",
   "metadata": {},
   "source": [
    "### 5. Event selection"
   ]
  },
  {
   "cell_type": "code",
   "execution_count": 20,
   "metadata": {},
   "outputs": [],
   "source": [
    "# Mee cut\n",
    "Mee_cut_mask = Diele.p4.mass > 4\n",
    "\n",
    "# Lepton-PT cuts\n",
    "Leppt_mask = ak.firsts((Diele.lep1.pt >= 25) & (Diele.lep2.pt >= 10) & (Muon.pt >= 25))\n",
    "\n",
    "# MET cuts\n",
    "MET_mask = MET.pt > 20\n",
    "                       \n",
    "                       \n",
    "Event_sel_mask = Mee_cut_mask & Leppt_mask & MET_mask"
   ]
  },
  {
   "cell_type": "code",
   "execution_count": 21,
   "metadata": {},
   "outputs": [],
   "source": [
    "# Apply cut5\n",
    "Diele_sel = Diele[Event_sel_mask]\n",
    "leading_pho_sel = leading_pho[Event_sel_mask]\n",
    "MET_sel = MET[Event_sel_mask]\n",
    "Muon_sel = Muon[Event_sel_mask]\n",
    "events = events[Event_sel_mask]"
   ]
  },
  {
   "cell_type": "code",
   "execution_count": 22,
   "metadata": {},
   "outputs": [
    {
     "data": {
      "text/plain": [
       "478"
      ]
     },
     "execution_count": 22,
     "metadata": {},
     "output_type": "execute_result"
    }
   ],
   "source": [
    "len(events)"
   ]
  },
  {
   "cell_type": "code",
   "execution_count": 23,
   "metadata": {},
   "outputs": [],
   "source": [
    "# Photon  EE and EB\n",
    "isEE_mask = leading_pho.isScEtaEE\n",
    "isEB_mask = leading_pho.isScEtaEB\n",
    "Pho_EE = leading_pho[isEE_mask & Event_sel_mask]\n",
    "Pho_EB = leading_pho[isEB_mask & Event_sel_mask]"
   ]
  },
  {
   "cell_type": "markdown",
   "metadata": {},
   "source": [
    "### 6. Prepare hist"
   ]
  },
  {
   "cell_type": "code",
   "execution_count": 24,
   "metadata": {},
   "outputs": [],
   "source": [
    "Muon_sel = Muon_sel[:,0]"
   ]
  },
  {
   "cell_type": "code",
   "execution_count": 25,
   "metadata": {},
   "outputs": [],
   "source": [
    "# Photon\n",
    "phoPT = ak.flatten(leading_pho_sel.pt)\n",
    "phoEta = ak.flatten(leading_pho_sel.eta)\n",
    "phoPhi = ak.flatten(leading_pho_sel.phi)\n",
    "\n",
    "# Photon EE\n",
    "if len(Pho_EE.pt) != 0:\n",
    "    Pho_EE_PT = ak.flatten(Pho_EE.pt)\n",
    "    Pho_EE_Eta = ak.flatten(Pho_EE.eta)\n",
    "    Pho_EE_Phi = ak.flatten(Pho_EE.phi)\n",
    "    Pho_EE_sieie = ak.flatten(Pho_EE.sieie)\n",
    "    Pho_EE_Iso_charge = ak.flatten(Pho_EE.pfRelIso03_chg)\n",
    "\n",
    "# Photon EB\n",
    "if len(Pho_EB.pt) != 0:\n",
    "    Pho_EB_PT = ak.flatten(Pho_EB.pt)\n",
    "    Pho_EB_Eta = ak.flatten(Pho_EB.eta)\n",
    "    Pho_EB_Phi = ak.flatten(Pho_EB.phi)\n",
    "    Pho_EB_sieie = ak.flatten(Pho_EB.sieie)\n",
    "    Pho_EB_Iso_charge = ak.flatten(Pho_EB.pfRelIso03_chg)\n",
    "\n",
    "# Electrons\n",
    "ele1PT  = Diele_sel.lep1.pt\n",
    "ele1Eta = Diele_sel.lep1.eta\n",
    "ele1Phi = Diele_sel.lep1.phi\n",
    "\n",
    "ele2PT  = Diele_sel.lep2.pt\n",
    "ele2Eta = Diele_sel.lep2.eta\n",
    "ele2Phi = Diele_sel.lep2.phi\n",
    "\n",
    "muPT  = Muon_sel.pt\n",
    "muEta = Muon_sel.eta\n",
    "muPhi = Muon_sel.phi\n",
    "\n",
    "\n",
    "# MET\n",
    "met = ak.to_numpy(MET_sel.pt)\n",
    "\n",
    "# M(eea) M(ee)\n",
    "diele =  Diele_sel.p4\n",
    "eeg_vec = diele + leading_pho_sel\n",
    "Meea = eeg_vec.mass\n",
    "Mee = Diele_sel.p4.mass\n",
    "\n",
    "# W MT (--> beta )\n",
    "\n",
    "dPhi_mumet = abs(MET_sel.delta_phi(Muon_sel))\n",
    "\n",
    "MT = np.sqrt(\n",
    "    2 * Muon_sel.pt * MET_sel.pt * (1 - np.cos(abs(MET_sel.delta_phi(Muon_sel))))\n",
    ")\n",
    "MT = np.array(MT)"
   ]
  },
  {
   "cell_type": "code",
   "execution_count": 26,
   "metadata": {},
   "outputs": [
    {
     "data": {
      "image/png": "[encoded data removed]",
      "text/plain": [
       "<Figure size 720x720 with 9 Axes>"
      ]
     },
     "metadata": {
      "needs_background": "light"
     },
     "output_type": "display_data"
    }
   ],
   "source": [
    "fig,axs = plt.subplots(3,3,figsize=(10,10))\n",
    "#axs = axs.ravel()\n",
    "bins=25\n",
    "\n",
    "axs[0,0].hist(ele1PT,bins=bins,histtype='step')\n",
    "axs[0,0].set_title('Lep1PT')\n",
    "axs[0,1].hist(ele1Eta,bins=bins,histtype='step')\n",
    "axs[0,1].set_title('Lep1Eta')\n",
    "axs[0,2].hist(ele1Phi,bins=bins,histtype='step')\n",
    "axs[0,2].set_title('Lep1Phi')\n",
    "\n",
    "axs[1,0].hist(ele2PT,bins=bins,histtype='step')\n",
    "axs[1,0].set_title('Lep2PT')\n",
    "axs[1,1].hist(ele2Eta,bins=bins,histtype='step')\n",
    "axs[1,1].set_title('Lep2Eta')\n",
    "axs[1,2].hist(ele2Phi,bins=bins,histtype='step')\n",
    "axs[1,2].set_title('Lep2Phi')\n",
    "\n",
    "axs[2,0].hist(muPT,bins=bins,histtype='step')\n",
    "axs[2,0].set_title('Lep3PT')\n",
    "axs[2,1].hist(muEta,bins=bins,histtype='step')\n",
    "axs[2,1].set_title('Lep3Eta')\n",
    "axs[2,2].hist(muPhi,bins=bins,histtype='step')\n",
    "axs[2,2].set_title('Lep3Phi')\n",
    "plt.tight_layout()\n",
    "plt.show()"
   ]
  },
  {
   "cell_type": "code",
   "execution_count": 27,
   "metadata": {},
   "outputs": [
    {
     "data": {
      "image/png": "[encoded data removed]",
      "text/plain": [
       "<Figure size 792x360 with 10 Axes>"
      ]
     },
     "metadata": {
      "needs_background": "light"
     },
     "output_type": "display_data"
    }
   ],
   "source": [
    "fig,axs = plt.subplots(2,5,figsize=(11,5))\n",
    "bins=25\n",
    "\n",
    "axs[0,0].hist(Pho_EB_PT,bins=bins,histtype='step')\n",
    "axs[0,0].set_title('Pho EB PT')\n",
    "axs[0,1].hist(Pho_EB_Eta,bins=bins,histtype='step')\n",
    "axs[0,1].set_title('Pho EB Eta')\n",
    "axs[0,2].hist(Pho_EB_Phi,bins=bins,histtype='step')\n",
    "axs[0,2].set_title('Pho EB Phi')\n",
    "axs[0,3].hist(Pho_EB_sieie,bins=bins,histtype='step')\n",
    "axs[0,3].set_title('Pho EB sieie')\n",
    "axs[0,4].hist(Pho_EB_Iso_charge,bins=bins,histtype='step')\n",
    "axs[0,4].set_title('Pho EB IsoChg')\n",
    "\n",
    "\n",
    "axs[1,0].hist(Pho_EE_PT,bins=bins,histtype='step')\n",
    "axs[1,0].set_title('Pho EE PT')\n",
    "axs[1,1].hist(Pho_EE_Eta,bins=bins,histtype='step')\n",
    "axs[1,1].set_title('Pho EE Eta')\n",
    "axs[1,2].hist(Pho_EE_Phi,bins=bins,histtype='step')\n",
    "axs[1,2].set_title('Pho EE Phi')\n",
    "axs[1,3].hist(Pho_EE_sieie,bins=bins,histtype='step')\n",
    "axs[1,3].set_title('Pho EE sieie')\n",
    "axs[1,4].hist(Pho_EE_Iso_charge,bins=bins,histtype='step')\n",
    "axs[1,4].set_title('Pho Ee IsoChg')\n",
    "\n",
    "plt.tight_layout()\n",
    "plt.show()"
   ]
  },
  {
   "cell_type": "code",
   "execution_count": 40,
   "metadata": {},
   "outputs": [
    {
     "data": {
      "image/png": "[encoded data removed]",
      "text/plain": [
       "<Figure size 1080x360 with 3 Axes>"
      ]
     },
     "metadata": {
      "needs_background": "light"
     },
     "output_type": "display_data"
    }
   ],
   "source": [
    "fig,axs = plt.subplots(1,3,figsize=(15,5))\n",
    "bins=50\n",
    "\n",
    "axs[0].hist(Mee,bins=bins,histtype='step')\n",
    "axs[0].set_title('M(ee)')\n",
    "\n",
    "\n",
    "axs[1].hist(met,bins=bins,histtype='step')\n",
    "axs[1].set_title('MET')\n",
    "\n",
    "\n",
    "axs[2].hist(MT,bins=bins,histtype='step')\n",
    "axs[2].set_title('MT(mu,MET)')\n",
    "\n",
    "\n",
    "plt.show()"
   ]
  },
  {
   "cell_type": "code",
   "execution_count": 30,
   "metadata": {},
   "outputs": [
    {
     "data": {
      "image/png": "[encoded data removed]",
      "text/plain": [
       "<Figure size 1080x360 with 3 Axes>"
      ]
     },
     "metadata": {
      "needs_background": "light"
     },
     "output_type": "display_data"
    }
   ],
   "source": [
    "fig,axs = plt.subplots(1,3,figsize=(15,5))\n",
    "\n",
    "axs[0].hist(muPT,bins=bins,histtype='step')\n",
    "axs[0].set_title('Lep3 PT')\n",
    "\n",
    "axs[1].hist(met,bins=bins,histtype='step')\n",
    "axs[1].set_title('MET')\n",
    "\n",
    "axs[2].hist(dPhi_mumet,bins=bins,histtype='step')\n",
    "axs[2].set_title('dPhi')\n",
    "plt.show()"
   ]
  },
  {
   "cell_type": "code",
   "execution_count": null,
   "metadata": {},
   "outputs": [],
   "source": []
  }
 ],
 "metadata": {
  "kernelspec": {
   "display_name": "Python 3",
   "language": "python",
   "name": "python3"
  },
  "language_info": {
   "codemirror_mode": {
    "name": "ipython",
    "version": 3
   },
   "file_extension": ".py",
   "mimetype": "text/x-python",
   "name": "python",
   "nbconvert_exporter": "python",
   "pygments_lexer": "ipython3",
   "version": "3.8.5"
  }
 },
 "nbformat": 4,
 "nbformat_minor": 4
}
