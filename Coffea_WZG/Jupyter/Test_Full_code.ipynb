{
 "cells": [
  {
   "cell_type": "code",
   "execution_count": 1,
   "metadata": {},
   "outputs": [],
   "source": [
    "import awkward as ak\n",
    "from coffea.nanoevents import NanoEventsFactory, NanoAODSchema\n",
    "import numpy as np\n",
    "from tqdm import tqdm,trange\n",
    "import matplotlib.pyplot as plt\n",
    "import numba"
   ]
  },
  {
   "cell_type": "code",
   "execution_count": 2,
   "metadata": {},
   "outputs": [],
   "source": [
    "infile = \"data/signal/wza_UL18.root\" # --signal\n",
    "\n",
    "#infile = \"data/mc/TTZToLL/30FD3469-AEFB-B742-8F3E-4551B23D529B.root\"\n",
    "#infile='data/data/7B56E217-555E-1C41-9494-491849A9835F_skim_2ElIdPt20.root' # --data \n",
    "#infile = 'data/data/CA42F3A2-614F-4A4F-AF18-F6E66CDA2C85_skim_2ElIdPt20.root'\n",
    "#infile = 'data/Ntuple/EGamma_Run2018B.root'\n",
    "#infile=\"data/mc/59AB328B-F0E3-F544-98BB-E5E55577C649_skim_2ElIdPt20.root\" # --mc\n",
    "\n",
    "\n",
    "year='2018'"
   ]
  },
  {
   "cell_type": "code",
   "execution_count": 3,
   "metadata": {},
   "outputs": [],
   "source": [
    "events = NanoEventsFactory.from_root(infile, schemaclass=NanoAODSchema).events()"
   ]
  },
  {
   "cell_type": "code",
   "execution_count": 4,
   "metadata": {},
   "outputs": [],
   "source": [
    "# Trigger set\n",
    "doubleelectron_triggers  ={\n",
    "    '2018': [\n",
    "            \"Ele23_Ele12_CaloIdL_TrackIdL_IsoVL\", # Recomended\n",
    "            ]\n",
    "}\n",
    "\n",
    "\n",
    "\n",
    "singleelectron_triggers = { #2017 and 2018 from monojet, applying dedicated trigger weights\n",
    "        '2016': [\n",
    "            'Ele27_WPTight_Gsf',\n",
    "            'Ele105_CaloIdVT_GsfTrkIdT'\n",
    "        ],\n",
    "        '2017': [\n",
    "            'Ele35_WPTight_Gsf',\n",
    "            'Ele115_CaloIdVT_GsfTrkIdT',\n",
    "            'Photon200'\n",
    "        ],\n",
    "        '2018': [\n",
    "            'Ele32_WPTight_Gsf',    # Recomended\n",
    "        ]\n",
    "    }"
   ]
  },
  {
   "cell_type": "code",
   "execution_count": 5,
   "metadata": {},
   "outputs": [],
   "source": [
    "# << flat dim helper function >>\n",
    "def flat_dim(arr):\n",
    "\n",
    "#   if len(ak.to_numpy(arr).shape) > 1:\n",
    "#       sub_arr = ak.flatten(arr)\n",
    "#   else:\n",
    "#       sub_arr = arr\n",
    "    sub_arr = ak.flatten(arr)\n",
    "    mask = ~ak.is_none(sub_arr)\n",
    "\n",
    "    return ak.to_numpy(sub_arr[mask])\n",
    "# << drop na helper function >>\n",
    "def drop_na(arr):\n",
    "\n",
    "    mask = ~ak.is_none(arr)\n",
    "\n",
    "    return arr[mask]\n",
    "# << drop na helper function >>\n",
    "def drop_na_np(arr):\n",
    "\n",
    "    mask = ~np.isnan(arr)\n",
    "\n",
    "    return arr[mask]\n",
    "# << Sort by PT  helper function >>\n",
    "def sort_by_pt(ele,pho,jet):\n",
    "    ele = ele[ak.argsort(ele.pt,ascending=False,axis=1)]\n",
    "    pho = pho[ak.argsort(pho.pt,ascending=False,axis=1)]\n",
    "    jet = jet[ak.argsort(jet.pt,ascending=False,axis=1)]\n",
    "\n",
    "    return ele,pho,jet\n",
    "\n",
    "# << Delta R helper function >>\n",
    "def delta_r(eta1, eta2, phi1, phi2):\n",
    "    deta = abs(eta1 - eta2)\n",
    "    dphi = abs(np.mod(phi1 - phi2 + np.pi, 2*np.pi) - np.pi)\n",
    "    dr = np.sqrt(deta**2 + dphi**2)\n",
    "    return deta, dphi, dr"
   ]
  },
  {
   "cell_type": "markdown",
   "metadata": {},
   "source": [
    "### 1. Trigger"
   ]
  },
  {
   "cell_type": "code",
   "execution_count": 6,
   "metadata": {},
   "outputs": [
    {
     "name": "stdout",
     "output_type": "stream",
     "text": [
      "Events passing triggers and skiimig:  9544\n"
     ]
    }
   ],
   "source": [
    "# double lepton trigger\n",
    "is_double_ele_trigger=True\n",
    "if not is_double_ele_trigger:\n",
    "    double_ele_triggers_arr=np.ones(len(events), dtype=np.bool)\n",
    "else:\n",
    "    double_ele_triggers_arr = np.zeros(len(events), dtype=np.bool)\n",
    "    for path in doubleelectron_triggers[year]:\n",
    "        if path not in events.HLT.fields: continue\n",
    "        double_ele_triggers_arr = double_ele_triggers_arr | events.HLT[path]\n",
    "\n",
    "\n",
    "# single lepton trigger\n",
    "is_single_ele_trigger=True\n",
    "if not is_single_ele_trigger:\n",
    "    single_ele_triggers_arr=np.ones(len(events), dtype=np.bool)\n",
    "else:\n",
    "    single_ele_triggers_arr = np.zeros(len(events), dtype=np.bool)\n",
    "    for path in singleelectron_triggers[year]:\n",
    "        if path not in events.HLT.fields: continue\n",
    "        single_ele_triggers_arr = single_ele_triggers_arr | events.HLT[path]\n",
    "\n",
    "# Sort particle order by PT  # RunD --> has problem\n",
    "events.Electron,events.Photon,events.Jet = sort_by_pt(events.Electron,events.Photon,events.Jet)\n",
    "\n",
    "Initial_events = events\n",
    "#events = events[single_ele_triggers_arr | double_ele_triggers_arr]\n",
    "events = events[double_ele_triggers_arr]\n",
    "print(\"Events passing triggers and skiimig: \",len(events) )\n",
    "\n",
    "cut1 = np.ones(len(events))\n",
    "# Particle Identification\n"
   ]
  },
  {
   "cell_type": "code",
   "execution_count": 7,
   "metadata": {},
   "outputs": [],
   "source": [
    "Electron = events.Electron\n",
    "Photon = events.Photon\n",
    "Jet = events.Jet\n",
    "MET = events.MET\n",
    "Muon = events.Muon"
   ]
  },
  {
   "cell_type": "code",
   "execution_count": 8,
   "metadata": {},
   "outputs": [],
   "source": [
    "isData = 'genWeight' not in events.fields"
   ]
  },
  {
   "cell_type": "markdown",
   "metadata": {},
   "source": [
    "### 2. Lepton Selection: e e e"
   ]
  },
  {
   "cell_type": "code",
   "execution_count": 9,
   "metadata": {},
   "outputs": [],
   "source": [
    "# Muon only used to calculate dR\n",
    "MuSelmask = (Muon.pt > 10) & (abs(Muon.eta) < 2.5)  & (Muon.tightId) & (Muon.pfRelIso04_all < 0.15)\n",
    "#Muon = ak.mask(Muon,MuSelmask)\n",
    "Muon = Muon[MuSelmask]"
   ]
  },
  {
   "cell_type": "code",
   "execution_count": 10,
   "metadata": {},
   "outputs": [
    {
     "data": {
      "text/plain": [
       "<MuonArray [[], [], [], [], ... [], [], [], []] type='9544 * var * muon'>"
      ]
     },
     "execution_count": 10,
     "metadata": {},
     "output_type": "execute_result"
    }
   ],
   "source": [
    "Muon"
   ]
  },
  {
   "cell_type": "code",
   "execution_count": 11,
   "metadata": {},
   "outputs": [],
   "source": [
    "# Electron selection\n",
    "EleSelmask = ((Electron.pt > 10) & (np.abs(Electron.eta + Electron.deltaEtaSC) < 1.479)  &  (Electron.cutBased > 2) & (abs(Electron.dxy) < 0.05) & (abs(Electron.dz) < 0.1)) | \\\n",
    "            ((Electron.pt > 10) & (np.abs(Electron.eta + Electron.deltaEtaSC) > 1.479) & (np.abs(Electron.eta + Electron.deltaEtaSC) < 2.5) & (Electron.cutBased > 2) & (abs(Electron.dxy) < 0.1) & (abs(Electron.dz) < 0.2))\n",
    "\n",
    "Electron = Electron[EleSelmask]"
   ]
  },
  {
   "cell_type": "code",
   "execution_count": 12,
   "metadata": {},
   "outputs": [
    {
     "data": {
      "text/plain": [
       "<ElectronArray [[Electron], ... Electron], []] type='9544 * var * electron'>"
      ]
     },
     "execution_count": 12,
     "metadata": {},
     "output_type": "execute_result"
    }
   ],
   "source": [
    "Electron"
   ]
  },
  {
   "cell_type": "code",
   "execution_count": 13,
   "metadata": {},
   "outputs": [],
   "source": [
    "Tri_electron_mask = ak.num(Electron) == 3"
   ]
  },
  {
   "cell_type": "code",
   "execution_count": 14,
   "metadata": {},
   "outputs": [
    {
     "name": "stdout",
     "output_type": "stream",
     "text": [
      "Events with 3 selected electrons:  918\n"
     ]
    }
   ],
   "source": [
    "Electron = Electron[Tri_electron_mask]\n",
    "Photon = Photon[Tri_electron_mask]\n",
    "Jet = Jet[Tri_electron_mask]\n",
    "MET = MET[Tri_electron_mask]\n",
    "Muon = Muon[Tri_electron_mask]\n",
    "print(\"Events with 3 selected electrons: \",len(Photon))"
   ]
  },
  {
   "cell_type": "markdown",
   "metadata": {},
   "source": [
    "### 3. Photon Selection:  pho > 0 "
   ]
  },
  {
   "cell_type": "code",
   "execution_count": 15,
   "metadata": {},
   "outputs": [],
   "source": [
    "# Photon selection\n",
    "\n",
    "isgap_mask = (abs(Photon.eta) < 1.442)  |  ((abs(Photon.eta) > 1.566) & (abs(Photon.eta) < 2.5))\n",
    "Pixel_seed_mask = ~Photon.pixelSeed\n",
    "PT_ID_mask = (Photon.pt > 20) & (Photon.cutBased > 1)\n",
    "\n",
    "dr_pho_ele = ak.all(Photon.metric_table(Electron) > 0.5, axis=-1) # default metric table: delta_r\n",
    "dr_pho_mu = ak.all(Photon.metric_table(Muon) > 0.5, axis=-1)\n",
    "\n",
    "\n",
    "#if not isData:\n",
    "#    isPrompt = (Photon.genPartFlav == 1) | (Photon.genPartFlav == 11)\n",
    "#    PhoSelmask = (pho.pt > 20) & (pho.cutBased > 1) & isgap_mask &  Pixel_seed_mask & isPrompt\n",
    "#if isData:\n",
    "#    PhoSelmask = (pho.pt > 20) & (pho.cutBased > 1) & isgap_mask &  Pixel_seed_mask \n",
    "\n",
    "PhoSelmask = (Photon.pt > 20) & (Photon.cutBased > 1) & isgap_mask &  Pixel_seed_mask & dr_pho_ele & dr_pho_mu\n",
    "\n",
    "Photon = Photon[PhoSelmask]"
   ]
  },
  {
   "cell_type": "code",
   "execution_count": 16,
   "metadata": {},
   "outputs": [],
   "source": [
    "A_photon_mask = ak.num(Photon) > 0"
   ]
  },
  {
   "cell_type": "code",
   "execution_count": 17,
   "metadata": {},
   "outputs": [],
   "source": [
    "Electron = Electron[A_photon_mask ]\n",
    "Photon   = Photon[A_photon_mask]\n",
    "Jet = Jet[A_photon_mask]\n",
    "Muon = Muon[A_photon_mask]\n",
    "MET = MET[A_photon_mask]"
   ]
  },
  {
   "cell_type": "code",
   "execution_count": 18,
   "metadata": {},
   "outputs": [
    {
     "name": "stdout",
     "output_type": "stream",
     "text": [
      "Eventes with 3 ele and 1 or more pho 262\n"
     ]
    }
   ],
   "source": [
    "print(\"Eventes with 3 ele and 1 or more pho\",len(Photon))"
   ]
  },
  {
   "cell_type": "markdown",
   "metadata": {},
   "source": [
    "### OSSF Selection:  Ze1 Ze2 We1"
   ]
  },
  {
   "cell_type": "code",
   "execution_count": 19,
   "metadata": {},
   "outputs": [
    {
     "name": "stderr",
     "output_type": "stream",
     "text": [
      "/home/jkim/miniconda3/envs/pyHEP/lib/python3.8/site-packages/numba/core/dispatcher.py:238: UserWarning: Numba extension module 'awkward1._connect._numba' failed to load due to 'ImportError(generic_type: type \"kernel_lib\" is already registered!)'.\n",
      "  entrypoints.init_all()\n"
     ]
    }
   ],
   "source": [
    "##-----------  Cut flow3: Electron Selection --> OSSF \n",
    "# OSSF index maker\n",
    "@numba.njit\n",
    "def find_3lep(events_leptons,builder):\n",
    "    for leptons in events_leptons:\n",
    "\n",
    "        builder.begin_list()\n",
    "        nlep = len(leptons)\n",
    "        for i0 in range(nlep):\n",
    "            for i1 in range(i0+1,nlep):\n",
    "                if leptons[i0].charge + leptons[i1].charge != 0: continue;\n",
    "\n",
    "                for i2 in range(nlep):\n",
    "                    if len({i0,i1,i2}) < 3: continue;\n",
    "                    builder.begin_tuple(3)\n",
    "                    builder.index(0).integer(i0)\n",
    "                    builder.index(1).integer(i1)\n",
    "                    builder.index(2).integer(i2)\n",
    "                    builder.end_tuple()\n",
    "        builder.end_list()\n",
    "    return builder\n",
    "\n",
    "eee_triplet_idx = find_3lep(Electron,ak.ArrayBuilder()).snapshot()\n",
    "\n",
    "# OSSF cut\n",
    "ossf_mask = ak.num(eee_triplet_idx) == 2\n",
    "eee_triplet_idx = eee_triplet_idx[ossf_mask]\n",
    "\n",
    "Electron= Electron[ossf_mask]\n",
    "Photon= Photon[ossf_mask]\n",
    "Jet= Jet[ossf_mask]\n",
    "MET = MET[ossf_mask]"
   ]
  },
  {
   "cell_type": "code",
   "execution_count": 20,
   "metadata": {},
   "outputs": [],
   "source": [
    "Triple_electron = [Electron[eee_triplet_idx[idx]] for idx in \"012\"]\n",
    "from coffea.nanoevents.methods import vector\n",
    "ak.behavior.update(vector.behavior)\n",
    "\n",
    "def TLorentz_vector(vec):\n",
    "    vec = ak.zip(\n",
    "    {\n",
    "                \"x\":vec.x,\n",
    "                \"y\":vec.y,\n",
    "                \"z\":vec.z,\n",
    "                \"t\":vec.t\n",
    "    },\n",
    "    with_name = \"LorentzVector\"\n",
    "    )\n",
    "    return vec\n",
    "\n",
    "def TLorentz_vector_cylinder(vec):\n",
    "\n",
    "    vec = ak.zip(\n",
    "    {\n",
    "         \"pt\": vec.pt,\n",
    "         \"eta\": vec.eta,\n",
    "         \"phi\": vec.phi,\n",
    "         \"mass\": vec.mass,\n",
    "    },\n",
    "    with_name=\"PtEtaPhiMLorentzVector\",\n",
    "    )\n",
    "\n",
    "    return vec\n",
    "\n",
    "\n",
    "\n",
    "Triple_eee = ak.zip({\"lep1\":Triple_electron[0],\n",
    "                            \"lep2\":Triple_electron[1],\n",
    "                         \"lep3\":Triple_electron[2],\n",
    "                         \"p4\":TLorentz_vector(Triple_electron[0]+Triple_electron[1])})\n"
   ]
  },
  {
   "cell_type": "code",
   "execution_count": 21,
   "metadata": {},
   "outputs": [],
   "source": [
    "bestZ_idx = ak.singletons(ak.argmin(abs(Triple_eee.p4.mass - 91.1876), axis=1))\n",
    "Triple_eee = Triple_eee[bestZ_idx]\n",
    "leading_ele, subleading_ele, Third_ele = ak.flatten(TLorentz_vector_cylinder(Triple_eee.lep1)),ak.flatten(TLorentz_vector_cylinder(Triple_eee.lep2)),ak.flatten(TLorentz_vector_cylinder(Triple_eee.lep3))"
   ]
  },
  {
   "cell_type": "code",
   "execution_count": 22,
   "metadata": {},
   "outputs": [],
   "source": [
    "def make_leading_pair(target,base):\n",
    "    return target[ak.argmax(base.pt,axis=1,keepdims=True)]\n",
    "\n",
    "leading_pho     = make_leading_pair(Photon,Photon)"
   ]
  },
  {
   "cell_type": "code",
   "execution_count": 23,
   "metadata": {},
   "outputs": [
    {
     "name": "stdout",
     "output_type": "stream",
     "text": [
      "OSSF selection:  261\n"
     ]
    }
   ],
   "source": [
    "print(\"OSSF selection: \",len(Triple_eee))"
   ]
  },
  {
   "cell_type": "markdown",
   "metadata": {},
   "source": [
    "### Baseline Selection: PT( e e e ), Z Mass, MET"
   ]
  },
  {
   "cell_type": "code",
   "execution_count": 24,
   "metadata": {},
   "outputs": [],
   "source": [
    "# Z mass window\n",
    "diele             = Triple_eee.p4\n",
    "zmass_window_mask = ak.firsts(diele.mass) > 4  \n",
    "\n",
    "# M(eea) cuts \n",
    "#eeg_vec           = diele + leading_pho\n",
    "#Meeg_mask         = ak.firsts(eeg_vec.mass > 120)\n",
    "\n",
    "# Electron PT cuts\n",
    "Elept_mask = ak.firsts((Triple_eee.lep1.pt > 25) & (Triple_eee.lep2.pt > 10) & (Triple_eee.lep3.pt > 25))\n",
    "\n",
    "# MET cuts\n",
    "MET_mask = MET.pt > 20\n",
    "\n",
    "# Mask\n",
    "Event_sel_mask   = zmass_window_mask  & Elept_mask & MET_mask \n",
    "\n",
    "# Apply cyts\n",
    "Triple_eee_sel   = Triple_eee[Event_sel_mask]\n",
    "leading_pho_sel   = leading_pho[Event_sel_mask]\n",
    "# Photon  EE and EB\n",
    "isEE_mask = leading_pho.isScEtaEE\n",
    "isEB_mask = leading_pho.isScEtaEB\n",
    "Pho_EE = leading_pho[isEE_mask & Event_sel_mask]\n",
    "Pho_EB = leading_pho[isEB_mask & Event_sel_mask]\n",
    "MET_sel           = MET[Event_sel_mask]"
   ]
  },
  {
   "cell_type": "code",
   "execution_count": 25,
   "metadata": {},
   "outputs": [
    {
     "name": "stdout",
     "output_type": "stream",
     "text": [
      "Event selection:  181\n"
     ]
    }
   ],
   "source": [
    "print(\"Event selection: \",len(Triple_eee_sel))"
   ]
  }
 ],
 "metadata": {
  "kernelspec": {
   "display_name": "Python 3",
   "language": "python",
   "name": "python3"
  },
  "language_info": {
   "codemirror_mode": {
    "name": "ipython",
    "version": 3
   },
   "file_extension": ".py",
   "mimetype": "text/x-python",
   "name": "python",
   "nbconvert_exporter": "python",
   "pygments_lexer": "ipython3",
   "version": "3.8.5"
  }
 },
 "nbformat": 4,
 "nbformat_minor": 4
}
