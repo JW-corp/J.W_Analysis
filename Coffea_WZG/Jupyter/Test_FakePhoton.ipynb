{
 "cells": [
  {
   "cell_type": "code",
   "execution_count": 1,
   "metadata": {},
   "outputs": [],
   "source": [
    "import awkward1 as ak\n",
    "from coffea.nanoevents import NanoEventsFactory, NanoAODSchema\n",
    "import numpy as np\n",
    "from tqdm import tqdm,trange\n",
    "import matplotlib.pyplot as plt"
   ]
  },
  {
   "cell_type": "code",
   "execution_count": 2,
   "metadata": {},
   "outputs": [],
   "source": [
    "infile=\"data/data/F61C1E0B-F61C-B044-9B45-A711DABCFB75_skim_2ElIdPt20.root\"\n",
    "\n",
    "#infile=\"data/mc/59AB328B-F0E3-F544-98BB-E5E55577C649_skim_2ElIdPt20.root\"\n",
    "#infile='data/data/7B56E217-555E-1C41-9494-491849A9835F_skim_2ElIdPt20.root'"
   ]
  },
  {
   "cell_type": "code",
   "execution_count": 3,
   "metadata": {},
   "outputs": [],
   "source": [
    "events = NanoEventsFactory.from_root(infile, schemaclass=NanoAODSchema).events()"
   ]
  },
  {
   "cell_type": "code",
   "execution_count": 5,
   "metadata": {},
   "outputs": [],
   "source": [
    "# Trigger set\n",
    "\n",
    "year='2018'\n",
    "\n",
    "doubleelectron_triggers  ={\n",
    "    '2018': [\n",
    "            \"Ele23_Ele12_CaloIdL_TrackIdL_IsoVL\", # Recomended\n",
    "            ]\n",
    "}\n",
    "\n",
    "\n",
    "\n",
    "singleelectron_triggers = { #2017 and 2018 from monojet, applying dedicated trigger weights\n",
    "        '2016': [\n",
    "            'Ele27_WPTight_Gsf',\n",
    "            'Ele105_CaloIdVT_GsfTrkIdT'\n",
    "        ],\n",
    "        '2017': [\n",
    "            'Ele35_WPTight_Gsf',\n",
    "            'Ele115_CaloIdVT_GsfTrkIdT',\n",
    "            'Photon200'\n",
    "        ],\n",
    "        '2018': [\n",
    "            'Ele32_WPTight_Gsf',   # Recomended\n",
    "        ]\n",
    "}\n",
    "\n",
    "def flat_dim(arr):\n",
    "\n",
    "    sub_arr = ak.flatten(arr)\n",
    "    mask = ~ak.is_none(sub_arr)\n",
    "\n",
    "    return ak.to_numpy(sub_arr[mask])"
   ]
  },
  {
   "cell_type": "code",
   "execution_count": 6,
   "metadata": {},
   "outputs": [],
   "source": [
    "# double lepton trigger\n",
    "is_double_ele_trigger=True\n",
    "if not is_double_ele_trigger:\n",
    "    double_ele_triggers_arr=np.ones(len(events), dtype=np.bool)\n",
    "else:\n",
    "    double_ele_triggers_arr = np.zeros(len(events), dtype=np.bool)\n",
    "    for path in doubleelectron_triggers[year]:\n",
    "        if path not in events.HLT.fields: continue\n",
    "        double_ele_triggers_arr = double_ele_triggers_arr | events.HLT[path]\n",
    "\n",
    "\n",
    "# single lepton trigger\n",
    "is_single_ele_trigger=True\n",
    "if not is_single_ele_trigger:\n",
    "    single_ele_triggers_arr=np.ones(len(events), dtype=np.bool)\n",
    "else:\n",
    "    single_ele_triggers_arr = np.zeros(len(events), dtype=np.bool)\n",
    "    for path in singleelectron_triggers[year]:\n",
    "        if path not in events.HLT.fields: continue\n",
    "        single_ele_triggers_arr = single_ele_triggers_arr | events.HLT[path]"
   ]
  },
  {
   "cell_type": "code",
   "execution_count": 7,
   "metadata": {},
   "outputs": [
    {
     "name": "stdout",
     "output_type": "stream",
     "text": [
      "#### Initial events:  28366\n"
     ]
    }
   ],
   "source": [
    "Initial_events = events\n",
    "print(\"#### Initial events: \",len(Initial_events))\n",
    "#events = events[single_ele_triggers_arr | double_ele_triggers_arr]\n",
    "events = events[double_ele_triggers_arr]"
   ]
  },
  {
   "cell_type": "markdown",
   "metadata": {},
   "source": [
    "---\n",
    "### Event and Particle selection"
   ]
  },
  {
   "cell_type": "code",
   "execution_count": 8,
   "metadata": {},
   "outputs": [],
   "source": [
    "Electron = events.Electron\n",
    "Photon   = events.Photon\n",
    "Jet      = events.Jet"
   ]
  },
  {
   "cell_type": "code",
   "execution_count": 9,
   "metadata": {},
   "outputs": [],
   "source": [
    "mask1 = (1 << 1) | (1 << 3) | (1 << 5) | (1 << 7) | (1 << 9) | (1 << 11) | (1 << 13) # All cut are applied\n",
    "mask5 = (1 << 1) | (1 << 3) | (1 << 5) | (1 << 9) | (1 << 11) | (1 << 13) # Medium photon ID without sieie\n",
    "\n",
    "\n",
    "def Particle_selection(ele,pho):\n",
    "    # --Electron selection-- #\n",
    "    EleSelmask = (ele.pt > 25) & (np.abs(ele.eta) < 2.5) & (ele.cutBased > 2)\n",
    "\n",
    "    # --Photon selection-- #\n",
    "    \n",
    "    # Cut ID bit\n",
    "    #PhoSelmask = (pho.pt > 25) & (pho.cutBased > 1)\n",
    "    \n",
    "    #> VID Binary bitmap to separate all cuts in cut ID\n",
    "    #> | pt | scEta | H over EM | sigma ieie | Isochg | IsoNeu | Isopho |\n",
    "    #> | 10 | 10 | 10 | 10 | 10 | 10 | 10 |\n",
    "\n",
    "    #> 00 -> Fail\n",
    "    #> 01 -> Loose\n",
    "    #> 10 -> Medium\n",
    "    #> 11 -> Tight\n",
    "    \n",
    "    bitmap = pho.vidNestedWPBitmap & mask1\n",
    "    PhoSelmask = (pho.pt > 25) & (bitmap == mask5)\n",
    "    return EleSelmask,PhoSelmask"
   ]
  },
  {
   "cell_type": "code",
   "execution_count": 10,
   "metadata": {},
   "outputs": [],
   "source": [
    "# Event Selection\n",
    "Electron_mask, Photon_mask  = Particle_selection(Electron,Photon)\n",
    "Ele_channel_mask = ak.num(Electron[Electron_mask]) > 1\n",
    "Pho_channel_mask = ak.num(Photon[Photon_mask]) > 0\n",
    "\n",
    "Ele_channel_events = events[Ele_channel_mask & Pho_channel_mask]\n",
    "\n",
    "eePhoton   = Ele_channel_events.Photon\n",
    "eeElectron = Ele_channel_events.Electron\n",
    "\n",
    "Ele_mask, Pho_mask = Particle_selection(eeElectron,eePhoton)\n",
    "Ele_sel = eeElectron[Ele_mask]\n",
    "Pho_sel = eePhoton[Pho_mask]"
   ]
  },
  {
   "cell_type": "code",
   "execution_count": 11,
   "metadata": {},
   "outputs": [],
   "source": [
    "eePhoton   = Ele_channel_events.Photon\n",
    "eeElectron = Ele_channel_events.Electron\n",
    "\n",
    "Ele_mask, Pho_mask = Particle_selection(eeElectron,eePhoton)\n",
    "Ele_sel = eeElectron[Ele_mask]\n",
    "Pho_sel = eePhoton[Pho_mask]"
   ]
  },
  {
   "cell_type": "code",
   "execution_count": 13,
   "metadata": {},
   "outputs": [],
   "source": [
    "leading_photon = make_leading_pair(Pho_sel,Ele_sel)"
   ]
  },
  {
   "cell_type": "code",
   "execution_count": 14,
   "metadata": {},
   "outputs": [],
   "source": [
    "phoEE = leading_photon[leading_photon.isScEtaEE]\n",
    "phoEB = leading_photon[leading_photon.isScEtaEB]"
   ]
  },
  {
   "cell_type": "code",
   "execution_count": 15,
   "metadata": {},
   "outputs": [],
   "source": [
    "def make_hist(phoEE,phoEB):\n",
    "    fig,axs = plt.subplots(2,3,figsize=(14,8))\n",
    "    \n",
    "    axs[0,0].hist(flat_dim(phoEB.hoe),bins=50,color='darkorange')\n",
    "    axs[0,0].set_yscale('log')\n",
    "    axs[0,0].set_title('EB hoe')\n",
    "    axs[0,1].hist(flat_dim(phoEB.sieie),bins=50,color='darkorange')\n",
    "    axs[0,1].set_yscale('log')\n",
    "    axs[0,1].set_title('EB sieie')\n",
    "    axs[0,2].hist(flat_dim(phoEB.pfRelIso03_chg),bins=50,color='darkorange')\n",
    "    axs[0,2].set_yscale('log')\n",
    "    axs[0,2].set_title('EB IsoChg')\n",
    "    \n",
    "    axs[1,0].hist(flat_dim(phoEE.hoe),bins=50)\n",
    "    axs[1,0].set_yscale('log')\n",
    "    axs[1,0].set_title('EE hoe')\n",
    "    axs[1,1].hist(flat_dim(phoEE.sieie),bins=50)\n",
    "    axs[1,1].set_yscale('log')\n",
    "    axs[1,1].set_title('EE sieie')\n",
    "    axs[1,2].hist(flat_dim(phoEE.pfRelIso03_chg),bins=50)\n",
    "    axs[1,2].set_yscale('log')\n",
    "    axs[1,2].set_title('EE IsoChg')"
   ]
  },
  {
   "cell_type": "code",
   "execution_count": 16,
   "metadata": {},
   "outputs": [
    {
     "data": {
      "image/png": "[encoded data removed]",
      "text/plain": [
       "<Figure size 1008x576 with 6 Axes>"
      ]
     },
     "metadata": {
      "needs_background": "light"
     },
     "output_type": "display_data"
    }
   ],
   "source": [
    "make_hist(phoEE,phoEB)"
   ]
  },
  {
   "cell_type": "code",
   "execution_count": null,
   "metadata": {},
   "outputs": [],
   "source": []
  }
 ],
 "metadata": {
  "kernelspec": {
   "display_name": "Python 3",
   "language": "python",
   "name": "python3"
  },
  "language_info": {
   "codemirror_mode": {
    "name": "ipython",
    "version": 3
   },
   "file_extension": ".py",
   "mimetype": "text/x-python",
   "name": "python",
   "nbconvert_exporter": "python",
   "pygments_lexer": "ipython3",
   "version": "3.8.5"
  }
 },
 "nbformat": 4,
 "nbformat_minor": 4
}
