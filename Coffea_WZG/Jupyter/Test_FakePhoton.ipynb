{
 "cells": [
  {
   "cell_type": "code",
   "execution_count": 1,
   "metadata": {},
   "outputs": [],
   "source": [
    "import awkward1 as ak\n",
    "from coffea.nanoevents import NanoEventsFactory, NanoAODSchema\n",
    "import numpy as np\n",
    "from tqdm import tqdm,trange\n",
    "import matplotlib.pyplot as plt"
   ]
  },
  {
   "cell_type": "code",
   "execution_count": 2,
   "metadata": {},
   "outputs": [],
   "source": [
    "from tqdm import tqdm\n",
    "import numba "
   ]
  },
  {
   "cell_type": "code",
   "execution_count": 3,
   "metadata": {},
   "outputs": [],
   "source": [
    "#infile=\"data/data/F61C1E0B-F61C-B044-9B45-A711DABCFB75_skim_2ElIdPt20.root\"\n",
    "\n",
    "#infile=\"data/mc/59AB328B-F0E3-F544-98BB-E5E55577C649_skim_2ElIdPt20.root\"\n",
    "infile='data/data/7B56E217-555E-1C41-9494-491849A9835F_skim_2ElIdPt20.root'"
   ]
  },
  {
   "cell_type": "code",
   "execution_count": 4,
   "metadata": {},
   "outputs": [],
   "source": [
    "events = NanoEventsFactory.from_root(infile, schemaclass=NanoAODSchema).events()"
   ]
  },
  {
   "cell_type": "code",
   "execution_count": 5,
   "metadata": {},
   "outputs": [],
   "source": [
    "# Trigger set\n",
    "year='2018'\n",
    "\n",
    "doubleelectron_triggers  ={\n",
    "    '2018': [\n",
    "            \"Ele23_Ele12_CaloIdL_TrackIdL_IsoVL\", # Recomended\n",
    "            ]\n",
    "}\n",
    "\n",
    "singleelectron_triggers = { #2017 and 2018 from monojet, applying dedicated trigger weights\n",
    "        '2016': [\n",
    "            'Ele27_WPTight_Gsf',\n",
    "            'Ele105_CaloIdVT_GsfTrkIdT'\n",
    "        ],\n",
    "        '2017': [\n",
    "            'Ele35_WPTight_Gsf',\n",
    "            'Ele115_CaloIdVT_GsfTrkIdT',\n",
    "            'Photon200'\n",
    "        ],\n",
    "        '2018': [\n",
    "            'Ele32_WPTight_Gsf',   # Recomended\n",
    "        ]\n",
    "}\n",
    "\n",
    "def flat_dim(arr):\n",
    "\n",
    "    sub_arr = ak.flatten(arr)\n",
    "    mask = ~ak.is_none(sub_arr)\n",
    "\n",
    "    return ak.to_numpy(sub_arr[mask])"
   ]
  },
  {
   "cell_type": "code",
   "execution_count": 6,
   "metadata": {},
   "outputs": [],
   "source": [
    "# double lepton trigger\n",
    "is_double_ele_trigger=True\n",
    "if not is_double_ele_trigger:\n",
    "    double_ele_triggers_arr=np.ones(len(events), dtype=np.bool)\n",
    "else:\n",
    "    double_ele_triggers_arr = np.zeros(len(events), dtype=np.bool)\n",
    "    for path in doubleelectron_triggers[year]:\n",
    "        if path not in events.HLT.fields: continue\n",
    "        double_ele_triggers_arr = double_ele_triggers_arr | events.HLT[path]\n",
    "\n",
    "\n",
    "# single lepton trigger\n",
    "is_single_ele_trigger=True\n",
    "if not is_single_ele_trigger:\n",
    "    single_ele_triggers_arr=np.ones(len(events), dtype=np.bool)\n",
    "else:\n",
    "    single_ele_triggers_arr = np.zeros(len(events), dtype=np.bool)\n",
    "    for path in singleelectron_triggers[year]:\n",
    "        if path not in events.HLT.fields: continue\n",
    "        single_ele_triggers_arr = single_ele_triggers_arr | events.HLT[path]"
   ]
  },
  {
   "cell_type": "code",
   "execution_count": 7,
   "metadata": {},
   "outputs": [
    {
     "name": "stdout",
     "output_type": "stream",
     "text": [
      "#### Initial events:  58612\n"
     ]
    }
   ],
   "source": [
    "Initial_events = events\n",
    "print(\"#### Initial events: \",len(Initial_events))\n",
    "#events = events[single_ele_triggers_arr | double_ele_triggers_arr]\n",
    "events = events[double_ele_triggers_arr]"
   ]
  },
  {
   "cell_type": "markdown",
   "metadata": {},
   "source": [
    "---\n",
    "### Event and Particle selection"
   ]
  },
  {
   "cell_type": "code",
   "execution_count": 8,
   "metadata": {},
   "outputs": [],
   "source": [
    "Electron = events.Electron\n",
    "Photon   = events.Photon\n",
    "Jet      = events.Jet"
   ]
  },
  {
   "cell_type": "code",
   "execution_count": 9,
   "metadata": {},
   "outputs": [],
   "source": [
    "def vid_hist(hoe_arr_EB, sieie_arr_EB, Isochg_arr_EB, hoe_arr_EE, sieie_arr_EE, Isochg_arr_EE):\n",
    "    fig,axs = plt.subplots(2,3,figsize=(14,8))\n",
    "    \n",
    "    bins=100\n",
    "    axs[0,0].hist(hoe_arr_EB,color='darkorange',bins=bins)\n",
    "    axs[0,0].set_yscale('log')\n",
    "    axs[0,0].set_title('EB hoe')\n",
    "    axs[0,1].hist(sieie_arr_EB,color='darkorange',bins=bins)\n",
    "    axs[0,1].set_yscale('log')\n",
    "    axs[0,1].set_title('EB sieie')   \n",
    "    axs[0,2].hist(Isochg_arr_EB,color='darkorange',bins=bins)\n",
    "    axs[0,2].set_yscale('log')\n",
    "    axs[0,2].set_title('EB Isochg')  \n",
    "    \n",
    "    axs[1,0].hist(hoe_arr_EE,color='royalblue',bins=bins)\n",
    "    axs[1,0].set_yscale('log')\n",
    "    axs[1,0].set_title('EE hoe')\n",
    "    axs[1,1].hist(sieie_arr_EE,color='royalblue',bins=bins)\n",
    "    axs[1,1].set_yscale('log')\n",
    "    axs[1,1].set_title('EE sieie')   \n",
    "    axs[1,2].hist(Isochg_arr_EE,color='royalblue',bins=bins)\n",
    "    axs[1,2].set_yscale('log')\n",
    "    axs[1,2].set_title('EE Isochg') \n",
    "\n",
    "def make_hist(phoEE,phoEB):\n",
    "    fig,axs = plt.subplots(2,3,figsize=(14,8))\n",
    "    \n",
    "    axs[0,0].hist(flat_dim(phoEB.hoe),bins=50,color='darkorange')\n",
    "    axs[0,0].set_yscale('log')\n",
    "    axs[0,0].set_title('EB hoe')\n",
    "    axs[0,1].hist(flat_dim(phoEB.sieie),bins=50,color='darkorange')\n",
    "    axs[0,1].set_yscale('log')\n",
    "    axs[0,1].set_title('EB sieie')\n",
    "    axs[0,2].hist(flat_dim(phoEB.pfRelIso03_chg),bins=50,color='darkorange')\n",
    "    axs[0,2].set_yscale('log')\n",
    "    axs[0,2].set_title('EB IsoChg')\n",
    "    \n",
    "    axs[1,0].hist(flat_dim(phoEE.hoe),bins=50)\n",
    "    axs[1,0].set_yscale('log')\n",
    "    axs[1,0].set_title('EE hoe')\n",
    "    axs[1,1].hist(flat_dim(phoEE.sieie),bins=50)\n",
    "    axs[1,1].set_yscale('log')\n",
    "    axs[1,1].set_title('EE sieie')\n",
    "    axs[1,2].hist(flat_dim(phoEE.pfRelIso03_chg),bins=50)\n",
    "    axs[1,2].set_yscale('log')\n",
    "    axs[1,2].set_title('EE IsoChg')"
   ]
  },
  {
   "cell_type": "markdown",
   "metadata": {},
   "source": [
    "### Using vid to turn On&Off cut variables in cut-based ID table\n",
    "#### Field name\n",
    " - |0|0|0|0|0|0|0| \n",
    " - |IsoPho|IsoNeu|IsoChg|Sieie|hoe|scEta|PT|\n",
    "\n",
    "#### 1. Turn off cut (ex turn off Sieie\n",
    " |1|1|1|0|1|1|1| = |1|1|1|0|1|1|1|\n",
    "\n",
    "#### 2. Inverse cut (ex inverse Sieie)\n",
    " |1|1|1|1|1|1|1| = |1|1|1|0|1|1|1|"
   ]
  },
  {
   "cell_type": "code",
   "execution_count": 10,
   "metadata": {},
   "outputs": [],
   "source": [
    "@numba.njit ## Numba compile -- Boost!\n",
    "def PhotonVID(vid, idBit):\n",
    "    rBit = 0\n",
    "    for x in range(0, 7):\n",
    "        rBit |= (1 << x) if ((vid >> (x * 2)) & 0b11 >= idBit) else 0\n",
    "    return rBit"
   ]
  },
  {
   "cell_type": "code",
   "execution_count": 29,
   "metadata": {},
   "outputs": [],
   "source": [
    "@numba.njit ## Numba compile -- Boost!\n",
    "def make_vid_plot(Pho):\n",
    "           \n",
    "    hoe_arr=[]\n",
    "    sieie_arr=[]\n",
    "    Isochg_arr = []\n",
    "    vid_set=set()    \n",
    "    \n",
    "    for eventIdx,pho in enumerate(Pho):\n",
    "        if len(pho) < 1: continue;\n",
    "        for phoIdx,_ in enumerate(pho):\n",
    "            vid = Pho[eventIdx][phoIdx].vidNestedWPBitmap\n",
    "            vid_cuts1 = PhotonVID(vid,1) # Loose photon\n",
    "            vid_cuts2 = PhotonVID(vid,2) # Medium photon\n",
    "            vid_cuts3 = PhotonVID(vid,3) # Tight photon\n",
    "\n",
    "            # Field name\n",
    "            # |0|0|0|0|0|0|0| \n",
    "            # |IsoPho|IsoNeu|IsoChg|Sieie|hoe|scEta|PT|\n",
    "            \n",
    "            # 1. Turn off cut (ex turn off Sieie\n",
    "            # |1|1|1|0|1|1|1| = |1|1|1|0|1|1|1|\n",
    "            \n",
    "            # 2. Inverse cut (ex inverse Sieie)\n",
    "            # |1|1|1|1|1|1|1| = |1|1|1|0|1|1|1|\n",
    "            \n",
    "            if (vid_cuts2 & 0b1101111 == 0b1101111): # without Isochg\n",
    "            #if (vid_cuts2 & 0b1111111 == 0b1110111): # Inversion Sieie\n",
    "            #if (vid_cuts2 & 0b1110111 == 0b1110111): # Without Sieie\n",
    "                vid_set.add(vid)\n",
    "                hoe_arr.append(Pho[eventIdx][phoIdx].hoe)\n",
    "                sieie_arr.append(Pho[eventIdx][phoIdx].sieie)\n",
    "                Isochg_arr.append(Pho[eventIdx][phoIdx].pfRelIso03_chg)\n",
    "        \n",
    "    return hoe_arr,sieie_arr,Isochg_arr,vid_set"
   ]
  },
  {
   "cell_type": "code",
   "execution_count": 31,
   "metadata": {},
   "outputs": [],
   "source": [
    "EB_Photon = Photon[Photon.isScEtaEB]\n",
    "EE_Photon = Photon[Photon.isScEtaEE]\n",
    "\n",
    "hoe_arr_EB, sieie_arr_EB, Isochg_arr_EB, vid_set_EB = make_vid_plot(EB_Photon)\n",
    "hoe_arr_EE, sieie_arr_EE, Isochg_arr_EE, vid_set_EE = make_vid_plot(EE_Photon)"
   ]
  },
  {
   "cell_type": "code",
   "execution_count": 14,
   "metadata": {},
   "outputs": [
    {
     "data": {
      "image/png": "[encoded data removed]",
      "text/plain": [
       "<Figure size 1008x576 with 6 Axes>"
      ]
     },
     "metadata": {
      "needs_background": "light"
     },
     "output_type": "display_data"
    }
   ],
   "source": [
    "vid_hist(hoe_arr_EB, sieie_arr_EB, Isochg_arr_EB,hoe_arr_EE, sieie_arr_EE, Isochg_arr_EE) # Med without Isochg"
   ]
  },
  {
   "cell_type": "code",
   "execution_count": 68,
   "metadata": {},
   "outputs": [
    {
     "data": {
      "image/png": "[encoded data removed]",
      "text/plain": [
       "<Figure size 1008x576 with 6 Axes>"
      ]
     },
     "metadata": {
      "needs_background": "light"
     },
     "output_type": "display_data"
    }
   ],
   "source": [
    "make_hist(EE_Photon,EB_Photon) # without selection"
   ]
  }
 ],
 "metadata": {
  "kernelspec": {
   "display_name": "Python 3",
   "language": "python",
   "name": "python3"
  },
  "language_info": {
   "codemirror_mode": {
    "name": "ipython",
    "version": 3
   },
   "file_extension": ".py",
   "mimetype": "text/x-python",
   "name": "python",
   "nbconvert_exporter": "python",
   "pygments_lexer": "ipython3",
   "version": "3.8.5"
  }
 },
 "nbformat": 4,
 "nbformat_minor": 4
}
