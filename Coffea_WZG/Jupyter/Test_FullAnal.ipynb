{
 "cells": [
  {
   "cell_type": "code",
   "execution_count": 1,
   "metadata": {},
   "outputs": [],
   "source": [
    "import awkward1 as ak\n",
    "from coffea.nanoevents import NanoEventsFactory, NanoAODSchema\n",
    "import numpy as np\n",
    "from tqdm import tqdm,trange\n",
    "import matplotlib.pyplot as plt"
   ]
  },
  {
   "cell_type": "code",
   "execution_count": 2,
   "metadata": {},
   "outputs": [],
   "source": [
    "infile='data/data/7B56E217-555E-1C41-9494-491849A9835F_skim_2ElIdPt20.root'\n",
    "#infile=\"data/mc/59AB328B-F0E3-F544-98BB-E5E55577C649_skim_2ElIdPt20.root\""
   ]
  },
  {
   "cell_type": "code",
   "execution_count": 3,
   "metadata": {},
   "outputs": [],
   "source": [
    "events = NanoEventsFactory.from_root(infile, schemaclass=NanoAODSchema).events()"
   ]
  },
  {
   "cell_type": "code",
   "execution_count": 4,
   "metadata": {},
   "outputs": [],
   "source": [
    "# Trigger set\n",
    "year='2018'\n",
    "\n",
    "doubleelectron_triggers  ={\n",
    "    '2018': [\n",
    "            \"Ele23_Ele12_CaloIdL_TrackIdL_IsoVL\", # Recomended\n",
    "            ]\n",
    "}\n",
    "\n",
    "singleelectron_triggers = { #2017 and 2018 from monojet, applying dedicated trigger weights\n",
    "        '2016': [\n",
    "            'Ele27_WPTight_Gsf',\n",
    "            'Ele105_CaloIdVT_GsfTrkIdT'\n",
    "        ],\n",
    "        '2017': [\n",
    "            'Ele35_WPTight_Gsf',\n",
    "            'Ele115_CaloIdVT_GsfTrkIdT',\n",
    "            'Photon200'\n",
    "        ],\n",
    "        '2018': [\n",
    "            'Ele32_WPTight_Gsf',   # Recomended\n",
    "        ]\n",
    "}"
   ]
  },
  {
   "cell_type": "code",
   "execution_count": 5,
   "metadata": {},
   "outputs": [],
   "source": [
    "# double lepton trigger\n",
    "is_double_ele_trigger=True\n",
    "if not is_double_ele_trigger:\n",
    "    double_ele_triggers_arr=np.ones(len(events), dtype=np.bool)\n",
    "else:\n",
    "    double_ele_triggers_arr = np.zeros(len(events), dtype=np.bool)\n",
    "    for path in doubleelectron_triggers[year]:\n",
    "        if path not in events.HLT.fields: continue\n",
    "        double_ele_triggers_arr = double_ele_triggers_arr | events.HLT[path]\n",
    "\n",
    "\n",
    "# single lepton trigger\n",
    "is_single_ele_trigger=True\n",
    "if not is_single_ele_trigger:\n",
    "    single_ele_triggers_arr=np.ones(len(events), dtype=np.bool)\n",
    "else:\n",
    "    single_ele_triggers_arr = np.zeros(len(events), dtype=np.bool)\n",
    "    for path in singleelectron_triggers[year]:\n",
    "        if path not in events.HLT.fields: continue\n",
    "        single_ele_triggers_arr = single_ele_triggers_arr | events.HLT[path]"
   ]
  },
  {
   "cell_type": "code",
   "execution_count": 6,
   "metadata": {},
   "outputs": [],
   "source": [
    "# -- Helper function: Flat dimension and pop NaN\n",
    "def flat_dim(arr):\n",
    "\n",
    "    sub_arr = ak.flatten(arr)\n",
    "    mask = ~ak.is_none(sub_arr)\n",
    "\n",
    "    return ak.to_numpy(sub_arr[mask])"
   ]
  },
  {
   "cell_type": "code",
   "execution_count": 7,
   "metadata": {},
   "outputs": [],
   "source": [
    "# -- Helper function: Sort paricles by PT-order\n",
    "def sort_by_pt(ele,pho,jet):\n",
    "    ele = ele[ak.argsort(ele.pt,ascending=False,axis=1)]\n",
    "    pho = pho[ak.argsort(pho.pt,ascending=False,axis=1)]\n",
    "    jet = jet[ak.argsort(jet.pt,ascending=False,axis=1)]\n",
    "\n",
    "    return ele,pho,jet"
   ]
  },
  {
   "cell_type": "code",
   "execution_count": 8,
   "metadata": {},
   "outputs": [],
   "source": [
    "# Sort particle order by PT\n",
    "events.Electron,events.Photon,events.Jet = sort_by_pt(events.Electron,events.Photon,events.Jet)"
   ]
  },
  {
   "cell_type": "code",
   "execution_count": 9,
   "metadata": {},
   "outputs": [
    {
     "name": "stdout",
     "output_type": "stream",
     "text": [
      "#### Initial events:  58612\n",
      "#### Passing Trigger:  50077\n"
     ]
    }
   ],
   "source": [
    "Initial_events = events\n",
    "print(\"#### Initial events: \",len(Initial_events))\n",
    "#events = events[single_ele_triggers_arr | double_ele_triggers_arr]\n",
    "events = events[double_ele_triggers_arr]\n",
    "print(\"#### Passing Trigger: \",len(events))"
   ]
  },
  {
   "cell_type": "markdown",
   "metadata": {},
   "source": [
    "### 1. Particle Selection"
   ]
  },
  {
   "cell_type": "code",
   "execution_count": 10,
   "metadata": {},
   "outputs": [],
   "source": [
    "Electron = events.Electron\n",
    "Photon   = events.Photon\n",
    "Jet      = events.Jet"
   ]
  },
  {
   "cell_type": "code",
   "execution_count": 11,
   "metadata": {},
   "outputs": [],
   "source": [
    "def Particle_selection(ele,pho,jet):\n",
    "    # Electron selection\n",
    "    EleSelmask = (ele.pt > 25) & (np.abs(ele.eta) < 2.5) & (ele.cutBased > 2)\n",
    "\n",
    "    # Photon selection\n",
    "    # 0 Fail 1 Loose 2 Medium 3 Tight\n",
    "    # -- HoE cut is added manually\n",
    "    #PhoSelmaskEE = (pho.pt > 25) & (pho.cutBased > 1) &  pho.isScEtaEE & (pho.hoe < 0.0326)\n",
    "    #PhoSelmaskEB = (pho.pt > 25) & (pho.cutBased > 1) &  pho.isScEtaEB & (pho.hoe < 0.02197)\n",
    "    #PhoSelmask = PhoSelmaskEE | PhoSelmaskEB\n",
    "    \n",
    "    # -- Original Photon selection\n",
    "    PhoSelmask = (pho.pt > 25) & (pho.cutBased > 1)\n",
    "    \n",
    "    # -- Jet selection for dR cut -- #\n",
    "    bJet_selmask = (jet.btagCMVA > -0.5844)\n",
    "    #JetSelmask = (jet.btagCMVA > -999)\n",
    "    \n",
    "    \n",
    "    return EleSelmask,PhoSelmask,bJet_selmask"
   ]
  },
  {
   "cell_type": "code",
   "execution_count": 12,
   "metadata": {},
   "outputs": [],
   "source": [
    "# Event Selection\n",
    "Electron_mask, Photon_mask, bjet_selmask  = Particle_selection(Electron,Photon,Jet)\n",
    "\n",
    "Ele_channel_mask = ak.num(Electron[Electron_mask])  > 1\n",
    "#Ele_channel_mask = ak.num(Electron[Electron_mask]) == 3\n",
    "\n",
    "Pho_channel_mask = ak.num(Photon[Photon_mask]) > 0\n",
    "\n",
    "bJet_veto_mask = ak.num(Jet[bjet_selmask]) == 0\n",
    "\n",
    "\n",
    "Ele_channel_events = events[Ele_channel_mask & Pho_channel_mask &  bJet_veto_mask]"
   ]
  },
  {
   "cell_type": "code",
   "execution_count": 13,
   "metadata": {},
   "outputs": [
    {
     "name": "stdout",
     "output_type": "stream",
     "text": [
      "Events: 50077 --> 24816 \n"
     ]
    }
   ],
   "source": [
    "print(\"Events: {0} --> {1} \".format(len(events), len(Ele_channel_events)))"
   ]
  },
  {
   "cell_type": "markdown",
   "metadata": {},
   "source": [
    "### 2. Make Paricle array from selected events"
   ]
  },
  {
   "cell_type": "code",
   "execution_count": 14,
   "metadata": {},
   "outputs": [],
   "source": [
    "Electron = Ele_channel_events.Electron\n",
    "Photon = Ele_channel_events.Photon\n",
    "Jet = Ele_channel_events.Jet"
   ]
  },
  {
   "cell_type": "code",
   "execution_count": 15,
   "metadata": {},
   "outputs": [],
   "source": [
    "Electron_mask,Photon_mask,_ = Particle_selection(Electron,Photon,Jet)\n",
    "Electron = Electron[Electron_mask]\n",
    "Photon = Photon[Photon_mask]\n",
    "Jet = Jet"
   ]
  },
  {
   "cell_type": "markdown",
   "metadata": {},
   "source": [
    "### 3. Select Electron pair "
   ]
  },
  {
   "cell_type": "code",
   "execution_count": null,
   "metadata": {},
   "outputs": [],
   "source": [
    "#def make_ele_triplet: ..."
   ]
  },
  {
   "cell_type": "code",
   "execution_count": 16,
   "metadata": {},
   "outputs": [],
   "source": [
    "def make_ele_pairs(ele):\n",
    "    leading_ele = ele[:,0]\n",
    "    subleading_ele = ele[:,1]\n",
    "    \n",
    "    return leading_ele, subleading_ele"
   ]
  },
  {
   "cell_type": "markdown",
   "metadata": {},
   "source": [
    "### 4. Select Photon with dR < 0.4"
   ]
  },
  {
   "cell_type": "code",
   "execution_count": 22,
   "metadata": {},
   "outputs": [],
   "source": [
    "leading_ele, subleading_ele = make_ele_pairs(Electron)\n",
    "\n",
    "def make_DR(ele1,ele2,pho,jet):\n",
    "      \n",
    "    dR_e1pho  = ele1.delta_r(pho)\n",
    "    dR_e2pho  = ele2.delta_r(pho)\n",
    "    dR_phojet = jet[:,0].delta_r(pho)\n",
    "    dR_mask   = (dR_e1pho > 0.4) & (dR_e2pho > 0.4) & (dR_phojet > 0.4)\n",
    "    \n",
    "    return dR_mask,dR_e1pho,dR_e2pho,dR_phojet"
   ]
  },
  {
   "cell_type": "code",
   "execution_count": 23,
   "metadata": {},
   "outputs": [],
   "source": [
    "dR_mask,dR_e1pho,dR_e2pho,dR_phojet = make_DR(leading_ele,subleading_ele,Photon,Jet)"
   ]
  },
  {
   "cell_type": "code",
   "execution_count": 24,
   "metadata": {},
   "outputs": [
    {
     "name": "stdout",
     "output_type": "stream",
     "text": [
      "[2, 2, 1, 2, 2, 2, 1, 2, 2, 2, 2, 1, 2, 2, ... 2, 2, 2, 2, 2, 2, 2, 1, 2, 2, 2, 2, 2]\n",
      "[2, 2, 1, 2, 2, 2, 1, 2, 2, 2, 2, 1, 2, 2, ... 2, 2, 2, 2, 2, 2, 2, 1, 2, 2, 2, 2, 2]\n"
     ]
    }
   ],
   "source": [
    "print(ak.num(Photon))\n",
    "print(ak.num(dR_mask))"
   ]
  },
  {
   "cell_type": "code",
   "execution_count": 25,
   "metadata": {},
   "outputs": [
    {
     "data": {
      "text/plain": [
       "(0.0, 1.0)"
      ]
     },
     "execution_count": 25,
     "metadata": {},
     "output_type": "execute_result"
    },
    {
     "data": {
      "image/png": "[encoded data removed]",
      "text/plain": [
       "<Figure size 720x216 with 3 Axes>"
      ]
     },
     "metadata": {
      "needs_background": "light"
     },
     "output_type": "display_data"
    }
   ],
   "source": [
    "bins=500\n",
    "fig,axs = plt.subplots(1,3,figsize=(10,3))\n",
    "axs[0].hist(flat_dim(dR_e1pho),bins=bins,color='royalblue')\n",
    "axs[0].set_title('dR e1 & pho')\n",
    "axs[0].set_yscale('log')\n",
    "axs[0].set_xlim(0,1)\n",
    "\n",
    "axs[1].hist(flat_dim(dR_e2pho),bins=bins,color='darkorange')\n",
    "axs[1].set_title('dR e2 & pho')\n",
    "axs[1].set_yscale('log')\n",
    "axs[1].set_xlim(0,1)\n",
    "\n",
    "axs[2].hist(flat_dim(dR_phojet),bins=bins,color='violet')\n",
    "axs[2].set_title('dR jet1 & pho')\n",
    "axs[2].set_yscale('log')\n",
    "axs[2].set_xlim(0,1)"
   ]
  },
  {
   "cell_type": "code",
   "execution_count": 26,
   "metadata": {},
   "outputs": [],
   "source": [
    "Photon = Photon[dR_mask]"
   ]
  },
  {
   "cell_type": "markdown",
   "metadata": {},
   "source": [
    "### 5. Event Selection"
   ]
  },
  {
   "cell_type": "code",
   "execution_count": 27,
   "metadata": {},
   "outputs": [],
   "source": [
    "Ele_channel_with_dR = Ele_channel_events[ak.num(Photon) > 0]\n",
    "Electron = Ele_channel_with_dR.Electron\n",
    "Photon   = Ele_channel_with_dR.Photon\n",
    "Jet      = Ele_channel_with_dR.Jet"
   ]
  },
  {
   "cell_type": "code",
   "execution_count": 28,
   "metadata": {},
   "outputs": [
    {
     "name": "stdout",
     "output_type": "stream",
     "text": [
      "[3, 3, 3, 3, 3, 3, 3, 3, 4, 3, 3, 3, 3, 3, ... 4, 3, 3, 3, 3, 3, 3, 4, 3, 3, 4, 3, 3]\n"
     ]
    }
   ],
   "source": [
    "print(ak.num(Photon))"
   ]
  },
  {
   "cell_type": "code",
   "execution_count": 29,
   "metadata": {},
   "outputs": [],
   "source": [
    "Electron_mask,Photon_mask,_ = Particle_selection(Electron,Photon,Jet)\n",
    "Ele_sel = Electron[Electron_mask]\n",
    "Pho_sel = Photon[Photon_mask]\n",
    "Jet_sel = Jet"
   ]
  },
  {
   "cell_type": "code",
   "execution_count": 30,
   "metadata": {},
   "outputs": [
    {
     "name": "stdout",
     "output_type": "stream",
     "text": [
      "[3, 3, 3, 3, 3, 3, 3, 3, 4, 3, 3, 3, 3, 3, ... 4, 3, 3, 3, 3, 3, 3, 4, 3, 3, 4, 3, 3]\n"
     ]
    }
   ],
   "source": [
    "print(ak.num(Photon))"
   ]
  },
  {
   "cell_type": "code",
   "execution_count": 31,
   "metadata": {},
   "outputs": [],
   "source": [
    "leading_ele, subleading_ele = make_ele_pairs(Ele_sel)"
   ]
  },
  {
   "cell_type": "code",
   "execution_count": 35,
   "metadata": {},
   "outputs": [],
   "source": [
    "dR_mask,dR_e1pho,dR_e2pho,dR_phojet = make_DR(leading_ele,subleading_ele,Pho_sel,Jet_sel)"
   ]
  },
  {
   "cell_type": "code",
   "execution_count": 36,
   "metadata": {},
   "outputs": [],
   "source": [
    "Pho_sel = Pho_sel[dR_mask]"
   ]
  },
  {
   "cell_type": "code",
   "execution_count": 42,
   "metadata": {},
   "outputs": [],
   "source": [
    "diele = leading_ele + subleading_ele\n",
    "zmass_window_mask = (diele.mass) > 60 | (diele.mass < 120)"
   ]
  },
  {
   "cell_type": "code",
   "execution_count": 43,
   "metadata": {},
   "outputs": [],
   "source": [
    "eeg_vec = diele + Pho_sel[:,0]"
   ]
  },
  {
   "cell_type": "code",
   "execution_count": 44,
   "metadata": {},
   "outputs": [],
   "source": [
    "Meeg_mask = eeg_vec.mass > 120"
   ]
  },
  {
   "cell_type": "code",
   "execution_count": 46,
   "metadata": {},
   "outputs": [
    {
     "name": "stdout",
     "output_type": "stream",
     "text": [
      "30\n"
     ]
    }
   ],
   "source": [
    "Ele_channel_evtSel = Ele_channel_with_dR[zmass_window_mask & Meeg_mask]\n",
    "print(len(Ele_channel_evtSel))"
   ]
  },
  {
   "cell_type": "code",
   "execution_count": 48,
   "metadata": {},
   "outputs": [],
   "source": [
    "Electron = Ele_channel_evtSel.Electron\n",
    "Photon = Ele_channel_evtSel.Photon\n",
    "Jet = Ele_channel_evtSel.Jet\n",
    "\n",
    "Electron_mask,Photon_mask,_ = Particle_selection(Electron,Photon,Jet)\n",
    "Ele_sel = Electron[Electron_mask]\n",
    "Pho_sel = Photon[Photon_mask]\n",
    "Jet_sel = Jet\n",
    "\n",
    "leading_ele, subleading_ele = make_ele_pairs(Ele_sel)\n",
    "dR_mask,dR_e1pho,dR_e2pho,dR_phojet = make_DR(leading_ele,subleading_ele,Pho_sel,Jet_sel)\n",
    "Pho_sel = Pho_sel[dR_mask]"
   ]
  },
  {
   "cell_type": "code",
   "execution_count": null,
   "metadata": {},
   "outputs": [],
   "source": []
  }
 ],
 "metadata": {
  "kernelspec": {
   "display_name": "Python 3",
   "language": "python",
   "name": "python3"
  },
  "language_info": {
   "codemirror_mode": {
    "name": "ipython",
    "version": 3
   },
   "file_extension": ".py",
   "mimetype": "text/x-python",
   "name": "python",
   "nbconvert_exporter": "python",
   "pygments_lexer": "ipython3",
   "version": "3.8.5"
  }
 },
 "nbformat": 4,
 "nbformat_minor": 4
}
