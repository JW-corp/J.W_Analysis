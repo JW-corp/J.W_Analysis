{
 "cells": [
  {
   "cell_type": "code",
   "execution_count": 1,
   "metadata": {},
   "outputs": [],
   "source": [
    "import awkward1 as ak\n",
    "from coffea.nanoevents import NanoEventsFactory, NanoAODSchema\n",
    "import numpy as np\n",
    "from tqdm import tqdm,trange\n",
    "import matplotlib.pyplot as plt\n",
    "import numba"
   ]
  },
  {
   "cell_type": "code",
   "execution_count": 2,
   "metadata": {},
   "outputs": [],
   "source": [
    "infile = \"data/signal/wza_UL18.root\" # --signal\n",
    "#infile='data/data/7B56E217-555E-1C41-9494-491849A9835F_skim_2ElIdPt20.root' # --data \n",
    "#infile=\"data/mc/59AB328B-F0E3-F544-98BB-E5E55577C649_skim_2ElIdPt20.root\" # --mc"
   ]
  },
  {
   "cell_type": "code",
   "execution_count": 3,
   "metadata": {},
   "outputs": [],
   "source": [
    "events = NanoEventsFactory.from_root(infile, schemaclass=NanoAODSchema).events()"
   ]
  },
  {
   "cell_type": "code",
   "execution_count": 4,
   "metadata": {},
   "outputs": [],
   "source": [
    "# Trigger set\n",
    "year='2018'\n",
    "\n",
    "doubleelectron_triggers  ={\n",
    "    '2018': [\n",
    "            \"Ele23_Ele12_CaloIdL_TrackIdL_IsoVL\", # Recomended\n",
    "            ]\n",
    "}\n",
    "\n",
    "singleelectron_triggers = { #2017 and 2018 from monojet, applying dedicated trigger weights\n",
    "        '2016': [\n",
    "            'Ele27_WPTight_Gsf',\n",
    "            'Ele105_CaloIdVT_GsfTrkIdT'\n",
    "        ],\n",
    "        '2017': [\n",
    "            'Ele35_WPTight_Gsf',\n",
    "            'Ele115_CaloIdVT_GsfTrkIdT',\n",
    "            'Photon200'\n",
    "        ],\n",
    "        '2018': [\n",
    "            'Ele32_WPTight_Gsf',   # Recomended\n",
    "        ]\n",
    "}"
   ]
  },
  {
   "cell_type": "code",
   "execution_count": 5,
   "metadata": {},
   "outputs": [],
   "source": [
    "# double lepton trigger\n",
    "is_double_ele_trigger=True\n",
    "if not is_double_ele_trigger:\n",
    "    double_ele_triggers_arr=np.ones(len(events), dtype=np.bool)\n",
    "else:\n",
    "    double_ele_triggers_arr = np.zeros(len(events), dtype=np.bool)\n",
    "    for path in doubleelectron_triggers[year]:\n",
    "        if path not in events.HLT.fields: continue\n",
    "        double_ele_triggers_arr = double_ele_triggers_arr | events.HLT[path]\n",
    "\n",
    "\n",
    "# single lepton trigger\n",
    "is_single_ele_trigger=True\n",
    "if not is_single_ele_trigger:\n",
    "    single_ele_triggers_arr=np.ones(len(events), dtype=np.bool)\n",
    "else:\n",
    "    single_ele_triggers_arr = np.zeros(len(events), dtype=np.bool)\n",
    "    for path in singleelectron_triggers[year]:\n",
    "        if path not in events.HLT.fields: continue\n",
    "        single_ele_triggers_arr = single_ele_triggers_arr | events.HLT[path]"
   ]
  },
  {
   "cell_type": "code",
   "execution_count": 6,
   "metadata": {},
   "outputs": [],
   "source": [
    "# -- Helper function: Flat dimension and pop NaN\n",
    "def flat_dim(arr):\n",
    "\n",
    "    sub_arr = ak.flatten(arr)\n",
    "    mask = ~ak.is_none(sub_arr)\n",
    "\n",
    "    return ak.to_numpy(sub_arr[mask])"
   ]
  },
  {
   "cell_type": "code",
   "execution_count": 7,
   "metadata": {},
   "outputs": [],
   "source": [
    "# -- Helper function: Sort paricles by PT-order\n",
    "def sort_by_pt(ele,pho,jet):\n",
    "    ele = ele[ak.argsort(ele.pt,ascending=False,axis=1)]\n",
    "    pho = pho[ak.argsort(pho.pt,ascending=False,axis=1)]\n",
    "    jet = jet[ak.argsort(jet.pt,ascending=False,axis=1)]\n",
    "\n",
    "    return ele,pho,jet"
   ]
  },
  {
   "cell_type": "code",
   "execution_count": 8,
   "metadata": {},
   "outputs": [],
   "source": [
    "# Sort particle order by PT\n",
    "events.Electron,events.Photon,events.Jet = sort_by_pt(events.Electron,events.Photon,events.Jet)"
   ]
  },
  {
   "cell_type": "code",
   "execution_count": 9,
   "metadata": {},
   "outputs": [
    {
     "name": "stdout",
     "output_type": "stream",
     "text": [
      "#### Initial events:  55000\n",
      "#### Passing Trigger:  9544\n"
     ]
    }
   ],
   "source": [
    "Initial_events = events\n",
    "print(\"#### Initial events: \",len(Initial_events))\n",
    "#events = events[single_ele_triggers_arr | double_ele_triggers_arr]\n",
    "events = events[double_ele_triggers_arr]\n",
    "print(\"#### Passing Trigger: \",len(events))"
   ]
  },
  {
   "cell_type": "markdown",
   "metadata": {},
   "source": [
    "### 1. Particle Selection"
   ]
  },
  {
   "cell_type": "code",
   "execution_count": 10,
   "metadata": {},
   "outputs": [],
   "source": [
    "Electron = events.Electron\n",
    "Photon   = events.Photon\n",
    "Jet      = events.Jet"
   ]
  },
  {
   "cell_type": "code",
   "execution_count": 11,
   "metadata": {},
   "outputs": [
    {
     "name": "stdout",
     "output_type": "stream",
     "text": [
      "9544 9544\n"
     ]
    }
   ],
   "source": [
    "print(len(Electron),len(Photon))"
   ]
  },
  {
   "cell_type": "code",
   "execution_count": 46,
   "metadata": {},
   "outputs": [],
   "source": [
    "def Particle_selection(ele,pho):\n",
    "    # Electron selection\n",
    "    EleSelmask = ((ele.pt > 25) & (np.abs(ele.eta + ele.deltaEtaSC) < 1.4442) & (ele.cutBased > 2) & (abs(ele.dxy) < 0.05) & (abs(ele.dz) < 0.1)) | \\\n",
    "                ((ele.pt > 25) & (np.abs(ele.eta + ele.deltaEtaSC) > 1.5660) & (ele.cutBased > 2) & (abs(ele.dxy) < 0.05) & (abs(ele.dz) < 0.1))\n",
    "    \n",
    "    # Photon selection\n",
    "    # 0 Fail 1 Loose 2 Medium 3 Tight\n",
    "    # -- HoE cut is added manually\n",
    "    #PhoSelmaskEE = (pho.pt > 25) & (pho.cutBased > 1) &  pho.isScEtaEE & (pho.hoe < 0.0326)\n",
    "    #PhoSelmaskEB = (pho.pt > 25) & (pho.cutBased > 1) &  pho.isScEtaEB & (pho.hoe < 0.02197)\n",
    "    #PhoSelmask = PhoSelmaskEE | PhoSelmaskEB\n",
    "    \n",
    "    # -- Original Photon selection\n",
    "    \n",
    "    isgap_mask = (abs(photon.eta) < 1.442)  |  ((abs(photon.eta) > 1.566) & (abs(photon.eta) < 2.5))\n",
    "    Pixel_seed_mask   = ~pho.pixelSeed\n",
    "    PhoSelmask = (pho.pt > 25) & (pho.cutBased > 1) & isgap_mask &  Pixel_seed_mask\n",
    "        \n",
    "    return EleSelmask,PhoSelmask"
   ]
  },
  {
   "cell_type": "code",
   "execution_count": 47,
   "metadata": {},
   "outputs": [],
   "source": [
    "# Event Selection\n",
    "Electron_mask, Photon_mask  = Particle_selection(Electron,Photon)\n",
    "\n",
    "#Ele_channel_mask = ak.num(Electron[Electron_mask])  > 1\n",
    "Ele_channel_mask = ak.num(Electron[Electron_mask]) == 3\n",
    "Pho_channel_mask = ak.num(Photon[Photon_mask]) > 0\n",
    "\n",
    "Ele_channel_events = events[Ele_channel_mask & Pho_channel_mask]"
   ]
  },
  {
   "cell_type": "code",
   "execution_count": 48,
   "metadata": {},
   "outputs": [
    {
     "name": "stdout",
     "output_type": "stream",
     "text": [
      "Events: 9544 --> 504 \n"
     ]
    }
   ],
   "source": [
    "print(\"Events: {0} --> {1} \".format(len(events), len(Ele_channel_events)))"
   ]
  },
  {
   "cell_type": "markdown",
   "metadata": {},
   "source": [
    "### 2. Make Paricle array from selected events"
   ]
  },
  {
   "cell_type": "code",
   "execution_count": 15,
   "metadata": {},
   "outputs": [],
   "source": [
    "Electron = Ele_channel_events.Electron\n",
    "Photon = Ele_channel_events.Photon\n",
    "Jet = Ele_channel_events.Jet"
   ]
  },
  {
   "cell_type": "code",
   "execution_count": 16,
   "metadata": {},
   "outputs": [],
   "source": [
    "Electron_mask,Photon_mask,_ = Particle_selection(Electron,Photon,Jet)\n",
    "Electron = Electron[Electron_mask]\n",
    "Photon = Photon[Photon_mask]\n",
    "Jet = Jet"
   ]
  },
  {
   "cell_type": "markdown",
   "metadata": {},
   "source": [
    "### 3. OSSF"
   ]
  },
  {
   "cell_type": "code",
   "execution_count": 17,
   "metadata": {},
   "outputs": [],
   "source": [
    "@numba.njit\n",
    "def find_3lep(events_leptons,builder):\n",
    "    \n",
    "    for leptons in events_leptons:\n",
    "        builder.begin_list()    \n",
    "        nlep = len(leptons)\n",
    "        \n",
    "        for i0 in range(nlep):\n",
    "            for i1 in range(i0+1,nlep):\n",
    "                if leptons[i0].charge + leptons[i1].charge != 0: continue;\n",
    "                \n",
    "                for i2 in range(nlep):\n",
    "                    if len({i0,i1,i2}) < 3: continue;\n",
    "                    builder.begin_tuple(3)\n",
    "                    builder.index(0).integer(i0)\n",
    "                    builder.index(1).integer(i1)\n",
    "                    builder.index(2).integer(i2)\n",
    "                    builder.end_tuple()\n",
    "        builder.end_list()\n",
    "    return builder"
   ]
  },
  {
   "cell_type": "code",
   "execution_count": 18,
   "metadata": {},
   "outputs": [
    {
     "name": "stdout",
     "output_type": "stream",
     "text": [
      "CPU times: user 672 ms, sys: 16.6 ms, total: 689 ms\n",
      "Wall time: 688 ms\n"
     ]
    }
   ],
   "source": [
    "%%time\n",
    "eee_triplet_idx = find_3lep(Electron,ak.ArrayBuilder()).snapshot()"
   ]
  },
  {
   "cell_type": "code",
   "execution_count": 19,
   "metadata": {},
   "outputs": [],
   "source": [
    "ossf_mask = ak.num(eee_triplet_idx) == 2\n",
    "eee_triplet_idx = eee_triplet_idx[ossf_mask]\n",
    "\n",
    "\n",
    "Electron= Electron[ossf_mask]\n",
    "Photon= Photon[ossf_mask]\n",
    "Jet= Jet[ossf_mask]"
   ]
  },
  {
   "cell_type": "code",
   "execution_count": 20,
   "metadata": {},
   "outputs": [],
   "source": [
    "# eee_triplet_idx[\"0\"] = eee_triplet_idx[:][:][\"0\"]\n",
    "Triple_electron = [Electron[eee_triplet_idx[idx]] for idx in \"012\"]"
   ]
  },
  {
   "cell_type": "code",
   "execution_count": 21,
   "metadata": {},
   "outputs": [],
   "source": [
    "from coffea.nanoevents.methods import vector\n",
    "ak.behavior.update(vector.behavior)\n",
    "\n",
    "def TLorentz_vector(vec):\n",
    "    vec = ak.zip(\n",
    "    {\n",
    "            \"x\":vec.x,\n",
    "            \"y\":vec.y,\n",
    "            \"z\":vec.z,\n",
    "            \"t\":vec.t\n",
    "    },\n",
    "    with_name = \"LorentzVector\"\n",
    "    )\n",
    "    return vec"
   ]
  },
  {
   "cell_type": "code",
   "execution_count": 49,
   "metadata": {},
   "outputs": [],
   "source": [
    "def TLorentz_vector_cylinder(vec):\n",
    "\n",
    "    vec = ak.zip(\n",
    "    {\n",
    "        \"pt\": vec.pt,\n",
    "        \"eta\": vec.eta,\n",
    "        \"phi\": vec.phi,\n",
    "        \"mass\": vec.mass,\n",
    "    },\n",
    "    with_name=\"PtEtaPhiMLorentzVector\",\n",
    "    )\n",
    "    \n",
    "    return vec"
   ]
  },
  {
   "cell_type": "code",
   "execution_count": 22,
   "metadata": {},
   "outputs": [],
   "source": [
    "Triple_eee = ak.zip({\"lep1\":Triple_electron[0],\n",
    "                     \"lep2\":Triple_electron[1],\n",
    "                   \"lep3\":Triple_electron[2],\n",
    "                   \"p4\":TLorentz_vector(Triple_electron[0]+Triple_electron[1])})"
   ]
  },
  {
   "cell_type": "code",
   "execution_count": 23,
   "metadata": {},
   "outputs": [],
   "source": [
    "bestZ_idx = ak.singletons(ak.argmin(abs(Triple_eee.p4.mass - 91.1876), axis=1))"
   ]
  },
  {
   "cell_type": "code",
   "execution_count": 24,
   "metadata": {},
   "outputs": [],
   "source": [
    "Triple_eee = Triple_eee[bestZ_idx]"
   ]
  },
  {
   "cell_type": "code",
   "execution_count": 25,
   "metadata": {},
   "outputs": [
    {
     "name": "stdout",
     "output_type": "stream",
     "text": [
      "[[90.3], [56.5], [59.8], [57.7], [90.3], ... [92.3], [55.4], [61.1], [60.6], [86.4]]\n"
     ]
    }
   ],
   "source": [
    "print(Triple_eee.p4.mass)"
   ]
  },
  {
   "cell_type": "code",
   "execution_count": 47,
   "metadata": {},
   "outputs": [
    {
     "data": {
      "text/plain": [
       "<Array [[0.00818], [-0.00475, ... [-0.0112]] type='51 * var * float32[parameters...'>"
      ]
     },
     "execution_count": 47,
     "metadata": {},
     "output_type": "execute_result"
    }
   ],
   "source": [
    "Triple_eee.lep1.mass"
   ]
  },
  {
   "cell_type": "markdown",
   "metadata": {},
   "source": [
    "### 4. Select Photon with dR < 0.4"
   ]
  },
  {
   "cell_type": "code",
   "execution_count": 57,
   "metadata": {},
   "outputs": [],
   "source": [
    "leading_ele, subleading_ele = ak.flatten(TLorentz_vector_cylinder(Triple_eee.lep1)),ak.flatten(TLorentz_vector_cylinder(Triple_eee.lep2))\n",
    "\n",
    "def make_DR(ele1,ele2,pho,jet):\n",
    "      \n",
    "    dR_e1pho  = ele1.delta_r(pho)\n",
    "    dR_e2pho  = ele2.delta_r(pho)\n",
    "    dR_phojet = jet[:,0].delta_r(pho)\n",
    "    dR_mask   = (dR_e1pho > 0.4) & (dR_e2pho > 0.4) & (dR_phojet > 0.4)\n",
    "    \n",
    "    return dR_mask,dR_e1pho,dR_e2pho,dR_phojet"
   ]
  },
  {
   "cell_type": "code",
   "execution_count": 58,
   "metadata": {},
   "outputs": [],
   "source": [
    "dR_mask,dR_e1pho,dR_e2pho,dR_phojet = make_DR(leading_ele,subleading_ele,Photon,Jet)"
   ]
  },
  {
   "cell_type": "code",
   "execution_count": 59,
   "metadata": {},
   "outputs": [
    {
     "name": "stdout",
     "output_type": "stream",
     "text": [
      "[4, 2, 3, 4, 4, 2, 3, 3, 2, 3, 3, 4, 4, 4, ... 3, 4, 2, 3, 4, 3, 3, 4, 4, 2, 4, 2, 3]\n",
      "[4, 2, 3, 4, 4, 2, 3, 3, 2, 3, 3, 4, 4, 4, ... 3, 4, 2, 3, 4, 3, 3, 4, 4, 2, 4, 2, 3]\n"
     ]
    }
   ],
   "source": [
    "print(ak.num(Photon))\n",
    "print(ak.num(dR_mask))"
   ]
  },
  {
   "cell_type": "code",
   "execution_count": 60,
   "metadata": {},
   "outputs": [
    {
     "data": {
      "text/plain": [
       "(0.0, 1.0)"
      ]
     },
     "execution_count": 60,
     "metadata": {},
     "output_type": "execute_result"
    },
    {
     "data": {
      "image/png": "[encoded data removed]",
      "text/plain": [
       "<Figure size 720x216 with 3 Axes>"
      ]
     },
     "metadata": {
      "needs_background": "light"
     },
     "output_type": "display_data"
    }
   ],
   "source": [
    "bins=500\n",
    "fig,axs = plt.subplots(1,3,figsize=(10,3))\n",
    "axs[0].hist(flat_dim(dR_e1pho),bins=bins,color='royalblue')\n",
    "axs[0].set_title('dR e1 & pho')\n",
    "axs[0].set_yscale('log')\n",
    "axs[0].set_xlim(0,1)\n",
    "\n",
    "axs[1].hist(flat_dim(dR_e2pho),bins=bins,color='darkorange')\n",
    "axs[1].set_title('dR e2 & pho')\n",
    "axs[1].set_yscale('log')\n",
    "axs[1].set_xlim(0,1)\n",
    "\n",
    "axs[2].hist(flat_dim(dR_phojet),bins=bins,color='violet')\n",
    "axs[2].set_title('dR jet1 & pho')\n",
    "axs[2].set_yscale('log')\n",
    "axs[2].set_xlim(0,1)"
   ]
  },
  {
   "cell_type": "code",
   "execution_count": 61,
   "metadata": {},
   "outputs": [],
   "source": [
    "Photon = Photon[dR_mask]"
   ]
  },
  {
   "cell_type": "markdown",
   "metadata": {},
   "source": [
    "### 5. Event Selection"
   ]
  },
  {
   "cell_type": "code",
   "execution_count": 86,
   "metadata": {},
   "outputs": [],
   "source": [
    "Ele_channel_with_dR = Ele_channel_events[ak.num(Photon) > 0]\n",
    "Triple_eee = Triple_eee[ak.num(Photon) > 0]\n",
    "Photon   = Photon[ak.num(Photon) > 0]\n",
    "Jet      = Jet[ak.num(Photon) > 0]"
   ]
  },
  {
   "cell_type": "code",
   "execution_count": 87,
   "metadata": {},
   "outputs": [
    {
     "data": {
      "text/plain": [
       "<Array [[-0.012], [-0.0136, ... [0.0145]] type='38 * var * float32[parameters={\"...'>"
      ]
     },
     "execution_count": 87,
     "metadata": {},
     "output_type": "execute_result"
    }
   ],
   "source": [
    "Triple_eee.lep1.deltaEtaSC"
   ]
  },
  {
   "cell_type": "code",
   "execution_count": 88,
   "metadata": {},
   "outputs": [],
   "source": [
    "diele = Triple_eee.p4\n",
    "zmass_window_mask = ak.firsts((diele.mass) > 60 | (diele.mass < 120))"
   ]
  },
  {
   "cell_type": "code",
   "execution_count": 89,
   "metadata": {},
   "outputs": [],
   "source": [
    "eeg_vec = diele + Photon[:,0]"
   ]
  },
  {
   "cell_type": "code",
   "execution_count": 106,
   "metadata": {},
   "outputs": [
    {
     "data": {
      "text/plain": [
       "<Array [[271], [34.4], ... [6.03], [8.26]] type='38 * var * float32'>"
      ]
     },
     "execution_count": 106,
     "metadata": {},
     "output_type": "execute_result"
    }
   ],
   "source": [
    "diele.pt"
   ]
  },
  {
   "cell_type": "code",
   "execution_count": 113,
   "metadata": {},
   "outputs": [
    {
     "data": {
      "text/plain": [
       "<Array [136, 25.7, 34.7, ... 136, 35.5, 35] type='38 * float32[parameters={\"__do...'>"
      ]
     },
     "execution_count": 113,
     "metadata": {},
     "output_type": "execute_result"
    }
   ],
   "source": [
    "ak.singletons(Photon[:,0]).pt"
   ]
  },
  {
   "cell_type": "code",
   "execution_count": 90,
   "metadata": {},
   "outputs": [],
   "source": [
    "Meeg_mask = ak.firsts(eeg_vec.mass > 120)"
   ]
  },
  {
   "cell_type": "code",
   "execution_count": 91,
   "metadata": {},
   "outputs": [],
   "source": [
    "Triple_eee_sel = Triple_eee[zmass_window_mask & Meeg_mask]\n",
    "Photon_sel     = Photon[zmass_window_mask & Meeg_mask]\n",
    "Jet_sel        = Jet[zmass_window_mask & Meeg_mask]"
   ]
  },
  {
   "cell_type": "code",
   "execution_count": 92,
   "metadata": {},
   "outputs": [
    {
     "name": "stdout",
     "output_type": "stream",
     "text": [
      "Final # of events: 13\n"
     ]
    }
   ],
   "source": [
    "print(\"Final # of events:\" ,len(Photon_sel))"
   ]
  },
  {
   "cell_type": "code",
   "execution_count": 93,
   "metadata": {},
   "outputs": [
    {
     "data": {
      "text/plain": [
       "['x', 'y', 'z', 't']"
      ]
     },
     "execution_count": 93,
     "metadata": {},
     "output_type": "execute_result"
    }
   ],
   "source": [
    "Triple_eee.p4.fields"
   ]
  },
  {
   "cell_type": "code",
   "execution_count": 94,
   "metadata": {},
   "outputs": [
    {
     "data": {
      "text/plain": [
       "<Array [[0], [0], [0], ... [0], [0], [0]] type='38 * var * int32'>"
      ]
     },
     "execution_count": 94,
     "metadata": {},
     "output_type": "execute_result"
    }
   ],
   "source": [
    "Triple_eee.lep1.charge +Triple_eee.lep2.charge"
   ]
  },
  {
   "cell_type": "code",
   "execution_count": 95,
   "metadata": {},
   "outputs": [
    {
     "name": "stdout",
     "output_type": "stream",
     "text": [
      "38\n"
     ]
    }
   ],
   "source": [
    "print(len(Jet))"
   ]
  },
  {
   "cell_type": "code",
   "execution_count": 98,
   "metadata": {},
   "outputs": [
    {
     "ename": "ValueError",
     "evalue": "axis out of range for flatten\n\n(https://github.com/scikit-hep/awkward-1.0/blob/0.4.4/src/libawkward/array/NumpyArray.cpp#L1431)",
     "output_type": "error",
     "traceback": [
      "\u001b[0;31m---------------------------------------------------------------------------\u001b[0m",
      "\u001b[0;31mValueError\u001b[0m                                Traceback (most recent call last)",
      "\u001b[0;32m<ipython-input-98-356c4b85f9e3>\u001b[0m in \u001b[0;36m<module>\u001b[0;34m\u001b[0m\n\u001b[0;32m----> 1\u001b[0;31m \u001b[0mak\u001b[0m\u001b[0;34m.\u001b[0m\u001b[0mflatten\u001b[0m\u001b[0;34m(\u001b[0m\u001b[0mMeeg_mask\u001b[0m\u001b[0;34m)\u001b[0m\u001b[0;34m\u001b[0m\u001b[0;34m\u001b[0m\u001b[0m\n\u001b[0m",
      "\u001b[0;32m~/miniconda3/envs/pyHEP/lib/python3.8/site-packages/awkward1/operations/structure.py\u001b[0m in \u001b[0;36mflatten\u001b[0;34m(array, axis, highlevel)\u001b[0m\n\u001b[1;32m   1305\u001b[0m \u001b[0;34m\u001b[0m\u001b[0m\n\u001b[1;32m   1306\u001b[0m     \u001b[0;32melse\u001b[0m\u001b[0;34m:\u001b[0m\u001b[0;34m\u001b[0m\u001b[0;34m\u001b[0m\u001b[0m\n\u001b[0;32m-> 1307\u001b[0;31m         \u001b[0mout\u001b[0m \u001b[0;34m=\u001b[0m \u001b[0mlayout\u001b[0m\u001b[0;34m.\u001b[0m\u001b[0mflatten\u001b[0m\u001b[0;34m(\u001b[0m\u001b[0maxis\u001b[0m\u001b[0;34m)\u001b[0m\u001b[0;34m\u001b[0m\u001b[0;34m\u001b[0m\u001b[0m\n\u001b[0m\u001b[1;32m   1308\u001b[0m \u001b[0;34m\u001b[0m\u001b[0m\n\u001b[1;32m   1309\u001b[0m     \u001b[0;32mif\u001b[0m \u001b[0mhighlevel\u001b[0m\u001b[0;34m:\u001b[0m\u001b[0;34m\u001b[0m\u001b[0;34m\u001b[0m\u001b[0m\n",
      "\u001b[0;31mValueError\u001b[0m: axis out of range for flatten\n\n(https://github.com/scikit-hep/awkward-1.0/blob/0.4.4/src/libawkward/array/NumpyArray.cpp#L1431)"
     ]
    }
   ],
   "source": [
    "ak.flatten(Meeg_mask)"
   ]
  },
  {
   "cell_type": "code",
   "execution_count": 102,
   "metadata": {},
   "outputs": [
    {
     "data": {
      "text/plain": [
       "<Array [[159], [34.3], ... [26.5], [31.1]] type='38 * var * float32[parameters={...'>"
      ]
     },
     "execution_count": 102,
     "metadata": {},
     "output_type": "execute_result"
    }
   ],
   "source": [
    "Triple_eee.lep1.pt"
   ]
  },
  {
   "cell_type": "code",
   "execution_count": 114,
   "metadata": {},
   "outputs": [],
   "source": [
    "xxx =Photon_sel[Photon_sel.isScEtaEB]"
   ]
  },
  {
   "cell_type": "code",
   "execution_count": 119,
   "metadata": {},
   "outputs": [],
   "source": [
    "xxxx =xxx[xxx.pt > 200]"
   ]
  },
  {
   "cell_type": "code",
   "execution_count": 126,
   "metadata": {},
   "outputs": [
    {
     "data": {
      "text/plain": [
       "2"
      ]
     },
     "execution_count": 126,
     "metadata": {},
     "output_type": "execute_result"
    }
   ],
   "source": [
    "len(xxx[0])"
   ]
  },
  {
   "cell_type": "code",
   "execution_count": 117,
   "metadata": {},
   "outputs": [
    {
     "name": "stdout",
     "output_type": "stream",
     "text": [
      "[136, 63.3]\n",
      "[141, 74.7]\n",
      "[62.9]\n",
      "[127, 48.3]\n",
      "[144]\n",
      "[25.8]\n",
      "[138, 32.9]\n",
      "[134, 77.7]\n",
      "[136, 80.5]\n",
      "[]\n",
      "[132, 43.4]\n",
      "[138, 47.4]\n",
      "[136, 73.6]\n"
     ]
    }
   ],
   "source": [
    "for i in xxx.pt:\n",
    "    print(i)"
   ]
  },
  {
   "cell_type": "code",
   "execution_count": 127,
   "metadata": {},
   "outputs": [],
   "source": [
    "x = [1,2,3]"
   ]
  },
  {
   "cell_type": "code",
   "execution_count": 129,
   "metadata": {},
   "outputs": [
    {
     "ename": "TypeError",
     "evalue": "object of type 'int' has no len()",
     "output_type": "error",
     "traceback": [
      "\u001b[0;31m---------------------------------------------------------------------------\u001b[0m",
      "\u001b[0;31mTypeError\u001b[0m                                 Traceback (most recent call last)",
      "\u001b[0;32m<ipython-input-129-83eff6968b0c>\u001b[0m in \u001b[0;36m<module>\u001b[0;34m\u001b[0m\n\u001b[0;32m----> 1\u001b[0;31m \u001b[0mprint\u001b[0m\u001b[0;34m(\u001b[0m\u001b[0mlen\u001b[0m\u001b[0;34m(\u001b[0m\u001b[0mx\u001b[0m\u001b[0;34m[\u001b[0m\u001b[0;36m0\u001b[0m\u001b[0;34m]\u001b[0m\u001b[0;34m)\u001b[0m\u001b[0;34m)\u001b[0m\u001b[0;34m\u001b[0m\u001b[0;34m\u001b[0m\u001b[0m\n\u001b[0m",
      "\u001b[0;31mTypeError\u001b[0m: object of type 'int' has no len()"
     ]
    }
   ],
   "source": [
    "print(len(x[0]))"
   ]
  },
  {
   "cell_type": "code",
   "execution_count": null,
   "metadata": {},
   "outputs": [],
   "source": []
  }
 ],
 "metadata": {
  "kernelspec": {
   "display_name": "Python 3",
   "language": "python",
   "name": "python3"
  },
  "language_info": {
   "codemirror_mode": {
    "name": "ipython",
    "version": 3
   },
   "file_extension": ".py",
   "mimetype": "text/x-python",
   "name": "python",
   "nbconvert_exporter": "python",
   "pygments_lexer": "ipython3",
   "version": "3.8.5"
  }
 },
 "nbformat": 4,
 "nbformat_minor": 4
}
