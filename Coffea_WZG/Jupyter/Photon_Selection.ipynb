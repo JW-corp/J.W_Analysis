{
 "cells": [
  {
   "cell_type": "markdown",
   "metadata": {},
   "source": [
    "# Photon Cut-based Fall17V2 ID variable study"
   ]
  },
  {
   "cell_type": "code",
   "execution_count": 1,
   "metadata": {},
   "outputs": [],
   "source": [
    "import awkward1 as ak\n",
    "from coffea.nanoevents import NanoEventsFactory, NanoAODSchema\n",
    "import numpy as np"
   ]
  },
  {
   "cell_type": "code",
   "execution_count": 2,
   "metadata": {},
   "outputs": [],
   "source": [
    "import matplotlib.pyplot as plt"
   ]
  },
  {
   "cell_type": "code",
   "execution_count": 3,
   "metadata": {},
   "outputs": [],
   "source": [
    " def flat_dim(arr):\n",
    "        sub_arr = ak.flatten(arr)\n",
    "        mask = ~ak.is_none(sub_arr)\n",
    "        return ak.to_numpy(sub_arr[mask])"
   ]
  },
  {
   "cell_type": "code",
   "execution_count": 6,
   "metadata": {},
   "outputs": [],
   "source": [
    "infile='data/data/7B56E217-555E-1C41-9494-491849A9835F_skim_2ElIdPt20.root'"
   ]
  },
  {
   "cell_type": "code",
   "execution_count": 7,
   "metadata": {},
   "outputs": [],
   "source": [
    "events = NanoEventsFactory.from_root(infile, schemaclass=NanoAODSchema).events()"
   ]
  },
  {
   "cell_type": "code",
   "execution_count": 8,
   "metadata": {},
   "outputs": [],
   "source": [
    "Electron = events.Electron\n",
    "Photon   = events.Photon"
   ]
  },
  {
   "cell_type": "markdown",
   "metadata": {},
   "source": [
    "### Cut based ID Fall17V2   \n",
    "  - Link:https://twiki.cern.ch/twiki/bin/view/CMS/CutBasedPhotonIdentificationRun2"
   ]
  },
  {
   "cell_type": "code",
   "execution_count": 9,
   "metadata": {},
   "outputs": [
    {
     "data": {
      "text/plain": [
       "Text(0.5, 1.0, 'VutBased ID Fall17V2')"
      ]
     },
     "execution_count": 9,
     "metadata": {},
     "output_type": "execute_result"
    },
    {
     "data": {
      "image/png": "[encoded data removed]",
      "text/plain": [
       "<Figure size 432x288 with 1 Axes>"
      ]
     },
     "metadata": {
      "needs_background": "light"
     },
     "output_type": "display_data"
    }
   ],
   "source": [
    "plt.hist(flat_dim(Photon.cutBased),bins=4)\n",
    "plt.title('VutBased ID Fall17V2')"
   ]
  },
  {
   "cell_type": "code",
   "execution_count": 20,
   "metadata": {},
   "outputs": [],
   "source": [
    "def Particle_selection(ele,pho):\n",
    "    # Electron selection\n",
    "    EleSelmask = (ele.pt > 25) & (np.abs(ele.eta) < 2.5) & (ele.cutBased > 2)\n",
    "\n",
    "    # Photon selection\n",
    "    # 0 Fail 1 Loose 2 Medium 3 Tight\n",
    "    # -- HoE cut is added manually\n",
    "    #PhoSelmaskEE = (pho.pt > 25) & (pho.cutBased > 1) &  pho.isScEtaEE & (pho.hoe < 0.0326)\n",
    "    #PhoSelmaskEB = (pho.pt > 25) & (pho.cutBased > 1) &  pho.isScEtaEB & (pho.hoe < 0.02197)\n",
    "    #PhoSelmask = PhoSelmaskEE | PhoSelmaskEB\n",
    "    \n",
    "    # -- Original Photon selection\n",
    "    Pixel_seed_veto = ~pho.pixelSeed\n",
    "    PhoSelmask = (pho.pt > 25) & (pho.cutBased > 1) & Pixel_seed_veto\n",
    "    #PhoSelmask = (pho.pt > 25) & (pho.cutBased > 1)\n",
    "    #Pixel_seed_veto = ~pho.pixelSeed\n",
    "    return EleSelmask,PhoSelmask,"
   ]
  },
  {
   "cell_type": "code",
   "execution_count": 21,
   "metadata": {},
   "outputs": [],
   "source": [
    "# Event Selection\n",
    "Electron_mask, Photon_mask  = Particle_selection(Electron,Photon)\n",
    "Ele_channel_mask = ak.num(Electron[Electron_mask]) > 1\n",
    "Pho_channel_mask = ak.num(Photon[Photon_mask]) > 0"
   ]
  },
  {
   "cell_type": "code",
   "execution_count": 22,
   "metadata": {},
   "outputs": [],
   "source": [
    "Ele_channel_events = events[Ele_channel_mask & Pho_channel_mask]"
   ]
  },
  {
   "cell_type": "code",
   "execution_count": 24,
   "metadata": {},
   "outputs": [
    {
     "name": "stdout",
     "output_type": "stream",
     "text": [
      "0.013649082099228826\n"
     ]
    }
   ],
   "source": [
    "print(len(Ele_channel_events) / len(events))"
   ]
  },
  {
   "cell_type": "code",
   "execution_count": 25,
   "metadata": {},
   "outputs": [
    {
     "data": {
      "text/plain": [
       "0.016666666666666666"
      ]
     },
     "execution_count": 25,
     "metadata": {},
     "output_type": "execute_result"
    }
   ],
   "source": [
    "0.01 / 0."
   ]
  },
  {
   "cell_type": "code",
   "execution_count": 14,
   "metadata": {},
   "outputs": [],
   "source": [
    "Ele = Ele_channel_events.Electron\n",
    "Pho = Ele_channel_events.Photon"
   ]
  },
  {
   "cell_type": "code",
   "execution_count": 15,
   "metadata": {},
   "outputs": [],
   "source": [
    "Electron_mask,Photon_mask = Particle_selection(Ele,Pho)\n",
    "Ele_sel = Ele[Electron_mask]\n",
    "Pho_sel = Pho[Photon_mask]\n",
    "\n",
    "# Helper function: High PT argmax\n",
    "def make_leading_pair(target,base):\n",
    "\n",
    "    return target[ak.argmax(base.pt,axis=1,keepdims=True)]\n",
    "\n",
    "leading_pho = make_leading_pair(Pho_sel,Pho_sel)"
   ]
  },
  {
   "cell_type": "code",
   "execution_count": 16,
   "metadata": {},
   "outputs": [
    {
     "name": "stdout",
     "output_type": "stream",
     "text": [
      "65.79158316633267\n"
     ]
    }
   ],
   "source": [
    "print( len(leading_pho) / len(events) * 100 )"
   ]
  },
  {
   "cell_type": "code",
   "execution_count": 17,
   "metadata": {},
   "outputs": [],
   "source": [
    "# Photon\n",
    "isEE_mask = leading_pho.isScEtaEE\n",
    "isEB_mask = leading_pho.isScEtaEB"
   ]
  },
  {
   "cell_type": "code",
   "execution_count": 18,
   "metadata": {},
   "outputs": [],
   "source": [
    "## EndCap Photon\n",
    "EE_Pho = leading_pho[isEE_mask]\n",
    "\n",
    "## Barrel Photon\n",
    "EB_Pho = leading_pho[isEB_mask]"
   ]
  },
  {
   "cell_type": "markdown",
   "metadata": {},
   "source": [
    "### HoverE (Not matched)  \n",
    " - EB: 0.02197\n",
    " - EE: 0.0326 "
   ]
  },
  {
   "cell_type": "code",
   "execution_count": 19,
   "metadata": {},
   "outputs": [
    {
     "name": "stdout",
     "output_type": "stream",
     "text": [
      "EE max:0.13037109375 min:0.0\n",
      "EB max:0.106689453125 min:0.0\n"
     ]
    }
   ],
   "source": [
    "print(\"EE max:{0} min:{1}\".format(ak.max(flat_dim(EE_Pho.hoe)),ak.min(flat_dim(EE_Pho.hoe))))\n",
    "print(\"EB max:{0} min:{1}\".format(ak.max(flat_dim(EB_Pho.hoe)),ak.min(flat_dim(EB_Pho.hoe))))"
   ]
  },
  {
   "cell_type": "code",
   "execution_count": 20,
   "metadata": {},
   "outputs": [
    {
     "data": {
      "text/plain": [
       "Text(0.5, 1.0, 'EB HoverE')"
      ]
     },
     "execution_count": 20,
     "metadata": {},
     "output_type": "execute_result"
    },
    {
     "data": {
      "image/png": "[encoded data removed]",
      "text/plain": [
       "<Figure size 720x360 with 2 Axes>"
      ]
     },
     "metadata": {
      "needs_background": "light"
     },
     "output_type": "display_data"
    }
   ],
   "source": [
    "fig,axs = plt.subplots(1,2,figsize=(10,5))\n",
    "axs[0].hist(flat_dim(EE_Pho.hoe),bins=50,color='royalblue',histtype='step',label='Endcap')\n",
    "axs[0].set_yscale('log')\n",
    "axs[0].legend()\n",
    "axs[0].set_title('EE HoverE')\n",
    "\n",
    "axs[1].hist(flat_dim(EB_Pho.hoe),bins=50,color='darkorange',histtype='step',label='Barrel')\n",
    "axs[1].set_yscale('log')\n",
    "axs[1].legend()\n",
    "axs[1].set_title('EB HoverE')"
   ]
  },
  {
   "cell_type": "markdown",
   "metadata": {},
   "source": [
    "### sigma ietaieta  \n",
    " - EB: 0.01015\n",
    " - EE: 0.0272"
   ]
  },
  {
   "cell_type": "code",
   "execution_count": 21,
   "metadata": {},
   "outputs": [
    {
     "name": "stdout",
     "output_type": "stream",
     "text": [
      "EE max:0.027191162109375 min:0.01702880859375\n",
      "EB max:0.01013946533203125 min:0.0024929046630859375\n"
     ]
    }
   ],
   "source": [
    "print(\"EE max:{0} min:{1}\".format(ak.max(flat_dim(EE_Pho.sieie)),ak.min(flat_dim(EE_Pho.sieie))))\n",
    "print(\"EB max:{0} min:{1}\".format(ak.max(flat_dim(EB_Pho.sieie)),ak.min(flat_dim(EB_Pho.sieie))))"
   ]
  },
  {
   "cell_type": "code",
   "execution_count": 22,
   "metadata": {},
   "outputs": [
    {
     "data": {
      "text/plain": [
       "Text(0.5, 1.0, 'EE sieie')"
      ]
     },
     "execution_count": 22,
     "metadata": {},
     "output_type": "execute_result"
    },
    {
     "data": {
      "image/png": "[encoded data removed]",
      "text/plain": [
       "<Figure size 720x360 with 2 Axes>"
      ]
     },
     "metadata": {
      "needs_background": "light"
     },
     "output_type": "display_data"
    }
   ],
   "source": [
    "fig,axs = plt.subplots(1,2,figsize=(10,5))\n",
    "axs[0].hist(flat_dim(EE_Pho.sieie),bins=50,color='royalblue',histtype='step',label='Endcap')\n",
    "axs[0].set_yscale('log')\n",
    "axs[0].legend()\n",
    "axs[0].set_title('EE sieie')\n",
    "axs[0].set_xlim(0,0.03)\n",
    "\n",
    "axs[1].hist(flat_dim(EB_Pho.sieie),bins=50,color='darkorange',histtype='step',label='Barrel')\n",
    "axs[1].set_yscale('log')\n",
    "axs[1].legend()\n",
    "axs[1].set_title('EE sieie')"
   ]
  },
  {
   "cell_type": "markdown",
   "metadata": {},
   "source": [
    "### Charged hadron isolation  \n",
    " - EB: 1.141\n",
    " - EE: 1.051"
   ]
  },
  {
   "cell_type": "code",
   "execution_count": 23,
   "metadata": {},
   "outputs": [
    {
     "name": "stdout",
     "output_type": "stream",
     "text": [
      "EE max:0.033859360963106155 min:0.0\n",
      "EB max:0.04000825807452202 min:0.0\n"
     ]
    }
   ],
   "source": [
    "print(\"EE max:{0} min:{1}\".format(ak.max(flat_dim(EE_Pho.pfRelIso03_chg)),ak.min(flat_dim(EE_Pho.pfRelIso03_chg))))\n",
    "print(\"EB max:{0} min:{1}\".format(ak.max(flat_dim(EB_Pho.pfRelIso03_chg)),ak.min(flat_dim(EB_Pho.pfRelIso03_chg))))"
   ]
  },
  {
   "cell_type": "code",
   "execution_count": 24,
   "metadata": {},
   "outputs": [
    {
     "data": {
      "text/plain": [
       "Text(0.5, 1.0, 'EE Charged hadron iso')"
      ]
     },
     "execution_count": 24,
     "metadata": {},
     "output_type": "execute_result"
    },
    {
     "data": {
      "image/png": "[encoded data removed]",
      "text/plain": [
       "<Figure size 720x360 with 2 Axes>"
      ]
     },
     "metadata": {
      "needs_background": "light"
     },
     "output_type": "display_data"
    }
   ],
   "source": [
    "fig,axs = plt.subplots(1,2,figsize=(10,5))\n",
    "axs[0].hist(flat_dim(EE_Pho.pfRelIso03_chg),bins=50,color='royalblue',histtype='step',label='Endcap')\n",
    "axs[0].set_yscale('log')\n",
    "axs[0].legend()\n",
    "axs[0].set_title('EE Charged hadron iso')\n",
    "#axs[0].set_xlim(0,0.1)\n",
    "\n",
    "axs[1].hist(flat_dim(EB_Pho.pfRelIso03_chg),bins=50,color='darkorange',histtype='step',label='Barrel')\n",
    "axs[1].set_yscale('log')\n",
    "axs[1].legend()\n",
    "axs[1].set_title('EE Charged hadron iso')"
   ]
  },
  {
   "cell_type": "code",
   "execution_count": 81,
   "metadata": {},
   "outputs": [
    {
     "name": "stdout",
     "output_type": "stream",
     "text": [
      "0 [0, 1]\n",
      "1 [1, 0]\n",
      "2 [0, 1]\n",
      "3 [0, 1]\n",
      "4 [0]\n"
     ]
    }
   ],
   "source": [
    "for evt,idx in enumerate(Pho_sel.electronIdx[:5]):\n",
    "    print(evt,idx)"
   ]
  },
  {
   "cell_type": "code",
   "execution_count": 83,
   "metadata": {},
   "outputs": [
    {
     "name": "stdout",
     "output_type": "stream",
     "text": [
      "0 [45.2, 32.7]\n",
      "1 [50.3, 49.3]\n",
      "2 [39.7, 34.9]\n",
      "3 [46.7, 39.4]\n",
      "4 [41]\n"
     ]
    }
   ],
   "source": [
    "for evt,pts in enumerate(Pho_sel.pt[:5]):\n",
    "    print(evt,pts)"
   ]
  },
  {
   "cell_type": "code",
   "execution_count": 139,
   "metadata": {},
   "outputs": [],
   "source": [
    "import math\n",
    "def dR(ele,pho):\n",
    "    deta = abs(ele.eta - pho.eta)\n",
    "    if abs(ele.phi - pho.phi) > math.pi:\n",
    "        dphi = 2*math.pi - abs(ele.phi - pho.phi)\n",
    "    else:\n",
    "        dphi = abs(ele.phi - pho.phi)\n",
    "    return np.sqrt(deta*deta + dphi*dphi)"
   ]
  },
  {
   "cell_type": "code",
   "execution_count": 143,
   "metadata": {},
   "outputs": [],
   "source": [
    "arr_dR=[]\n",
    "for evt,idx_evt in enumerate(Pho_sel.electronIdx):\n",
    " \n",
    "    if len(idx_evt) == 1:\n",
    "        if not idx_evt[0] == -1:\n",
    "            arr_dR.append(dR(Ele[evt][idx_evt[0]],Pho_sel[evt][0]))\n",
    "\n",
    "    if len(idx_evt) == 2:\n",
    "        if not idx_evt[0] == -1:\n",
    "            arr_dR.append(dR(Ele[evt][idx_evt[0]],Pho_sel[evt][0]))\n",
    "        if not idx_evt[1] == -1:\n",
    "            arr_dR.append(dR(Ele[evt][idx_evt[1]],Pho_sel[evt][1]))"
   ]
  },
  {
   "cell_type": "code",
   "execution_count": 144,
   "metadata": {},
   "outputs": [],
   "source": [
    "import matplotlib.pyplot as plt"
   ]
  },
  {
   "cell_type": "code",
   "execution_count": 146,
   "metadata": {},
   "outputs": [
    {
     "data": {
      "text/plain": [
       "(array([5.700e+01, 1.080e+02, 2.010e+02, 2.550e+02, 3.370e+02, 4.810e+02,\n",
       "        5.920e+02, 6.750e+02, 8.420e+02, 1.144e+03, 1.171e+03, 1.137e+03,\n",
       "        9.950e+02, 8.420e+02, 6.450e+02, 4.830e+02, 3.560e+02, 2.850e+02,\n",
       "        2.080e+02, 1.610e+02, 9.100e+01, 6.600e+01, 3.400e+01, 4.200e+01,\n",
       "        2.300e+01, 1.400e+01, 1.800e+01, 7.000e+00, 9.000e+00, 7.000e+00,\n",
       "        4.000e+00, 8.000e+00, 4.000e+00, 4.000e+00, 3.000e+00, 2.000e+00,\n",
       "        0.000e+00, 2.000e+00, 2.000e+00, 1.000e+00, 1.000e+00, 0.000e+00,\n",
       "        0.000e+00, 0.000e+00, 1.000e+00, 0.000e+00, 0.000e+00, 0.000e+00,\n",
       "        0.000e+00, 1.000e+00]),\n",
       " array([0.00048828, 0.00205689, 0.0036255 , 0.00519411, 0.00676273,\n",
       "        0.00833134, 0.00989995, 0.01146856, 0.01303717, 0.01460578,\n",
       "        0.01617439, 0.017743  , 0.01931161, 0.02088023, 0.02244884,\n",
       "        0.02401745, 0.02558606, 0.02715467, 0.02872328, 0.03029189,\n",
       "        0.0318605 , 0.03342911, 0.03499772, 0.03656634, 0.03813495,\n",
       "        0.03970356, 0.04127217, 0.04284078, 0.04440939, 0.045978  ,\n",
       "        0.04754661, 0.04911522, 0.05068384, 0.05225245, 0.05382106,\n",
       "        0.05538967, 0.05695828, 0.05852689, 0.0600955 , 0.06166411,\n",
       "        0.06323272, 0.06480134, 0.06636995, 0.06793856, 0.06950717,\n",
       "        0.07107578, 0.07264439, 0.074213  , 0.07578161, 0.07735022,\n",
       "        0.07891883]),\n",
       " <BarContainer object of 50 artists>)"
      ]
     },
     "execution_count": 146,
     "metadata": {},
     "output_type": "execute_result"
    },
    {
     "data": {
      "image/png": "[encoded data removed]",
      "text/plain": [
       "<Figure size 432x288 with 1 Axes>"
      ]
     },
     "metadata": {
      "needs_background": "light"
     },
     "output_type": "display_data"
    }
   ],
   "source": [
    "plt.hist(arr_dR,bins=50)"
   ]
  },
  {
   "cell_type": "code",
   "execution_count": null,
   "metadata": {},
   "outputs": [],
   "source": []
  }
 ],
 "metadata": {
  "kernelspec": {
   "display_name": "Python 3",
   "language": "python",
   "name": "python3"
  },
  "language_info": {
   "codemirror_mode": {
    "name": "ipython",
    "version": 3
   },
   "file_extension": ".py",
   "mimetype": "text/x-python",
   "name": "python",
   "nbconvert_exporter": "python",
   "pygments_lexer": "ipython3",
   "version": "3.8.5"
  }
 },
 "nbformat": 4,
 "nbformat_minor": 4
}
