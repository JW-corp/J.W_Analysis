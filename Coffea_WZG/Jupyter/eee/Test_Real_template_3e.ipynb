{
 "cells": [
  {
   "cell_type": "code",
   "execution_count": 1,
   "metadata": {},
   "outputs": [],
   "source": [
    "import awkward as ak\n",
    "from coffea.nanoevents import NanoEventsFactory, NanoAODSchema\n",
    "import numpy as np\n",
    "from tqdm import tqdm,trange\n",
    "import matplotlib.pyplot as plt\n",
    "import numba\n",
    "import coffea.hist as hist"
   ]
  },
  {
   "cell_type": "code",
   "execution_count": 2,
   "metadata": {},
   "outputs": [],
   "source": [
    "infile = \"data/signal/wza_UL18_sum.root\"\n",
    "year='2018'"
   ]
  },
  {
   "cell_type": "code",
   "execution_count": 3,
   "metadata": {},
   "outputs": [],
   "source": [
    "events = NanoEventsFactory.from_root(infile, schemaclass=NanoAODSchema).events()"
   ]
  },
  {
   "cell_type": "code",
   "execution_count": 4,
   "metadata": {},
   "outputs": [
    {
     "data": {
      "text/plain": [
       "<Array [40, 32, 25, 28, 29, ... 34, 54, 20, 38] type='128000 * float32[parameter...'>"
      ]
     },
     "execution_count": 4,
     "metadata": {},
     "output_type": "execute_result"
    }
   ],
   "source": [
    "events.Pileup.nTrueInt"
   ]
  },
  {
   "cell_type": "code",
   "execution_count": 9,
   "metadata": {},
   "outputs": [
    {
     "data": {
      "image/png": "[encoded data removed]",
      "text/plain": [
       "<Figure size 432x288 with 1 Axes>"
      ]
     },
     "metadata": {
      "needs_background": "light"
     },
     "output_type": "display_data"
    }
   ],
   "source": [
    "plt.hist(events.Pileup.nTrueInt,bins=1000)\n",
    "plt.show()"
   ]
  },
  {
   "cell_type": "code",
   "execution_count": 4,
   "metadata": {},
   "outputs": [],
   "source": [
    "# Trigger set\n",
    "doubleelectron_triggers  ={\n",
    "    '2018': [\n",
    "            \"Ele23_Ele12_CaloIdL_TrackIdL_IsoVL\", # Recomended\n",
    "            ]\n",
    "}\n",
    "\n",
    "\n",
    "\n",
    "singleelectron_triggers = { #2017 and 2018 from monojet, applying dedicated trigger weights\n",
    "        '2016': [\n",
    "            'Ele27_WPTight_Gsf',\n",
    "            'Ele105_CaloIdVT_GsfTrkIdT'\n",
    "        ],\n",
    "        '2017': [\n",
    "            'Ele35_WPTight_Gsf',\n",
    "            'Ele115_CaloIdVT_GsfTrkIdT',\n",
    "            'Photon200'\n",
    "        ],\n",
    "        '2018': [\n",
    "            'Ele32_WPTight_Gsf',    # Recomended\n",
    "        ]\n",
    "    }"
   ]
  },
  {
   "cell_type": "code",
   "execution_count": 5,
   "metadata": {},
   "outputs": [],
   "source": [
    "from coffea.nanoevents.methods import vector\n",
    "ak.behavior.update(vector.behavior)\n",
    "\n",
    "def TLorentz_vector(vec):\n",
    "    vec = ak.zip(\n",
    "    {\n",
    "                \"x\":vec.x,\n",
    "                \"y\":vec.y,\n",
    "                \"z\":vec.z,\n",
    "                \"t\":vec.t\n",
    "    },\n",
    "    with_name = \"LorentzVector\"\n",
    "    )\n",
    "    return vec\n",
    "\n",
    "def TLorentz_vector_cylinder(vec):\n",
    "\n",
    "    vec = ak.zip(\n",
    "    {\n",
    "         \"pt\": vec.pt,\n",
    "         \"eta\": vec.eta,\n",
    "         \"phi\": vec.phi,\n",
    "         \"mass\": vec.mass,\n",
    "    },\n",
    "    with_name=\"PtEtaPhiMLorentzVector\",\n",
    "    )\n",
    "\n",
    "    return vec\n",
    "\n",
    "\n",
    "# << Sort by PT  helper function >>\n",
    "def sort_by_pt(ele,pho,jet):\n",
    "    ele = ele[ak.argsort(ele.pt,ascending=False,axis=1)]\n",
    "    pho = pho[ak.argsort(pho.pt,ascending=False,axis=1)]\n",
    "    jet = jet[ak.argsort(jet.pt,ascending=False,axis=1)]\n",
    "\n",
    "    return ele,pho,jet"
   ]
  },
  {
   "cell_type": "code",
   "execution_count": 6,
   "metadata": {},
   "outputs": [],
   "source": [
    "@numba.njit ## Numba compile -- Boost!\n",
    "def PhotonVID(vid, idBit):\n",
    "    rBit = 0\n",
    "    for x in range(0, 7):\n",
    "        rBit |= (1 << x) if ((vid >> (x * 2)) & 0b11 >= idBit) else 0\n",
    "    return rBit\n",
    "\n",
    "\n",
    "@numba.njit ## Numba compile -- Boost!\n",
    "def make_fake_obj_mask(Pho,builder):\n",
    "\n",
    "    #for eventIdx,pho in enumerate(tqdm(Pho)):   # --Event Loop\n",
    "    for eventIdx,pho in enumerate(Pho):\n",
    "        builder.begin_list()\n",
    "        if len(pho) < 1: continue;\n",
    "    \n",
    "            \n",
    "        for phoIdx,_ in enumerate(pho):# --Photon Loop\n",
    "        \n",
    "            vid = Pho[eventIdx][phoIdx].vidNestedWPBitmap\n",
    "            vid_cuts1 = PhotonVID(vid,1) # Loose photon\n",
    "            vid_cuts2 = PhotonVID(vid,2) # Medium photon\n",
    "            vid_cuts3 = PhotonVID(vid,3) # Tight photon\n",
    "\n",
    "            # Field name\n",
    "            # |0|0|0|0|0|0|0| \n",
    "            # |IsoPho|IsoNeu|IsoChg|Sieie|hoe|scEta|PT|\n",
    "\n",
    "            # 1. Turn off cut (ex turn off Sieie\n",
    "            # |1|1|1|0|1|1|1| = |1|1|1|0|1|1|1|\n",
    "\n",
    "            # 2. Inverse cut (ex inverse Sieie)\n",
    "            # |1|1|1|1|1|1|1| = |1|1|1|0|1|1|1|\n",
    "\n",
    "            \n",
    "                \n",
    "            #if (vid_cuts2 & 0b1111111 == 0b1111111): # Cut applied\n",
    "            #if (vid_cuts2 & 0b1111111 == 0b1110111): # Inverse Sieie\n",
    "            if (vid_cuts2 & 0b1100111 == 0b1100111): # Without Sieie & IsoChg\n",
    "                builder.boolean(True)\n",
    "            else:\n",
    "                builder.boolean(False)\n",
    "\n",
    "        builder.end_list()\n",
    "                \n",
    "    return builder\n",
    "\n",
    "# - Sieie-> EB: 0.01015 EE: 0.0272 "
   ]
  },
  {
   "cell_type": "code",
   "execution_count": 7,
   "metadata": {},
   "outputs": [],
   "source": [
    "# double lepton trigger\n",
    "is_double_ele_trigger=True\n",
    "if not is_double_ele_trigger:\n",
    "    double_ele_triggers_arr=np.ones(len(events), dtype=np.bool)\n",
    "else:\n",
    "    double_ele_triggers_arr = np.zeros(len(events), dtype=np.bool)\n",
    "    for path in doubleelectron_triggers[year]:\n",
    "        if path not in events.HLT.fields: continue\n",
    "        double_ele_triggers_arr = double_ele_triggers_arr | events.HLT[path]\n",
    "\n",
    "\n",
    "# single lepton trigger\n",
    "is_single_ele_trigger=True\n",
    "if not is_single_ele_trigger:\n",
    "    single_ele_triggers_arr=np.ones(len(events), dtype=np.bool)\n",
    "else:\n",
    "    single_ele_triggers_arr = np.zeros(len(events), dtype=np.bool)\n",
    "    for path in singleelectron_triggers[year]:\n",
    "        if path not in events.HLT.fields: continue\n",
    "        single_ele_triggers_arr = single_ele_triggers_arr | events.HLT[path]\n",
    "\n",
    "# Sort particle order by PT  # RunD --> has problem\n",
    "events.Electron,events.Photon,events.Jet = sort_by_pt(events.Electron,events.Photon,events.Jet)\n",
    "\n",
    "Initial_events = events\n",
    "#events = events[single_ele_triggers_arr | double_ele_triggers_arr]\n",
    "events = events[double_ele_triggers_arr]\n",
    "\n",
    "cut1 = np.ones(len(events))\n",
    "# Particle Identification\n",
    "Electron = events.Electron\n",
    "Muon = events.Muon\n",
    "Photon = events.Photon\n",
    "Jet = events.Jet\n",
    "MET = events.MET"
   ]
  },
  {
   "cell_type": "code",
   "execution_count": 8,
   "metadata": {},
   "outputs": [
    {
     "name": "stdout",
     "output_type": "stream",
     "text": [
      "#### 0. Trigger: 128000 -> 22276\n"
     ]
    }
   ],
   "source": [
    "print(\"#### 0. Trigger: {0} -> {1}\".format(len(Initial_events), len(events)))"
   ]
  },
  {
   "cell_type": "markdown",
   "metadata": {},
   "source": [
    "### -  Gen_Photon for dR"
   ]
  },
  {
   "cell_type": "code",
   "execution_count": 9,
   "metadata": {},
   "outputs": [],
   "source": [
    "genparts = events.GenPart"
   ]
  },
  {
   "cell_type": "code",
   "execution_count": 10,
   "metadata": {},
   "outputs": [],
   "source": [
    "pdgID_mask = (genparts.pdgId == 22)"
   ]
  },
  {
   "cell_type": "code",
   "execution_count": 11,
   "metadata": {},
   "outputs": [],
   "source": [
    "# mask2: isPrompt | fromHardProcess | isLastCopy\n",
    "# isLastCopy: Final passing photon \n",
    "mask2 = (1 << 0) | (1 << 8) | (1 << 13)\n",
    "\n",
    "# https://github.com/PKUHEPEWK/WGamma/blob/master/2018/wgRealPhotonTemplateModule.py\n",
    "\n",
    "status_mask = ((genparts.statusFlags & mask2) == mask2 )"
   ]
  },
  {
   "cell_type": "code",
   "execution_count": 12,
   "metadata": {},
   "outputs": [],
   "source": [
    "gen_photons  = genparts[pdgID_mask & status_mask]"
   ]
  },
  {
   "cell_type": "code",
   "execution_count": 13,
   "metadata": {},
   "outputs": [],
   "source": [
    "assert( ak.all(ak.num(gen_photons) == 1))"
   ]
  },
  {
   "cell_type": "code",
   "execution_count": 14,
   "metadata": {},
   "outputs": [
    {
     "data": {
      "text/plain": [
       "22276"
      ]
     },
     "execution_count": 14,
     "metadata": {},
     "output_type": "execute_result"
    }
   ],
   "source": [
    "len(gen_photons)"
   ]
  },
  {
   "cell_type": "markdown",
   "metadata": {},
   "source": [
    "### - Muon for dR"
   ]
  },
  {
   "cell_type": "code",
   "execution_count": 15,
   "metadata": {},
   "outputs": [],
   "source": [
    "#  --Muon ( only used to calculate dR )\n",
    "MuSelmask = (Muon.pt >= 10) & (abs(Muon.eta) <= 2.5)  & (Muon.tightId) & (Muon.pfRelIso04_all < 0.15)\n",
    "#Muon = ak.mask(Muon,MuSelmask)\n",
    "Muon = Muon[MuSelmask]"
   ]
  },
  {
   "cell_type": "markdown",
   "metadata": {},
   "source": [
    "### - Loose Muon for Veto"
   ]
  },
  {
   "cell_type": "code",
   "execution_count": 16,
   "metadata": {},
   "outputs": [],
   "source": [
    "#  --Loose Muon ( For Loose Muon veto )\n",
    "LoooseMuSelmask = (\n",
    "    (Muon.pt > 20)\n",
    "    & (abs(Muon.eta) < 2.4)\n",
    "    & (Muon.isPFcand)\n",
    "    & (Muon.isGlobal | Muon.isTracker)\n",
    "    & (Muon.pfRelIso03_all < 0.25)\n",
    ")\n",
    "# Reference: VBS Zgamma+2jets\n",
    "\n",
    "VetoMuon = Muon[LoooseMuSelmask]"
   ]
  },
  {
   "cell_type": "markdown",
   "metadata": {},
   "source": [
    "### 1. Electron Selection"
   ]
  },
  {
   "cell_type": "code",
   "execution_count": 17,
   "metadata": {},
   "outputs": [],
   "source": [
    "##----------- Cut flow2: Electron Selection\n",
    "\n",
    "EleSelmask = ((Electron.pt >= 10) & (np.abs(Electron.eta + Electron.deltaEtaSC) < 1.479)  &  (Electron.cutBased > 2) & (abs(Electron.dxy) < 0.05) & (abs(Electron.dz) < 0.1)) | \\\n",
    "            ((Electron.pt >= 10) & (np.abs(Electron.eta + Electron.deltaEtaSC) > 1.479) & (np.abs(Electron.eta + Electron.deltaEtaSC) <= 2.5) & (Electron.cutBased > 2) & (abs(Electron.dxy) < 0.1) & (abs(Electron.dz) < 0.2))\n",
    "\n",
    "Electron = Electron[EleSelmask]\n",
    "\n",
    "# apply cut 2\n",
    "Tri_electron_mask = ak.num(Electron) == 3\n",
    "Electron = Electron[Tri_electron_mask]\n",
    "Photon = Photon[Tri_electron_mask]\n",
    "Jet = Jet[Tri_electron_mask]\n",
    "MET = MET[Tri_electron_mask]\n",
    "Muon = Muon[Tri_electron_mask]\n",
    "VetoMuon = VetoMuon[Tri_electron_mask]\n",
    "gen_photons = gen_photons[Tri_electron_mask]\n",
    "\n",
    "cut2 = np.ones(len(Photon)) * 2"
   ]
  },
  {
   "cell_type": "code",
   "execution_count": 18,
   "metadata": {},
   "outputs": [
    {
     "name": "stdout",
     "output_type": "stream",
     "text": [
      "2198\n",
      "2198\n"
     ]
    }
   ],
   "source": [
    "print(len(Photon))\n",
    "print(len(gen_photons))"
   ]
  },
  {
   "cell_type": "markdown",
   "metadata": {},
   "source": [
    "## Veto Loose Muon "
   ]
  },
  {
   "cell_type": "code",
   "execution_count": 19,
   "metadata": {},
   "outputs": [
    {
     "name": "stdout",
     "output_type": "stream",
     "text": [
      "2155\n"
     ]
    }
   ],
   "source": [
    "# Veto 4th Loose muon\n",
    "# apply cut 3\n",
    "fourth_lepton_veto = ak.num(VetoMuon) < 1\n",
    "Electron = Electron[fourth_lepton_veto]\n",
    "Photon = Photon[fourth_lepton_veto]\n",
    "Jet = Jet[fourth_lepton_veto]\n",
    "MET = MET[fourth_lepton_veto]\n",
    "Muon = Muon[fourth_lepton_veto]\n",
    "events = events[fourth_lepton_veto]\n",
    "print(len(Electron))"
   ]
  },
  {
   "cell_type": "markdown",
   "metadata": {},
   "source": [
    "## 2. Photon Selection"
   ]
  },
  {
   "cell_type": "code",
   "execution_count": 20,
   "metadata": {},
   "outputs": [
    {
     "name": "stderr",
     "output_type": "stream",
     "text": [
      "/home/jkim/miniconda3/envs/pyHEP/lib/python3.8/site-packages/numba/core/dispatcher.py:238: UserWarning: Numba extension module 'awkward1._connect._numba' failed to load due to 'ImportError(generic_type: type \"kernel_lib\" is already registered!)'.\n",
      "  entrypoints.init_all()\n"
     ]
    }
   ],
   "source": [
    "# Basic photon selection\n",
    "isgap_mask = (abs(Photon.eta) < 1.442)  |  ((abs(Photon.eta) > 1.566) & (abs(Photon.eta) < 2.5))\n",
    "Pixel_seed_mask = ~Photon.pixelSeed\n",
    "PT_mask = Photon.pt >= 20\n",
    "Photon_template_mask = make_fake_obj_mask(Photon, ak.ArrayBuilder()).snapshot()\n",
    "\n",
    "\n",
    "# dR cut with selected Muon and Electrons\n",
    "dr_pho_ele_mask = ak.all(Photon.metric_table(Electron) >= 0.5, axis=-1) # default metric table: delta_r\n",
    "dr_pho_mu_mask = ak.all(Photon.metric_table(Muon) >= 0.5, axis=-1)"
   ]
  },
  {
   "cell_type": "code",
   "execution_count": 21,
   "metadata": {},
   "outputs": [],
   "source": [
    "PhoSelmask = PT_mask  & isgap_mask &  Pixel_seed_mask & dr_pho_ele_mask & dr_pho_mu_mask & Photon_template_mask\n",
    "Photon = Photon[PhoSelmask]"
   ]
  },
  {
   "cell_type": "code",
   "execution_count": 22,
   "metadata": {},
   "outputs": [],
   "source": [
    "# Apply cut 3\n",
    "A_photon_mask = ak.num(Photon)  >=1\n",
    "Electron = Electron[A_photon_mask ]\n",
    "Photon   = Photon[A_photon_mask]\n",
    "Jet = Jet[A_photon_mask]\n",
    "Muon = Muon[A_photon_mask]\n",
    "MET = MET[A_photon_mask]\n",
    "gen_photons = gen_photons[A_photon_mask]"
   ]
  },
  {
   "cell_type": "code",
   "execution_count": 23,
   "metadata": {},
   "outputs": [
    {
     "name": "stdout",
     "output_type": "stream",
     "text": [
      "728\n",
      "728\n"
     ]
    }
   ],
   "source": [
    "print(len(Photon))\n",
    "print(len(gen_photons))"
   ]
  },
  {
   "cell_type": "markdown",
   "metadata": {},
   "source": [
    "## 3. Photon Gen-Reco matching"
   ]
  },
  {
   "cell_type": "code",
   "execution_count": 24,
   "metadata": {},
   "outputs": [],
   "source": [
    "pair = ak.cartesian({\"pho\": Photon, \"gen_pho\": gen_photons}, nested=True)"
   ]
  },
  {
   "cell_type": "code",
   "execution_count": 25,
   "metadata": {},
   "outputs": [],
   "source": [
    "dR_pho_phogen =  pair.pho.delta_r(pair.gen_pho)"
   ]
  },
  {
   "cell_type": "code",
   "execution_count": 28,
   "metadata": {},
   "outputs": [
    {
     "data": {
      "image/png": "[encoded data removed]",
      "text/plain": [
       "<Figure size 432x288 with 1 Axes>"
      ]
     },
     "metadata": {
      "needs_background": "light"
     },
     "output_type": "display_data"
    }
   ],
   "source": [
    "plt.hist(ak.flatten(ak.flatten(dR_pho_phogen)),bins=50)\n",
    "plt.xlim(0,5)\n",
    "plt.xlabel('dR(genPhoton, Photon)')\n",
    "#plt.yscale('log')\n",
    "plt.show()"
   ]
  },
  {
   "cell_type": "code",
   "execution_count": 29,
   "metadata": {},
   "outputs": [],
   "source": [
    "gen_match_photon_mask  = ak.firsts(ak.all(dR_pho_phogen <= 0.1,axis=-1))"
   ]
  },
  {
   "cell_type": "code",
   "execution_count": 30,
   "metadata": {},
   "outputs": [],
   "source": [
    "Photon = Photon[gen_match_photon_mask]"
   ]
  },
  {
   "cell_type": "code",
   "execution_count": 31,
   "metadata": {},
   "outputs": [
    {
     "name": "stdout",
     "output_type": "stream",
     "text": [
      "18\n"
     ]
    }
   ],
   "source": [
    "gen_match_photon_evt_mask = ak.num(Photon) >= 1\n",
    "\n",
    "Electron = Electron[gen_match_photon_evt_mask]\n",
    "Photon   = Photon[gen_match_photon_evt_mask]\n",
    "Jet = Jet[gen_match_photon_evt_mask]\n",
    "MET = MET[gen_match_photon_evt_mask]\n",
    "gen_photons = gen_photons[gen_match_photon_evt_mask]\n",
    "print(len(Photon))"
   ]
  },
  {
   "cell_type": "markdown",
   "metadata": {},
   "source": [
    "### 2. Select OSSF electron pairs"
   ]
  },
  {
   "cell_type": "code",
   "execution_count": 32,
   "metadata": {},
   "outputs": [],
   "source": [
    "##-----------  Cut flow3: Electron Selection --> OSSF \n",
    "# OSSF index maker\n",
    "@numba.njit\n",
    "def find_2lep(events_leptons,builder):\n",
    "    for leptons in events_leptons:\n",
    "\n",
    "        builder.begin_list()\n",
    "        nlep = len(leptons)\n",
    "        for i0 in range(nlep):\n",
    "            for i1 in range(i0+1,nlep):\n",
    "                if leptons[i0].charge + leptons[i1].charge != 0: continue;\n",
    "                \n",
    "                if nlep == 2:\n",
    "                    builder.begin_tuple(2)\n",
    "                    builder.index(0).integer(i0)\n",
    "                    builder.index(1).integer(i1)\n",
    "                    builder.end_tuple()  \n",
    "\n",
    "            \n",
    "                else:\n",
    "                    for i2 in range(nlep):\n",
    "                        if len({i0,i1,i2}) < 3: continue;\n",
    "                        builder.begin_tuple(3)\n",
    "                        builder.index(0).integer(i0)\n",
    "                        builder.index(1).integer(i1)\n",
    "                        builder.index(2).integer(i2)\n",
    "                        builder.end_tuple()\n",
    "        builder.end_list()\n",
    "    return builder"
   ]
  },
  {
   "cell_type": "code",
   "execution_count": 33,
   "metadata": {},
   "outputs": [
    {
     "data": {
      "text/plain": [
       "<Array [[(0, 1, 2), (0, 2, ... ), (1, 2, 0)]] type='18 * var * (int64, int64, in...'>"
      ]
     },
     "execution_count": 33,
     "metadata": {},
     "output_type": "execute_result"
    }
   ],
   "source": [
    "ossf_idx = find_2lep(Electron,ak.ArrayBuilder()).snapshot()\n",
    "ossf_idx"
   ]
  },
  {
   "cell_type": "code",
   "execution_count": 34,
   "metadata": {},
   "outputs": [],
   "source": [
    "# OSSF cut\n",
    "ossf_mask = ak.num(ossf_idx) >= 1\n",
    "ossf_idx = ossf_idx[ossf_mask]\n",
    "\n",
    "Electron= Electron[ossf_mask]\n",
    "Photon= Photon[ossf_mask]\n",
    "Jet= Jet[ossf_mask]\n",
    "MET = MET[ossf_mask]"
   ]
  },
  {
   "cell_type": "code",
   "execution_count": 35,
   "metadata": {},
   "outputs": [
    {
     "name": "stdout",
     "output_type": "stream",
     "text": [
      "#### 2. OSSF 18\n"
     ]
    }
   ],
   "source": [
    "print(\"#### 2. OSSF {0}\".format(len(Photon)))"
   ]
  },
  {
   "cell_type": "code",
   "execution_count": 36,
   "metadata": {},
   "outputs": [],
   "source": [
    "Double_electron = [Electron[ossf_idx[idx]] for idx in \"01\"]\n",
    "\n",
    "Diele    = ak.zip({\"lep1\":Double_electron[0],\n",
    "                   \"lep2\":Double_electron[1],\n",
    "                     \"p4\":TLorentz_vector(Double_electron[0]+Double_electron[1])})\n",
    "bestZ_idx = ak.singletons(ak.argmin(abs(Diele.p4.mass - 91.1876), axis=1))\n",
    "Diele = Diele[bestZ_idx]\n",
    "\n",
    "leading_ele, subleading_ele  = ak.flatten(TLorentz_vector_cylinder(Diele.lep1)),ak.flatten(TLorentz_vector_cylinder(Diele.lep2))"
   ]
  },
  {
   "cell_type": "code",
   "execution_count": 37,
   "metadata": {},
   "outputs": [],
   "source": [
    "def make_bins(pt,eta,sieie,bin_range_str):\n",
    "\n",
    "        bin_dict = {'PT_1_eta_1' : ( pt > 20 ) & ( pt < 30 ) & ( eta < 1) \n",
    "        ,'PT_1_eta_2' : ( pt > 20 ) & ( pt < 30 ) & ( eta > 1) & ( eta < 1.5 )\n",
    "        ,'PT_1_eta_3' : ( pt > 20 ) & ( pt < 30 ) & ( eta > 1.5) & ( eta < 2 )\n",
    "        ,'PT_1_eta_4' : ( pt > 20 ) & ( pt < 30 ) & ( eta > 2) & ( eta < 2.5 )\n",
    "\n",
    "        ,'PT_2_eta_1' : ( pt > 30 ) & ( pt < 40 ) & ( eta < 1) \n",
    "        ,'PT_2_eta_2' : ( pt > 30 ) & ( pt < 40 ) & ( eta > 1) & ( eta < 1.5 )\n",
    "        ,'PT_2_eta_3' : ( pt > 30 ) & ( pt < 40 ) & ( eta > 1.5) & ( eta < 2 )\n",
    "        ,'PT_2_eta_4' : ( pt > 30 ) & ( pt < 40 ) & ( eta > 2) & ( eta < 2.5 )\n",
    "\n",
    "        ,'PT_3_eta_1' : ( pt > 40 ) & ( pt < 50 ) & ( eta < 1) \n",
    "        ,'PT_3_eta_2' : ( pt > 40 ) & ( pt < 50 ) & ( eta > 1) & ( eta < 1.5 )\n",
    "        ,'PT_3_eta_3' : ( pt > 40 ) & ( pt < 50 ) & ( eta > 1.5) & ( eta < 2 )\n",
    "        ,'PT_3_eta_4' : ( pt > 40 ) & ( pt < 50 ) & ( eta > 2) & ( eta < 2.5 )\n",
    "\n",
    "        ,'PT_4_eta_1' :  ( pt > 50 ) & ( eta < 1) \n",
    "        ,'PT_4_eta_2' :  ( pt > 50 ) & ( eta > 1) & ( eta < 1.5 )\n",
    "        ,'PT_4_eta_3' :  ( pt > 50 ) & ( eta > 1.5) & ( eta < 2 )\n",
    "        ,'PT_4_eta_4' :  ( pt > 50 ) & ( eta > 2) & ( eta < 2.5 )\n",
    "        }\n",
    "    \n",
    "        binmask = bin_dict[bin_range_str]\n",
    "        \n",
    "        return ak.to_numpy(sieie[binmask])"
   ]
  },
  {
   "cell_type": "code",
   "execution_count": 38,
   "metadata": {},
   "outputs": [],
   "source": [
    "photon = Photon[:,0]"
   ]
  },
  {
   "cell_type": "code",
   "execution_count": 39,
   "metadata": {},
   "outputs": [],
   "source": [
    "bin_name_list = ['PT_1_eta_1' ,'PT_1_eta_2' ,'PT_1_eta_3' ,'PT_1_eta_4' \n",
    "                 ,'PT_2_eta_1' ,'PT_2_eta_2' ,'PT_2_eta_3' ,'PT_2_eta_4' ,'PT_3_eta_1' ,'PT_3_eta_2' \n",
    "                 ,'PT_3_eta_3' ,'PT_3_eta_4' ,'PT_4_eta_1' ,'PT_4_eta_2' ,'PT_4_eta_3' ,'PT_4_eta_4']"
   ]
  },
  {
   "cell_type": "code",
   "execution_count": 40,
   "metadata": {},
   "outputs": [
    {
     "data": {
      "image/png": "[encoded data removed]",
      "text/plain": [
       "<Figure size 1080x1080 with 16 Axes>"
      ]
     },
     "metadata": {
      "needs_background": "light"
     },
     "output_type": "display_data"
    }
   ],
   "source": [
    "fig,axs = plt.subplots(4,4,figsize=(15,15))\n",
    "axs = axs.ravel()\n",
    "\n",
    "for ith,name in enumerate(bin_name_list):\n",
    "    \n",
    "    axs[ith].hist(make_bins(photon.pt,abs(photon.eta),photon.sieie,name),bins=50,histtype='step')\n",
    "    axs[ith].set_title(name)"
   ]
  },
  {
   "cell_type": "code",
   "execution_count": 41,
   "metadata": {},
   "outputs": [
    {
     "data": {
      "image/png": "[encoded data removed]",
      "text/plain": [
       "<Figure size 432x288 with 2 Axes>"
      ]
     },
     "metadata": {
      "needs_background": "light"
     },
     "output_type": "display_data"
    }
   ],
   "source": [
    "from matplotlib.colors import LogNorm\n",
    "fig, ax = plt.subplots()\n",
    "\n",
    "sieie = ak.to_numpy(ak.flatten(Photon.sieie))\n",
    "Isochg = ak.to_numpy(ak.flatten(Photon.pfRelIso03_chg * Photon.pt))\n",
    "\n",
    "\n",
    "h = ax.hist2d(sieie,Isochg,bins=(200,100))\n",
    "plt.xlabel('Photon Sieie')\n",
    "plt.ylim(0.1,20)\n",
    "plt.yscale('log')\n",
    "plt.ylabel('Photon IsoChg')\n",
    "fig.colorbar(h[3],ax=ax)\n",
    "plt.show()"
   ]
  },
  {
   "cell_type": "markdown",
   "metadata": {},
   "source": [
    "---"
   ]
  },
  {
   "cell_type": "code",
   "execution_count": 42,
   "metadata": {},
   "outputs": [],
   "source": [
    "leading_pho = Photon[:,0]"
   ]
  },
  {
   "cell_type": "markdown",
   "metadata": {},
   "source": [
    "### 5. Event Selection"
   ]
  },
  {
   "cell_type": "code",
   "execution_count": 43,
   "metadata": {},
   "outputs": [],
   "source": [
    "##-----------  Cut flow5 and 6: Event Selection\n",
    "\n",
    "# Z mass window\n",
    "zmass_window_mask = ak.firsts((Diele.p4.mass) > 4)\n",
    "\n",
    "# PT mask\n",
    "Elept_mask = ak.firsts((Diele.lep1.pt >= 25) & (Diele.lep2.pt >=10))\n",
    "\n",
    "# MET mask\n",
    "MET_mask = MET.pt > 20\n",
    "\n",
    "\n",
    "# Event selection mask\n",
    "Event_sel_mask   = zmass_window_mask & Elept_mask & MET_mask\n",
    "\n",
    "\n",
    "# Apply cuts\n",
    "Diele_sel   = Diele[Event_sel_mask]\n",
    "leading_pho_sel   = leading_pho[Event_sel_mask]\n",
    "# Photon  EE and EB\n",
    "\n",
    "isEE_mask = leading_pho.isScEtaEE\n",
    "isEB_mask = leading_pho.isScEtaEB\n",
    "Pho_EE = leading_pho[isEE_mask & Event_sel_mask]\n",
    "Pho_EB = leading_pho[isEB_mask & Event_sel_mask]\n",
    "MET_sel           = MET[Event_sel_mask]"
   ]
  },
  {
   "cell_type": "code",
   "execution_count": 44,
   "metadata": {},
   "outputs": [
    {
     "name": "stdout",
     "output_type": "stream",
     "text": [
      "#### 5. Event selection: 17\n"
     ]
    }
   ],
   "source": [
    "print(\"#### 5. Event selection: {0}\".format(len(Diele_sel)))"
   ]
  },
  {
   "cell_type": "code",
   "execution_count": 45,
   "metadata": {},
   "outputs": [
    {
     "data": {
      "image/png": "[encoded data removed]",
      "text/plain": [
       "<Figure size 2160x720 with 10 Axes>"
      ]
     },
     "metadata": {
      "needs_background": "light"
     },
     "output_type": "display_data"
    }
   ],
   "source": [
    "Pho_EE_pt     = Pho_EE.pt\n",
    "Pho_EE_eta    = Pho_EE.eta\n",
    "Pho_EE_phi    = Pho_EE.phi\n",
    "Pho_EE_Isochg = Pho_EE.pfRelIso03_chg\n",
    "Pho_EE_Sieie  = Pho_EE.sieie\n",
    "\n",
    "\n",
    "Pho_EB_pt  = Pho_EB.pt\n",
    "Pho_EB_eta = Pho_EB.eta\n",
    "Pho_EB_phi = Pho_EB.phi\n",
    "Pho_EB_Isochg = Pho_EE.pfRelIso03_chg\n",
    "Pho_EB_Sieie  = Pho_EE.sieie\n",
    "\n",
    "\n",
    "Diele_mass = ak.flatten(Diele_sel.p4.mass)\n",
    "eeg_vec = Diele_sel.p4 + leading_pho_sel\n",
    "eeg_mass = ak.flatten(eeg_vec.mass)\n",
    "\n",
    "Ele1_pt  = ak.flatten(Diele_sel.lep1.pt)\n",
    "Ele1_eta = ak.flatten(Diele_sel.lep1.eta)\n",
    "Ele1_phi = ak.flatten(Diele_sel.lep1.phi)\n",
    "\n",
    "Ele2_pt  = ak.flatten(Diele_sel.lep2.pt)\n",
    "Ele2_eta = ak.flatten(Diele_sel.lep2.eta)\n",
    "Ele2_phi = ak.flatten(Diele_sel.lep2.phi)\n",
    "fig,axs = plt.subplots(2,5,figsize=(30,10))\n",
    "bins=100\n",
    "\n",
    "axs[0,0].hist(Pho_EE_pt,bins=bins)\n",
    "axs[0,0].set_xlabel('EE PT')\n",
    "axs[0,1].hist(Pho_EE_eta,bins=bins)\n",
    "axs[0,1].set_xlabel('EE Eta')\n",
    "axs[0,2].hist(Pho_EE_phi,bins=bins)\n",
    "axs[0,2].set_xlabel('EE Phi')\n",
    "axs[0,3].hist(Pho_EE_Isochg,bins=bins)\n",
    "axs[0,3].set_xlabel('EE IshChg')\n",
    "axs[0,4].hist(Pho_EE_Sieie,bins=bins)\n",
    "axs[0,4].set_xlabel('EE Sieie')\n",
    "\n",
    "axs[1,0].hist(Pho_EB_pt,bins=bins)\n",
    "axs[1,0].set_xlabel('EB PT')\n",
    "axs[1,1].hist(Pho_EB_eta,bins=bins)\n",
    "axs[1,1].set_xlabel('EB Eta')\n",
    "axs[1,2].hist(Pho_EB_phi,bins=bins)\n",
    "axs[1,2].set_xlabel('EB Phi')\n",
    "axs[1,3].hist(Pho_EB_Isochg,bins=bins)\n",
    "axs[1,3].set_xlabel('EB IshChg')\n",
    "axs[1,4].hist(Pho_EB_Sieie,bins=bins)\n",
    "axs[1,4].set_xlabel('EE Sieie')\n",
    "plt.show()"
   ]
  },
  {
   "cell_type": "code",
   "execution_count": 46,
   "metadata": {},
   "outputs": [
    {
     "data": {
      "image/png": "[encoded data removed]",
      "text/plain": [
       "<Figure size 1080x1080 with 16 Axes>"
      ]
     },
     "metadata": {
      "needs_background": "light"
     },
     "output_type": "display_data"
    }
   ],
   "source": [
    "fig,axs = plt.subplots(4,4,figsize=(15,15))\n",
    "axs = axs.ravel()\n",
    "\n",
    "for ith,name in enumerate(bin_name_list):\n",
    "    \n",
    "    axs[ith].hist(make_bins(leading_pho_sel.pt,abs(leading_pho_sel.eta),leading_pho_sel.sieie,name),bins=50,histtype='step')\n",
    "    axs[ith].set_title(name)"
   ]
  },
  {
   "cell_type": "code",
   "execution_count": null,
   "metadata": {},
   "outputs": [],
   "source": []
  }
 ],
 "metadata": {
  "kernelspec": {
   "display_name": "Python 3",
   "language": "python",
   "name": "python3"
  },
  "language_info": {
   "codemirror_mode": {
    "name": "ipython",
    "version": 3
   },
   "file_extension": ".py",
   "mimetype": "text/x-python",
   "name": "python",
   "nbconvert_exporter": "python",
   "pygments_lexer": "ipython3",
   "version": "3.8.5"
  }
 },
 "nbformat": 4,
 "nbformat_minor": 4
}
