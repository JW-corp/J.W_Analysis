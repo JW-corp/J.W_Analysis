{
 "cells": [
  {
   "cell_type": "code",
   "execution_count": 2,
   "metadata": {},
   "outputs": [],
   "source": [
    "import awkward as ak\n",
    "from coffea.nanoevents import NanoEventsFactory, NanoAODSchema\n",
    "import numpy as np\n",
    "from tqdm import tqdm,trange\n",
    "import matplotlib.pyplot as plt\n",
    "import numba"
   ]
  },
  {
   "cell_type": "markdown",
   "metadata": {},
   "source": [
    "### Setup parameters"
   ]
  },
  {
   "cell_type": "code",
   "execution_count": 3,
   "metadata": {},
   "outputs": [],
   "source": [
    "infile = \"data/signal/wza_UL18_sum.root\" # --signal\n",
    "#infile = \"data/mc/ZZ/5B850510-FC7D-AD4C-A534-33F6C24D14D1.root\"\n",
    "#infile = \"data/mc/TTZToLL/30FD3469-AEFB-B742-8F3E-4551B23D529B.root\"\n",
    "#infile='data/data/7B56E217-555E-1C41-9494-491849A9835F_skim_2ElIdPt20.root' # --data \n",
    "#infile = 'data/data/CA42F3A2-614F-4A4F-AF18-F6E66CDA2C85_skim_2ElIdPt20.root'\n",
    "#infile = 'data/Ntuple/EGamma_Run2018B.root'\n",
    "#infile=\"data/mc/59AB328B-F0E3-F544-98BB-E5E55577C649_skim_2ElIdPt20.root\" # --mc\n",
    "\n",
    "dataset=\"WZG\"\n",
    "year='2018'"
   ]
  },
  {
   "cell_type": "code",
   "execution_count": 4,
   "metadata": {},
   "outputs": [],
   "source": [
    "events = NanoEventsFactory.from_root(infile, schemaclass=NanoAODSchema).events()"
   ]
  },
  {
   "cell_type": "code",
   "execution_count": 5,
   "metadata": {},
   "outputs": [],
   "source": [
    "# Trigger set\n",
    "doubleelectron_triggers  ={\n",
    "    '2018': [\n",
    "            \"Ele23_Ele12_CaloIdL_TrackIdL_IsoVL\", # Recomended\n",
    "            ]\n",
    "}\n",
    "\n",
    "\n",
    "\n",
    "singleelectron_triggers = { #2017 and 2018 from monojet, applying dedicated trigger weights\n",
    "        '2016': [\n",
    "            'Ele27_WPTight_Gsf',\n",
    "            'Ele105_CaloIdVT_GsfTrkIdT'\n",
    "        ],\n",
    "        '2017': [\n",
    "            'Ele35_WPTight_Gsf',\n",
    "            'Ele115_CaloIdVT_GsfTrkIdT',\n",
    "            'Photon200'\n",
    "        ],\n",
    "        '2018': [\n",
    "            'Ele32_WPTight_Gsf',    # Recomended\n",
    "        ]\n",
    "    }\n",
    "\n",
    "\n",
    "\n",
    "isData = \"genWeight\" not in events.fields\n",
    "\n",
    "\n",
    "# Golden Json file\n",
    "if (year == \"2018\") and isData:\n",
    "    injson = \"data/json/Cert_314472-325175_13TeV_Legacy2018_Collisions18_JSON.txt.RunABD\""
   ]
  },
  {
   "cell_type": "markdown",
   "metadata": {},
   "source": [
    "### Helper functions"
   ]
  },
  {
   "cell_type": "code",
   "execution_count": 6,
   "metadata": {},
   "outputs": [],
   "source": [
    "# << Sort by PT  helper function >>\n",
    "def sort_by_pt(ele,pho,jet):\n",
    "    ele = ele[ak.argsort(ele.pt,ascending=False,axis=1)]\n",
    "    pho = pho[ak.argsort(pho.pt,ascending=False,axis=1)]\n",
    "    jet = jet[ak.argsort(jet.pt,ascending=False,axis=1)]\n",
    "\n",
    "    return ele,pho,jet\n",
    "events.Electron, events.Photon, events.Jet = sort_by_pt(\n",
    "            events.Electron, events.Photon, events.Jet\n",
    "        )\n",
    "\n",
    "# Lorentz vectors\n",
    "from coffea.nanoevents.methods import vector\n",
    "ak.behavior.update(vector.behavior)\n",
    "\n",
    "def TLorentz_vector(vec):\n",
    "    vec = ak.zip(\n",
    "        {\"x\": vec.x, \"y\": vec.y, \"z\": vec.z, \"t\": vec.t},\n",
    "        with_name=\"LorentzVector\",\n",
    "    )\n",
    "    return vec\n",
    "\n",
    "def TLorentz_vector_cylinder(vec):\n",
    "\n",
    "    vec = ak.zip(\n",
    "        {\n",
    "            \"pt\": vec.pt,\n",
    "            \"eta\": vec.eta,\n",
    "            \"phi\": vec.phi,\n",
    "            \"mass\": vec.mass,\n",
    "        },\n",
    "        with_name=\"PtEtaPhiMLorentzVector\",\n",
    "    )\n",
    "\n",
    "    return vec\n",
    "\n"
   ]
  },
  {
   "cell_type": "markdown",
   "metadata": {},
   "source": [
    "### Good-Run check ( Data-only )"
   ]
  },
  {
   "cell_type": "code",
   "execution_count": 7,
   "metadata": {},
   "outputs": [],
   "source": [
    "from coffea import lumi_tools\n",
    "\n",
    "if isData:\n",
    "    lumi_mask_builder = lumi_tools.LumiMask(injson)\n",
    "    lumimask = ak.Array(\n",
    "        lumi_mask_builder.__call__(events.run, events.luminosityBlock)\n",
    "    )\n",
    "    events = events[lumimask]"
   ]
  },
  {
   "cell_type": "markdown",
   "metadata": {},
   "source": [
    "### 1. Trigger"
   ]
  },
  {
   "cell_type": "code",
   "execution_count": 8,
   "metadata": {},
   "outputs": [
    {
     "name": "stdout",
     "output_type": "stream",
     "text": [
      "Events passing triggers and skiimig:  22276\n"
     ]
    }
   ],
   "source": [
    "# double lepton trigger\n",
    "is_double_ele_trigger=True\n",
    "if not is_double_ele_trigger:\n",
    "    double_ele_triggers_arr=np.ones(len(events), dtype=np.bool)\n",
    "else:\n",
    "    double_ele_triggers_arr = np.zeros(len(events), dtype=np.bool)\n",
    "    for path in doubleelectron_triggers[year]:\n",
    "        if path not in events.HLT.fields: continue\n",
    "        double_ele_triggers_arr = double_ele_triggers_arr | events.HLT[path]\n",
    "\n",
    "\n",
    "# single lepton trigger\n",
    "is_single_ele_trigger=True\n",
    "if not is_single_ele_trigger:\n",
    "    single_ele_triggers_arr=np.ones(len(events), dtype=np.bool)\n",
    "else:\n",
    "    single_ele_triggers_arr = np.zeros(len(events), dtype=np.bool)\n",
    "    for path in singleelectron_triggers[year]:\n",
    "        if path not in events.HLT.fields: continue\n",
    "        single_ele_triggers_arr = single_ele_triggers_arr | events.HLT[path]\n",
    "\n",
    "# Sort particle order by PT  # RunD --> has problem\n",
    "events.Electron,events.Photon,events.Jet = sort_by_pt(events.Electron,events.Photon,events.Jet)\n",
    "\n",
    "Initial_events = events\n",
    "#events = events[single_ele_triggers_arr | double_ele_triggers_arr]\n",
    "events = events[double_ele_triggers_arr]\n",
    "print(\"Events passing triggers and skiimig: \",len(events) )"
   ]
  },
  {
   "cell_type": "code",
   "execution_count": 9,
   "metadata": {},
   "outputs": [],
   "source": [
    "# Set Particle\n",
    "Electron = events.Electron\n",
    "Muon = events.Muon\n",
    "Photon = events.Photon\n",
    "MET = events.MET\n",
    "Jet = events.Jet"
   ]
  },
  {
   "cell_type": "markdown",
   "metadata": {},
   "source": [
    "### 2. Lepton Selection: e e e"
   ]
  },
  {
   "cell_type": "code",
   "execution_count": 10,
   "metadata": {},
   "outputs": [],
   "source": [
    "#  --Muon ( only used to calculate dR )\n",
    "MuSelmask = (\n",
    "    (Muon.pt >= 10)\n",
    "    & (abs(Muon.eta) <= 2.5)\n",
    "    & (Muon.tightId)\n",
    "    & (Muon.pfRelIso04_all < 0.15)\n",
    ")\n",
    "# Muon = ak.mask(Muon,MuSelmask)\n",
    "Muon = Muon[MuSelmask]"
   ]
  },
  {
   "cell_type": "code",
   "execution_count": 11,
   "metadata": {},
   "outputs": [],
   "source": [
    "# Reference: VBS Zgamma+2jets\n",
    "LoooseMuSelmask = (\n",
    "    (Muon.pt > 20)\n",
    "    & (abs(Muon.eta) < 2.4)\n",
    "    & (Muon.isPFcand)\n",
    "    & (Muon.isGlobal | Muon.isTracker)\n",
    "    & (Muon.pfRelIso03_all < 0.25)\n",
    ")\n",
    "\n",
    "VetoMuon = Muon[LoooseMuSelmask]"
   ]
  },
  {
   "cell_type": "code",
   "execution_count": 12,
   "metadata": {},
   "outputs": [],
   "source": [
    "##----------- Cut flow2: Electron Selection\n",
    "\n",
    "EleSelmask = (\n",
    "    (Electron.pt >= 10)\n",
    "    & (np.abs(Electron.eta + Electron.deltaEtaSC) < 1.479)\n",
    "    & (Electron.cutBased > 2)\n",
    "    & (abs(Electron.dxy) < 0.05)\n",
    "    & (abs(Electron.dz) < 0.1)\n",
    ") | (\n",
    "    (Electron.pt >= 10)\n",
    "    & (np.abs(Electron.eta + Electron.deltaEtaSC) > 1.479)\n",
    "    & (np.abs(Electron.eta + Electron.deltaEtaSC) <= 2.5)\n",
    "    & (Electron.cutBased > 2)\n",
    "    & (abs(Electron.dxy) < 0.1)\n",
    "    & (abs(Electron.dz) < 0.2)\n",
    ")\n",
    "\n",
    "Electron = Electron[EleSelmask]"
   ]
  },
  {
   "cell_type": "code",
   "execution_count": 13,
   "metadata": {},
   "outputs": [],
   "source": [
    "# apply cut 2\n",
    "Tri_electron_mask = ak.num(Electron) == 3\n",
    "Electron = Electron[Tri_electron_mask]\n",
    "Photon = Photon[Tri_electron_mask]\n",
    "Jet = Jet[Tri_electron_mask]\n",
    "MET = MET[Tri_electron_mask]\n",
    "Muon = Muon[Tri_electron_mask]\n",
    "VetoMuon = VetoMuon[Tri_electron_mask]\n",
    "events = events[Tri_electron_mask]"
   ]
  },
  {
   "cell_type": "code",
   "execution_count": 14,
   "metadata": {},
   "outputs": [
    {
     "data": {
      "text/plain": [
       "2198"
      ]
     },
     "execution_count": 14,
     "metadata": {},
     "output_type": "execute_result"
    }
   ],
   "source": [
    "len(events)"
   ]
  },
  {
   "cell_type": "code",
   "execution_count": 15,
   "metadata": {},
   "outputs": [],
   "source": [
    "# veto 4th Muon\n",
    "fourth_lepton_veto = ak.num(VetoMuon ) < 1\n",
    "Electron = Electron[fourth_lepton_veto]\n",
    "Photon = Photon[fourth_lepton_veto]\n",
    "Jet = Jet[fourth_lepton_veto]\n",
    "MET = MET[fourth_lepton_veto]\n",
    "Muon = Muon[fourth_lepton_veto]\n",
    "events = events[fourth_lepton_veto]"
   ]
  },
  {
   "cell_type": "code",
   "execution_count": 16,
   "metadata": {},
   "outputs": [
    {
     "data": {
      "text/plain": [
       "2155"
      ]
     },
     "execution_count": 16,
     "metadata": {},
     "output_type": "execute_result"
    }
   ],
   "source": [
    "len(events)"
   ]
  },
  {
   "cell_type": "markdown",
   "metadata": {},
   "source": [
    "### 3. Photon Selection:  pho > 0 "
   ]
  },
  {
   "cell_type": "code",
   "execution_count": 17,
   "metadata": {},
   "outputs": [],
   "source": [
    "##----------- Cut flow3: Photon Selection\n",
    "\n",
    "# Basic photon selection\n",
    "isgap_mask = (abs(Photon.eta) < 1.442) | (\n",
    "    (abs(Photon.eta) > 1.566) & (abs(Photon.eta) < 2.5)\n",
    ")\n",
    "Pixel_seed_mask = ~Photon.pixelSeed\n",
    "\n",
    "if (dataset == \"ZZ\") and (self._year == \"2017\"):\n",
    "    PT_ID_mask = (Photon.pt >= 20) & (\n",
    "        Photon.cutBasedBitmap >= 3\n",
    "    )  # 2^0(Loose) + 2^1(Medium) + 2^2(Tights)\n",
    "else:\n",
    "    PT_ID_mask = (Photon.pt >= 20) & (Photon.cutBased > 1)\n",
    "\n",
    "# dR cut with selected Muon and Electrons\n",
    "dr_pho_ele_mask = ak.all(\n",
    "    Photon.metric_table(Electron) >= 0.5, axis=-1\n",
    ")  # default metric table: delta_r\n",
    "dr_pho_mu_mask = ak.all(Photon.metric_table(Muon) >= 0.5, axis=-1)\n",
    "\n",
    "# genPartFlav cut\n",
    "\"\"\"\n",
    "if dataset == \"WZG\":\n",
    "    isPrompt = (Photon.genPartFlav == 1) | (Photon.genPartFlav == 11)\n",
    "    PhoSelmask = PT_ID_mask & isgap_mask &  Pixel_seed_mask & isPrompt & dr_pho_ele_mask & dr_pho_mu_mask\n",
    "elif dataset == \"WZ\":\n",
    "    isPrompt = (Photon.genPartFlav == 1) \n",
    "    PhoSelmask = PT_ID_mask & isgap_mask &  Pixel_seed_mask & ~isPrompt & dr_pho_ele_mask & dr_pho_mu_mask\n",
    "\n",
    "else:\n",
    "    PhoSelmask = PT_ID_mask  & isgap_mask &  Pixel_seed_mask & dr_pho_ele_mask & dr_pho_mu_mask\n",
    "\"\"\"\n",
    "\n",
    "PhoSelmask = (\n",
    "    PT_ID_mask & isgap_mask & Pixel_seed_mask & dr_pho_ele_mask & dr_pho_mu_mask\n",
    ")\n",
    "Photon = Photon[PhoSelmask]"
   ]
  },
  {
   "cell_type": "code",
   "execution_count": 18,
   "metadata": {},
   "outputs": [],
   "source": [
    "# Apply cut 3\n",
    "A_photon_mask = ak.num(Photon) > 0\n",
    "Electron = Electron[A_photon_mask]\n",
    "Photon = Photon[A_photon_mask]\n",
    "Jet = Jet[A_photon_mask]\n",
    "Muon = Muon[A_photon_mask]\n",
    "MET = MET[A_photon_mask]\n",
    "events = events[A_photon_mask]"
   ]
  },
  {
   "cell_type": "code",
   "execution_count": 19,
   "metadata": {},
   "outputs": [
    {
     "data": {
      "text/plain": [
       "588"
      ]
     },
     "execution_count": 19,
     "metadata": {},
     "output_type": "execute_result"
    }
   ],
   "source": [
    "len(events)"
   ]
  },
  {
   "cell_type": "markdown",
   "metadata": {},
   "source": [
    "### 4. OSSF Selection"
   ]
  },
  {
   "cell_type": "code",
   "execution_count": 20,
   "metadata": {},
   "outputs": [
    {
     "name": "stderr",
     "output_type": "stream",
     "text": [
      "/home/jkim/miniconda3/envs/pyHEP/lib/python3.8/site-packages/numba/core/dispatcher.py:238: UserWarning: Numba extension module 'awkward1._connect._numba' failed to load due to 'ImportError(generic_type: type \"kernel_lib\" is already registered!)'.\n",
      "  entrypoints.init_all()\n"
     ]
    }
   ],
   "source": [
    "##----------- Cut flow4: OSSF\n",
    "# OSSF index maker\n",
    "@numba.njit\n",
    "def find_3lep(events_leptons, builder):\n",
    "    for leptons in events_leptons:\n",
    "\n",
    "        builder.begin_list()\n",
    "        nlep = len(leptons)\n",
    "        for i0 in range(nlep):\n",
    "            for i1 in range(i0 + 1, nlep):\n",
    "                if leptons[i0].charge + leptons[i1].charge != 0:\n",
    "                    continue\n",
    "\n",
    "                for i2 in range(nlep):\n",
    "                    if len({i0, i1, i2}) < 3:\n",
    "                        continue\n",
    "                    builder.begin_tuple(3)\n",
    "                    builder.index(0).integer(i0)\n",
    "                    builder.index(1).integer(i1)\n",
    "                    builder.index(2).integer(i2)\n",
    "                    builder.end_tuple()\n",
    "        builder.end_list()\n",
    "    return builder\n",
    "\n",
    "eee_triplet_idx = find_3lep(Electron, ak.ArrayBuilder()).snapshot()\n",
    "\n",
    "ossf_mask = ak.num(eee_triplet_idx) == 2"
   ]
  },
  {
   "cell_type": "code",
   "execution_count": 21,
   "metadata": {},
   "outputs": [],
   "source": [
    "# Apply cut 4\n",
    "eee_triplet_idx = eee_triplet_idx[ossf_mask]\n",
    "Electron = Electron[ossf_mask]\n",
    "Photon = Photon[ossf_mask]\n",
    "Jet = Jet[ossf_mask]\n",
    "MET = MET[ossf_mask]\n",
    "events = events[ossf_mask]"
   ]
  },
  {
   "cell_type": "code",
   "execution_count": 22,
   "metadata": {},
   "outputs": [
    {
     "data": {
      "text/plain": [
       "585"
      ]
     },
     "execution_count": 22,
     "metadata": {},
     "output_type": "execute_result"
    }
   ],
   "source": [
    "len(events)"
   ]
  },
  {
   "cell_type": "code",
   "execution_count": 23,
   "metadata": {},
   "outputs": [],
   "source": [
    "# Define Electron Triplet\n",
    "\n",
    "Triple_electron = [Electron[eee_triplet_idx[idx]] for idx in \"012\"]\n",
    "Triple_eee = ak.zip(\n",
    "    {\n",
    "        \"lep1\": Triple_electron[0],\n",
    "        \"lep2\": Triple_electron[1],\n",
    "        \"lep3\": Triple_electron[2],\n",
    "        \"p4\": TLorentz_vector(Triple_electron[0] + Triple_electron[1]),\n",
    "    }\n",
    ")\n",
    "\n",
    "# Ele pair selector --> Close to Z mass\n",
    "bestZ_idx = ak.singletons(ak.argmin(abs(Triple_eee.p4.mass - 91.1876), axis=1))\n",
    "Triple_eee = Triple_eee[bestZ_idx]\n",
    "\n",
    "leading_ele = Triple_eee.lep1\n",
    "subleading_ele = Triple_eee.lep2\n",
    "third_ele = Triple_eee.lep3\n",
    "\n",
    "def make_leading_pair(target, base):\n",
    "    return target[ak.argmax(base.pt, axis=1, keepdims=True)]\n",
    "\n",
    "leading_pho = make_leading_pair(Photon, Photon)"
   ]
  },
  {
   "cell_type": "markdown",
   "metadata": {},
   "source": [
    "### 5. Event selection"
   ]
  },
  {
   "cell_type": "code",
   "execution_count": 24,
   "metadata": {},
   "outputs": [],
   "source": [
    "diele = Triple_eee.p4\n",
    "Mee_cut_mask = ak.firsts(diele.mass) > 4\n",
    "\n",
    "# Electron PT cuts\n",
    "Elept_mask = ak.firsts(\n",
    "    (leading_ele.pt >= 25) & (subleading_ele.pt >= 10) & (third_ele.pt >= 25)\n",
    ")\n",
    "\n",
    "# MET cuts\n",
    "MET_mask = MET.pt > 20  # Baseline\n",
    "# MET_mask = MET.pt > 30 #  SR, CR-ZZE, CR-t-entirched\n",
    "# MET_mask = MET.pt <= 30 #  CR-Z+jets. CR-Conversion\n",
    "\n",
    "# Mask\n",
    "Event_sel_mask = Elept_mask & MET_mask & Mee_cut_mask  # Baseline"
   ]
  },
  {
   "cell_type": "code",
   "execution_count": 25,
   "metadata": {},
   "outputs": [],
   "source": [
    "# Apply cut5\n",
    "Triple_eee_sel = Triple_eee[Event_sel_mask]\n",
    "leading_pho_sel = leading_pho[Event_sel_mask]\n",
    "MET_sel = MET[Event_sel_mask]\n",
    "events = events[Event_sel_mask]"
   ]
  },
  {
   "cell_type": "code",
   "execution_count": 26,
   "metadata": {},
   "outputs": [
    {
     "data": {
      "text/plain": [
       "405"
      ]
     },
     "execution_count": 26,
     "metadata": {},
     "output_type": "execute_result"
    }
   ],
   "source": [
    "len(events)"
   ]
  },
  {
   "cell_type": "code",
   "execution_count": 27,
   "metadata": {},
   "outputs": [],
   "source": [
    "# Photon  EE and EB\n",
    "isEE_mask = leading_pho.isScEtaEE\n",
    "isEB_mask = leading_pho.isScEtaEB\n",
    "Pho_EE = leading_pho[isEE_mask & Event_sel_mask]\n",
    "Pho_EB = leading_pho[isEB_mask & Event_sel_mask]"
   ]
  },
  {
   "cell_type": "markdown",
   "metadata": {},
   "source": [
    "### 6. Prepare hist"
   ]
  },
  {
   "cell_type": "code",
   "execution_count": 28,
   "metadata": {},
   "outputs": [],
   "source": [
    "# Photon\n",
    "phoPT = ak.flatten(leading_pho_sel.pt)\n",
    "phoEta = ak.flatten(leading_pho_sel.eta)\n",
    "phoPhi = ak.flatten(leading_pho_sel.phi)\n",
    "\n",
    "# Photon EE\n",
    "if len(Pho_EE.pt) != 0:\n",
    "    Pho_EE_PT = ak.flatten(Pho_EE.pt)\n",
    "    Pho_EE_Eta = ak.flatten(Pho_EE.eta)\n",
    "    Pho_EE_Phi = ak.flatten(Pho_EE.phi)\n",
    "    Pho_EE_sieie = ak.flatten(Pho_EE.sieie)\n",
    "    Pho_EE_hoe = ak.flatten(Pho_EE.hoe)\n",
    "    Pho_EE_Iso_all = ak.flatten(Pho_EE.pfRelIso03_all)\n",
    "    Pho_EE_Iso_charge = ak.flatten(Pho_EE.pfRelIso03_chg)\n",
    "\n",
    "# Photon EB\n",
    "if len(Pho_EB.pt) != 0:\n",
    "    Pho_EB_PT = ak.flatten(Pho_EB.pt)\n",
    "    Pho_EB_Eta = ak.flatten(Pho_EB.eta)\n",
    "    Pho_EB_Phi = ak.flatten(Pho_EB.phi)\n",
    "    Pho_EB_sieie = ak.flatten(Pho_EB.sieie)\n",
    "    Pho_EB_hoe = ak.flatten(Pho_EB.hoe)\n",
    "    Pho_EB_Iso_all = ak.flatten(Pho_EB.pfRelIso03_all)\n",
    "    Pho_EB_Iso_charge = ak.flatten(Pho_EB.pfRelIso03_chg)\n",
    "\n",
    "# Electrons\n",
    "ele1PT = ak.flatten(Triple_eee_sel.lep1.pt)\n",
    "ele1Eta = ak.flatten(Triple_eee_sel.lep1.eta)\n",
    "ele1Phi = ak.flatten(Triple_eee_sel.lep1.phi)\n",
    "\n",
    "ele2PT = ak.flatten(Triple_eee_sel.lep2.pt)\n",
    "ele2Eta = ak.flatten(Triple_eee_sel.lep2.eta)\n",
    "ele2Phi = ak.flatten(Triple_eee_sel.lep2.phi)\n",
    "\n",
    "ele3PT = ak.flatten(Triple_eee_sel.lep3.pt)\n",
    "ele3Eta = ak.flatten(Triple_eee_sel.lep3.eta)\n",
    "ele3Phi = ak.flatten(Triple_eee_sel.lep3.phi)\n",
    "\n",
    "charge = ak.flatten(Triple_eee.lep1.charge + Triple_eee.lep2.charge)\n",
    "\n",
    "# MET\n",
    "met = ak.to_numpy(MET_sel.pt)\n",
    "\n",
    "# M(eea) M(ee)\n",
    "diele = Triple_eee_sel.p4\n",
    "eeg_vec = diele + leading_pho_sel\n",
    "Meea = ak.flatten(eeg_vec.mass)\n",
    "Mee = ak.flatten(Triple_eee_sel.p4.mass)\n",
    "\n",
    "# W MT (--> beta )\n",
    "Ele3 = ak.flatten(Triple_eee_sel.lep3)\n",
    "MT = np.sqrt(\n",
    "    2 * Ele3.pt * MET_sel.pt * (1 - np.cos(abs(MET_sel.delta_phi(Ele3))))\n",
    ")\n",
    "MT = np.array(MT)\n",
    "\n",
    "dPhi_emet = abs(MET_sel.delta_phi(Ele3))"
   ]
  },
  {
   "cell_type": "code",
   "execution_count": 29,
   "metadata": {},
   "outputs": [
    {
     "data": {
      "image/png": "[encoded data removed]",
      "text/plain": [
       "<Figure size 720x720 with 9 Axes>"
      ]
     },
     "metadata": {
      "needs_background": "light"
     },
     "output_type": "display_data"
    }
   ],
   "source": [
    "fig,axs = plt.subplots(3,3,figsize=(10,10))\n",
    "#axs = axs.ravel()\n",
    "bins=25\n",
    "\n",
    "axs[0,0].hist(ele1PT,bins=bins,histtype='step')\n",
    "axs[0,0].set_title('Lep1PT')\n",
    "axs[0,1].hist(ele1Eta,bins=bins,histtype='step')\n",
    "axs[0,1].set_title('Lep1Eta')\n",
    "axs[0,2].hist(ele1Phi,bins=bins,histtype='step')\n",
    "axs[0,2].set_title('Lep1Phi')\n",
    "\n",
    "axs[1,0].hist(ele2PT,bins=bins,histtype='step')\n",
    "axs[1,0].set_title('Lep2PT')\n",
    "axs[1,1].hist(ele2Eta,bins=bins,histtype='step')\n",
    "axs[1,1].set_title('Lep2Eta')\n",
    "axs[1,2].hist(ele2Phi,bins=bins,histtype='step')\n",
    "axs[1,2].set_title('Lep2Phi')\n",
    "\n",
    "axs[2,0].hist(ele3PT,bins=bins,histtype='step')\n",
    "axs[2,0].set_title('Lep3PT')\n",
    "axs[2,1].hist(ele3Eta,bins=bins,histtype='step')\n",
    "axs[2,1].set_title('Lep3Eta')\n",
    "axs[2,2].hist(ele3Phi,bins=bins,histtype='step')\n",
    "axs[2,2].set_title('Lep3Phi')\n",
    "plt.tight_layout()\n",
    "plt.show()"
   ]
  },
  {
   "cell_type": "code",
   "execution_count": 30,
   "metadata": {},
   "outputs": [
    {
     "data": {
      "image/png": "[encoded data removed]",
      "text/plain": [
       "<Figure size 792x360 with 10 Axes>"
      ]
     },
     "metadata": {
      "needs_background": "light"
     },
     "output_type": "display_data"
    }
   ],
   "source": [
    "fig,axs = plt.subplots(2,5,figsize=(11,5))\n",
    "bins=25\n",
    "\n",
    "axs[0,0].hist(Pho_EB_PT,bins=bins,histtype='step')\n",
    "axs[0,0].set_title('Pho EB PT')\n",
    "axs[0,1].hist(Pho_EB_Eta,bins=bins,histtype='step')\n",
    "axs[0,1].set_title('Pho EB Eta')\n",
    "axs[0,2].hist(Pho_EB_Phi,bins=bins,histtype='step')\n",
    "axs[0,2].set_title('Pho EB Phi')\n",
    "axs[0,3].hist(Pho_EB_sieie,bins=bins,histtype='step')\n",
    "axs[0,3].set_title('Pho EB sieie')\n",
    "axs[0,4].hist(Pho_EB_Iso_charge,bins=bins,histtype='step')\n",
    "axs[0,4].set_title('Pho EB IsoChg')\n",
    "\n",
    "\n",
    "axs[1,0].hist(Pho_EE_PT,bins=bins,histtype='step')\n",
    "axs[1,0].set_title('Pho EE PT')\n",
    "axs[1,1].hist(Pho_EE_Eta,bins=bins,histtype='step')\n",
    "axs[1,1].set_title('Pho EE Eta')\n",
    "axs[1,2].hist(Pho_EE_Phi,bins=bins,histtype='step')\n",
    "axs[1,2].set_title('Pho EE Phi')\n",
    "axs[1,3].hist(Pho_EE_sieie,bins=bins,histtype='step')\n",
    "axs[1,3].set_title('Pho EE sieie')\n",
    "axs[1,4].hist(Pho_EE_Iso_charge,bins=bins,histtype='step')\n",
    "axs[1,4].set_title('Pho Ee IsoChg')\n",
    "\n",
    "plt.tight_layout()\n",
    "plt.show()"
   ]
  },
  {
   "cell_type": "code",
   "execution_count": 31,
   "metadata": {},
   "outputs": [
    {
     "data": {
      "image/png": "[encoded data removed]",
      "text/plain": [
       "<Figure size 1080x360 with 3 Axes>"
      ]
     },
     "metadata": {
      "needs_background": "light"
     },
     "output_type": "display_data"
    }
   ],
   "source": [
    "fig,axs = plt.subplots(1,3,figsize=(15,5))\n",
    "bins=50\n",
    "\n",
    "axs[0].hist(Mee,bins=bins,histtype='step')\n",
    "axs[0].set_title('M(ee)')\n",
    "\n",
    "axs[1].hist(met,bins=bins,histtype='step')\n",
    "axs[1].set_title('MET')\n",
    "\n",
    "axs[2].hist(MT,bins=bins,histtype='step')\n",
    "axs[2].set_title('MT(ele3,MET)')\n",
    "plt.show()"
   ]
  },
  {
   "cell_type": "code",
   "execution_count": 32,
   "metadata": {},
   "outputs": [
    {
     "data": {
      "image/png": "[encoded data removed]",
      "text/plain": [
       "<Figure size 1080x360 with 3 Axes>"
      ]
     },
     "metadata": {
      "needs_background": "light"
     },
     "output_type": "display_data"
    }
   ],
   "source": [
    "fig,axs = plt.subplots(1,3,figsize=(15,5))\n",
    "\n",
    "bins = 25\n",
    "\n",
    "axs[0].hist(ele3PT,bins=bins,histtype='step')\n",
    "axs[0].set_title('Lep3 PT')\n",
    "\n",
    "axs[1].hist(met,bins=bins,histtype='step')\n",
    "axs[1].set_title('MET')\n",
    "\n",
    "axs[2].hist(dPhi_emet,bins=bins,histtype='step')\n",
    "axs[2].set_title('dPhi')\n",
    "plt.show()"
   ]
  },
  {
   "cell_type": "code",
   "execution_count": null,
   "metadata": {},
   "outputs": [],
   "source": []
  }
 ],
 "metadata": {
  "kernelspec": {
   "display_name": "Python 3",
   "language": "python",
   "name": "python3"
  },
  "language_info": {
   "codemirror_mode": {
    "name": "ipython",
    "version": 3
   },
   "file_extension": ".py",
   "mimetype": "text/x-python",
   "name": "python",
   "nbconvert_exporter": "python",
   "pygments_lexer": "ipython3",
   "version": "3.8.5"
  }
 },
 "nbformat": 4,
 "nbformat_minor": 4
}
