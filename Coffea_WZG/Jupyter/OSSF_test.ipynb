{
 "cells": [
  {
   "cell_type": "code",
   "execution_count": 1,
   "id": "ea725810-ae3a-4ed3-85f2-3d0847942c29",
   "metadata": {},
   "outputs": [],
   "source": [
    "import awkward as ak\n",
    "from coffea.nanoevents import NanoEventsFactory, NanoAODSchema\n",
    "import time\n",
    "from coffea import processor, hist\n",
    "from coffea.util import load, save\n",
    "import json\n",
    "import glob\n",
    "import os\n",
    "import argparse\n",
    "import numpy as np\n",
    "from coffea import lumi_tools\n",
    "import numba\n",
    "import pandas as pd"
   ]
  },
  {
   "cell_type": "code",
   "execution_count": 2,
   "id": "45ef561e-5e47-4c16-b8d8-f83df3a00064",
   "metadata": {},
   "outputs": [],
   "source": [
    "infile= \"wza_UL18_sum.root\" # ZZ\n",
    "dataset=\"WZG\"\n",
    "year='2018'"
   ]
  },
  {
   "cell_type": "code",
   "execution_count": 3,
   "id": "d09685fd-a59b-4aa8-9760-16f6e58bc2da",
   "metadata": {},
   "outputs": [],
   "source": [
    "# Trigger set\n",
    "triggers = {\n",
    "    'Egamma':{\n",
    "    \"2018\":[\"Ele23_Ele12_CaloIdL_TrackIdL_IsoVL\",\"Ele32_WPTight_Gsf\"]\n",
    "    },\n",
    "    'SingleMuon':{\n",
    "    \"2018\":[\"IsoMu24\"]\n",
    "    },\n",
    "    'DoubleMuon':{\n",
    "    \"2018\":[\"Mu17_TrkIsoVVL_Mu8_TrkIsoVVL_DZ_Mass3p8\"]\n",
    "    },\n",
    "    'MuonEG':{\n",
    "    \"2018\":[\"Mu8_TrkIsoVVL_Ele23_CaloIdL_TrackIdL_IsoVL_DZ\",\"Mu23_TrkIsoVVL_Ele12_CaloIdL_TrackIdL_IsoVL\"]\n",
    "    },\n",
    "}\n",
    "\n",
    "events =  NanoEventsFactory.from_root(infile, schemaclass=NanoAODSchema).events()\n",
    "\n",
    "# Data or MC\n",
    "isData = \"genWeight\" not in events.fields\n",
    "\n",
    "\n",
    "def sort_by_pt(ele, pho, jet,muon):\n",
    "    ele  = ele[ak.argsort(ele.pt, ascending=False, axis=1)]\n",
    "    pho  = pho[ak.argsort(pho.pt, ascending=False, axis=1)]\n",
    "    jet  = jet[ak.argsort(jet.pt, ascending=False, axis=1)]\n",
    "    muon = muon[ak.argsort(muon.pt, ascending=False, axis=1)] \n",
    "    return ele, pho, jet, muon\n",
    "\n",
    "from coffea.nanoevents.methods import vector\n",
    "ak.behavior.update(vector.behavior)\n",
    "\n",
    "def TLorentz_vector(vec):\n",
    "    vec = ak.zip(\n",
    "        {\"x\": vec.x, \"y\": vec.y, \"z\": vec.z, \"t\": vec.t},\n",
    "        with_name=\"LorentzVector\",\n",
    "    )\n",
    "    return vec\n",
    "\n",
    "def TLorentz_vector_cylinder(vec):\n",
    "\n",
    "    vec = ak.zip(\n",
    "        {\n",
    "            \"pt\": vec.pt,\n",
    "            \"eta\": vec.eta,\n",
    "            \"phi\": vec.phi,\n",
    "            \"mass\": vec.mass,\n",
    "        },\n",
    "        with_name=\"PtEtaPhiMLorentzVector\",\n",
    "    )\n",
    "\n",
    "    return vec"
   ]
  },
  {
   "cell_type": "markdown",
   "id": "65ae5e56-c37b-4245-a12b-6f43fba3a9b3",
   "metadata": {},
   "source": [
    "### Trigger"
   ]
  },
  {
   "cell_type": "code",
   "execution_count": 4,
   "id": "9c502c87-1ab5-4c35-beba-c945cd2d6312",
   "metadata": {},
   "outputs": [
    {
     "name": "stdout",
     "output_type": "stream",
     "text": [
      "passing skimming & Triggers  89755\n"
     ]
    }
   ],
   "source": [
    "Initial_events = events\n",
    "# Good Run ( Golden Json files )\n",
    "from coffea import lumi_tools\n",
    "\n",
    "\n",
    "triggers_mask = np.zeros(len(events),dtype=np.bool)\n",
    "for key in triggers.keys():\n",
    "    for t in triggers[key][year]:\n",
    "        triggers_mask = triggers_mask | events.HLT[t]\n",
    "\n",
    "events.Electron, events.Photon, events.Jet, events.Muon = sort_by_pt(events.Electron, events.Photon, events.Jet, events.Muon)\n",
    "\n",
    "# Apply cut1: Triggers\n",
    "events = events[triggers_mask]\n",
    "\n",
    "cut1 = np.ones(len(events))\n",
    "\n",
    "Electron = events.Electron\n",
    "LooseElectron = events.Electron\n",
    "LoosebutNotTightElectron = events.Electron\n",
    "\n",
    "Muon = events.Muon\n",
    "LooseMuon = events.Muon\n",
    "LoosebutNotTightMuon = events.Muon\n",
    "\n",
    "\n",
    "Photon = events.Photon\n",
    "MET = events.MET\n",
    "Jet = events.Jet\n",
    "print(\"passing skimming & Triggers \",len(cut1))"
   ]
  },
  {
   "cell_type": "markdown",
   "id": "51a44cc9-682d-4ba4-8581-7fff46f5e5b2",
   "metadata": {},
   "source": [
    "### Lepton"
   ]
  },
  {
   "cell_type": "code",
   "execution_count": 5,
   "id": "3bcf0a88-2c88-4236-9c6c-49f074ef2fa7",
   "metadata": {},
   "outputs": [],
   "source": [
    "# Muon selection\n",
    "MuSelmask = (\n",
    "    (Muon.pt >= 10)\n",
    "    & (abs(Muon.eta) <= 2.5)\n",
    "    & (Muon.tightId)\n",
    "    & (Muon.pfRelIso04_all < 0.15)\n",
    "    & (Muon.genPartFlav == 1)\n",
    ")\n",
    "Muon = Muon[MuSelmask]\n",
    "\n",
    "# Loose Muon selection\n",
    "MuSelmask = (\n",
    "    (LooseMuon.pt >= 10)\n",
    "    & (abs(LooseMuon.eta) <= 2.5)\n",
    "    & (LooseMuon.looseId)\n",
    "    & (LooseMuon.pfRelIso04_all < 0.4)\n",
    ")\n",
    "LooseMuon = LooseMuon[MuSelmask]\n",
    "\n",
    "# Loose but not tight Muon selection\n",
    "MuSelmask = (\n",
    "    (LoosebutNotTightMuon.pt >= 10)\n",
    "    & (abs(LoosebutNotTightMuon.eta) <= 2.5)\n",
    "    & (LoosebutNotTightMuon.looseId)\n",
    "    & (LoosebutNotTightMuon.pfRelIso04_all < 0.4)\n",
    "    & (LoosebutNotTightMuon.pfRelIso04_all >= 0.15)\n",
    ")\n",
    "LoosebutNotTightMuon = LoosebutNotTightMuon[MuSelmask]\n",
    "\n",
    "# Electron selection\n",
    "EleSelmask = (\n",
    "    (Electron.pt >= 10)\n",
    "    & (np.abs(Electron.eta + Electron.deltaEtaSC) < 1.479)\n",
    "    & (Electron.cutBased > 2)\n",
    "    & (abs(Electron.dxy) < 0.05)\n",
    "    & (abs(Electron.dz) < 0.1)\n",
    "    & (Electron.genPartFlav == 1)\n",
    ") | (\n",
    "    (Electron.pt >= 10)\n",
    "    & (np.abs(Electron.eta + Electron.deltaEtaSC) > 1.479)\n",
    "    & (np.abs(Electron.eta + Electron.deltaEtaSC) <= 2.5)\n",
    "    & (Electron.cutBased > 2)\n",
    "    & (abs(Electron.dxy) < 0.1)\n",
    "    & (abs(Electron.dz) < 0.2)\n",
    "    & (Electron.genPartFlav == 1)\n",
    ")\n",
    "Electron = Electron[EleSelmask]\n",
    "\n",
    "\n",
    "# Loose Electron selection\n",
    "EleSelmask = (\n",
    "    (LooseElectron.pt >= 10)\n",
    "    & (np.abs(LooseElectron.eta + LooseElectron.deltaEtaSC) < 1.479)\n",
    "    & (LooseElectron.cutBased >= 1)\n",
    "    & (abs(LooseElectron.dxy) < 0.05)\n",
    "    & (abs(LooseElectron.dz) < 0.1)\n",
    "    & (LooseElectron.genPartFlav == 1)\n",
    ") | (\n",
    "    (LooseElectron.pt >= 10)\n",
    "    & (np.abs(LooseElectron.eta + LooseElectron.deltaEtaSC) > 1.479)\n",
    "    & (np.abs(LooseElectron.eta + LooseElectron.deltaEtaSC) <= 2.5)\n",
    "    & (LooseElectron.cutBased >= 1)\n",
    "    & (abs(LooseElectron.dxy) < 0.1)\n",
    "    & (abs(LooseElectron.dz) < 0.2)\n",
    "    & (LooseElectron.genPartFlav == 1)\n",
    ")\n",
    "LooseElectron = LooseElectron[EleSelmask]\n",
    "\n",
    "# Loose Electron selection\n",
    "EleSelmask = (\n",
    "    (LoosebutNotTightElectron.pt >= 10)\n",
    "    & (np.abs(LoosebutNotTightElectron.eta + LoosebutNotTightElectron.deltaEtaSC) < 1.479)\n",
    "    & (LoosebutNotTightElectron.cutBased >= 1)\n",
    "    & (LoosebutNotTightElectron.cutBased < 3)\n",
    "    & (abs(LoosebutNotTightElectron.dxy) < 0.05)\n",
    "    & (abs(LoosebutNotTightElectron.dz) < 0.1)\n",
    "    & (LoosebutNotTightElectron.genPartFlav == 1)\n",
    ") | (\n",
    "    (LoosebutNotTightElectron.pt >= 10)\n",
    "    & (np.abs(LoosebutNotTightElectron.eta + LoosebutNotTightElectron.deltaEtaSC) > 1.479)\n",
    "    & (np.abs(LoosebutNotTightElectron.eta + LoosebutNotTightElectron.deltaEtaSC) <= 2.5)\n",
    "    & (LoosebutNotTightElectron.cutBased >= 1)\n",
    "    & (LoosebutNotTightElectron.cutBased < 3)\n",
    "    & (abs(LoosebutNotTightElectron.dxy) < 0.1)\n",
    "    & (abs(LoosebutNotTightElectron.dz) < 0.2)\n",
    "    & (LoosebutNotTightElectron.genPartFlav == 1)\n",
    ")\n",
    "LoosebutNotTightElectron = LoosebutNotTightElectron[EleSelmask]"
   ]
  },
  {
   "cell_type": "markdown",
   "id": "435f6d6a-1fe4-413f-9134-a5db883f1bba",
   "metadata": {},
   "source": [
    "---\n",
    "---"
   ]
  },
  {
   "cell_type": "markdown",
   "id": "28e60d07-eac5-467a-a2f8-63f3da0ef876",
   "metadata": {},
   "source": [
    "# eee channel\n",
    "### OSSF"
   ]
  },
  {
   "cell_type": "code",
   "execution_count": 6,
   "id": "4ff0867a-6506-4d0d-ae5d-69e217cddae7",
   "metadata": {},
   "outputs": [
    {
     "name": "stdout",
     "output_type": "stream",
     "text": [
      "passing eee ch mask:  1769\n",
      "[-1, 1, 1] [(0, 1, 2), (0, 2, 1)]\n",
      "[1, 1, -1] [(0, 2, 1), (1, 2, 0)]\n",
      "[-1, 1, 1] [(0, 1, 2), (0, 2, 1)]\n",
      "[1, 1, -1] [(0, 2, 1), (1, 2, 0)]\n",
      "[1, 1, -1] [(0, 2, 1), (1, 2, 0)]\n",
      "passing ossf:  1755\n",
      "[[51.5, 51.5], [49.4, 43.3], [62.8, 62.8], ... [240, 132], [101, 80], [35.5, 25.9]]\n",
      "[[67, 131], [55.2, 61.5], [89, 69.5], ... [90.5, 83], [188, 90.2], [54.3, 59.7]]\n",
      "[[0], [1], [0], [0], [0], [0], [1], [0], ... [0], [1], [0], [1], [0], [0], [1], [1]]\n",
      "[[51.5], [43.3], [62.8], [60], [167], ... [93.1], [73.9], [240], [80], [25.9]]\n",
      "[[67], [61.5], [89], [72.5], [81.8], ... [91.6], [70.1], [90.5], [90.2], [59.7]]\n"
     ]
    }
   ],
   "source": [
    "# remove evt with conataining loose but not tight leptons\n",
    "\n",
    "Loose_lepton_veto = ((ak.num(LoosebutNotTightElectron) + ak.num(LoosebutNotTightMuon)) == 0)\n",
    "eee_ch_mask       = (ak.num(Electron)==3) & (ak.num(Muon)==0)\n",
    "\n",
    "Ele_Mask = (Loose_lepton_veto & eee_ch_mask)\n",
    "\n",
    "Electron = Electron[Ele_Mask]\n",
    "LooseElectron = LooseElectron[Ele_Mask]\n",
    "LoosebutNotTightElectron = LoosebutNotTightElectron[Ele_Mask]\n",
    "\n",
    "Muon = Muon[Ele_Mask]\n",
    "LooseMuon = LooseMuon[Ele_Mask]\n",
    "LoosebutNotTightMuon = LoosebutNotTightMuon[Ele_Mask]\n",
    "\n",
    "Photon = Photon[Ele_Mask]\n",
    "MET = MET[Ele_Mask]\n",
    "Jet = Jet[Ele_Mask]\n",
    "events = events[Ele_Mask]\n",
    "\n",
    "print(\"passing eee ch mask: \",len(events))\n",
    "\n",
    "\n",
    "##----------- Cut flow4: OSSF\n",
    "# OSSF index maker\n",
    "@numba.njit\n",
    "def find_3lep(events_leptons, builder):\n",
    "    for leptons in events_leptons:\n",
    "\n",
    "        builder.begin_list()\n",
    "        nlep = len(leptons)\n",
    "        for i0 in range(nlep):\n",
    "            for i1 in range(i0 + 1, nlep):\n",
    "                if leptons[i0].charge + leptons[i1].charge != 0:\n",
    "                    continue\n",
    "\n",
    "                for i2 in range(nlep):\n",
    "                    if len({i0, i1, i2}) < 3:\n",
    "                        continue\n",
    "                    builder.begin_tuple(3)\n",
    "                    builder.index(0).integer(i0)\n",
    "                    builder.index(1).integer(i1)\n",
    "                    builder.index(2).integer(i2)\n",
    "                    builder.end_tuple()\n",
    "        builder.end_list()\n",
    "    return builder\n",
    "\n",
    "eee_triplet_idx = find_3lep(Electron, ak.ArrayBuilder()).snapshot()\n",
    "ossf_mask = ak.num(eee_triplet_idx) == 2\n",
    "\n",
    "for i,j in zip(Electron.charge[:5],eee_triplet_idx[:5]):\n",
    "    print(i,j)\n",
    "\n",
    "eee_triplet_idx = eee_triplet_idx[ossf_mask]\n",
    "Electron = Electron[ossf_mask]\n",
    "Photon = Photon[ossf_mask]\n",
    "Jet = Jet[ossf_mask]\n",
    "MET = MET[ossf_mask]\n",
    "events = events[ossf_mask]\n",
    "print(\"passing ossf: \",len(events))\n",
    "\n",
    "Triple_electron = [Electron[eee_triplet_idx[idx]] for idx in \"012\"]\n",
    "Triple_eee = ak.zip(\n",
    "    {\n",
    "        \"lep1\": Triple_electron[0],\n",
    "        \"lep2\": Triple_electron[1],\n",
    "        \"lep3\": Triple_electron[2],\n",
    "        \"p4\": TLorentz_vector(Triple_electron[0] + Triple_electron[1]),\n",
    "    }\n",
    ")\n",
    "\n",
    "print(Triple_eee.lep1.pt)\n",
    "print(Triple_eee.p4.mass)\n",
    "bestZ_idx = ak.singletons(ak.argmin(abs(Triple_eee.p4.mass - 91.1876), axis=1))\n",
    "print(bestZ_idx)\n",
    "\n",
    "Triple_eee = Triple_eee[bestZ_idx]\n",
    "print(Triple_eee.lep1.pt)\n",
    "print(Triple_eee.p4.mass)\n",
    "\n",
    "leading_ele = Triple_eee.lep1\n",
    "subleading_ele = Triple_eee.lep2\n",
    "third_ele = Triple_eee.lep3\n",
    "\n",
    "\n"
   ]
  },
  {
   "cell_type": "markdown",
   "id": "6ca46791-c4e8-43f9-afb3-7e553168366d",
   "metadata": {},
   "source": [
    "### Baseline"
   ]
  },
  {
   "cell_type": "code",
   "execution_count": 7,
   "id": "749265cc-caea-4789-87ac-033646be95ab",
   "metadata": {},
   "outputs": [
    {
     "name": "stdout",
     "output_type": "stream",
     "text": [
      "passing baseline sel:  1364\n"
     ]
    }
   ],
   "source": [
    "diele = Triple_eee.p4\n",
    "Mee_cut_mask = ak.firsts(diele.mass) > 4\n",
    "Elept_mask = ak.firsts(\n",
    "    (leading_ele.pt >= 25) & (subleading_ele.pt >= 10) & (third_ele.pt >= 25)\n",
    ")\n",
    "Baseline_mask = Elept_mask & Mee_cut_mask\n",
    "Triple_eee_base = Triple_eee[Baseline_mask]\n",
    "Electron_base = Electron[Baseline_mask]\n",
    "MET_base = MET[Baseline_mask] \n",
    "events_base = events[Baseline_mask]\n",
    "if ak.sum(ak.num(Muon)) != 0:\n",
    "    Muon_base = Muon[Baseline_mask]\n",
    "\n",
    "if ak.sum(ak.num(Jet)) != 0:\n",
    "    Jet_base = Jet[Baseline_mask]\n",
    "    \n",
    "    \n",
    "print(\"passing baseline sel: \",len(events_base))"
   ]
  },
  {
   "cell_type": "code",
   "execution_count": 8,
   "id": "4d811dca-1dfe-47f6-9244-dd16135b168b",
   "metadata": {},
   "outputs": [],
   "source": [
    "# Photon Selection\n",
    "isgap_mask = (abs(Photon.eta) < 1.442) | (\n",
    "    (abs(Photon.eta) > 1.566) & (abs(Photon.eta) < 2.5)\n",
    ")\n",
    "\n",
    "Pixel_seed_mask = ~Photon.pixelSeed\n",
    "PT_ID_mask = (Photon.pt >= 20) & (Photon.cutBased > 1)\n",
    "\n",
    "if ak.sum(ak.num(Muon)) > 0:\n",
    "    dr_mask = (ak.all(Photon.metric_table(Muon) >= 0.5, axis=-1) &\n",
    "              ak.all(Photon.metric_table(Electron) >= 0.5, axis=-1))\n",
    "else:\n",
    "    dr_mask = ak.all(Photon.metric_table(Electron) >= 0.5, axis=-1)\n",
    "\n",
    "genPartFlav_mask =  (Photon.genPartFlav == 1)\n",
    "PhoSelmask = (genPartFlav_mask & PT_ID_mask & isgap_mask & Pixel_seed_mask & dr_mask)\n",
    "Photon = Photon[PhoSelmask]\n",
    "\n",
    "A_photon_mask = ak.num(Photon) > 0\n",
    "\n",
    "def make_leading_pair(target, base):\n",
    "    return target[ak.argmax(base.pt, axis=1, keepdims=True)]\n",
    "leading_pho = make_leading_pair(Photon, Photon)\n",
    "\n",
    "# --veto Bjet\n",
    "dr_jet_ele_mask = ak.all(\n",
    "    Jet.metric_table(Electron) >= 0.5, axis=-1\n",
    ")\n",
    "if ak.sum(ak.num(Muon)) != 0:\n",
    "    dr_jet_mu_mask = ak.all(Jet.metric_table(Muon) >= 0.5, axis=-1)\n",
    "    bJet_mask =  (Jet.pt > 10) & (abs(Jet.eta) <2.4) & (dr_jet_ele_mask) & (dr_jet_mu_mask) & (Jet.btagDeepB > 0.7665)\n",
    "\n",
    "else:\n",
    "    bJet_mask =  (Jet.pt > 10) & (abs(Jet.eta) <2.4) & (dr_jet_ele_mask) & (Jet.btagDeepB > 0.7665)\n",
    "Jet = Jet[bJet_mask]"
   ]
  },
  {
   "cell_type": "markdown",
   "id": "458710cf-58e0-43ec-8138-9c0f5a5dee17",
   "metadata": {},
   "source": [
    "### Signal"
   ]
  },
  {
   "cell_type": "code",
   "execution_count": 9,
   "id": "f414580a-9880-4a4d-a600-08c7dc15734d",
   "metadata": {},
   "outputs": [
    {
     "name": "stdout",
     "output_type": "stream",
     "text": [
      "passing SR:  204\n"
     ]
    }
   ],
   "source": [
    "Zmass_window_mask = ak.firsts(abs(Triple_eee.p4.mass - 91.1876)) <= 15\n",
    "MET_mask = MET.pt > 20\n",
    "bjet_veto = ak.num(Jet) == 0\n",
    "SR_mask =  (Zmass_window_mask & MET_mask & bjet_veto)\n",
    "SR_mask\t= (Baseline_mask  & A_photon_mask & SR_mask)\n",
    "\n",
    "\n",
    "Triple_eee_SR= Triple_eee[SR_mask]\n",
    "leading_pho_SR= leading_pho[SR_mask]\n",
    "events_SR= events[SR_mask]\n",
    "\n",
    "print(\"passing SR: \",len(events_SR))"
   ]
  },
  {
   "cell_type": "markdown",
   "id": "e415d50f-26b0-4f35-ac9d-be7e1124eb58",
   "metadata": {},
   "source": [
    "---\n",
    "---\n",
    "# eem channel"
   ]
  },
  {
   "cell_type": "markdown",
   "id": "f0676837-785c-4a07-981d-1a6088f4f60c",
   "metadata": {},
   "source": [
    "### ossf"
   ]
  },
  {
   "cell_type": "code",
   "execution_count": 6,
   "id": "ba9c48c4-483c-403c-a2b2-99aca782cf56",
   "metadata": {},
   "outputs": [
    {
     "name": "stdout",
     "output_type": "stream",
     "text": [
      "passing eem ch mask:  2160\n",
      "passing ossf mask:  2128\n"
     ]
    }
   ],
   "source": [
    "# remove evt with conataining loose but not tight leptons\n",
    "Loose_lepton_veto = ((ak.num(LoosebutNotTightElectron) + ak.num(LoosebutNotTightMuon)) == 0)\n",
    "eem_ch_mask       = (ak.num(Electron)==2) & (ak.num(Muon)==1)\n",
    "\n",
    "Ele_Mask = (Loose_lepton_veto & eem_ch_mask)\n",
    "\n",
    "Electron = Electron[Ele_Mask]\n",
    "Muon = Muon[Ele_Mask]\n",
    "Photon = Photon[Ele_Mask]\n",
    "MET = MET[Ele_Mask]\n",
    "Jet = Jet[Ele_Mask]\n",
    "events = events[Ele_Mask]\n",
    "\n",
    "print(\"passing eem ch mask: \",len(events))\n",
    "\n",
    "\n",
    "ossf_mask = (Electron.charge[:, 0] + Electron.charge[:, 1] == 0)\n",
    "Electron = Electron[ossf_mask]\n",
    "Muon = Muon[ossf_mask]\n",
    "Photon = Photon[ossf_mask]\n",
    "MET = MET[ossf_mask]\n",
    "Jet = Jet[ossf_mask]\n",
    "events = events[ossf_mask]\n",
    "\n",
    "print(\"passing ossf mask: \", len(events))"
   ]
  },
  {
   "cell_type": "markdown",
   "id": "d289e1b2-cc22-4010-9427-6f27f67844a1",
   "metadata": {},
   "source": [
    "### Baseline"
   ]
  },
  {
   "cell_type": "code",
   "execution_count": 9,
   "id": "69af7272-6289-48ca-9c92-c0a7f2ce55f9",
   "metadata": {},
   "outputs": [
    {
     "name": "stdout",
     "output_type": "stream",
     "text": [
      "passing baseline sel:  1727\n"
     ]
    }
   ],
   "source": [
    "diele = Electron[:,0] + Electron[:,1]\n",
    "Mee_cut_mask = (diele.mass) > 4\n",
    "Elept_mask = (\n",
    "    (Electron[:,0].pt >= 25) & (Electron[:,1].pt >= 10) & ak.firsts(Muon.pt >= 25)\n",
    ")\n",
    "Baseline_mask = Elept_mask & Mee_cut_mask\n",
    "diele_base = diele[Baseline_mask]\n",
    "Electron_base = Electron[Baseline_mask]\n",
    "MET_base = MET[Baseline_mask] \n",
    "events_base = events[Baseline_mask]\n",
    "if ak.sum(ak.num(Muon)) != 0:\n",
    "    Muon_base = Muon[Baseline_mask]\n",
    "\n",
    "if ak.sum(ak.num(Jet)) != 0:\n",
    "    Jet_base = Jet[Baseline_mask]\n",
    "    \n",
    "    \n",
    "print(\"passing baseline sel: \",len(events_base))"
   ]
  },
  {
   "cell_type": "markdown",
   "id": "39a1b2e8-5bf3-4b17-aa84-2991b3e7fde4",
   "metadata": {},
   "source": [
    "### Signal"
   ]
  },
  {
   "cell_type": "code",
   "execution_count": null,
   "id": "cb80d9bc-9336-4a47-b1b7-ed4a3ae9b1b3",
   "metadata": {},
   "outputs": [],
   "source": [
    "# Photon Selection\n",
    "isgap_mask = (abs(Photon.eta) < 1.442) | (\n",
    "    (abs(Photon.eta) > 1.566) & (abs(Photon.eta) < 2.5)\n",
    ")\n",
    "\n",
    "Pixel_seed_mask = ~Photon.pixelSeed\n",
    "PT_ID_mask = (Photon.pt >= 20) & (Photon.cutBased > 1)\n",
    "\n",
    "if ak.sum(ak.num(Muon)) > 0:\n",
    "    dr_mask = (ak.all(Photon.metric_table(Muon) >= 0.5, axis=-1) &\n",
    "              ak.all(Photon.metric_table(Electron) >= 0.5, axis=-1))\n",
    "else:\n",
    "    dr_mask = ak.all(Photon.metric_table(Electron) >= 0.5, axis=-1)\n",
    "\n",
    "genPartFlav_mask =  (Photon.genPartFlav == 1)\n",
    "PhoSelmask = (genPartFlav_mask & PT_ID_mask & isgap_mask & Pixel_seed_mask & dr_mask)\n",
    "Photon = Photon[PhoSelmask]\n",
    "\n",
    "A_photon_mask = ak.num(Photon) > 0\n",
    "\n",
    "def make_leading_pair(target, base):\n",
    "    return target[ak.argmax(base.pt, axis=1, keepdims=True)]\n",
    "leading_pho = make_leading_pair(Photon, Photon)\n",
    "\n",
    "# --veto Bjet\n",
    "dr_jet_ele_mask = ak.all(\n",
    "    Jet.metric_table(Electron) >= 0.5, axis=-1\n",
    ")\n",
    "if ak.sum(ak.num(Muon)) != 0:\n",
    "    dr_jet_mu_mask = ak.all(Jet.metric_table(Muon) >= 0.5, axis=-1)\n",
    "    bJet_mask =  (Jet.pt > 10) & (abs(Jet.eta) <2.4) & (dr_jet_ele_mask) & (dr_jet_mu_mask) & (Jet.btagDeepB > 0.7665)\n",
    "\n",
    "else:\n",
    "    bJet_mask =  (Jet.pt > 10) & (abs(Jet.eta) <2.4) & (dr_jet_ele_mask) & (Jet.btagDeepB > 0.7665)\n",
    "Jet = Jet[bJet_mask]"
   ]
  },
  {
   "cell_type": "code",
   "execution_count": 11,
   "id": "ee30930b-c0ba-47b0-ae5b-b89566a25be5",
   "metadata": {},
   "outputs": [
    {
     "name": "stdout",
     "output_type": "stream",
     "text": [
      "passing SR:  240\n"
     ]
    }
   ],
   "source": [
    "Zmass_window_mask = (abs(diele.mass - 91.1876)) <= 15\n",
    "MET_mask = MET.pt > 20\n",
    "bjet_veto = ak.num(Jet) == 0\n",
    "SR_mask =  (Zmass_window_mask & MET_mask & bjet_veto)\n",
    "SR_mask\t= (Baseline_mask  & A_photon_mask & SR_mask)\n",
    "\n",
    "\n",
    "diele_SR= diele[SR_mask]\n",
    "leading_pho_SR= leading_pho[SR_mask]\n",
    "events_SR= events[SR_mask]\n",
    "\n",
    "print(\"passing SR: \",len(events_SR))"
   ]
  }
 ],
 "metadata": {
  "kernelspec": {
   "display_name": "Python 3",
   "language": "python",
   "name": "python3"
  },
  "language_info": {
   "codemirror_mode": {
    "name": "ipython",
    "version": 3
   },
   "file_extension": ".py",
   "mimetype": "text/x-python",
   "name": "python",
   "nbconvert_exporter": "python",
   "pygments_lexer": "ipython3",
   "version": "3.8.8"
  }
 },
 "nbformat": 4,
 "nbformat_minor": 5
}
