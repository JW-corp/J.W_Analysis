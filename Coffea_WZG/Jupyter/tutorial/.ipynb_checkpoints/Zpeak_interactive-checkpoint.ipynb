{
 "cells": [
  {
   "cell_type": "markdown",
   "metadata": {},
   "source": [
    "### #1. Setup"
   ]
  },
  {
   "cell_type": "code",
   "execution_count": 1,
   "metadata": {},
   "outputs": [],
   "source": [
    "import awkward as ak\n",
    "from coffea.nanoevents import NanoEventsFactory, NanoAODSchema\n",
    "import numpy as np\n",
    "import matplotlib.pyplot as plt"
   ]
  },
  {
   "cell_type": "code",
   "execution_count": 2,
   "metadata": {},
   "outputs": [],
   "source": [
    "infile= \"../data/DY/3FCF21DC-F295-754F-9FFF-557FF2195660_skim_2ElIdPt20.root\" # ZZ\n",
    "dataset=\"DY\"\n",
    "year='2018'"
   ]
  },
  {
   "cell_type": "code",
   "execution_count": 3,
   "metadata": {},
   "outputs": [],
   "source": [
    "events = NanoEventsFactory.from_root(infile, schemaclass=NanoAODSchema).events()"
   ]
  },
  {
   "cell_type": "code",
   "execution_count": 4,
   "metadata": {},
   "outputs": [
    {
     "data": {
      "text/plain": [
       "<NanoEventsArray [<event 1:1:33>, ... ] type='249779 * event'>"
      ]
     },
     "execution_count": 4,
     "metadata": {},
     "output_type": "execute_result"
    }
   ],
   "source": [
    "events"
   ]
  },
  {
   "cell_type": "code",
   "execution_count": 5,
   "metadata": {},
   "outputs": [
    {
     "data": {
      "text/plain": [
       "['L1', 'L1simulation', 'HLTriggerFirstPath', 'DeepMETResolutionTune', 'MET']"
      ]
     },
     "execution_count": 5,
     "metadata": {},
     "output_type": "execute_result"
    }
   ],
   "source": [
    "events.fields[:5]"
   ]
  },
  {
   "cell_type": "code",
   "execution_count": 6,
   "metadata": {},
   "outputs": [],
   "source": [
    "isData = \"genWeight\" not in events.fields"
   ]
  },
  {
   "cell_type": "markdown",
   "metadata": {},
   "source": [
    "### #2. Helper function"
   ]
  },
  {
   "cell_type": "code",
   "execution_count": 7,
   "metadata": {},
   "outputs": [],
   "source": [
    "# << Sort by PT  helper function >>\n",
    "def sort_by_pt(ele,pho,jet):\n",
    "    ele = ele[ak.argsort(ele.pt,ascending=False,axis=1)]\n",
    "    pho = pho[ak.argsort(pho.pt,ascending=False,axis=1)]\n",
    "    jet = jet[ak.argsort(jet.pt,ascending=False,axis=1)]\n",
    "\n",
    "    return ele,pho,jet\n",
    "events.Electron, events.Photon, events.Jet = sort_by_pt(\n",
    "            events.Electron, events.Photon, events.Jet\n",
    "        )"
   ]
  },
  {
   "cell_type": "markdown",
   "metadata": {},
   "source": [
    "### #3. Good-Run check ( Data-only )"
   ]
  },
  {
   "cell_type": "code",
   "execution_count": 8,
   "metadata": {},
   "outputs": [],
   "source": [
    "from coffea import lumi_tools\n",
    "\n",
    "# Golden Json file\n",
    "if (year == \"2018\") and isData:\n",
    "    injson = \"data/json/Cert_314472-325175_13TeV_Legacy2018_Collisions18_JSON.txt.RunABD\"\n",
    "\n",
    "if isData:\n",
    "    lumi_mask_builder = lumi_tools.LumiMask(injson)\n",
    "    lumimask = ak.Array(\n",
    "        lumi_mask_builder.__call__(events.run, events.luminosityBlock)\n",
    "    )\n",
    "    events = events[lumimask]"
   ]
  },
  {
   "cell_type": "markdown",
   "metadata": {},
   "source": [
    "### #4. Trigger"
   ]
  },
  {
   "cell_type": "code",
   "execution_count": 9,
   "metadata": {},
   "outputs": [],
   "source": [
    "# Trigger set\n",
    "doubleelectron_triggers  ={\n",
    "    '2018': [\n",
    "            \"Ele23_Ele12_CaloIdL_TrackIdL_IsoVL\", # Recomended\n",
    "            ]\n",
    "}"
   ]
  },
  {
   "cell_type": "code",
   "execution_count": 10,
   "metadata": {},
   "outputs": [
    {
     "data": {
      "text/plain": [
       "['AK8PFJet360_TrimMass30',\n",
       " 'AK8PFJet380_TrimMass30',\n",
       " 'AK8PFJet400_TrimMass30',\n",
       " 'AK8PFJet420_TrimMass30',\n",
       " 'AK8PFHT750_TrimMass50']"
      ]
     },
     "execution_count": 10,
     "metadata": {},
     "output_type": "execute_result"
    }
   ],
   "source": [
    "events.HLT.fields[:5]"
   ]
  },
  {
   "cell_type": "code",
   "execution_count": 11,
   "metadata": {},
   "outputs": [
    {
     "data": {
      "text/plain": [
       "<Array [True, True, True, ... True, False] type='249779 * bool[parameters={\"__do...'>"
      ]
     },
     "execution_count": 11,
     "metadata": {},
     "output_type": "execute_result"
    }
   ],
   "source": [
    "events.HLT['Ele23_Ele12_CaloIdL_TrackIdL_IsoVL']"
   ]
  },
  {
   "cell_type": "code",
   "execution_count": 12,
   "metadata": {},
   "outputs": [
    {
     "name": "stdout",
     "output_type": "stream",
     "text": [
      "Events passing triggers and skiimig:  216549\n"
     ]
    },
    {
     "name": "stderr",
     "output_type": "stream",
     "text": [
      "<ipython-input-12-efa5ac611511>:6: DeprecationWarning: `np.bool` is a deprecated alias for the builtin `bool`. To silence this warning, use `bool` by itself. Doing this will not modify any behavior and is safe. If you specifically wanted the numpy scalar type, use `np.bool_` here.\n",
      "Deprecated in NumPy 1.20; for more details and guidance: https://numpy.org/devdocs/release/1.20.0-notes.html#deprecations\n",
      "  double_ele_triggers_arr = np.zeros(len(events), dtype=np.bool)\n"
     ]
    }
   ],
   "source": [
    "# double lepton trigger\n",
    "is_double_ele_trigger=True\n",
    "if not is_double_ele_trigger:\n",
    "    double_ele_triggers_arr=np.ones(len(events), dtype=np.bool)\n",
    "else:\n",
    "    double_ele_triggers_arr = np.zeros(len(events), dtype=np.bool)\n",
    "    for path in doubleelectron_triggers[year]:\n",
    "        if path not in events.HLT.fields: continue\n",
    "        double_ele_triggers_arr = double_ele_triggers_arr | events.HLT[path]\n",
    "\n",
    "\n",
    "# Sort particle order by PT  # RunD --> has problem\n",
    "events.Electron,events.Photon,events.Jet = sort_by_pt(events.Electron,events.Photon,events.Jet)\n",
    "\n",
    "# Apply trigger\n",
    "Initial_events = events\n",
    "events = events[double_ele_triggers_arr]\n",
    "print(\"Events passing triggers and skiimig: \",len(events) )"
   ]
  },
  {
   "cell_type": "code",
   "execution_count": 13,
   "metadata": {},
   "outputs": [],
   "source": [
    "# Set Particle\n",
    "Electron = events.Electron"
   ]
  },
  {
   "cell_type": "markdown",
   "metadata": {},
   "source": [
    "### #5. Object selection: Electron"
   ]
  },
  {
   "cell_type": "code",
   "execution_count": 14,
   "metadata": {},
   "outputs": [],
   "source": [
    "##----------- Cut flow2: Electron Selection\n",
    "\n",
    "EleSelmask = (\n",
    "    (Electron.pt >= 10)\n",
    "    & (np.abs(Electron.eta + Electron.deltaEtaSC) < 1.479)\n",
    "    & (Electron.cutBased > 2)\n",
    "    & (abs(Electron.dxy) < 0.05)\n",
    "    & (abs(Electron.dz) < 0.1)\n",
    ") | (\n",
    "    (Electron.pt >= 10)\n",
    "    & (np.abs(Electron.eta + Electron.deltaEtaSC) > 1.479)\n",
    "    & (np.abs(Electron.eta + Electron.deltaEtaSC) <= 2.5)\n",
    "    & (Electron.cutBased > 2)\n",
    "    & (abs(Electron.dxy) < 0.1)\n",
    "    & (abs(Electron.dz) < 0.2)\n",
    ")\n",
    "\n",
    "Electron = Electron[EleSelmask]"
   ]
  },
  {
   "cell_type": "code",
   "execution_count": 15,
   "metadata": {},
   "outputs": [],
   "source": [
    "# apply cut 2\n",
    "Diele_mask = ak.num(Electron) == 2\n",
    "Electron = Electron[Diele_mask]\n",
    "events = events[Diele_mask]"
   ]
  },
  {
   "cell_type": "code",
   "execution_count": 16,
   "metadata": {},
   "outputs": [
    {
     "data": {
      "text/plain": [
       "167811"
      ]
     },
     "execution_count": 16,
     "metadata": {},
     "output_type": "execute_result"
    }
   ],
   "source": [
    "len(events)"
   ]
  },
  {
   "cell_type": "code",
   "execution_count": 19,
   "metadata": {},
   "outputs": [
    {
     "name": "stdout",
     "output_type": "stream",
     "text": [
      "[[53.1, 21.5], [41.2, 22.4], [48.1, 42.1, ... 39.6], [46.1, 37.2], [48.2, 41.8]]\n",
      "[53.1, 41.2, 48.1, 39.1, 40.3, 46.8, 48.1, ... 47, 50.4, 52.1, 44.2, 46.1, 48.2]\n",
      "[21.5, 22.4, 42.1, 33.4, 26.5, 44.5, 47.2, ... 39.1, 42.1, 22.2, 39.6, 37.2, 41.8]\n",
      "[33, 18.8, 21.8, 28.8, 14.1, 2.55, 27, ... 3.83, 10.6, 9.66, 35.9, 52.8, 13.2, 20.1]\n",
      "[94.1, 90.8, 89.9, 90.8, 65.9, 91.7, 92.3, ... 52.1, 87.8, 92, 85.7, 72, 88.8, 92.1]\n",
      "[{x: -31.5, y: 9.54, z: 162, t: 190, charge: 0}, ... z: -88, t: 129, charge: 0}]\n"
     ]
    }
   ],
   "source": [
    "print(Electron.pt)\n",
    "print(Electron[:,0].pt)\n",
    "print(Electron[:,1].pt)\n",
    "print((Electron[:,0] + Electron[:,1]).pt)\n",
    "print((Electron[:,0] + Electron[:,1]).mass)\n",
    "print(Electron[:,0] + Electron[:,1])"
   ]
  },
  {
   "cell_type": "markdown",
   "metadata": {},
   "source": [
    "### #6. Event selection ( e+ e- from Z )"
   ]
  },
  {
   "cell_type": "code",
   "execution_count": 18,
   "metadata": {},
   "outputs": [],
   "source": [
    "diele = Electron[:,0] + Electron[:,1]\n",
    "\n",
    "# OSSF\n",
    "ossf_mask = (diele.charge == 0)\n",
    "\n",
    "# Z mass window\n",
    "Mee_cut_mask = diele.mass > 10\n",
    "\n",
    "# Electron PT cuts\n",
    "Elept_mask = (Electron[:,0].pt >= 25) & (Electron[:,1].pt >= 10) \n",
    "\n",
    "# MET cuts\n",
    "\n",
    "# Mask\n",
    "Event_sel_mask = Elept_mask & ossf_mask & Mee_cut_mask  "
   ]
  },
  {
   "cell_type": "code",
   "execution_count": 20,
   "metadata": {},
   "outputs": [],
   "source": [
    "diele = diele[Event_sel_mask]\n",
    "Electron = Electron[Event_sel_mask]\n",
    "events = events[Event_sel_mask]"
   ]
  },
  {
   "cell_type": "code",
   "execution_count": 21,
   "metadata": {},
   "outputs": [
    {
     "data": {
      "text/plain": [
       "165812"
      ]
     },
     "execution_count": 21,
     "metadata": {},
     "output_type": "execute_result"
    }
   ],
   "source": [
    "len(events)"
   ]
  },
  {
   "cell_type": "markdown",
   "metadata": {},
   "source": [
    "### #7. Draw hist (1) Matplotlib "
   ]
  },
  {
   "cell_type": "code",
   "execution_count": 21,
   "metadata": {},
   "outputs": [],
   "source": [
    "import mplhep as hep"
   ]
  },
  {
   "cell_type": "code",
   "execution_count": 22,
   "metadata": {},
   "outputs": [],
   "source": [
    "def draw(arr, title, start, end, bin):  # Array, Name, x_min, x_max, bin-number\n",
    "\n",
    "\n",
    "\t# ROOT-like format\n",
    "\tplt.style.use(hep.style.ROOT)\n",
    "\n",
    "\tplt.figure(figsize=(8, 8))  # Figure size\n",
    "\tbins = np.linspace(start, end, bin)  # divide start-end range with 'bin' number\n",
    "\tbinwidth = (end - start) / bin  # width of one bin\n",
    "\n",
    "\t# Draw histogram\n",
    "\tplt.hist(arr, bins=bins, alpha=0.7, label=title)  # label is needed to draw legend\n",
    "\n",
    "\tplt.xticks(fontsize=16)  # xtick size\n",
    "\tplt.xlabel(title, fontsize=16)  # X-label\n",
    "\t# plt.xlabel('$e_{PT}',fontsize=16) # X-label (If you want LateX format)\n",
    "\n",
    "\tplt.ylabel(\"Number of Events/(%d GeV)\" % binwidth, fontsize=16)  # Y-label\n",
    "\t# plt.ylabel('Number of Events',fontsize=16) # Y-label withou bin-width\n",
    "\tplt.yticks(fontsize=16)  # ytick size\n",
    "\n",
    "\tplt.grid(alpha=0.5)  # grid\n",
    "\tplt.legend(prop={\"size\": 15})  # show legend\n",
    "\t# plt.yscale('log')\t# log scale\n",
    "\n",
    "\t#outname_fig = title + \".png\"\n",
    "\t#plt.savefig(outname_fig)\n",
    "\tplt.show()  # show histogram\n",
    "\tplt.close()"
   ]
  },
  {
   "cell_type": "code",
   "execution_count": 23,
   "metadata": {},
   "outputs": [
    {
     "data": {
      "image/png": "[encoded data removed]",
      "text/plain": [
       "<Figure size 576x576 with 1 Axes>"
      ]
     },
     "metadata": {
      "needs_background": "light"
     },
     "output_type": "display_data"
    }
   ],
   "source": [
    "draw(diele.mass,\"z-peak\",0,200,100)"
   ]
  },
  {
   "cell_type": "markdown",
   "metadata": {},
   "source": [
    "### #8 Draw hist (2) Coffea"
   ]
  },
  {
   "cell_type": "code",
   "execution_count": 25,
   "metadata": {},
   "outputs": [],
   "source": [
    "import coffea.hist as hist"
   ]
  },
  {
   "cell_type": "code",
   "execution_count": 26,
   "metadata": {},
   "outputs": [],
   "source": [
    "histo = hist.Hist(\"Counts\",\n",
    "                  hist.Cat(\"dataset\", \"dataset\"),\n",
    "                  hist.Bin(\"zmass\", \"zmass\", 100, 0, 200),\n",
    "                 )"
   ]
  },
  {
   "cell_type": "code",
   "execution_count": 27,
   "metadata": {},
   "outputs": [],
   "source": [
    "histo.fill(dataset='dataset',zmass=diele.mass)"
   ]
  },
  {
   "cell_type": "code",
   "execution_count": 28,
   "metadata": {},
   "outputs": [
    {
     "data": {
      "text/plain": [
       "Text(0.5, 1.0, 'Z-peak')"
      ]
     },
     "execution_count": 28,
     "metadata": {},
     "output_type": "execute_result"
    },
    {
     "data": {
      "image/png": "[encoded data removed]",
      "text/plain": [
       "<Figure size 576x576 with 1 Axes>"
      ]
     },
     "metadata": {
      "needs_background": "light"
     },
     "output_type": "display_data"
    }
   ],
   "source": [
    "plt.rcParams[\"figure.figsize\"] = (8,8)\n",
    "hist.plot1d(histo['dataset'])\n",
    "plt.title('Z-peak',fontsize=20)"
   ]
  },
  {
   "cell_type": "markdown",
   "metadata": {},
   "source": [
    "### #9. Draw hist (2) Coffea-multi dimension axes"
   ]
  },
  {
   "cell_type": "code",
   "execution_count": 29,
   "metadata": {},
   "outputs": [],
   "source": [
    "# Define histogram:  Multiple regions with multiple Cat\n",
    "histo = hist.Hist(\"Counts\",\n",
    "                  hist.Cat(\"dataset\", \"dataset\"),\n",
    "                  hist.Cat(\"region\",\"region\"),\n",
    "                  hist.Bin(\"zmass\", \"zmass\", 100, 0, 200),\n",
    "                 )"
   ]
  },
  {
   "cell_type": "code",
   "execution_count": 30,
   "metadata": {},
   "outputs": [],
   "source": [
    "SR_mask = (diele.mass > 60) & (diele.mass < 120)\n",
    "CR_mask = ~SR_mask"
   ]
  },
  {
   "cell_type": "code",
   "execution_count": 31,
   "metadata": {},
   "outputs": [],
   "source": [
    "SR_mass_arr = diele.mass[SR_mask]\n",
    "CR_mass_arr = diele.mass[CR_mask]"
   ]
  },
  {
   "cell_type": "code",
   "execution_count": 32,
   "metadata": {},
   "outputs": [],
   "source": [
    "regions = ['SR','CR']\n",
    "zmass = {'SR': SR_mass_arr, 'CR': CR_mass_arr}"
   ]
  },
  {
   "cell_type": "code",
   "execution_count": 33,
   "metadata": {},
   "outputs": [],
   "source": [
    "# Loop over regions and fill hist\n",
    "for region in regions:\n",
    "    histo.fill(dataset='dataset',region=region, zmass=zmass[region])"
   ]
  },
  {
   "cell_type": "code",
   "execution_count": 34,
   "metadata": {},
   "outputs": [
    {
     "data": {
      "text/plain": [
       "Text(0.5, 1.0, 'Signal region')"
      ]
     },
     "execution_count": 34,
     "metadata": {},
     "output_type": "execute_result"
    },
    {
     "data": {
      "image/png": "[encoded data removed]",
      "text/plain": [
       "<Figure size 576x576 with 1 Axes>"
      ]
     },
     "metadata": {
      "needs_background": "light"
     },
     "output_type": "display_data"
    }
   ],
   "source": [
    "plt.rcParams[\"figure.figsize\"] = (8,8)\n",
    "hist.plot1d(histo['dataset'].integrate('region','SR'))\n",
    "plt.title('Signal region',fontsize=20)"
   ]
  },
  {
   "cell_type": "code",
   "execution_count": 35,
   "metadata": {},
   "outputs": [
    {
     "data": {
      "text/plain": [
       "Text(0.5, 1.0, 'Control region')"
      ]
     },
     "execution_count": 35,
     "metadata": {},
     "output_type": "execute_result"
    },
    {
     "data": {
      "image/png": "[encoded data removed]",
      "text/plain": [
       "<Figure size 576x576 with 1 Axes>"
      ]
     },
     "metadata": {
      "needs_background": "light"
     },
     "output_type": "display_data"
    }
   ],
   "source": [
    "\n",
    "plt.close()\n",
    "hist.plot1d(histo['dataset'].integrate('region','CR'))\n",
    "plt.title('Control region',fontsize=20)"
   ]
  },
  {
   "cell_type": "code",
   "execution_count": null,
   "metadata": {},
   "outputs": [],
   "source": []
  },
  {
   "cell_type": "code",
   "execution_count": null,
   "metadata": {},
   "outputs": [],
   "source": []
  }
 ],
 "metadata": {
  "kernelspec": {
   "display_name": "Python 3",
   "language": "python",
   "name": "python3"
  },
  "language_info": {
   "codemirror_mode": {
    "name": "ipython",
    "version": 3
   },
   "file_extension": ".py",
   "mimetype": "text/x-python",
   "name": "python",
   "nbconvert_exporter": "python",
   "pygments_lexer": "ipython3",
   "version": "3.8.8"
  }
 },
 "nbformat": 4,
 "nbformat_minor": 4
}
