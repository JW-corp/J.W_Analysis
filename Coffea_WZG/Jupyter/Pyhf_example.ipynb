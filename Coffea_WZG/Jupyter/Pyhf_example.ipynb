{
 "cells": [
  {
   "cell_type": "code",
   "execution_count": 1,
   "metadata": {},
   "outputs": [],
   "source": [
    "import pyhf\n",
    "import matplotlib.pyplot as plt\n",
    "import numpy as np"
   ]
  },
  {
   "cell_type": "code",
   "execution_count": 2,
   "metadata": {},
   "outputs": [],
   "source": [
    "real_y = np.array([1.0 ,37.0 ,546.0 ,110.0 ,18.0 ,7.0 ,4.0 ])\n",
    "data_y = np.array([29.0 , 543.0 , 8923.0    , 2323.0    ,1172.0 , 941.0 , 516.0])\n",
    "fake_y = np.array([4.0,117.0  ,1908.0 ,2037.0 ,1172.0 ,944.0  ,518.0])"
   ]
  },
  {
   "cell_type": "code",
   "execution_count": 3,
   "metadata": {},
   "outputs": [],
   "source": [
    "spec = {\n",
    "    \"channels\": [\n",
    "        {\n",
    "            \"name\": \"region_one\",\n",
    "            \"samples\": [\n",
    "                {\n",
    "                    \"data\": list(real_y) ,\n",
    "                    \"modifiers\": [\n",
    "                        {\"name\": \"scale_real\", \"type\": \"normfactor\", \"data\": None},\n",
    "                        {\"name\": \"dummy\", \"type\": \"normfactor\", \"data\": None},\n",
    "                    ],\n",
    "                    \"name\": \"real\",\n",
    "                },\n",
    "                {\n",
    "                    \"data\": list(fake_y),\n",
    "                    \"modifiers\": [\n",
    "                        {\"name\": \"scale_fake\", \"type\": \"normfactor\", \"data\": None}\n",
    "                    ],\n",
    "                    \"name\": \"fake\",\n",
    "                },\n",
    "            ],\n",
    "        }\n",
    "    ],\n",
    "    \"measurements\": [\n",
    "        {\n",
    "            \"config\": {\n",
    "                \"parameters\": [{\"name\": \"dummy\", \"fixed\": True}],\n",
    "                \"poi\": \"dummy\",\n",
    "            },\n",
    "            \"name\": \"normfactor example\",\n",
    "        }\n",
    "    ],\n",
    "    \"observations\": [\n",
    "        {\"data\": list(data_y), \"name\": \"region_one\"},\n",
    "    ],\n",
    "    \"version\": \"1.0.0\",\n",
    "}"
   ]
  },
  {
   "cell_type": "code",
   "execution_count": 4,
   "metadata": {},
   "outputs": [],
   "source": [
    "def fit(spec):\n",
    "    ws = pyhf.Workspace(spec)\n",
    "    model = ws.model()\n",
    "    data = ws.data(model)\n",
    "    fit_results = pyhf.infer.mle.fit(data,model)\n",
    "    \n",
    "    return model,fit_results"
   ]
  },
  {
   "cell_type": "code",
   "execution_count": 5,
   "metadata": {},
   "outputs": [],
   "source": [
    "def get_parameter_names(model):\n",
    "    labels = []\n",
    "    for parname in model.config.par_order:\n",
    "        for i_par in range(model.config.param_set(parname).n_parameters):\n",
    "            labels.append(\n",
    "                f\"{parname}[bin_{i_par}]\"\n",
    "                if model.config.param_set(parname).n_parameters > 1\n",
    "                else parname\n",
    "            )\n",
    "    return labels"
   ]
  },
  {
   "cell_type": "code",
   "execution_count": 6,
   "metadata": {},
   "outputs": [],
   "source": [
    "def get_SF(model,get_parameter_names):\n",
    "    SF_real = 0\n",
    "    SF_fake = 0\n",
    "    \n",
    "    for i,label in enumerate(get_parameter_names(model)):\n",
    "        print(f\"{label}: {fit_results[i]}\")\n",
    "\n",
    "        if label.startswith(\"scale_real\"):\n",
    "            SF_real = fit_results[i]\n",
    "        elif label.startswith(\"scale_fake\"):\n",
    "            SF_fake = fit_results[i]\n",
    "            \n",
    "    print(\"Real template SF: \",SF_real)\n",
    "    print(\"Fake template SF: \",SF_fake)\n",
    "    return SF_real, SF_fake"
   ]
  },
  {
   "cell_type": "code",
   "execution_count": 7,
   "metadata": {},
   "outputs": [],
   "source": [
    "def draw(real_y,fake_y,data_y,isfit=False):\n",
    "    \n",
    "    fig,ax =  plt.subplots()\n",
    "    bins = np.arange(len(data_y))\n",
    "    width= 1.\n",
    "    data_fitted = real_y + fake_y \n",
    "\n",
    "    \n",
    "    bins = np.arange(len(data_y))\n",
    "\n",
    "    ax.bar(bins,real_y,width,label=\"Real template\",edgecolor='darkorange',fill=False)\n",
    "    ax.bar(bins,fake_y,width,label=\"Fake template\",edgecolor='royalblue',fill=False)\n",
    "    \n",
    "    if isfit:\n",
    "        ax.bar(bins,data_fitted,width,label=\"Fit result\",edgecolor='crimson',fill=False,linestyle='--')\n",
    "    ax.scatter(bins,data_y,color='black',label='Data template')\n",
    "    \n",
    "    if isfit:\n",
    "        ax.set_title('After fit')\n",
    "    else:\n",
    "        ax.set_title('Before fit')\n",
    "    ax.legend()"
   ]
  },
  {
   "cell_type": "markdown",
   "metadata": {},
   "source": [
    "---"
   ]
  },
  {
   "cell_type": "code",
   "execution_count": 8,
   "metadata": {},
   "outputs": [],
   "source": [
    "model,fit_results  =fit(spec)"
   ]
  },
  {
   "cell_type": "code",
   "execution_count": 9,
   "metadata": {},
   "outputs": [
    {
     "name": "stdout",
     "output_type": "stream",
     "text": [
      "scale_real: 9.999999999997103\n",
      "dummy: 1.0\n",
      "scale_fake: 0.907793264398799\n",
      "Real template SF:  9.999999999997103\n",
      "Fake template SF:  0.907793264398799\n"
     ]
    }
   ],
   "source": [
    "SF_real, SF_fake = get_SF(model,get_parameter_names)"
   ]
  },
  {
   "cell_type": "code",
   "execution_count": 10,
   "metadata": {},
   "outputs": [
    {
     "data": {
      "image/png": "[encoded data removed]",
      "text/plain": [
       "<Figure size 432x288 with 1 Axes>"
      ]
     },
     "metadata": {
      "needs_background": "light"
     },
     "output_type": "display_data"
    }
   ],
   "source": [
    "draw(real_y,fake_y,data_y)"
   ]
  },
  {
   "cell_type": "code",
   "execution_count": 11,
   "metadata": {},
   "outputs": [],
   "source": [
    "real_y = real_y * SF_real\n",
    "fake_y = fake_y * SF_fake"
   ]
  },
  {
   "cell_type": "code",
   "execution_count": 12,
   "metadata": {},
   "outputs": [
    {
     "data": {
      "image/png": "[encoded data removed]",
      "text/plain": [
       "<Figure size 432x288 with 1 Axes>"
      ]
     },
     "metadata": {
      "needs_background": "light"
     },
     "output_type": "display_data"
    }
   ],
   "source": [
    "draw(real_y,fake_y,data_y,True)"
   ]
  },
  {
   "cell_type": "code",
   "execution_count": null,
   "metadata": {},
   "outputs": [],
   "source": []
  }
 ],
 "metadata": {
  "kernelspec": {
   "display_name": "Python 3",
   "language": "python",
   "name": "python3"
  },
  "language_info": {
   "codemirror_mode": {
    "name": "ipython",
    "version": 3
   },
   "file_extension": ".py",
   "mimetype": "text/x-python",
   "name": "python",
   "nbconvert_exporter": "python",
   "pygments_lexer": "ipython3",
   "version": "3.8.5"
  }
 },
 "nbformat": 4,
 "nbformat_minor": 4
}
