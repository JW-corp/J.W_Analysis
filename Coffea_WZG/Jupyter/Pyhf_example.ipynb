{
 "cells": [
  {
   "cell_type": "code",
   "execution_count": 1,
   "metadata": {},
   "outputs": [],
   "source": [
    "import pyhf"
   ]
  },
  {
   "cell_type": "code",
   "execution_count": 2,
   "metadata": {},
   "outputs": [],
   "source": [
    "import numpy as np"
   ]
  },
  {
   "cell_type": "code",
   "execution_count": 3,
   "metadata": {},
   "outputs": [],
   "source": [
    "def get_parameter_names(model):\n",
    "    labels = []\n",
    "    for parname in model.config.par_order:\n",
    "        for i_par in range(model.config.param_set(parname).n_parameters):\n",
    "            labels.append(\n",
    "                f\"{parname}[bin_{i_par}]\"\n",
    "                if model.config.param_set(parname).n_parameters > 1\n",
    "                else parname\n",
    "            )\n",
    "    return labels"
   ]
  },
  {
   "cell_type": "code",
   "execution_count": 4,
   "metadata": {},
   "outputs": [],
   "source": [
    "spec = {\n",
    "    \"channels\": [\n",
    "        {\n",
    "            \"name\": \"region_one\",\n",
    "            \"samples\": [\n",
    "                {\n",
    "                    \"data\": [200, 180, 200],\n",
    "                    \"modifiers\": [\n",
    "                        {\"name\": \"scale_real\", \"type\": \"shapefactor\", \"data\": None},\n",
    "                        {\"name\": \"dummy\", \"type\": \"normfactor\", \"data\": None},\n",
    "                    ],\n",
    "                    \"name\": \"real\",\n",
    "                },\n",
    "                {\n",
    "                    \"data\": [20, 20, 20],\n",
    "                    \"modifiers\": [\n",
    "                        {\"name\": \"scale_fake\", \"type\": \"shapefactor\", \"data\": None}\n",
    "                    ],\n",
    "                    \"name\": \"fake\",\n",
    "                },\n",
    "            ],\n",
    "        },\n",
    "        {\n",
    "            \"name\": \"region_two\",\n",
    "            \"samples\": [\n",
    "                {\n",
    "                    \"data\": [210, 170, 210],\n",
    "                    \"modifiers\": [\n",
    "                        {\"name\": \"scale_real\", \"type\": \"shapefactor\", \"data\": None},\n",
    "                    ],\n",
    "                    \"name\": \"real\",\n",
    "                },\n",
    "                {\n",
    "                    \"data\": [25, 25, 25],\n",
    "                    \"modifiers\": [\n",
    "                        {\"name\": \"scale_fake\", \"type\": \"shapefactor\", \"data\": None}\n",
    "                    ],\n",
    "                    \"name\": \"fake\",\n",
    "                },\n",
    "            ],\n",
    "        },\n",
    "    ],\n",
    "    \"measurements\": [\n",
    "        {\n",
    "            \"config\": {\n",
    "                \"parameters\": [{\"name\": \"dummy\", \"fixed\": True}],\n",
    "                \"poi\": \"dummy\",\n",
    "            },\n",
    "            \"name\": \"shapefactor example\",\n",
    "        }\n",
    "    ],\n",
    "    \"observations\": [\n",
    "        {\"data\": [250, 210, 230], \"name\": \"region_one\"},\n",
    "        {\"data\": [265, 215, 245], \"name\": \"region_two\"},\n",
    "    ],\n",
    "    \"version\": \"1.0.0\",\n",
    "}"
   ]
  },
  {
   "cell_type": "code",
   "execution_count": 5,
   "metadata": {},
   "outputs": [],
   "source": [
    "ws = pyhf.Workspace(spec)"
   ]
  },
  {
   "cell_type": "code",
   "execution_count": 6,
   "metadata": {},
   "outputs": [],
   "source": [
    "model = ws.model()"
   ]
  },
  {
   "cell_type": "code",
   "execution_count": 7,
   "metadata": {},
   "outputs": [],
   "source": [
    "data = ws.data(model)"
   ]
  },
  {
   "cell_type": "code",
   "execution_count": 8,
   "metadata": {},
   "outputs": [],
   "source": [
    "fit_results = pyhf.infer.mle.fit(data,model)"
   ]
  },
  {
   "cell_type": "code",
   "execution_count": 9,
   "metadata": {},
   "outputs": [
    {
     "data": {
      "text/plain": [
       "['scale_real[bin_0]',\n",
       " 'scale_real[bin_1]',\n",
       " 'scale_real[bin_2]',\n",
       " 'dummy',\n",
       " 'scale_fake[bin_0]',\n",
       " 'scale_fake[bin_1]',\n",
       " 'scale_fake[bin_2]']"
      ]
     },
     "execution_count": 9,
     "metadata": {},
     "output_type": "execute_result"
    }
   ],
   "source": [
    "get_parameter_names(model)"
   ]
  },
  {
   "cell_type": "code",
   "execution_count": 11,
   "metadata": {},
   "outputs": [
    {
     "name": "stdout",
     "output_type": "stream",
     "text": [
      "scale_real[bin_0]: 1.1876992708969907\n",
      "scale_real[bin_1]: 0.8637001273834927\n",
      "scale_real[bin_2]: 1.0624014477338795\n",
      "dummy: 1.0\n",
      "scale_fake[bin_0]: 0.6231498756305794\n",
      "scale_fake[bin_1]: 2.726765428630357\n",
      "scale_fake[bin_2]: 0.8758828438837809\n"
     ]
    }
   ],
   "source": [
    "SF_real = []\n",
    "SF_fake = []\n",
    "\n",
    "for i,label in enumerate(get_parameter_names(model)):\n",
    "    print(f\"{label}: {fit_results[i]}\")\n",
    "\n",
    "    if label.startswith(\"scale_real\"):\n",
    "        SF_real.append(fit_results[i])\n",
    "    elif label.startswith(\"scale_fake\"):\n",
    "        SF_fake.append(fit_results[i])\n"
   ]
  },
  {
   "cell_type": "code",
   "execution_count": 13,
   "metadata": {},
   "outputs": [
    {
     "name": "stdout",
     "output_type": "stream",
     "text": [
      "Real template SF:  [1.1876992708969907, 0.8637001273834927, 1.0624014477338795]\n",
      "Fake template SF:  [0.6231498756305794, 2.726765428630357, 0.8758828438837809]\n"
     ]
    }
   ],
   "source": [
    "print(\"Real template SF: \",SF_real)\n",
    "print(\"Fake template SF: \",SF_fake)"
   ]
  },
  {
   "cell_type": "code",
   "execution_count": 14,
   "metadata": {},
   "outputs": [],
   "source": [
    "import matplotlib.pyplot as plt"
   ]
  },
  {
   "cell_type": "code",
   "execution_count": 15,
   "metadata": {},
   "outputs": [],
   "source": [
    "real_y_region1 = np.array([200,180,200])\n",
    "fake_y_region1 = np.array([20,20,20])\n",
    "\n",
    "real_y_region2 = np.array([210, 170, 210])\n",
    "fake_y_region2 = np.array([25,25,25])\n",
    "\n",
    "data_y_region1 = np.array([250, 210, 230])\n",
    "data_y_region2 = np.array([265, 215, 245])"
   ]
  },
  {
   "cell_type": "code",
   "execution_count": 39,
   "metadata": {},
   "outputs": [
    {
     "data": {
      "text/plain": [
       "<matplotlib.legend.Legend at 0x7f9924250ca0>"
      ]
     },
     "execution_count": 39,
     "metadata": {},
     "output_type": "execute_result"
    },
    {
     "data": {
      "image/png": "[encoded data removed]",
      "text/plain": [
       "<Figure size 720x360 with 2 Axes>"
      ]
     },
     "metadata": {
      "needs_background": "light"
     },
     "output_type": "display_data"
    }
   ],
   "source": [
    "fig,ax =  plt.subplots(1,2,figsize=(10,5))\n",
    "plt.suptitle(\"Before the Fit\",fontsize=20)\n",
    "bins = np.arange(len(data_y_region1))\n",
    "width= 1.\n",
    "\n",
    "ax[0].bar(bins,real_y_region1,width,label=\"Real template\",edgecolor='royalblue',fill=False)\n",
    "ax[0].bar(bins,fake_y_region1,width,label=\"Fake template\",edgecolor='darkorange',fill=False)\n",
    "ax[0].scatter(bins,data_y_region1,color='black',label='Data template')\n",
    "ax[0].set_ylim(0,400)\n",
    "ax[0].set_title('Region 1')\n",
    "ax[0].legend()\n",
    "     \n",
    "bins = bins+3\n",
    "ax[1].bar(bins,real_y_region2,width,label=\"Real template\",edgecolor='royalblue',fill=False)\n",
    "ax[1].bar(bins,fake_y_region2,width,label=\"Fake template\",edgecolor='darkorange',fill=False)\n",
    "ax[1].set_ylim(0,400)\n",
    "ax[1].scatter(bins,data_y_region2,color='black',label='Data template')\n",
    "ax[1].set_title('Region 2')\n",
    "ax[1].legend()"
   ]
  },
  {
   "cell_type": "code",
   "execution_count": 27,
   "metadata": {},
   "outputs": [],
   "source": [
    "data_fitted_region_1 = real_y_region1 * SF_real +  fake_y_region1 * SF_fake\n",
    "data_fitted_region_2 = real_y_region2 * SF_real +  fake_y_region2 * SF_fake"
   ]
  },
  {
   "cell_type": "code",
   "execution_count": 40,
   "metadata": {},
   "outputs": [
    {
     "data": {
      "text/plain": [
       "<matplotlib.legend.Legend at 0x7f9923fd15b0>"
      ]
     },
     "execution_count": 40,
     "metadata": {},
     "output_type": "execute_result"
    },
    {
     "data": {
      "image/png": "[encoded data removed]",
      "text/plain": [
       "<Figure size 720x360 with 2 Axes>"
      ]
     },
     "metadata": {
      "needs_background": "light"
     },
     "output_type": "display_data"
    }
   ],
   "source": [
    "fig,ax =  plt.subplots(1,2,figsize=(10,5))\n",
    "plt.suptitle(\"After the Fit\",fontsize=20)\n",
    "bins = np.arange(len(data_y_region1))\n",
    "width= 1.\n",
    "\n",
    "ax[0].bar(bins,real_y_region1,width,label=\"Real template\",edgecolor='royalblue',fill=False)\n",
    "ax[0].bar(bins,fake_y_region1,width,label=\"Fake template\",edgecolor='darkorange',fill=False)\n",
    "ax[0].bar(bins,data_fitted_region_1,width,label=\"Fit result\",edgecolor='crimson',fill=False,linestyle='--')\n",
    "ax[0].scatter(bins,data_y_region1,color='black',label='Data template')\n",
    "ax[0].set_ylim(0,400)\n",
    "ax[0].set_title('Region 1')\n",
    "ax[0].legend()\n",
    "\n",
    "bins = bins+3\n",
    "ax[1].bar(bins,real_y_region2,width,label=\"Real template\",edgecolor='royalblue',fill=False)\n",
    "ax[1].bar(bins,fake_y_region2,width,label=\"Fake template\",edgecolor='darkorange',fill=False)\n",
    "ax[1].bar(bins,data_fitted_region_2,width,label=\"Fit result\",edgecolor='crimson',fill=False,linestyle='--')\n",
    "ax[1].set_ylim(0,400)\n",
    "ax[1].scatter(bins,data_y_region2,color='black',label='Data template')\n",
    "ax[1].set_title('Region 2')\n",
    "ax[1].legend()"
   ]
  },
  {
   "cell_type": "code",
   "execution_count": 43,
   "metadata": {},
   "outputs": [
    {
     "data": {
      "text/plain": [
       "<matplotlib.legend.Legend at 0x7f9923edc7c0>"
      ]
     },
     "execution_count": 43,
     "metadata": {},
     "output_type": "execute_result"
    },
    {
     "data": {
      "image/png": "[encoded data removed]",
      "text/plain": [
       "<Figure size 432x288 with 1 Axes>"
      ]
     },
     "metadata": {
      "needs_background": "light"
     },
     "output_type": "display_data"
    }
   ],
   "source": [
    "fig,ax =  plt.subplots()\n",
    "bins = np.arange(len(data_y_region1))\n",
    "width= 1.\n",
    "\n",
    "combine_real_y = np.concatenate((real_y_region1,real_y_region2),axis=0)\n",
    "combine_fake_y = np.concatenate((fake_y_region1,fake_y_region2),axis=0)\n",
    "combine_data_y = np.concatenate((data_y_region1,data_y_region2),axis=0)\n",
    "combine_data_fitted_y = np.concatenate((data_fitted_region_1,data_fitted_region_2),axis=0)\n",
    "\n",
    "bins = np.arange(len(combine_data_y))\n",
    "\n",
    "ax.bar(bins,combine_real_y,width,label=\"Real template\",edgecolor='royalblue',fill=False)\n",
    "ax.bar(bins,combine_fake_y,width,label=\"Fake template\",edgecolor='darkorange',fill=False)\n",
    "ax.bar(bins,combine_data_fitted_y,width,label=\"Fit result\",edgecolor='crimson',fill=False,linestyle='--')\n",
    "ax.scatter(bins,combine_data_y,color='black',label='Data template')\n",
    "ax.set_ylim(0,400)\n",
    "ax.set_title('Combine region')\n",
    "ax.legend()"
   ]
  },
  {
   "cell_type": "code",
   "execution_count": null,
   "metadata": {},
   "outputs": [],
   "source": []
  }
 ],
 "metadata": {
  "kernelspec": {
   "display_name": "Python 3",
   "language": "python",
   "name": "python3"
  },
  "language_info": {
   "codemirror_mode": {
    "name": "ipython",
    "version": 3
   },
   "file_extension": ".py",
   "mimetype": "text/x-python",
   "name": "python",
   "nbconvert_exporter": "python",
   "pygments_lexer": "ipython3",
   "version": "3.8.5"
  }
 },
 "nbformat": 4,
 "nbformat_minor": 4
}
