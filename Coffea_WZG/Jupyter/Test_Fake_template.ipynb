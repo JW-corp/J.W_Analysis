{
 "cells": [
  {
   "cell_type": "code",
   "execution_count": 1,
   "metadata": {},
   "outputs": [],
   "source": [
    "import awkward1 as ak\n",
    "from coffea.nanoevents import NanoEventsFactory, NanoAODSchema\n",
    "import numpy as np\n",
    "from tqdm import tqdm,trange\n",
    "import matplotlib.pyplot as plt\n",
    "import numba\n",
    "import coffea.hist as hist"
   ]
  },
  {
   "cell_type": "code",
   "execution_count": 2,
   "metadata": {},
   "outputs": [],
   "source": [
    "#infile = \"data/signal/wza_UL18.root\" # --signal\n",
    "infile='data/data/7B56E217-555E-1C41-9494-491849A9835F_skim_2ElIdPt20.root' # --data \n",
    "#infile = 'data/data/CA42F3A2-614F-4A4F-AF18-F6E66CDA2C85_skim_2ElIdPt20.root'\n",
    "#infile = 'data/Ntuple/EGamma_Run2018B.root'\n",
    "#infile=\"data/mc/59AB328B-F0E3-F544-98BB-E5E55577C649_skim_2ElIdPt20.root\" # --mc\n",
    "\n",
    "\n",
    "year='2018'"
   ]
  },
  {
   "cell_type": "code",
   "execution_count": 3,
   "metadata": {},
   "outputs": [],
   "source": [
    "events = NanoEventsFactory.from_root(infile, schemaclass=NanoAODSchema).events()"
   ]
  },
  {
   "cell_type": "code",
   "execution_count": 4,
   "metadata": {},
   "outputs": [],
   "source": [
    "# Trigger set\n",
    "doubleelectron_triggers  ={\n",
    "    '2018': [\n",
    "            \"Ele23_Ele12_CaloIdL_TrackIdL_IsoVL\", # Recomended\n",
    "            ]\n",
    "}\n",
    "\n",
    "\n",
    "\n",
    "singleelectron_triggers = { #2017 and 2018 from monojet, applying dedicated trigger weights\n",
    "        '2016': [\n",
    "            'Ele27_WPTight_Gsf',\n",
    "            'Ele105_CaloIdVT_GsfTrkIdT'\n",
    "        ],\n",
    "        '2017': [\n",
    "            'Ele35_WPTight_Gsf',\n",
    "            'Ele115_CaloIdVT_GsfTrkIdT',\n",
    "            'Photon200'\n",
    "        ],\n",
    "        '2018': [\n",
    "            'Ele32_WPTight_Gsf',    # Recomended\n",
    "        ]\n",
    "    }"
   ]
  },
  {
   "cell_type": "code",
   "execution_count": 5,
   "metadata": {},
   "outputs": [],
   "source": [
    "# << flat dim helper function >>\n",
    "def flat_dim(arr):\n",
    "\n",
    "#   if len(ak.to_numpy(arr).shape) > 1:\n",
    "#       sub_arr = ak.flatten(arr)\n",
    "#   else:\n",
    "#       sub_arr = arr\n",
    "    sub_arr = ak.flatten(arr)\n",
    "    mask = ~ak.is_none(sub_arr)\n",
    "\n",
    "    return ak.to_numpy(sub_arr[mask])\n",
    "# << drop na helper function >>\n",
    "def drop_na(arr):\n",
    "\n",
    "    mask = ~ak.is_none(arr)\n",
    "\n",
    "    return arr[mask]\n",
    "# << drop na helper function >>\n",
    "def drop_na_np(arr):\n",
    "\n",
    "    mask = ~np.isnan(arr)\n",
    "\n",
    "    return arr[mask]\n",
    "# << Sort by PT  helper function >>\n",
    "def sort_by_pt(ele,pho,jet):\n",
    "    ele = ele[ak.argsort(ele.pt,ascending=False,axis=1)]\n",
    "    pho = pho[ak.argsort(pho.pt,ascending=False,axis=1)]\n",
    "    jet = jet[ak.argsort(jet.pt,ascending=False,axis=1)]\n",
    "\n",
    "    return ele,pho,jet"
   ]
  },
  {
   "cell_type": "code",
   "execution_count": 6,
   "metadata": {},
   "outputs": [],
   "source": [
    "# double lepton trigger\n",
    "is_double_ele_trigger=True\n",
    "if not is_double_ele_trigger:\n",
    "    double_ele_triggers_arr=np.ones(len(events), dtype=np.bool)\n",
    "else:\n",
    "    double_ele_triggers_arr = np.zeros(len(events), dtype=np.bool)\n",
    "    for path in doubleelectron_triggers[year]:\n",
    "        if path not in events.HLT.fields: continue\n",
    "        double_ele_triggers_arr = double_ele_triggers_arr | events.HLT[path]\n",
    "\n",
    "\n",
    "# single lepton trigger\n",
    "is_single_ele_trigger=True\n",
    "if not is_single_ele_trigger:\n",
    "    single_ele_triggers_arr=np.ones(len(events), dtype=np.bool)\n",
    "else:\n",
    "    single_ele_triggers_arr = np.zeros(len(events), dtype=np.bool)\n",
    "    for path in singleelectron_triggers[year]:\n",
    "        if path not in events.HLT.fields: continue\n",
    "        single_ele_triggers_arr = single_ele_triggers_arr | events.HLT[path]\n",
    "\n",
    "# Sort particle order by PT  # RunD --> has problem\n",
    "events.Electron,events.Photon,events.Jet = sort_by_pt(events.Electron,events.Photon,events.Jet)\n",
    "\n",
    "Initial_events = events\n",
    "#events = events[single_ele_triggers_arr | double_ele_triggers_arr]\n",
    "events = events[double_ele_triggers_arr]\n",
    "\n",
    "cut1 = np.ones(len(events))\n",
    "# Particle Identification\n",
    "Electron = events.Electron\n",
    "Photon = events.Photon\n",
    "MET = events.MET\n"
   ]
  },
  {
   "cell_type": "code",
   "execution_count": 7,
   "metadata": {},
   "outputs": [
    {
     "name": "stdout",
     "output_type": "stream",
     "text": [
      "#### 0. Trigger: 58612 -> 50077\n"
     ]
    }
   ],
   "source": [
    "print(\"#### 0. Trigger: {0} -> {1}\".format(len(Initial_events), len(events)))"
   ]
  },
  {
   "cell_type": "markdown",
   "metadata": {},
   "source": [
    "### 1. Channel selection with basic cut applied (without ID)"
   ]
  },
  {
   "cell_type": "code",
   "execution_count": 8,
   "metadata": {},
   "outputs": [],
   "source": [
    "def Particle_selection(ele,pho):\n",
    "\n",
    "\n",
    "    EleSelmask = EleSelmask = ((ele.pt > 10) & (np.abs(ele.eta + ele.deltaEtaSC) < 1.4442) & (ele.cutBased > 2) & (abs(ele.dxy) < 0.05) & (abs(ele.dz) < 0.1)) | \\\n",
    "        ((ele.pt > 10) & (np.abs(ele.eta + ele.deltaEtaSC) > 1.5660) & (np.abs(ele.eta + ele.deltaEtaSC) < 2.5) & (ele.cutBased > 2) & (abs(ele.dxy) < 0.1) & (abs(ele.dz) < 0.2))\n",
    "\n",
    "\n",
    "    # Photon selection\n",
    "    isgap_mask = (abs(pho.eta) < 1.442)  |  ((abs(pho.eta) > 1.566) & (abs(pho.eta) < 2.5))\n",
    "    Pixel_seed_mask = ~pho.pixelSeed\n",
    "    PhoSelmask = (pho.pt > 20) & isgap_mask &  Pixel_seed_mask\n",
    "    #PhoSelmask = (pho.pt > 20) & (pho.cutBased > 1) & isgap_mask &  Pixel_seed_mask # with cut-based ID\n",
    "\n",
    "\n",
    "    return EleSelmask,PhoSelmask"
   ]
  },
  {
   "cell_type": "code",
   "execution_count": 9,
   "metadata": {},
   "outputs": [],
   "source": [
    "Electron_mask, Photon_mask  = Particle_selection(Electron,Photon)\n",
    "Ele_channel_mask = ak.num(Electron[Electron_mask])  > 1\n",
    "Pho_channel_mask = ak.num(Photon[Photon_mask]) > 0\n",
    "Ele_channel_events = events[Ele_channel_mask & Pho_channel_mask]"
   ]
  },
  {
   "cell_type": "code",
   "execution_count": 10,
   "metadata": {},
   "outputs": [
    {
     "name": "stdout",
     "output_type": "stream",
     "text": [
      "#### 1. Channel selection with basic cut applied 50077->1608 3.21105497533798%\n"
     ]
    }
   ],
   "source": [
    "print(\"#### 1. Channel selection with basic cut applied {0}->{1} {2}%\".format(len(events),len(Ele_channel_events), len(Ele_channel_events)/len(events) * 100))"
   ]
  },
  {
   "cell_type": "code",
   "execution_count": 11,
   "metadata": {},
   "outputs": [],
   "source": [
    "# Particle array\n",
    "Electron = Ele_channel_events.Electron\n",
    "Photon  = Ele_channel_events.Photon\n",
    "Jet     = Ele_channel_events.Jet\n",
    "MET      = Ele_channel_events.MET\n",
    "\n",
    "Electron_mask,Photon_mask = Particle_selection(Electron,Photon)\n",
    "Electron = Electron[Electron_mask]\n",
    "Photon  = Photon[Photon_mask]"
   ]
  },
  {
   "cell_type": "markdown",
   "metadata": {},
   "source": [
    "### 2. Select OSSF electron pairs"
   ]
  },
  {
   "cell_type": "code",
   "execution_count": 12,
   "metadata": {},
   "outputs": [],
   "source": [
    "##-----------  Cut flow3: Electron Selection --> OSSF \n",
    "# OSSF index maker\n",
    "@numba.njit\n",
    "def find_2lep(events_leptons,builder):\n",
    "    for leptons in events_leptons:\n",
    "\n",
    "        builder.begin_list()\n",
    "        nlep = len(leptons)\n",
    "        for i0 in range(nlep):\n",
    "            for i1 in range(i0+1,nlep):\n",
    "                if leptons[i0].charge + leptons[i1].charge != 0: continue;\n",
    "                \n",
    "                if nlep == 2:\n",
    "                    builder.begin_tuple(2)\n",
    "                    builder.index(0).integer(i0)\n",
    "                    builder.index(1).integer(i1)\n",
    "                    builder.end_tuple()  \n",
    "\n",
    "            \n",
    "                else:\n",
    "                    for i2 in range(nlep):\n",
    "                        if len({i0,i1,i2}) < 3: continue;\n",
    "                        builder.begin_tuple(3)\n",
    "                        builder.index(0).integer(i0)\n",
    "                        builder.index(1).integer(i1)\n",
    "                        builder.index(2).integer(i2)\n",
    "                        builder.end_tuple()\n",
    "        builder.end_list()\n",
    "    return builder"
   ]
  },
  {
   "cell_type": "code",
   "execution_count": 13,
   "metadata": {},
   "outputs": [
    {
     "data": {
      "text/plain": [
       "<Array [[(0, 1)], [(0, 1), ... 1)], [(0, 1)]] type='1608 * var * (int64, int64)'>"
      ]
     },
     "execution_count": 13,
     "metadata": {},
     "output_type": "execute_result"
    }
   ],
   "source": [
    "ossf_idx = find_2lep(Electron,ak.ArrayBuilder()).snapshot()\n",
    "ossf_idx"
   ]
  },
  {
   "cell_type": "code",
   "execution_count": 14,
   "metadata": {},
   "outputs": [],
   "source": [
    "# OSSF cut\n",
    "ossf_mask = ak.num(ossf_idx) >= 1\n",
    "ossf_idx = ossf_idx[ossf_mask]\n",
    "\n",
    "Ele_channel_events = Ele_channel_events[ossf_mask]\n",
    "Electron= Electron[ossf_mask]\n",
    "Photon= Photon[ossf_mask]\n",
    "Jet= Jet[ossf_mask]\n",
    "MET = MET[ossf_mask]"
   ]
  },
  {
   "cell_type": "code",
   "execution_count": 15,
   "metadata": {},
   "outputs": [
    {
     "name": "stdout",
     "output_type": "stream",
     "text": [
      "#### 2. OSSF 1584\n"
     ]
    }
   ],
   "source": [
    "print(\"#### 2. OSSF {0}\".format(len(Ele_channel_events)))"
   ]
  },
  {
   "cell_type": "code",
   "execution_count": 16,
   "metadata": {},
   "outputs": [],
   "source": [
    "Double_electron = [Electron[ossf_idx[idx]] for idx in \"01\"]"
   ]
  },
  {
   "cell_type": "code",
   "execution_count": 17,
   "metadata": {},
   "outputs": [],
   "source": [
    "from coffea.nanoevents.methods import vector\n",
    "ak.behavior.update(vector.behavior)\n",
    "\n",
    "def TLorentz_vector(vec):\n",
    "    vec = ak.zip(\n",
    "    {\n",
    "                \"x\":vec.x,\n",
    "                \"y\":vec.y,\n",
    "                \"z\":vec.z,\n",
    "                \"t\":vec.t\n",
    "    },\n",
    "    with_name = \"LorentzVector\"\n",
    "    )\n",
    "    return vec\n",
    "\n",
    "def TLorentz_vector_cylinder(vec):\n",
    "\n",
    "    vec = ak.zip(\n",
    "    {\n",
    "         \"pt\": vec.pt,\n",
    "         \"eta\": vec.eta,\n",
    "         \"phi\": vec.phi,\n",
    "         \"mass\": vec.mass,\n",
    "    },\n",
    "    with_name=\"PtEtaPhiMLorentzVector\",\n",
    "    )\n",
    "\n",
    "    return vec\n"
   ]
  },
  {
   "cell_type": "code",
   "execution_count": 18,
   "metadata": {},
   "outputs": [],
   "source": [
    "Diele    = ak.zip({\"lep1\":Double_electron[0],\n",
    "                   \"lep2\":Double_electron[1],\n",
    "                     \"p4\":TLorentz_vector(Double_electron[0]+Double_electron[1])})"
   ]
  },
  {
   "cell_type": "code",
   "execution_count": 19,
   "metadata": {},
   "outputs": [],
   "source": [
    "bestZ_idx = ak.singletons(ak.argmin(abs(Diele.p4.mass - 91.1876), axis=1))\n",
    "Diele = Diele[bestZ_idx]\n",
    "\n",
    "leading_ele, subleading_ele  = ak.flatten(TLorentz_vector_cylinder(Diele.lep1)),ak.flatten(TLorentz_vector_cylinder(Diele.lep2))"
   ]
  },
  {
   "cell_type": "markdown",
   "metadata": {},
   "source": [
    "### Test 3dim hist "
   ]
  },
  {
   "cell_type": "code",
   "execution_count": 20,
   "metadata": {},
   "outputs": [
    {
     "data": {
      "text/plain": [
       "1584"
      ]
     },
     "execution_count": 20,
     "metadata": {},
     "output_type": "execute_result"
    }
   ],
   "source": [
    "len(Photon[:,0])"
   ]
  },
  {
   "cell_type": "code",
   "execution_count": 21,
   "metadata": {},
   "outputs": [
    {
     "data": {
      "text/plain": [
       "301.40396"
      ]
     },
     "execution_count": 21,
     "metadata": {},
     "output_type": "execute_result"
    }
   ],
   "source": [
    "ak.max(Photon[:,0].pt)"
   ]
  },
  {
   "cell_type": "code",
   "execution_count": 22,
   "metadata": {},
   "outputs": [
    {
     "data": {
      "text/plain": [
       "2.4960938"
      ]
     },
     "execution_count": 22,
     "metadata": {},
     "output_type": "execute_result"
    }
   ],
   "source": [
    "ak.max(Photon[:,0].eta)"
   ]
  },
  {
   "cell_type": "code",
   "execution_count": 23,
   "metadata": {},
   "outputs": [
    {
     "data": {
      "text/plain": [
       "0.062408447"
      ]
     },
     "execution_count": 23,
     "metadata": {},
     "output_type": "execute_result"
    }
   ],
   "source": [
    "ak.max(Photon[:,0].sieie)"
   ]
  },
  {
   "cell_type": "code",
   "execution_count": 24,
   "metadata": {},
   "outputs": [],
   "source": [
    "def make_bins(pt,eta,sieie,bin_range_str):\n",
    "\n",
    "        bin_dict = {'PT_1_eta_1' : ( pt > 20 ) & ( pt < 30 ) & ( eta < 1) \n",
    "        ,'PT_1_eta_2' : ( pt > 20 ) & ( pt < 30 ) & ( eta > 1) & ( eta < 1.5 )\n",
    "        ,'PT_1_eta_3' : ( pt > 20 ) & ( pt < 30 ) & ( eta > 1.5) & ( eta < 2 )\n",
    "        ,'PT_1_eta_4' : ( pt > 20 ) & ( pt < 30 ) & ( eta > 2) & ( eta < 2.5 )\n",
    "\n",
    "        ,'PT_2_eta_1' : ( pt > 30 ) & ( pt < 40 ) & ( eta < 1) \n",
    "        ,'PT_2_eta_2' : ( pt > 30 ) & ( pt < 40 ) & ( eta > 1) & ( eta < 1.5 )\n",
    "        ,'PT_2_eta_3' : ( pt > 30 ) & ( pt < 40 ) & ( eta > 1.5) & ( eta < 2 )\n",
    "        ,'PT_2_eta_4' : ( pt > 30 ) & ( pt < 40 ) & ( eta > 2) & ( eta < 2.5 )\n",
    "\n",
    "        ,'PT_3_eta_1' : ( pt > 40 ) & ( pt < 50 ) & ( eta < 1) \n",
    "        ,'PT_3_eta_2' : ( pt > 40 ) & ( pt < 50 ) & ( eta > 1) & ( eta < 1.5 )\n",
    "        ,'PT_3_eta_3' : ( pt > 40 ) & ( pt < 50 ) & ( eta > 1.5) & ( eta < 2 )\n",
    "        ,'PT_3_eta_4' : ( pt > 40 ) & ( pt < 50 ) & ( eta > 2) & ( eta < 2.5 )\n",
    "\n",
    "        ,'PT_4_eta_1' :  ( pt > 50 ) & ( eta < 1) \n",
    "        ,'PT_4_eta_2' :  ( pt > 50 ) & ( eta > 1) & ( eta < 1.5 )\n",
    "        ,'PT_4_eta_3' :  ( pt > 50 ) & ( eta > 1.5) & ( eta < 2 )\n",
    "        ,'PT_4_eta_4' :  ( pt > 50 ) & ( eta > 2) & ( eta < 2.5 )\n",
    "        }\n",
    "    \n",
    "        binmask = bin_dict[bin_range_str]\n",
    "        \n",
    "        return ak.to_numpy(sieie[binmask])"
   ]
  },
  {
   "cell_type": "code",
   "execution_count": 25,
   "metadata": {},
   "outputs": [],
   "source": [
    "photon = Photon[:,0]"
   ]
  },
  {
   "cell_type": "code",
   "execution_count": 26,
   "metadata": {},
   "outputs": [
    {
     "data": {
      "text/plain": [
       "<PhotonArray [Photon, Photon, ... Photon, Photon] type='1584 * photon'>"
      ]
     },
     "execution_count": 26,
     "metadata": {},
     "output_type": "execute_result"
    }
   ],
   "source": [
    "photon"
   ]
  },
  {
   "cell_type": "code",
   "execution_count": 27,
   "metadata": {},
   "outputs": [],
   "source": [
    "bin_name_list = ['PT_1_eta_1' ,'PT_1_eta_2' ,'PT_1_eta_3' ,'PT_1_eta_4' \n",
    "                 ,'PT_2_eta_1' ,'PT_2_eta_2' ,'PT_2_eta_3' ,'PT_2_eta_4' ,'PT_3_eta_1' ,'PT_3_eta_2' \n",
    "                 ,'PT_3_eta_3' ,'PT_3_eta_4' ,'PT_4_eta_1' ,'PT_4_eta_2' ,'PT_4_eta_3' ,'PT_4_eta_4']"
   ]
  },
  {
   "cell_type": "code",
   "execution_count": 28,
   "metadata": {},
   "outputs": [
    {
     "data": {
      "image/png": "[encoded data removed]",
      "text/plain": [
       "<Figure size 1080x1080 with 16 Axes>"
      ]
     },
     "metadata": {
      "needs_background": "light"
     },
     "output_type": "display_data"
    }
   ],
   "source": [
    "fig,axs = plt.subplots(4,4,figsize=(15,15))\n",
    "axs = axs.ravel()\n",
    "\n",
    "for ith,name in enumerate(bin_name_list):\n",
    "    \n",
    "    axs[ith].hist(make_bins(photon.pt,abs(photon.eta),photon.sieie,name),bins=50,histtype='step')\n",
    "    axs[ith].set_title(name)"
   ]
  },
  {
   "cell_type": "code",
   "execution_count": 24,
   "metadata": {},
   "outputs": [],
   "source": [
    "##-----------  Cut flow4: Photon \"cleaning\"  -- Basis of array-dimension\n",
    "def make_DR(ele1,ele2,pho,jet):\n",
    "\n",
    "    dR_e1pho  = ele1.delta_r(pho) # dR pho,ele1\n",
    "    dR_e2pho  = ele2.delta_r(pho) # dR pho,ele2\n",
    "    dR_phojet = jet[:,0].delta_r(pho) # dR pho,jet # #--> Need check\n",
    "\n",
    "    #dR_mask    = (dR_e1pho > 0.4) & (dR_e2pho > 0.4)&  (dR_e3pho > 0.4) & (dR_phojet > 0.4) #--> Need check\n",
    "    dR_mask = (dR_e1pho > 0.4) & (dR_e2pho > 0.4)\n",
    "\n",
    "    #return dR_mask,dR_e1pho,dR_e2pho,dR_e3pho,dR_phojet #--> Need check\n",
    "    return dR_mask,dR_e1pho,dR_e2pho,dR_phojet"
   ]
  },
  {
   "cell_type": "code",
   "execution_count": 25,
   "metadata": {},
   "outputs": [],
   "source": [
    "dR_mask,dR_e1pho,dR_e2pho,dR_phojet  = make_DR(leading_ele,subleading_ele,Photon,Jet)\n",
    "Photon = Photon[dR_mask]"
   ]
  },
  {
   "cell_type": "code",
   "execution_count": 26,
   "metadata": {},
   "outputs": [],
   "source": [
    "Ele_channel_events  = Ele_channel_events[ak.num(Photon) > 0]\n",
    "Diele               = Diele[ak.num(Photon) > 0]\n",
    "Jet                 = Jet[ak.num(Photon) > 0]\n",
    "MET                 = MET[ak.num(Photon) > 0]\n",
    "Photon              = Photon[ak.num(Photon) > 0] # Beware the order! Photon must be located last!"
   ]
  },
  {
   "cell_type": "code",
   "execution_count": 27,
   "metadata": {},
   "outputs": [
    {
     "name": "stdout",
     "output_type": "stream",
     "text": [
      "#### 3. Photon dR 943\n"
     ]
    }
   ],
   "source": [
    "print(\"#### 3. Photon dR {0}\".format(len(Ele_channel_events)))"
   ]
  },
  {
   "cell_type": "code",
   "execution_count": 99,
   "metadata": {},
   "outputs": [
    {
     "data": {
      "image/png": "[encoded data removed]",
      "text/plain": [
       "<Figure size 432x288 with 2 Axes>"
      ]
     },
     "metadata": {
      "needs_background": "light"
     },
     "output_type": "display_data"
    }
   ],
   "source": [
    "from matplotlib.colors import LogNorm\n",
    "fig, ax = plt.subplots()\n",
    "\n",
    "h = ax.hist2d(flat_dim(Photon.sieie),flat_dim(Photon.pfRelIso03_chg * Photon.pt),bins=(50,100))\n",
    "plt.xlabel('Photon Sieie')\n",
    "plt.ylim(0.1,20)\n",
    "plt.yscale('log')\n",
    "plt.ylabel('Photon IsoChg')\n",
    "fig.colorbar(h[3],ax=ax)\n",
    "plt.show()"
   ]
  },
  {
   "cell_type": "markdown",
   "metadata": {},
   "source": [
    "### 4. Make Fake template (Inverse sieie and IsoChg) "
   ]
  },
  {
   "cell_type": "code",
   "execution_count": 28,
   "metadata": {},
   "outputs": [],
   "source": [
    "#@numba.njit ## Numba compile -- Boost!\n",
    "def PhotonVID(vid, idBit):\n",
    "    rBit = 0\n",
    "    for x in range(0, 7):\n",
    "        rBit |= (1 << x) if ((vid >> (x * 2)) & 0b11 >= idBit) else 0\n",
    "    return rBit\n",
    "\n",
    "\n",
    "#@numba.njit ## Numba compile -- Boost!\n",
    "def make_fake_obj_mask(Pho,builder):\n",
    "\n",
    "    for eventIdx,pho in enumerate(tqdm(Pho)):   # --Event Loop\n",
    "        builder.begin_list()\n",
    "        if len(pho) < 1: continue;\n",
    "    \n",
    "            \n",
    "        for phoIdx,_ in enumerate(pho):# --Photon Loop\n",
    "        \n",
    "            vid = Pho[eventIdx][phoIdx].vidNestedWPBitmap\n",
    "            vid_cuts1 = PhotonVID(vid,1) # Loose photon\n",
    "            vid_cuts2 = PhotonVID(vid,2) # Medium photon\n",
    "            vid_cuts3 = PhotonVID(vid,3) # Tight photon\n",
    "\n",
    "            # Field name\n",
    "            # |0|0|0|0|0|0|0| \n",
    "            # |IsoPho|IsoNeu|IsoChg|Sieie|hoe|scEta|PT|\n",
    "\n",
    "            # 1. Turn off cut (ex turn off Sieie\n",
    "            # |1|1|1|0|1|1|1| = |1|1|1|0|1|1|1|\n",
    "\n",
    "            # 2. Inverse cut (ex inverse Sieie)\n",
    "            # |1|1|1|1|1|1|1| = |1|1|1|0|1|1|1|\n",
    "\n",
    "            \n",
    "                \n",
    "            #if (vid_cuts2 & 0b1111111 == 0b1111111): # Cut applied\n",
    "            if (vid_cuts2 & 0b1111111 == 0b1110111): # Inverse Sieie\n",
    "            #if (vid_cuts2 & 0b1110111 == 0b1110111): # Without Sieie\n",
    "            \n",
    "                if (Pho[eventIdx][phoIdx].isScEtaEB) & (Pho[eventIdx][phoIdx].sieie < 0.01015 * 1.75):\n",
    "                    builder.boolean(True)\n",
    "            \n",
    "                elif (Pho[eventIdx][phoIdx].isScEtaEE) & (Pho[eventIdx][phoIdx].sieie < 0.0272 * 1.75):\n",
    "                    builder.boolean(True)\n",
    "                else: builder.boolean(False)\n",
    "\n",
    "                \n",
    "            else:\n",
    "\n",
    "                builder.boolean(False)\n",
    "\n",
    "        builder.end_list()\n",
    "                \n",
    "    return builder\n",
    "\n",
    "# - Sieie-> EB: 0.01015 EE: 0.0272  "
   ]
  },
  {
   "cell_type": "code",
   "execution_count": 29,
   "metadata": {},
   "outputs": [],
   "source": [
    "#@numba.njit ## Numba compile -- Boost!\n",
    "def make_IsochgSide_mask(Pho,builder):\n",
    "\n",
    "\n",
    "    for eventIdx,pho in enumerate(tqdm(Pho)): # --Event Loop\n",
    "        builder.begin_list()\n",
    "        if len(pho) < 1: continue;\n",
    "        \n",
    "        for phoIdx,_ in enumerate(pho): # --Photon Loop\n",
    "            \n",
    "            vid = Pho[eventIdx][phoIdx].vidNestedWPBitmap\n",
    "            vid_cuts1 = PhotonVID(vid,1) # Loose photon\n",
    "            vid_cuts2 = PhotonVID(vid,2) # Medium photon\n",
    "            vid_cuts3 = PhotonVID(vid,3) # Tight photon\n",
    "\n",
    "            #if (vid_cuts2 & 0b1111111 == 0b1111111): # Cut applied\n",
    "            if (vid_cuts2 & 0b1111111 == 0b1101111): # Inverse Isochg\n",
    "            #if (vid_cuts2 & 0b1101111 == 0b1101111): # Withtou Isochg\n",
    "                isochg = Pho[eventIdx][phoIdx].pfRelIso03_chg * Pho[eventIdx][phoIdx].pt\n",
    "                \n",
    "                if (isochg >= 4) & (isochg <= 10):               \n",
    "                    builder.boolean(True)\n",
    "                else: \n",
    "                    builder.boolean(False)\n",
    "\n",
    "                \n",
    "            else:\n",
    "                #builder.begin_list()\n",
    "                builder.boolean(False)\n",
    "                #builder.end_list()      \n",
    "        builder.end_list()\n",
    "                \n",
    "    return builder\n",
    "# - IsoChg-> EB: 1.141 EE: 1.051"
   ]
  },
  {
   "cell_type": "code",
   "execution_count": 30,
   "metadata": {},
   "outputs": [
    {
     "name": "stderr",
     "output_type": "stream",
     "text": [
      "100%|██████████| 943/943 [00:00<00:00, 2398.32it/s]\n",
      "100%|██████████| 943/943 [00:00<00:00, 3132.44it/s]\n"
     ]
    }
   ],
   "source": [
    "is_photon_sieie   = make_fake_obj_mask(Photon, ak.ArrayBuilder()).snapshot()\n",
    "is_photon_Isochg  = make_IsochgSide_mask(Photon,ak.ArrayBuilder()).snapshot()"
   ]
  },
  {
   "cell_type": "code",
   "execution_count": 31,
   "metadata": {},
   "outputs": [
    {
     "data": {
      "image/png": "[encoded data removed]",
      "text/plain": [
       "<Figure size 576x576 with 4 Axes>"
      ]
     },
     "metadata": {
      "needs_background": "light"
     },
     "output_type": "display_data"
    }
   ],
   "source": [
    "# -- Test wether the cuts are applied or not --#\n",
    "\n",
    "Photon_invsieie  = Photon[is_photon_sieie]   \n",
    "Photon_invIsochg = Photon[is_photon_Isochg]\n",
    "\n",
    "Photon_invsieieEB = Photon_invsieie[Photon_invsieie.isScEtaEB]\n",
    "Photon_invsieieEE = Photon_invsieie[Photon_invsieie.isScEtaEE]\n",
    "\n",
    "Photon_invIsochgEB = Photon_invIsochg[Photon_invIsochg.isScEtaEB]\n",
    "Photon_invIsochgEE = Photon_invIsochg[Photon_invIsochg.isScEtaEE]\n",
    "\n",
    "\n",
    "hist_sieie_EB = flat_dim(Photon_invsieieEB.sieie)\n",
    "hist_sieie_EE = flat_dim(Photon_invsieieEE.sieie)\n",
    "\n",
    "hist_Isochg_EB =  flat_dim(Photon_invIsochgEB.pfRelIso03_chg * Photon_invIsochgEB.pt)\n",
    "hist_Isochg_EE =  flat_dim(Photon_invIsochgEE.pfRelIso03_chg * Photon_invIsochgEE.pt)\n",
    "\n",
    "\n",
    "\n",
    "# -- Inversion -- #\n",
    "fig,axs = plt.subplots(2,2,figsize=(8,8))\n",
    "bins=100\n",
    "axs[0,0].hist(hist_sieie_EB,bins=bins,color='royalblue')\n",
    "axs[0,0].set_xlabel('EB Sieie')\n",
    "\n",
    "axs[0,1].hist(hist_sieie_EE,bins=bins,color='darkorange')\n",
    "axs[0,1].set_xlabel('EE Sieie')\n",
    "#axs[0,1].set_xlim(0,0.03)\n",
    "\n",
    "axs[1,0].hist(hist_Isochg_EB,bins=bins,color='royalblue')\n",
    "axs[1,0].set_xlabel('EB Isochg')\n",
    "#axs[1,0].set_xlim(1,2)\n",
    "\n",
    "axs[1,1].hist(hist_Isochg_EE,bins=bins,color='darkorange')\n",
    "axs[1,1].set_xlabel('EE Isochg')\n",
    "#axs[1,1].set_xlim(1,1.15)\n",
    "\n",
    "plt.show()\n",
    "# - Sieie-> EB: 0.01015 EE: 0.0272  \n",
    "# - IsoChg-> EB: 1.141 EE: 1.051"
   ]
  },
  {
   "cell_type": "markdown",
   "metadata": {},
   "source": [
    "---"
   ]
  },
  {
   "cell_type": "code",
   "execution_count": 32,
   "metadata": {},
   "outputs": [],
   "source": [
    "Photon_template_mask = (is_photon_sieie) | (is_photon_Isochg)\n",
    "Photon = Photon[Photon_template_mask]\n",
    "\n",
    "\n",
    "Ele_channel_fake_template = Ele_channel_events[ak.num(Photon) == 1]\n",
    "Diele  = Diele[ak.num(Photon) == 1]\n",
    "Jet    = Jet[ak.num(Photon) == 1]\n",
    "MET    = MET[ak.num(Photon) == 1]\n",
    "Photon = Photon[ak.num(Photon) == 1] \n",
    "\n"
   ]
  },
  {
   "cell_type": "code",
   "execution_count": 33,
   "metadata": {},
   "outputs": [
    {
     "name": "stdout",
     "output_type": "stream",
     "text": [
      "#### 4. Fake template 36\n"
     ]
    }
   ],
   "source": [
    "print(\"#### 4. Fake template {0}\".format(len(Ele_channel_fake_template )))"
   ]
  },
  {
   "cell_type": "code",
   "execution_count": 38,
   "metadata": {},
   "outputs": [],
   "source": [
    "photon = ak.flatten(Photon)"
   ]
  },
  {
   "cell_type": "code",
   "execution_count": 39,
   "metadata": {},
   "outputs": [
    {
     "data": {
      "image/png": "[encoded data removed]",
      "text/plain": [
       "<Figure size 1080x1080 with 16 Axes>"
      ]
     },
     "metadata": {
      "needs_background": "light"
     },
     "output_type": "display_data"
    }
   ],
   "source": [
    "fig,axs = plt.subplots(4,4,figsize=(15,15))\n",
    "axs = axs.ravel()\n",
    "\n",
    "for ith,name in enumerate(bin_name_list):\n",
    "    \n",
    "    axs[ith].hist(make_bins(photon.pt,abs(photon.eta),photon.sieie,name),bins=50,histtype='step')\n",
    "    axs[ith].set_title(name)"
   ]
  },
  {
   "cell_type": "code",
   "execution_count": 106,
   "metadata": {},
   "outputs": [],
   "source": [
    "#def make_leading_pair(target,base):\n",
    "#            return target[ak.argmax(base.pt,axis=1,keepdims=True)]\n",
    "\n",
    "leading_pho     = Photon\n",
    "\n",
    "isEE_mask = leading_pho.isScEtaEE\n",
    "isEB_mask = leading_pho.isScEtaEB\n",
    "\n",
    "Pho_EE = leading_pho[isEE_mask]\n",
    "Pho_EB = leading_pho[isEB_mask]\n",
    "\n",
    "Pho_EE_pt     = flat_dim(Pho_EE.pt)\n",
    "Pho_EE_eta    = flat_dim(Pho_EE.eta)\n",
    "Pho_EE_phi    = flat_dim(Pho_EE.phi)\n",
    "Pho_EE_Isochg = flat_dim(Pho_EE.pfRelIso03_chg)\n",
    "Pho_EE_Sieie  = flat_dim(Pho_EE.sieie)\n",
    "\n",
    "\n",
    "Pho_EB_pt  = flat_dim(Pho_EB.pt)\n",
    "Pho_EB_eta = flat_dim(Pho_EB.eta)\n",
    "Pho_EB_phi = flat_dim(Pho_EB.phi)\n",
    "Pho_EB_Isochg = flat_dim(Pho_EB.pfRelIso03_chg)\n",
    "Pho_EB_Sieie  = flat_dim(Pho_EB.sieie)"
   ]
  },
  {
   "cell_type": "code",
   "execution_count": 107,
   "metadata": {},
   "outputs": [
    {
     "data": {
      "image/png": "[encoded data removed]",
      "text/plain": [
       "<Figure size 2160x720 with 10 Axes>"
      ]
     },
     "metadata": {
      "needs_background": "light"
     },
     "output_type": "display_data"
    }
   ],
   "source": [
    "fig,axs = plt.subplots(2,5,figsize=(30,10))\n",
    "bins=100\n",
    "\n",
    "axs[0,0].hist(Pho_EE_pt,bins=bins)\n",
    "axs[0,0].set_xlabel('EE PT')\n",
    "axs[0,1].hist(Pho_EE_eta,bins=bins)\n",
    "axs[0,1].set_xlabel('EE Eta')\n",
    "axs[0,2].hist(Pho_EE_phi,bins=bins)\n",
    "axs[0,2].set_xlabel('EE Phi')\n",
    "axs[0,3].hist(Pho_EE_Isochg,bins=bins)\n",
    "axs[0,3].set_xlabel('EE IshChg')\n",
    "#axs[0,3].set_xlim(0,1.5)\n",
    "axs[0,4].hist(Pho_EE_Sieie,bins=bins)\n",
    "axs[0,4].set_xlabel('EE Sieie')\n",
    "axs[0,4].set_xlim(0,0.03)\n",
    "\n",
    "axs[1,0].hist(Pho_EB_pt,bins=bins)\n",
    "axs[1,0].set_xlabel('EB PT')\n",
    "axs[1,1].hist(Pho_EB_eta,bins=bins)\n",
    "axs[1,1].set_xlabel('EB Eta')\n",
    "axs[1,2].hist(Pho_EB_phi,bins=bins)\n",
    "axs[1,2].set_xlabel('EB Phi')\n",
    "axs[1,3].hist(Pho_EB_Isochg,bins=bins)\n",
    "axs[1,3].set_xlabel('EB IshChg')\n",
    "#axs[1,3].set_xlim(0,1.6)\n",
    "axs[1,4].hist(Pho_EB_Sieie,bins=bins)\n",
    "axs[1,4].set_xlabel('EE Sieie')\n",
    "axs[1,4].set_xlim(0,0.02)\n",
    "plt.show()\n",
    "\n",
    "#Sieie->  EB: 0.01015 EE: 0.0272\n",
    "#IsoChg-> EB: 1.141 EE: 1.051"
   ]
  },
  {
   "cell_type": "markdown",
   "metadata": {},
   "source": [
    "### 5. Event Selection"
   ]
  },
  {
   "cell_type": "code",
   "execution_count": 108,
   "metadata": {},
   "outputs": [],
   "source": [
    "##-----------  Cut flow5 and 6: Event Selection\n",
    "\n",
    "# bjet veto\n",
    "bJet_selmask = (Jet.btagCMVA > -0.5844)\n",
    "bJet_veto    = ak.num(Jet[bJet_selmask])==0\n",
    "cut5 = np.ones(ak.sum(ak.num(leading_pho[bJet_veto] > 0 ))) * 5\n",
    "\n",
    "# Z mass window\n",
    "zmass_window_mask = ak.firsts((Diele.p4.mass) > 60 | (Diele.p4.mass < 120))\n",
    "\n",
    "# M(eea) cuts \n",
    "eeg_vec           = Diele.p4 + leading_pho\n",
    "Meeg_mask         = ak.firsts(eeg_vec.mass > 120)\n",
    "\n",
    "# Mask\n",
    "Event_sel_mask   = bJet_veto & zmass_window_mask & Meeg_mask\n",
    "\n",
    "Diele_sel   = Diele[Event_sel_mask]\n",
    "\n",
    "leading_pho_sel   = leading_pho[Event_sel_mask]\n",
    "# Photon  EE and EB\n",
    "\n",
    "isEE_mask = leading_pho.isScEtaEE\n",
    "isEB_mask = leading_pho.isScEtaEB\n",
    "Pho_EE = leading_pho[isEE_mask & Event_sel_mask]\n",
    "Pho_EB = leading_pho[isEB_mask & Event_sel_mask]\n",
    "\n",
    "MET_sel           = MET[Event_sel_mask]"
   ]
  },
  {
   "cell_type": "code",
   "execution_count": 109,
   "metadata": {},
   "outputs": [
    {
     "name": "stdout",
     "output_type": "stream",
     "text": [
      "#### 5. Event selection: 10\n"
     ]
    }
   ],
   "source": [
    "print(\"#### 5. Event selection: {0}\".format(len(Diele_sel)))"
   ]
  },
  {
   "cell_type": "code",
   "execution_count": 110,
   "metadata": {},
   "outputs": [
    {
     "data": {
      "text/plain": [
       "<PhotonArray [[Photon], [Photon, ... [Photon]] type='10 * option[var * photon]'>"
      ]
     },
     "execution_count": 110,
     "metadata": {},
     "output_type": "execute_result"
    }
   ],
   "source": [
    "leading_pho_sel "
   ]
  },
  {
   "cell_type": "code",
   "execution_count": 35,
   "metadata": {},
   "outputs": [
    {
     "data": {
      "image/png": "[encoded data removed]",
      "text/plain": [
       "<Figure size 2160x720 with 10 Axes>"
      ]
     },
     "metadata": {
      "needs_background": "light"
     },
     "output_type": "display_data"
    }
   ],
   "source": [
    "Pho_EE_pt     = flat_dim(Pho_EE.pt)\n",
    "Pho_EE_eta    = flat_dim(Pho_EE.eta)\n",
    "Pho_EE_phi    = flat_dim(Pho_EE.phi)\n",
    "Pho_EE_Isochg = flat_dim(Pho_EE.pfRelIso03_chg)\n",
    "Pho_EE_Sieie  = flat_dim(Pho_EE.sieie)\n",
    "\n",
    "\n",
    "Pho_EB_pt  = flat_dim(Pho_EB.pt)\n",
    "Pho_EB_eta = flat_dim(Pho_EB.eta)\n",
    "Pho_EB_phi = flat_dim(Pho_EB.phi)\n",
    "Pho_EB_Isochg = flat_dim(Pho_EE.pfRelIso03_chg)\n",
    "Pho_EB_Sieie  = flat_dim(Pho_EE.sieie)\n",
    "\n",
    "\n",
    "Diele_mass = flat_dim(Diele_sel.p4.mass)\n",
    "eeg_vec = Diele_sel.p4 + leading_pho_sel\n",
    "eeg_mass = flat_dim(eeg_vec.mass)\n",
    "\n",
    "Ele1_pt  = flat_dim(Diele_sel.lep1.pt)\n",
    "Ele1_eta = flat_dim(Diele_sel.lep1.eta)\n",
    "Ele1_phi = flat_dim(Diele_sel.lep1.phi)\n",
    "\n",
    "Ele2_pt  = flat_dim(Diele_sel.lep2.pt)\n",
    "Ele2_eta = flat_dim(Diele_sel.lep2.eta)\n",
    "Ele2_phi = flat_dim(Diele_sel.lep2.phi)\n",
    "fig,axs = plt.subplots(2,5,figsize=(30,10))\n",
    "bins=100\n",
    "\n",
    "axs[0,0].hist(Pho_EE_pt,bins=bins)\n",
    "axs[0,0].set_xlabel('EE PT')\n",
    "axs[0,1].hist(Pho_EE_eta,bins=bins)\n",
    "axs[0,1].set_xlabel('EE Eta')\n",
    "axs[0,2].hist(Pho_EE_phi,bins=bins)\n",
    "axs[0,2].set_xlabel('EE Phi')\n",
    "axs[0,3].hist(Pho_EE_Isochg,bins=bins)\n",
    "axs[0,3].set_xlabel('EE IshChg')\n",
    "axs[0,4].hist(Pho_EE_Sieie,bins=bins)\n",
    "axs[0,4].set_xlabel('EE Sieie')\n",
    "\n",
    "axs[1,0].hist(Pho_EB_pt,bins=bins)\n",
    "axs[1,0].set_xlabel('EB PT')\n",
    "axs[1,1].hist(Pho_EB_eta,bins=bins)\n",
    "axs[1,1].set_xlabel('EB Eta')\n",
    "axs[1,2].hist(Pho_EB_phi,bins=bins)\n",
    "axs[1,2].set_xlabel('EB Phi')\n",
    "axs[1,3].hist(Pho_EB_Isochg,bins=bins)\n",
    "axs[1,3].set_xlabel('EB IshChg')\n",
    "axs[1,4].hist(Pho_EB_Sieie,bins=bins)\n",
    "axs[1,4].set_xlabel('EE Sieie')\n",
    "plt.show()"
   ]
  },
  {
   "cell_type": "code",
   "execution_count": 36,
   "metadata": {},
   "outputs": [],
   "source": [
    "leading_ele, subleading_ele = ak.flatten(TLorentz_vector_cylinder(Diele_sel.lep1)),ak.flatten(TLorentz_vector_cylinder(Diele_sel.lep2))\n",
    "\n",
    "dR_e1pho  = flat_dim(leading_ele.delta_r(leading_pho_sel)) # dR pho,ele1\n",
    "dR_e2pho  = flat_dim(subleading_ele.delta_r(leading_pho_sel)) # dR pho,ele2"
   ]
  },
  {
   "cell_type": "code",
   "execution_count": 37,
   "metadata": {},
   "outputs": [],
   "source": [
    "Diele_mass = flat_dim(Diele_sel.p4.mass)\n",
    "eeg_mass = flat_dim(eeg_vec.mass)\n",
    "dR_e1pho  = flat_dim(leading_ele.delta_r(leading_pho_sel)) # dR pho,ele1\n",
    "dR_e2pho  = flat_dim(subleading_ele.delta_r(leading_pho_sel)) \n",
    "\n",
    "Ele1_pt  = flat_dim(Diele_sel.lep1.pt)\n",
    "Ele1_eta = flat_dim(Diele_sel.lep1.eta)\n",
    "Ele1_phi = flat_dim(Diele_sel.lep1.phi)\n",
    "\n",
    "Ele2_pt  = flat_dim(Diele_sel.lep2.pt)\n",
    "Ele2_eta = flat_dim(Diele_sel.lep2.eta)\n",
    "Ele2_phi = flat_dim(Diele_sel.lep2.phi)"
   ]
  },
  {
   "cell_type": "code",
   "execution_count": 38,
   "metadata": {},
   "outputs": [
    {
     "data": {
      "image/png": "[encoded data removed]",
      "text/plain": [
       "<Figure size 2160x720 with 12 Axes>"
      ]
     },
     "metadata": {
      "needs_background": "light"
     },
     "output_type": "display_data"
    }
   ],
   "source": [
    "fig,axs = plt.subplots(2,6,figsize=(30,10))\n",
    "bins=100\n",
    "\n",
    "axs[0,0].hist(Diele_mass,bins=bins)\n",
    "axs[0,0].set_xlabel('Mee')\n",
    "axs[0,1].hist(eeg_mass,bins=bins)\n",
    "axs[0,1].set_xlabel('Meea')\n",
    "axs[0,2].hist(dR_e1pho,bins=bins)\n",
    "axs[0,2].set_xlabel('dR(e1pho)')\n",
    "axs[0,3].hist(dR_e2pho,bins=bins)\n",
    "axs[0,3].set_xlabel('dR(e2pho)')\n",
    "\n",
    "\n",
    "axs[1,0].hist(Ele1_pt,bins=bins)\n",
    "axs[1,0].set_xlabel('Ele1 PT')\n",
    "\n",
    "axs[1,1].hist(Ele1_eta,bins=bins)\n",
    "axs[1,1].set_xlabel('Ele1 Eta')\n",
    "\n",
    "axs[1,2].hist(Ele1_phi,bins=bins)\n",
    "axs[1,2].set_xlabel('Ele1 Phi')\n",
    "\n",
    "axs[1,3].hist(Ele2_pt,bins=bins)\n",
    "axs[1,3].set_xlabel('Ele2 PT')\n",
    "\n",
    "axs[1,4].hist(Ele2_eta,bins=bins)\n",
    "axs[1,4].set_xlabel('Ele2 Eta')\n",
    "\n",
    "axs[1,5].hist(Ele2_phi,bins=bins)\n",
    "axs[1,5].set_xlabel('Ele2 Phi')\n",
    "\n",
    "plt.show()"
   ]
  },
  {
   "cell_type": "code",
   "execution_count": null,
   "metadata": {},
   "outputs": [],
   "source": []
  }
 ],
 "metadata": {
  "kernelspec": {
   "display_name": "Python 3",
   "language": "python",
   "name": "python3"
  },
  "language_info": {
   "codemirror_mode": {
    "name": "ipython",
    "version": 3
   },
   "file_extension": ".py",
   "mimetype": "text/x-python",
   "name": "python",
   "nbconvert_exporter": "python",
   "pygments_lexer": "ipython3",
   "version": "3.8.5"
  }
 },
 "nbformat": 4,
 "nbformat_minor": 4
}
