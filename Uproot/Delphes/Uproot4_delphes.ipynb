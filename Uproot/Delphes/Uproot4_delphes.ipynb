{
 "cells": [
  {
   "cell_type": "code",
   "execution_count": 1,
   "metadata": {},
   "outputs": [],
   "source": [
    "# !pip install uproot\n",
    "# !pip install awkward\n",
    "# !pip install vector"
   ]
  },
  {
   "cell_type": "code",
   "execution_count": 2,
   "metadata": {},
   "outputs": [],
   "source": [
    "import uproot\n",
    "import awkward as ak\n",
    "import numpy as np\n",
    "import matplotlib.pyplot as plt"
   ]
  },
  {
   "cell_type": "code",
   "execution_count": 3,
   "metadata": {},
   "outputs": [
    {
     "name": "stdout",
     "output_type": "stream",
     "text": [
      "4.0.7\n",
      "1.2.2\n"
     ]
    }
   ],
   "source": [
    "print(uproot.__version__)\n",
    "print(ak.__version__)"
   ]
  },
  {
   "cell_type": "markdown",
   "metadata": {},
   "source": [
    "### 1. File I/O"
   ]
  },
  {
   "cell_type": "code",
   "execution_count": 4,
   "metadata": {
    "collapsed": true,
    "jupyter": {
     "outputs_hidden": true
    },
    "tags": []
   },
   "outputs": [
    {
     "name": "stdout",
     "output_type": "stream",
     "text": [
      "name                 | typename                 | interpretation                \n",
      "---------------------+--------------------------+-------------------------------\n",
      "Event                | TClonesArray             | AsGroup(<TBranchElement 'Ev...\n",
      "Event/Event.fUniq... | uint32_t[]               | AsJagged(AsDtype('>u4'))\n",
      "Event/Event.fBits    | uint32_t[]               | AsJagged(AsDtype('>u4'))\n",
      "Event/Event.Number   | int64_t[]                | AsJagged(AsDtype('>i8'))\n",
      "Event/Event.ReadTime | float[]                  | AsJagged(AsDtype('>f4'))\n",
      "Event/Event.ProcTime | float[]                  | AsJagged(AsDtype('>f4'))\n",
      "Event/Event.Proce... | int32_t[]                | AsJagged(AsDtype('>i4'))\n",
      "Event/Event.MPI      | int32_t[]                | AsJagged(AsDtype('>i4'))\n",
      "Event/Event.Weight   | float[]                  | AsJagged(AsDtype('>f4'))\n",
      "Event/Event.Cross... | float[]                  | AsJagged(AsDtype('>f4'))\n",
      "Event/Event.Cross... | float[]                  | AsJagged(AsDtype('>f4'))\n",
      "Event/Event.Scale    | float[]                  | AsJagged(AsDtype('>f4'))\n",
      "Event/Event.AlphaQED | float[]                  | AsJagged(AsDtype('>f4'))\n",
      "Event/Event.AlphaQCD | float[]                  | AsJagged(AsDtype('>f4'))\n",
      "Event/Event.ID1      | int32_t[]                | AsJagged(AsDtype('>i4'))\n",
      "Event/Event.ID2      | int32_t[]                | AsJagged(AsDtype('>i4'))\n",
      "Event/Event.X1       | float[]                  | AsJagged(AsDtype('>f4'))\n",
      "Event/Event.X2       | float[]                  | AsJagged(AsDtype('>f4'))\n",
      "Event/Event.ScalePDF | float[]                  | AsJagged(AsDtype('>f4'))\n",
      "Event/Event.PDF1     | float[]                  | AsJagged(AsDtype('>f4'))\n",
      "Event/Event.PDF2     | float[]                  | AsJagged(AsDtype('>f4'))\n",
      "Event_size           | int32_t                  | AsDtype('>i4')\n",
      "EventLHEF            | TClonesArray             | AsGroup(<TBranchElement 'Ev...\n",
      "EventLHEF/EventLH... | uint32_t[]               | AsJagged(AsDtype('>u4'))\n",
      "EventLHEF/EventLH... | uint32_t[]               | AsJagged(AsDtype('>u4'))\n",
      "EventLHEF/EventLH... | int64_t[]                | AsJagged(AsDtype('>i8'))\n",
      "EventLHEF/EventLH... | float[]                  | AsJagged(AsDtype('>f4'))\n",
      "EventLHEF/EventLH... | float[]                  | AsJagged(AsDtype('>f4'))\n",
      "EventLHEF/EventLH... | int32_t[]                | AsJagged(AsDtype('>i4'))\n",
      "EventLHEF/EventLH... | float[]                  | AsJagged(AsDtype('>f4'))\n",
      "EventLHEF/EventLH... | float[]                  | AsJagged(AsDtype('>f4'))\n",
      "EventLHEF/EventLH... | float[]                  | AsJagged(AsDtype('>f4'))\n",
      "EventLHEF/EventLH... | float[]                  | AsJagged(AsDtype('>f4'))\n",
      "EventLHEF/EventLH... | float[]                  | AsJagged(AsDtype('>f4'))\n",
      "EventLHEF_size       | int32_t                  | AsDtype('>i4')\n",
      "WeightLHEF           | TClonesArray             | AsGroup(<TBranchElement 'We...\n",
      "WeightLHEF/Weight... | uint32_t[]               | AsJagged(AsDtype('>u4'))\n",
      "WeightLHEF/Weight... | uint32_t[]               | AsJagged(AsDtype('>u4'))\n",
      "WeightLHEF/Weight... | int32_t[]                | AsJagged(AsDtype('>i4'))\n",
      "WeightLHEF/Weight... | float[]                  | AsJagged(AsDtype('>f4'))\n",
      "WeightLHEF_size      | int32_t                  | AsDtype('>i4')\n",
      "Particle             | TClonesArray             | AsGroup(<TBranchElement 'Pa...\n",
      "Particle/Particle... | uint32_t[]               | AsJagged(AsDtype('>u4'))\n",
      "Particle/Particle... | uint32_t[]               | AsJagged(AsDtype('>u4'))\n",
      "Particle/Particle... | int32_t[]                | AsJagged(AsDtype('>i4'))\n",
      "Particle/Particle... | int32_t[]                | AsJagged(AsDtype('>i4'))\n",
      "Particle/Particle... | int32_t[]                | AsJagged(AsDtype('>i4'))\n",
      "Particle/Particle.M1 | int32_t[]                | AsJagged(AsDtype('>i4'))\n",
      "Particle/Particle.M2 | int32_t[]                | AsJagged(AsDtype('>i4'))\n",
      "Particle/Particle.D1 | int32_t[]                | AsJagged(AsDtype('>i4'))\n",
      "Particle/Particle.D2 | int32_t[]                | AsJagged(AsDtype('>i4'))\n",
      "Particle/Particle... | int32_t[]                | AsJagged(AsDtype('>i4'))\n",
      "Particle/Particle... | float[]                  | AsJagged(AsDtype('>f4'))\n",
      "Particle/Particle.E  | float[]                  | AsJagged(AsDtype('>f4'))\n",
      "Particle/Particle.Px | float[]                  | AsJagged(AsDtype('>f4'))\n",
      "Particle/Particle.Py | float[]                  | AsJagged(AsDtype('>f4'))\n",
      "Particle/Particle.Pz | float[]                  | AsJagged(AsDtype('>f4'))\n",
      "Particle/Particle.P  | float[]                  | AsJagged(AsDtype('>f4'))\n",
      "Particle/Particle.PT | float[]                  | AsJagged(AsDtype('>f4'))\n",
      "Particle/Particle... | float[]                  | AsJagged(AsDtype('>f4'))\n",
      "Particle/Particle... | float[]                  | AsJagged(AsDtype('>f4'))\n",
      "Particle/Particle... | float[]                  | AsJagged(AsDtype('>f4'))\n",
      "Particle/Particle.T  | float[]                  | AsJagged(AsDtype('>f4'))\n",
      "Particle/Particle.X  | float[]                  | AsJagged(AsDtype('>f4'))\n",
      "Particle/Particle.Y  | float[]                  | AsJagged(AsDtype('>f4'))\n",
      "Particle/Particle.Z  | float[]                  | AsJagged(AsDtype('>f4'))\n",
      "Particle_size        | int32_t                  | AsDtype('>i4')\n",
      "Vertex               | TClonesArray             | AsGroup(<TBranchElement 'Ve...\n",
      "Vertex/Vertex.fUn... | uint32_t[]               | AsJagged(AsDtype('>u4'))\n",
      "Vertex/Vertex.fBits  | uint32_t[]               | AsJagged(AsDtype('>u4'))\n",
      "Vertex/Vertex.T      | float[]                  | AsJagged(AsDtype('>f4'))\n",
      "Vertex/Vertex.X      | float[]                  | AsJagged(AsDtype('>f4'))\n",
      "Vertex/Vertex.Y      | float[]                  | AsJagged(AsDtype('>f4'))\n",
      "Vertex/Vertex.Z      | float[]                  | AsJagged(AsDtype('>f4'))\n",
      "Vertex/Vertex.ErrorT | double[]                 | AsJagged(AsDtype('>f8'))\n",
      "Vertex/Vertex.ErrorX | double[]                 | AsJagged(AsDtype('>f8'))\n",
      "Vertex/Vertex.ErrorY | double[]                 | AsJagged(AsDtype('>f8'))\n",
      "Vertex/Vertex.ErrorZ | double[]                 | AsJagged(AsDtype('>f8'))\n",
      "Vertex/Vertex.Index  | int32_t[]                | AsJagged(AsDtype('>i4'))\n",
      "Vertex/Vertex.NDF    | int32_t[]                | AsJagged(AsDtype('>i4'))\n",
      "Vertex/Vertex.Sigma  | double[]                 | AsJagged(AsDtype('>f8'))\n",
      "Vertex/Vertex.SumPT2 | double[]                 | AsJagged(AsDtype('>f8'))\n",
      "Vertex/Vertex.Gen... | double[]                 | AsJagged(AsDtype('>f8'))\n",
      "Vertex/Vertex.Gen... | double[]                 | AsJagged(AsDtype('>f8'))\n",
      "Vertex/Vertex.BTV... | double[]                 | AsJagged(AsDtype('>f8'))\n",
      "Vertex/Vertex.Con... | TRefArray*               | AsObjects(AsArray(False, Fa...\n",
      "Vertex_size          | int32_t                  | AsDtype('>i4')\n",
      "GenJet               | TClonesArray             | AsGroup(<TBranchElement 'Ge...\n",
      "GenJet/GenJet.fUn... | uint32_t[]               | AsJagged(AsDtype('>u4'))\n",
      "GenJet/GenJet.fBits  | uint32_t[]               | AsJagged(AsDtype('>u4'))\n",
      "GenJet/GenJet.PT     | float[]                  | AsJagged(AsDtype('>f4'))\n",
      "GenJet/GenJet.Eta    | float[]                  | AsJagged(AsDtype('>f4'))\n",
      "GenJet/GenJet.Phi    | float[]                  | AsJagged(AsDtype('>f4'))\n",
      "GenJet/GenJet.T      | float[]                  | AsJagged(AsDtype('>f4'))\n",
      "GenJet/GenJet.Mass   | float[]                  | AsJagged(AsDtype('>f4'))\n",
      "GenJet/GenJet.Del... | float[]                  | AsJagged(AsDtype('>f4'))\n",
      "GenJet/GenJet.Del... | float[]                  | AsJagged(AsDtype('>f4'))\n",
      "GenJet/GenJet.Flavor | uint32_t[]               | AsJagged(AsDtype('>u4'))\n",
      "GenJet/GenJet.Fla... | uint32_t[]               | AsJagged(AsDtype('>u4'))\n",
      "GenJet/GenJet.Fla... | uint32_t[]               | AsJagged(AsDtype('>u4'))\n",
      "GenJet/GenJet.BTag   | uint32_t[]               | AsJagged(AsDtype('>u4'))\n",
      "GenJet/GenJet.BTa... | uint32_t[]               | AsJagged(AsDtype('>u4'))\n",
      "GenJet/GenJet.BTa... | uint32_t[]               | AsJagged(AsDtype('>u4'))\n",
      "GenJet/GenJet.TauTag | uint32_t[]               | AsJagged(AsDtype('>u4'))\n",
      "GenJet/GenJet.Tau... | float[]                  | AsJagged(AsDtype('>f4'))\n",
      "GenJet/GenJet.Charge | int32_t[]                | AsJagged(AsDtype('>i4'))\n",
      "GenJet/GenJet.Eha... | float[]                  | AsJagged(AsDtype('>f4'))\n",
      "GenJet/GenJet.NCh... | int32_t[]                | AsJagged(AsDtype('>i4'))\n",
      "GenJet/GenJet.NNe... | int32_t[]                | AsJagged(AsDtype('>i4'))\n",
      "GenJet/GenJet.Neu... | float[]                  | AsJagged(AsDtype('>f4'))\n",
      "GenJet/GenJet.Cha... | float[]                  | AsJagged(AsDtype('>f4'))\n",
      "GenJet/GenJet.Beta   | float[]                  | AsJagged(AsDtype('>f4'))\n",
      "GenJet/GenJet.Bet... | float[]                  | AsJagged(AsDtype('>f4'))\n",
      "GenJet/GenJet.Mea... | float[]                  | AsJagged(AsDtype('>f4'))\n",
      "GenJet/GenJet.PTD    | float[]                  | AsJagged(AsDtype('>f4'))\n",
      "GenJet/GenJet.Fra... | float[][5]               | AsJagged(AsDtype(\"('>f4', (...\n",
      "GenJet/GenJet.Tau[5] | float[][5]               | AsJagged(AsDtype(\"('>f4', (...\n",
      "GenJet/GenJet.Sof... | TLorentzVector*          | AsJagged(AsStridedObjects(M...\n",
      "GenJet/GenJet.Sof... | TLorentzVector*          | AsJagged(AsStridedObjects(M...\n",
      "GenJet/GenJet.Sof... | TLorentzVector*          | AsJagged(AsStridedObjects(M...\n",
      "GenJet/GenJet.Tri... | TLorentzVector*          | AsJagged(AsStridedObjects(M...\n",
      "GenJet/GenJet.Pru... | TLorentzVector*          | AsJagged(AsStridedObjects(M...\n",
      "GenJet/GenJet.Sof... | TLorentzVector*          | AsJagged(AsStridedObjects(M...\n",
      "GenJet/GenJet.NSu... | int32_t[]                | AsJagged(AsDtype('>i4'))\n",
      "GenJet/GenJet.NSu... | int32_t[]                | AsJagged(AsDtype('>i4'))\n",
      "GenJet/GenJet.NSu... | int32_t[]                | AsJagged(AsDtype('>i4'))\n",
      "GenJet/GenJet.Exc... | double[]                 | AsJagged(AsDtype('>f8'))\n",
      "GenJet/GenJet.Exc... | double[]                 | AsJagged(AsDtype('>f8'))\n",
      "GenJet/GenJet.Exc... | double[]                 | AsJagged(AsDtype('>f8'))\n",
      "GenJet/GenJet.Exc... | double[]                 | AsJagged(AsDtype('>f8'))\n",
      "GenJet/GenJet.Con... | TRefArray*               | AsObjects(AsArray(False, Fa...\n",
      "GenJet/GenJet.Par... | TRefArray*               | AsObjects(AsArray(False, Fa...\n",
      "GenJet/GenJet.Area   | TLorentzVector*          | AsJagged(AsStridedObjects(M...\n",
      "GenJet_size          | int32_t                  | AsDtype('>i4')\n",
      "GenJetAK8            | TClonesArray             | AsGroup(<TBranchElement 'Ge...\n",
      "GenJetAK8/GenJetA... | uint32_t[]               | AsJagged(AsDtype('>u4'))\n",
      "GenJetAK8/GenJetA... | uint32_t[]               | AsJagged(AsDtype('>u4'))\n",
      "GenJetAK8/GenJetA... | float[]                  | AsJagged(AsDtype('>f4'))\n",
      "GenJetAK8/GenJetA... | float[]                  | AsJagged(AsDtype('>f4'))\n",
      "GenJetAK8/GenJetA... | float[]                  | AsJagged(AsDtype('>f4'))\n",
      "GenJetAK8/GenJetA... | float[]                  | AsJagged(AsDtype('>f4'))\n",
      "GenJetAK8/GenJetA... | float[]                  | AsJagged(AsDtype('>f4'))\n",
      "GenJetAK8/GenJetA... | float[]                  | AsJagged(AsDtype('>f4'))\n",
      "GenJetAK8/GenJetA... | float[]                  | AsJagged(AsDtype('>f4'))\n",
      "GenJetAK8/GenJetA... | uint32_t[]               | AsJagged(AsDtype('>u4'))\n",
      "GenJetAK8/GenJetA... | uint32_t[]               | AsJagged(AsDtype('>u4'))\n",
      "GenJetAK8/GenJetA... | uint32_t[]               | AsJagged(AsDtype('>u4'))\n",
      "GenJetAK8/GenJetA... | uint32_t[]               | AsJagged(AsDtype('>u4'))\n",
      "GenJetAK8/GenJetA... | uint32_t[]               | AsJagged(AsDtype('>u4'))\n",
      "GenJetAK8/GenJetA... | uint32_t[]               | AsJagged(AsDtype('>u4'))\n",
      "GenJetAK8/GenJetA... | uint32_t[]               | AsJagged(AsDtype('>u4'))\n",
      "GenJetAK8/GenJetA... | float[]                  | AsJagged(AsDtype('>f4'))\n",
      "GenJetAK8/GenJetA... | int32_t[]                | AsJagged(AsDtype('>i4'))\n",
      "GenJetAK8/GenJetA... | float[]                  | AsJagged(AsDtype('>f4'))\n",
      "GenJetAK8/GenJetA... | int32_t[]                | AsJagged(AsDtype('>i4'))\n",
      "GenJetAK8/GenJetA... | int32_t[]                | AsJagged(AsDtype('>i4'))\n",
      "GenJetAK8/GenJetA... | float[]                  | AsJagged(AsDtype('>f4'))\n",
      "GenJetAK8/GenJetA... | float[]                  | AsJagged(AsDtype('>f4'))\n",
      "GenJetAK8/GenJetA... | float[]                  | AsJagged(AsDtype('>f4'))\n",
      "GenJetAK8/GenJetA... | float[]                  | AsJagged(AsDtype('>f4'))\n",
      "GenJetAK8/GenJetA... | float[]                  | AsJagged(AsDtype('>f4'))\n",
      "GenJetAK8/GenJetA... | float[]                  | AsJagged(AsDtype('>f4'))\n",
      "GenJetAK8/GenJetA... | float[][5]               | AsJagged(AsDtype(\"('>f4', (...\n",
      "GenJetAK8/GenJetA... | float[][5]               | AsJagged(AsDtype(\"('>f4', (...\n",
      "GenJetAK8/GenJetA... | TLorentzVector*          | AsJagged(AsStridedObjects(M...\n",
      "GenJetAK8/GenJetA... | TLorentzVector*          | AsJagged(AsStridedObjects(M...\n",
      "GenJetAK8/GenJetA... | TLorentzVector*          | AsJagged(AsStridedObjects(M...\n",
      "GenJetAK8/GenJetA... | TLorentzVector*          | AsJagged(AsStridedObjects(M...\n",
      "GenJetAK8/GenJetA... | TLorentzVector*          | AsJagged(AsStridedObjects(M...\n",
      "GenJetAK8/GenJetA... | TLorentzVector*          | AsJagged(AsStridedObjects(M...\n",
      "GenJetAK8/GenJetA... | int32_t[]                | AsJagged(AsDtype('>i4'))\n",
      "GenJetAK8/GenJetA... | int32_t[]                | AsJagged(AsDtype('>i4'))\n",
      "GenJetAK8/GenJetA... | int32_t[]                | AsJagged(AsDtype('>i4'))\n",
      "GenJetAK8/GenJetA... | double[]                 | AsJagged(AsDtype('>f8'))\n",
      "GenJetAK8/GenJetA... | double[]                 | AsJagged(AsDtype('>f8'))\n",
      "GenJetAK8/GenJetA... | double[]                 | AsJagged(AsDtype('>f8'))\n",
      "GenJetAK8/GenJetA... | double[]                 | AsJagged(AsDtype('>f8'))\n",
      "GenJetAK8/GenJetA... | TRefArray*               | AsObjects(AsArray(False, Fa...\n",
      "GenJetAK8/GenJetA... | TRefArray*               | AsObjects(AsArray(False, Fa...\n",
      "GenJetAK8/GenJetA... | TLorentzVector*          | AsJagged(AsStridedObjects(M...\n",
      "GenJetAK8_size       | int32_t                  | AsDtype('>i4')\n",
      "GenMissingET         | TClonesArray             | AsGroup(<TBranchElement 'Ge...\n",
      "GenMissingET/GenM... | uint32_t[]               | AsJagged(AsDtype('>u4'))\n",
      "GenMissingET/GenM... | uint32_t[]               | AsJagged(AsDtype('>u4'))\n",
      "GenMissingET/GenM... | float[]                  | AsJagged(AsDtype('>f4'))\n",
      "GenMissingET/GenM... | float[]                  | AsJagged(AsDtype('>f4'))\n",
      "GenMissingET/GenM... | float[]                  | AsJagged(AsDtype('>f4'))\n",
      "GenMissingET_size    | int32_t                  | AsDtype('>i4')\n",
      "PhotonLoose          | TClonesArray             | AsGroup(<TBranchElement 'Ph...\n",
      "PhotonLoose/Photo... | uint32_t[]               | AsJagged(AsDtype('>u4'))\n",
      "PhotonLoose/Photo... | uint32_t[]               | AsJagged(AsDtype('>u4'))\n",
      "PhotonLoose/Photo... | float[]                  | AsJagged(AsDtype('>f4'))\n",
      "PhotonLoose/Photo... | float[]                  | AsJagged(AsDtype('>f4'))\n",
      "PhotonLoose/Photo... | float[]                  | AsJagged(AsDtype('>f4'))\n",
      "PhotonLoose/Photo... | float[]                  | AsJagged(AsDtype('>f4'))\n",
      "PhotonLoose/Photo... | float[]                  | AsJagged(AsDtype('>f4'))\n",
      "PhotonLoose/Photo... | float[]                  | AsJagged(AsDtype('>f4'))\n",
      "PhotonLoose/Photo... | TRefArray*               | AsObjects(AsArray(False, Fa...\n",
      "PhotonLoose/Photo... | float[]                  | AsJagged(AsDtype('>f4'))\n",
      "PhotonLoose/Photo... | float[]                  | AsJagged(AsDtype('>f4'))\n",
      "PhotonLoose/Photo... | float[]                  | AsJagged(AsDtype('>f4'))\n",
      "PhotonLoose/Photo... | float[]                  | AsJagged(AsDtype('>f4'))\n",
      "PhotonLoose/Photo... | float[]                  | AsJagged(AsDtype('>f4'))\n",
      "PhotonLoose/Photo... | float[]                  | AsJagged(AsDtype('>f4'))\n",
      "PhotonLoose/Photo... | int32_t[]                | AsJagged(AsDtype('>i4'))\n",
      "PhotonLoose_size     | int32_t                  | AsDtype('>i4')\n",
      "PhotonTight          | TClonesArray             | AsGroup(<TBranchElement 'Ph...\n",
      "PhotonTight/Photo... | uint32_t[]               | AsJagged(AsDtype('>u4'))\n",
      "PhotonTight/Photo... | uint32_t[]               | AsJagged(AsDtype('>u4'))\n",
      "PhotonTight/Photo... | float[]                  | AsJagged(AsDtype('>f4'))\n",
      "PhotonTight/Photo... | float[]                  | AsJagged(AsDtype('>f4'))\n",
      "PhotonTight/Photo... | float[]                  | AsJagged(AsDtype('>f4'))\n",
      "PhotonTight/Photo... | float[]                  | AsJagged(AsDtype('>f4'))\n",
      "PhotonTight/Photo... | float[]                  | AsJagged(AsDtype('>f4'))\n",
      "PhotonTight/Photo... | float[]                  | AsJagged(AsDtype('>f4'))\n",
      "PhotonTight/Photo... | TRefArray*               | AsObjects(AsArray(False, Fa...\n",
      "PhotonTight/Photo... | float[]                  | AsJagged(AsDtype('>f4'))\n",
      "PhotonTight/Photo... | float[]                  | AsJagged(AsDtype('>f4'))\n",
      "PhotonTight/Photo... | float[]                  | AsJagged(AsDtype('>f4'))\n",
      "PhotonTight/Photo... | float[]                  | AsJagged(AsDtype('>f4'))\n",
      "PhotonTight/Photo... | float[]                  | AsJagged(AsDtype('>f4'))\n",
      "PhotonTight/Photo... | float[]                  | AsJagged(AsDtype('>f4'))\n",
      "PhotonTight/Photo... | int32_t[]                | AsJagged(AsDtype('>i4'))\n",
      "PhotonTight_size     | int32_t                  | AsDtype('>i4')\n",
      "Electron             | TClonesArray             | AsGroup(<TBranchElement 'El...\n",
      "Electron/Electron... | uint32_t[]               | AsJagged(AsDtype('>u4'))\n",
      "Electron/Electron... | uint32_t[]               | AsJagged(AsDtype('>u4'))\n",
      "Electron/Electron.PT | float[]                  | AsJagged(AsDtype('>f4'))\n",
      "Electron/Electron... | float[]                  | AsJagged(AsDtype('>f4'))\n",
      "Electron/Electron... | float[]                  | AsJagged(AsDtype('>f4'))\n",
      "Electron/Electron.T  | float[]                  | AsJagged(AsDtype('>f4'))\n",
      "Electron/Electron... | int32_t[]                | AsJagged(AsDtype('>i4'))\n",
      "Electron/Electron... | float[]                  | AsJagged(AsDtype('>f4'))\n",
      "Electron/Electron... | TRef*                    | AsJagged(AsStridedObjects(M...\n",
      "Electron/Electron... | float[]                  | AsJagged(AsDtype('>f4'))\n",
      "Electron/Electron... | float[]                  | AsJagged(AsDtype('>f4'))\n",
      "Electron/Electron... | float[]                  | AsJagged(AsDtype('>f4'))\n",
      "Electron/Electron... | float[]                  | AsJagged(AsDtype('>f4'))\n",
      "Electron/Electron... | float[]                  | AsJagged(AsDtype('>f4'))\n",
      "Electron/Electron... | float[]                  | AsJagged(AsDtype('>f4'))\n",
      "Electron/Electron.D0 | float[]                  | AsJagged(AsDtype('>f4'))\n",
      "Electron/Electron.DZ | float[]                  | AsJagged(AsDtype('>f4'))\n",
      "Electron/Electron... | float[]                  | AsJagged(AsDtype('>f4'))\n",
      "Electron/Electron... | float[]                  | AsJagged(AsDtype('>f4'))\n",
      "Electron_size        | int32_t                  | AsDtype('>i4')\n",
      "MuonLoose            | TClonesArray             | AsGroup(<TBranchElement 'Mu...\n",
      "MuonLoose/MuonLoo... | uint32_t[]               | AsJagged(AsDtype('>u4'))\n",
      "MuonLoose/MuonLoo... | uint32_t[]               | AsJagged(AsDtype('>u4'))\n",
      "MuonLoose/MuonLoo... | float[]                  | AsJagged(AsDtype('>f4'))\n",
      "MuonLoose/MuonLoo... | float[]                  | AsJagged(AsDtype('>f4'))\n",
      "MuonLoose/MuonLoo... | float[]                  | AsJagged(AsDtype('>f4'))\n",
      "MuonLoose/MuonLoo... | float[]                  | AsJagged(AsDtype('>f4'))\n",
      "MuonLoose/MuonLoo... | int32_t[]                | AsJagged(AsDtype('>i4'))\n",
      "MuonLoose/MuonLoo... | TRef*                    | AsJagged(AsStridedObjects(M...\n",
      "MuonLoose/MuonLoo... | float[]                  | AsJagged(AsDtype('>f4'))\n",
      "MuonLoose/MuonLoo... | float[]                  | AsJagged(AsDtype('>f4'))\n",
      "MuonLoose/MuonLoo... | float[]                  | AsJagged(AsDtype('>f4'))\n",
      "MuonLoose/MuonLoo... | float[]                  | AsJagged(AsDtype('>f4'))\n",
      "MuonLoose/MuonLoo... | float[]                  | AsJagged(AsDtype('>f4'))\n",
      "MuonLoose/MuonLoo... | float[]                  | AsJagged(AsDtype('>f4'))\n",
      "MuonLoose/MuonLoo... | float[]                  | AsJagged(AsDtype('>f4'))\n",
      "MuonLoose/MuonLoo... | float[]                  | AsJagged(AsDtype('>f4'))\n",
      "MuonLoose/MuonLoo... | float[]                  | AsJagged(AsDtype('>f4'))\n",
      "MuonLoose/MuonLoo... | float[]                  | AsJagged(AsDtype('>f4'))\n",
      "MuonLoose_size       | int32_t                  | AsDtype('>i4')\n",
      "MuonTight            | TClonesArray             | AsGroup(<TBranchElement 'Mu...\n",
      "MuonTight/MuonTig... | uint32_t[]               | AsJagged(AsDtype('>u4'))\n",
      "MuonTight/MuonTig... | uint32_t[]               | AsJagged(AsDtype('>u4'))\n",
      "MuonTight/MuonTig... | float[]                  | AsJagged(AsDtype('>f4'))\n",
      "MuonTight/MuonTig... | float[]                  | AsJagged(AsDtype('>f4'))\n",
      "MuonTight/MuonTig... | float[]                  | AsJagged(AsDtype('>f4'))\n",
      "MuonTight/MuonTig... | float[]                  | AsJagged(AsDtype('>f4'))\n",
      "MuonTight/MuonTig... | int32_t[]                | AsJagged(AsDtype('>i4'))\n",
      "MuonTight/MuonTig... | TRef*                    | AsJagged(AsStridedObjects(M...\n",
      "MuonTight/MuonTig... | float[]                  | AsJagged(AsDtype('>f4'))\n",
      "MuonTight/MuonTig... | float[]                  | AsJagged(AsDtype('>f4'))\n",
      "MuonTight/MuonTig... | float[]                  | AsJagged(AsDtype('>f4'))\n",
      "MuonTight/MuonTig... | float[]                  | AsJagged(AsDtype('>f4'))\n",
      "MuonTight/MuonTig... | float[]                  | AsJagged(AsDtype('>f4'))\n",
      "MuonTight/MuonTig... | float[]                  | AsJagged(AsDtype('>f4'))\n",
      "MuonTight/MuonTig... | float[]                  | AsJagged(AsDtype('>f4'))\n",
      "MuonTight/MuonTig... | float[]                  | AsJagged(AsDtype('>f4'))\n",
      "MuonTight/MuonTig... | float[]                  | AsJagged(AsDtype('>f4'))\n",
      "MuonTight/MuonTig... | float[]                  | AsJagged(AsDtype('>f4'))\n",
      "MuonTight_size       | int32_t                  | AsDtype('>i4')\n",
      "ElectronCHS          | TClonesArray             | AsGroup(<TBranchElement 'El...\n",
      "ElectronCHS/Elect... | uint32_t[]               | AsJagged(AsDtype('>u4'))\n",
      "ElectronCHS/Elect... | uint32_t[]               | AsJagged(AsDtype('>u4'))\n",
      "ElectronCHS/Elect... | float[]                  | AsJagged(AsDtype('>f4'))\n",
      "ElectronCHS/Elect... | float[]                  | AsJagged(AsDtype('>f4'))\n",
      "ElectronCHS/Elect... | float[]                  | AsJagged(AsDtype('>f4'))\n",
      "ElectronCHS/Elect... | float[]                  | AsJagged(AsDtype('>f4'))\n",
      "ElectronCHS/Elect... | int32_t[]                | AsJagged(AsDtype('>i4'))\n",
      "ElectronCHS/Elect... | float[]                  | AsJagged(AsDtype('>f4'))\n",
      "ElectronCHS/Elect... | TRef*                    | AsJagged(AsStridedObjects(M...\n",
      "ElectronCHS/Elect... | float[]                  | AsJagged(AsDtype('>f4'))\n",
      "ElectronCHS/Elect... | float[]                  | AsJagged(AsDtype('>f4'))\n",
      "ElectronCHS/Elect... | float[]                  | AsJagged(AsDtype('>f4'))\n",
      "ElectronCHS/Elect... | float[]                  | AsJagged(AsDtype('>f4'))\n",
      "ElectronCHS/Elect... | float[]                  | AsJagged(AsDtype('>f4'))\n",
      "ElectronCHS/Elect... | float[]                  | AsJagged(AsDtype('>f4'))\n",
      "ElectronCHS/Elect... | float[]                  | AsJagged(AsDtype('>f4'))\n",
      "ElectronCHS/Elect... | float[]                  | AsJagged(AsDtype('>f4'))\n",
      "ElectronCHS/Elect... | float[]                  | AsJagged(AsDtype('>f4'))\n",
      "ElectronCHS/Elect... | float[]                  | AsJagged(AsDtype('>f4'))\n",
      "ElectronCHS_size     | int32_t                  | AsDtype('>i4')\n",
      "MuonLooseCHS         | TClonesArray             | AsGroup(<TBranchElement 'Mu...\n",
      "MuonLooseCHS/Muon... | uint32_t[]               | AsJagged(AsDtype('>u4'))\n",
      "MuonLooseCHS/Muon... | uint32_t[]               | AsJagged(AsDtype('>u4'))\n",
      "MuonLooseCHS/Muon... | float[]                  | AsJagged(AsDtype('>f4'))\n",
      "MuonLooseCHS/Muon... | float[]                  | AsJagged(AsDtype('>f4'))\n",
      "MuonLooseCHS/Muon... | float[]                  | AsJagged(AsDtype('>f4'))\n",
      "MuonLooseCHS/Muon... | float[]                  | AsJagged(AsDtype('>f4'))\n",
      "MuonLooseCHS/Muon... | int32_t[]                | AsJagged(AsDtype('>i4'))\n",
      "MuonLooseCHS/Muon... | TRef*                    | AsJagged(AsStridedObjects(M...\n",
      "MuonLooseCHS/Muon... | float[]                  | AsJagged(AsDtype('>f4'))\n",
      "MuonLooseCHS/Muon... | float[]                  | AsJagged(AsDtype('>f4'))\n",
      "MuonLooseCHS/Muon... | float[]                  | AsJagged(AsDtype('>f4'))\n",
      "MuonLooseCHS/Muon... | float[]                  | AsJagged(AsDtype('>f4'))\n",
      "MuonLooseCHS/Muon... | float[]                  | AsJagged(AsDtype('>f4'))\n",
      "MuonLooseCHS/Muon... | float[]                  | AsJagged(AsDtype('>f4'))\n",
      "MuonLooseCHS/Muon... | float[]                  | AsJagged(AsDtype('>f4'))\n",
      "MuonLooseCHS/Muon... | float[]                  | AsJagged(AsDtype('>f4'))\n",
      "MuonLooseCHS/Muon... | float[]                  | AsJagged(AsDtype('>f4'))\n",
      "MuonLooseCHS/Muon... | float[]                  | AsJagged(AsDtype('>f4'))\n",
      "MuonLooseCHS_size    | int32_t                  | AsDtype('>i4')\n",
      "MuonTightCHS         | TClonesArray             | AsGroup(<TBranchElement 'Mu...\n",
      "MuonTightCHS/Muon... | uint32_t[]               | AsJagged(AsDtype('>u4'))\n",
      "MuonTightCHS/Muon... | uint32_t[]               | AsJagged(AsDtype('>u4'))\n",
      "MuonTightCHS/Muon... | float[]                  | AsJagged(AsDtype('>f4'))\n",
      "MuonTightCHS/Muon... | float[]                  | AsJagged(AsDtype('>f4'))\n",
      "MuonTightCHS/Muon... | float[]                  | AsJagged(AsDtype('>f4'))\n",
      "MuonTightCHS/Muon... | float[]                  | AsJagged(AsDtype('>f4'))\n",
      "MuonTightCHS/Muon... | int32_t[]                | AsJagged(AsDtype('>i4'))\n",
      "MuonTightCHS/Muon... | TRef*                    | AsJagged(AsStridedObjects(M...\n",
      "MuonTightCHS/Muon... | float[]                  | AsJagged(AsDtype('>f4'))\n",
      "MuonTightCHS/Muon... | float[]                  | AsJagged(AsDtype('>f4'))\n",
      "MuonTightCHS/Muon... | float[]                  | AsJagged(AsDtype('>f4'))\n",
      "MuonTightCHS/Muon... | float[]                  | AsJagged(AsDtype('>f4'))\n",
      "MuonTightCHS/Muon... | float[]                  | AsJagged(AsDtype('>f4'))\n",
      "MuonTightCHS/Muon... | float[]                  | AsJagged(AsDtype('>f4'))\n",
      "MuonTightCHS/Muon... | float[]                  | AsJagged(AsDtype('>f4'))\n",
      "MuonTightCHS/Muon... | float[]                  | AsJagged(AsDtype('>f4'))\n",
      "MuonTightCHS/Muon... | float[]                  | AsJagged(AsDtype('>f4'))\n",
      "MuonTightCHS/Muon... | float[]                  | AsJagged(AsDtype('>f4'))\n",
      "MuonTightCHS_size    | int32_t                  | AsDtype('>i4')\n",
      "Jet                  | TClonesArray             | AsGroup(<TBranchElement 'Je...\n",
      "Jet/Jet.fUniqueID    | uint32_t[]               | AsJagged(AsDtype('>u4'))\n",
      "Jet/Jet.fBits        | uint32_t[]               | AsJagged(AsDtype('>u4'))\n",
      "Jet/Jet.PT           | float[]                  | AsJagged(AsDtype('>f4'))\n",
      "Jet/Jet.Eta          | float[]                  | AsJagged(AsDtype('>f4'))\n",
      "Jet/Jet.Phi          | float[]                  | AsJagged(AsDtype('>f4'))\n",
      "Jet/Jet.T            | float[]                  | AsJagged(AsDtype('>f4'))\n",
      "Jet/Jet.Mass         | float[]                  | AsJagged(AsDtype('>f4'))\n",
      "Jet/Jet.DeltaEta     | float[]                  | AsJagged(AsDtype('>f4'))\n",
      "Jet/Jet.DeltaPhi     | float[]                  | AsJagged(AsDtype('>f4'))\n",
      "Jet/Jet.Flavor       | uint32_t[]               | AsJagged(AsDtype('>u4'))\n",
      "Jet/Jet.FlavorAlgo   | uint32_t[]               | AsJagged(AsDtype('>u4'))\n",
      "Jet/Jet.FlavorPhys   | uint32_t[]               | AsJagged(AsDtype('>u4'))\n",
      "Jet/Jet.BTag         | uint32_t[]               | AsJagged(AsDtype('>u4'))\n",
      "Jet/Jet.BTagAlgo     | uint32_t[]               | AsJagged(AsDtype('>u4'))\n",
      "Jet/Jet.BTagPhys     | uint32_t[]               | AsJagged(AsDtype('>u4'))\n",
      "Jet/Jet.TauTag       | uint32_t[]               | AsJagged(AsDtype('>u4'))\n",
      "Jet/Jet.TauWeight    | float[]                  | AsJagged(AsDtype('>f4'))\n",
      "Jet/Jet.Charge       | int32_t[]                | AsJagged(AsDtype('>i4'))\n",
      "Jet/Jet.EhadOverEem  | float[]                  | AsJagged(AsDtype('>f4'))\n",
      "Jet/Jet.NCharged     | int32_t[]                | AsJagged(AsDtype('>i4'))\n",
      "Jet/Jet.NNeutrals    | int32_t[]                | AsJagged(AsDtype('>i4'))\n",
      "Jet/Jet.NeutralEn... | float[]                  | AsJagged(AsDtype('>f4'))\n",
      "Jet/Jet.ChargedEn... | float[]                  | AsJagged(AsDtype('>f4'))\n",
      "Jet/Jet.Beta         | float[]                  | AsJagged(AsDtype('>f4'))\n",
      "Jet/Jet.BetaStar     | float[]                  | AsJagged(AsDtype('>f4'))\n",
      "Jet/Jet.MeanSqDeltaR | float[]                  | AsJagged(AsDtype('>f4'))\n",
      "Jet/Jet.PTD          | float[]                  | AsJagged(AsDtype('>f4'))\n",
      "Jet/Jet.FracPt[5]    | float[][5]               | AsJagged(AsDtype(\"('>f4', (...\n",
      "Jet/Jet.Tau[5]       | float[][5]               | AsJagged(AsDtype(\"('>f4', (...\n",
      "Jet/Jet.SoftDropp... | TLorentzVector*          | AsJagged(AsStridedObjects(M...\n",
      "Jet/Jet.SoftDropp... | TLorentzVector*          | AsJagged(AsStridedObjects(M...\n",
      "Jet/Jet.SoftDropp... | TLorentzVector*          | AsJagged(AsStridedObjects(M...\n",
      "Jet/Jet.TrimmedP4[5] | TLorentzVector*          | AsJagged(AsStridedObjects(M...\n",
      "Jet/Jet.PrunedP4[5]  | TLorentzVector*          | AsJagged(AsStridedObjects(M...\n",
      "Jet/Jet.SoftDropp... | TLorentzVector*          | AsJagged(AsStridedObjects(M...\n",
      "Jet/Jet.NSubJetsT... | int32_t[]                | AsJagged(AsDtype('>i4'))\n",
      "Jet/Jet.NSubJetsP... | int32_t[]                | AsJagged(AsDtype('>i4'))\n",
      "Jet/Jet.NSubJetsS... | int32_t[]                | AsJagged(AsDtype('>i4'))\n",
      "Jet/Jet.ExclYmerge23 | double[]                 | AsJagged(AsDtype('>f8'))\n",
      "Jet/Jet.ExclYmerge34 | double[]                 | AsJagged(AsDtype('>f8'))\n",
      "Jet/Jet.ExclYmerge45 | double[]                 | AsJagged(AsDtype('>f8'))\n",
      "Jet/Jet.ExclYmerge56 | double[]                 | AsJagged(AsDtype('>f8'))\n",
      "Jet/Jet.Constituents | TRefArray*               | AsObjects(AsArray(False, Fa...\n",
      "Jet/Jet.Particles    | TRefArray*               | AsObjects(AsArray(False, Fa...\n",
      "Jet/Jet.Area         | TLorentzVector*          | AsJagged(AsStridedObjects(M...\n",
      "Jet_size             | int32_t                  | AsDtype('>i4')\n",
      "JetPUPPI             | TClonesArray             | AsGroup(<TBranchElement 'Je...\n",
      "JetPUPPI/JetPUPPI... | uint32_t[]               | AsJagged(AsDtype('>u4'))\n",
      "JetPUPPI/JetPUPPI... | uint32_t[]               | AsJagged(AsDtype('>u4'))\n",
      "JetPUPPI/JetPUPPI.PT | float[]                  | AsJagged(AsDtype('>f4'))\n",
      "JetPUPPI/JetPUPPI... | float[]                  | AsJagged(AsDtype('>f4'))\n",
      "JetPUPPI/JetPUPPI... | float[]                  | AsJagged(AsDtype('>f4'))\n",
      "JetPUPPI/JetPUPPI.T  | float[]                  | AsJagged(AsDtype('>f4'))\n",
      "JetPUPPI/JetPUPPI... | float[]                  | AsJagged(AsDtype('>f4'))\n",
      "JetPUPPI/JetPUPPI... | float[]                  | AsJagged(AsDtype('>f4'))\n",
      "JetPUPPI/JetPUPPI... | float[]                  | AsJagged(AsDtype('>f4'))\n",
      "JetPUPPI/JetPUPPI... | uint32_t[]               | AsJagged(AsDtype('>u4'))\n",
      "JetPUPPI/JetPUPPI... | uint32_t[]               | AsJagged(AsDtype('>u4'))\n",
      "JetPUPPI/JetPUPPI... | uint32_t[]               | AsJagged(AsDtype('>u4'))\n",
      "JetPUPPI/JetPUPPI... | uint32_t[]               | AsJagged(AsDtype('>u4'))\n",
      "JetPUPPI/JetPUPPI... | uint32_t[]               | AsJagged(AsDtype('>u4'))\n",
      "JetPUPPI/JetPUPPI... | uint32_t[]               | AsJagged(AsDtype('>u4'))\n",
      "JetPUPPI/JetPUPPI... | uint32_t[]               | AsJagged(AsDtype('>u4'))\n",
      "JetPUPPI/JetPUPPI... | float[]                  | AsJagged(AsDtype('>f4'))\n",
      "JetPUPPI/JetPUPPI... | int32_t[]                | AsJagged(AsDtype('>i4'))\n",
      "JetPUPPI/JetPUPPI... | float[]                  | AsJagged(AsDtype('>f4'))\n",
      "JetPUPPI/JetPUPPI... | int32_t[]                | AsJagged(AsDtype('>i4'))\n",
      "JetPUPPI/JetPUPPI... | int32_t[]                | AsJagged(AsDtype('>i4'))\n",
      "JetPUPPI/JetPUPPI... | float[]                  | AsJagged(AsDtype('>f4'))\n",
      "JetPUPPI/JetPUPPI... | float[]                  | AsJagged(AsDtype('>f4'))\n",
      "JetPUPPI/JetPUPPI... | float[]                  | AsJagged(AsDtype('>f4'))\n",
      "JetPUPPI/JetPUPPI... | float[]                  | AsJagged(AsDtype('>f4'))\n",
      "JetPUPPI/JetPUPPI... | float[]                  | AsJagged(AsDtype('>f4'))\n",
      "JetPUPPI/JetPUPPI... | float[]                  | AsJagged(AsDtype('>f4'))\n",
      "JetPUPPI/JetPUPPI... | float[][5]               | AsJagged(AsDtype(\"('>f4', (...\n",
      "JetPUPPI/JetPUPPI... | float[][5]               | AsJagged(AsDtype(\"('>f4', (...\n",
      "JetPUPPI/JetPUPPI... | TLorentzVector*          | AsJagged(AsStridedObjects(M...\n",
      "JetPUPPI/JetPUPPI... | TLorentzVector*          | AsJagged(AsStridedObjects(M...\n",
      "JetPUPPI/JetPUPPI... | TLorentzVector*          | AsJagged(AsStridedObjects(M...\n",
      "JetPUPPI/JetPUPPI... | TLorentzVector*          | AsJagged(AsStridedObjects(M...\n",
      "JetPUPPI/JetPUPPI... | TLorentzVector*          | AsJagged(AsStridedObjects(M...\n",
      "JetPUPPI/JetPUPPI... | TLorentzVector*          | AsJagged(AsStridedObjects(M...\n",
      "JetPUPPI/JetPUPPI... | int32_t[]                | AsJagged(AsDtype('>i4'))\n",
      "JetPUPPI/JetPUPPI... | int32_t[]                | AsJagged(AsDtype('>i4'))\n",
      "JetPUPPI/JetPUPPI... | int32_t[]                | AsJagged(AsDtype('>i4'))\n",
      "JetPUPPI/JetPUPPI... | double[]                 | AsJagged(AsDtype('>f8'))\n",
      "JetPUPPI/JetPUPPI... | double[]                 | AsJagged(AsDtype('>f8'))\n",
      "JetPUPPI/JetPUPPI... | double[]                 | AsJagged(AsDtype('>f8'))\n",
      "JetPUPPI/JetPUPPI... | double[]                 | AsJagged(AsDtype('>f8'))\n",
      "JetPUPPI/JetPUPPI... | TRefArray*               | AsObjects(AsArray(False, Fa...\n",
      "JetPUPPI/JetPUPPI... | TRefArray*               | AsObjects(AsArray(False, Fa...\n",
      "JetPUPPI/JetPUPPI... | TLorentzVector*          | AsJagged(AsStridedObjects(M...\n",
      "JetPUPPI_size        | int32_t                  | AsDtype('>i4')\n",
      "JetAK8               | TClonesArray             | AsGroup(<TBranchElement 'Je...\n",
      "JetAK8/JetAK8.fUn... | uint32_t[]               | AsJagged(AsDtype('>u4'))\n",
      "JetAK8/JetAK8.fBits  | uint32_t[]               | AsJagged(AsDtype('>u4'))\n",
      "JetAK8/JetAK8.PT     | float[]                  | AsJagged(AsDtype('>f4'))\n",
      "JetAK8/JetAK8.Eta    | float[]                  | AsJagged(AsDtype('>f4'))\n",
      "JetAK8/JetAK8.Phi    | float[]                  | AsJagged(AsDtype('>f4'))\n",
      "JetAK8/JetAK8.T      | float[]                  | AsJagged(AsDtype('>f4'))\n",
      "JetAK8/JetAK8.Mass   | float[]                  | AsJagged(AsDtype('>f4'))\n",
      "JetAK8/JetAK8.Del... | float[]                  | AsJagged(AsDtype('>f4'))\n",
      "JetAK8/JetAK8.Del... | float[]                  | AsJagged(AsDtype('>f4'))\n",
      "JetAK8/JetAK8.Flavor | uint32_t[]               | AsJagged(AsDtype('>u4'))\n",
      "JetAK8/JetAK8.Fla... | uint32_t[]               | AsJagged(AsDtype('>u4'))\n",
      "JetAK8/JetAK8.Fla... | uint32_t[]               | AsJagged(AsDtype('>u4'))\n",
      "JetAK8/JetAK8.BTag   | uint32_t[]               | AsJagged(AsDtype('>u4'))\n",
      "JetAK8/JetAK8.BTa... | uint32_t[]               | AsJagged(AsDtype('>u4'))\n",
      "JetAK8/JetAK8.BTa... | uint32_t[]               | AsJagged(AsDtype('>u4'))\n",
      "JetAK8/JetAK8.TauTag | uint32_t[]               | AsJagged(AsDtype('>u4'))\n",
      "JetAK8/JetAK8.Tau... | float[]                  | AsJagged(AsDtype('>f4'))\n",
      "JetAK8/JetAK8.Charge | int32_t[]                | AsJagged(AsDtype('>i4'))\n",
      "JetAK8/JetAK8.Eha... | float[]                  | AsJagged(AsDtype('>f4'))\n",
      "JetAK8/JetAK8.NCh... | int32_t[]                | AsJagged(AsDtype('>i4'))\n",
      "JetAK8/JetAK8.NNe... | int32_t[]                | AsJagged(AsDtype('>i4'))\n",
      "JetAK8/JetAK8.Neu... | float[]                  | AsJagged(AsDtype('>f4'))\n",
      "JetAK8/JetAK8.Cha... | float[]                  | AsJagged(AsDtype('>f4'))\n",
      "JetAK8/JetAK8.Beta   | float[]                  | AsJagged(AsDtype('>f4'))\n",
      "JetAK8/JetAK8.Bet... | float[]                  | AsJagged(AsDtype('>f4'))\n",
      "JetAK8/JetAK8.Mea... | float[]                  | AsJagged(AsDtype('>f4'))\n",
      "JetAK8/JetAK8.PTD    | float[]                  | AsJagged(AsDtype('>f4'))\n",
      "JetAK8/JetAK8.Fra... | float[][5]               | AsJagged(AsDtype(\"('>f4', (...\n",
      "JetAK8/JetAK8.Tau[5] | float[][5]               | AsJagged(AsDtype(\"('>f4', (...\n",
      "JetAK8/JetAK8.Sof... | TLorentzVector*          | AsJagged(AsStridedObjects(M...\n",
      "JetAK8/JetAK8.Sof... | TLorentzVector*          | AsJagged(AsStridedObjects(M...\n",
      "JetAK8/JetAK8.Sof... | TLorentzVector*          | AsJagged(AsStridedObjects(M...\n",
      "JetAK8/JetAK8.Tri... | TLorentzVector*          | AsJagged(AsStridedObjects(M...\n",
      "JetAK8/JetAK8.Pru... | TLorentzVector*          | AsJagged(AsStridedObjects(M...\n",
      "JetAK8/JetAK8.Sof... | TLorentzVector*          | AsJagged(AsStridedObjects(M...\n",
      "JetAK8/JetAK8.NSu... | int32_t[]                | AsJagged(AsDtype('>i4'))\n",
      "JetAK8/JetAK8.NSu... | int32_t[]                | AsJagged(AsDtype('>i4'))\n",
      "JetAK8/JetAK8.NSu... | int32_t[]                | AsJagged(AsDtype('>i4'))\n",
      "JetAK8/JetAK8.Exc... | double[]                 | AsJagged(AsDtype('>f8'))\n",
      "JetAK8/JetAK8.Exc... | double[]                 | AsJagged(AsDtype('>f8'))\n",
      "JetAK8/JetAK8.Exc... | double[]                 | AsJagged(AsDtype('>f8'))\n",
      "JetAK8/JetAK8.Exc... | double[]                 | AsJagged(AsDtype('>f8'))\n",
      "JetAK8/JetAK8.Con... | TRefArray*               | AsObjects(AsArray(False, Fa...\n",
      "JetAK8/JetAK8.Par... | TRefArray*               | AsObjects(AsArray(False, Fa...\n",
      "JetAK8/JetAK8.Area   | TLorentzVector*          | AsJagged(AsStridedObjects(M...\n",
      "JetAK8_size          | int32_t                  | AsDtype('>i4')\n",
      "JetPUPPIAK8          | TClonesArray             | AsGroup(<TBranchElement 'Je...\n",
      "JetPUPPIAK8/JetPU... | uint32_t[]               | AsJagged(AsDtype('>u4'))\n",
      "JetPUPPIAK8/JetPU... | uint32_t[]               | AsJagged(AsDtype('>u4'))\n",
      "JetPUPPIAK8/JetPU... | float[]                  | AsJagged(AsDtype('>f4'))\n",
      "JetPUPPIAK8/JetPU... | float[]                  | AsJagged(AsDtype('>f4'))\n",
      "JetPUPPIAK8/JetPU... | float[]                  | AsJagged(AsDtype('>f4'))\n",
      "JetPUPPIAK8/JetPU... | float[]                  | AsJagged(AsDtype('>f4'))\n",
      "JetPUPPIAK8/JetPU... | float[]                  | AsJagged(AsDtype('>f4'))\n",
      "JetPUPPIAK8/JetPU... | float[]                  | AsJagged(AsDtype('>f4'))\n",
      "JetPUPPIAK8/JetPU... | float[]                  | AsJagged(AsDtype('>f4'))\n",
      "JetPUPPIAK8/JetPU... | uint32_t[]               | AsJagged(AsDtype('>u4'))\n",
      "JetPUPPIAK8/JetPU... | uint32_t[]               | AsJagged(AsDtype('>u4'))\n",
      "JetPUPPIAK8/JetPU... | uint32_t[]               | AsJagged(AsDtype('>u4'))\n",
      "JetPUPPIAK8/JetPU... | uint32_t[]               | AsJagged(AsDtype('>u4'))\n",
      "JetPUPPIAK8/JetPU... | uint32_t[]               | AsJagged(AsDtype('>u4'))\n",
      "JetPUPPIAK8/JetPU... | uint32_t[]               | AsJagged(AsDtype('>u4'))\n",
      "JetPUPPIAK8/JetPU... | uint32_t[]               | AsJagged(AsDtype('>u4'))\n",
      "JetPUPPIAK8/JetPU... | float[]                  | AsJagged(AsDtype('>f4'))\n",
      "JetPUPPIAK8/JetPU... | int32_t[]                | AsJagged(AsDtype('>i4'))\n",
      "JetPUPPIAK8/JetPU... | float[]                  | AsJagged(AsDtype('>f4'))\n",
      "JetPUPPIAK8/JetPU... | int32_t[]                | AsJagged(AsDtype('>i4'))\n",
      "JetPUPPIAK8/JetPU... | int32_t[]                | AsJagged(AsDtype('>i4'))\n",
      "JetPUPPIAK8/JetPU... | float[]                  | AsJagged(AsDtype('>f4'))\n",
      "JetPUPPIAK8/JetPU... | float[]                  | AsJagged(AsDtype('>f4'))\n",
      "JetPUPPIAK8/JetPU... | float[]                  | AsJagged(AsDtype('>f4'))\n",
      "JetPUPPIAK8/JetPU... | float[]                  | AsJagged(AsDtype('>f4'))\n",
      "JetPUPPIAK8/JetPU... | float[]                  | AsJagged(AsDtype('>f4'))\n",
      "JetPUPPIAK8/JetPU... | float[]                  | AsJagged(AsDtype('>f4'))\n",
      "JetPUPPIAK8/JetPU... | float[][5]               | AsJagged(AsDtype(\"('>f4', (...\n",
      "JetPUPPIAK8/JetPU... | float[][5]               | AsJagged(AsDtype(\"('>f4', (...\n",
      "JetPUPPIAK8/JetPU... | TLorentzVector*          | AsJagged(AsStridedObjects(M...\n",
      "JetPUPPIAK8/JetPU... | TLorentzVector*          | AsJagged(AsStridedObjects(M...\n",
      "JetPUPPIAK8/JetPU... | TLorentzVector*          | AsJagged(AsStridedObjects(M...\n",
      "JetPUPPIAK8/JetPU... | TLorentzVector*          | AsJagged(AsStridedObjects(M...\n",
      "JetPUPPIAK8/JetPU... | TLorentzVector*          | AsJagged(AsStridedObjects(M...\n",
      "JetPUPPIAK8/JetPU... | TLorentzVector*          | AsJagged(AsStridedObjects(M...\n",
      "JetPUPPIAK8/JetPU... | int32_t[]                | AsJagged(AsDtype('>i4'))\n",
      "JetPUPPIAK8/JetPU... | int32_t[]                | AsJagged(AsDtype('>i4'))\n",
      "JetPUPPIAK8/JetPU... | int32_t[]                | AsJagged(AsDtype('>i4'))\n",
      "JetPUPPIAK8/JetPU... | double[]                 | AsJagged(AsDtype('>f8'))\n",
      "JetPUPPIAK8/JetPU... | double[]                 | AsJagged(AsDtype('>f8'))\n",
      "JetPUPPIAK8/JetPU... | double[]                 | AsJagged(AsDtype('>f8'))\n",
      "JetPUPPIAK8/JetPU... | double[]                 | AsJagged(AsDtype('>f8'))\n",
      "JetPUPPIAK8/JetPU... | TRefArray*               | AsObjects(AsArray(False, Fa...\n",
      "JetPUPPIAK8/JetPU... | TRefArray*               | AsObjects(AsArray(False, Fa...\n",
      "JetPUPPIAK8/JetPU... | TLorentzVector*          | AsJagged(AsStridedObjects(M...\n",
      "JetPUPPIAK8_size     | int32_t                  | AsDtype('>i4')\n",
      "Rho                  | TClonesArray             | AsGroup(<TBranchElement 'Rh...\n",
      "Rho/Rho.fUniqueID    | uint32_t[]               | AsJagged(AsDtype('>u4'))\n",
      "Rho/Rho.fBits        | uint32_t[]               | AsJagged(AsDtype('>u4'))\n",
      "Rho/Rho.Rho          | float[]                  | AsJagged(AsDtype('>f4'))\n",
      "Rho/Rho.Edges[2]     | float[][2]               | AsJagged(AsDtype(\"('>f4', (...\n",
      "Rho_size             | int32_t                  | AsDtype('>i4')\n",
      "MissingET            | TClonesArray             | AsGroup(<TBranchElement 'Mi...\n",
      "MissingET/Missing... | uint32_t[]               | AsJagged(AsDtype('>u4'))\n",
      "MissingET/Missing... | uint32_t[]               | AsJagged(AsDtype('>u4'))\n",
      "MissingET/Missing... | float[]                  | AsJagged(AsDtype('>f4'))\n",
      "MissingET/Missing... | float[]                  | AsJagged(AsDtype('>f4'))\n",
      "MissingET/Missing... | float[]                  | AsJagged(AsDtype('>f4'))\n",
      "MissingET_size       | int32_t                  | AsDtype('>i4')\n",
      "PuppiMissingET       | TClonesArray             | AsGroup(<TBranchElement 'Pu...\n",
      "PuppiMissingET/Pu... | uint32_t[]               | AsJagged(AsDtype('>u4'))\n",
      "PuppiMissingET/Pu... | uint32_t[]               | AsJagged(AsDtype('>u4'))\n",
      "PuppiMissingET/Pu... | float[]                  | AsJagged(AsDtype('>f4'))\n",
      "PuppiMissingET/Pu... | float[]                  | AsJagged(AsDtype('>f4'))\n",
      "PuppiMissingET/Pu... | float[]                  | AsJagged(AsDtype('>f4'))\n",
      "PuppiMissingET_size  | int32_t                  | AsDtype('>i4')\n",
      "GenPileUpMissingET   | TClonesArray             | AsGroup(<TBranchElement 'Ge...\n",
      "GenPileUpMissingE... | uint32_t[]               | AsJagged(AsDtype('>u4'))\n",
      "GenPileUpMissingE... | uint32_t[]               | AsJagged(AsDtype('>u4'))\n",
      "GenPileUpMissingE... | float[]                  | AsJagged(AsDtype('>f4'))\n",
      "GenPileUpMissingE... | float[]                  | AsJagged(AsDtype('>f4'))\n",
      "GenPileUpMissingE... | float[]                  | AsJagged(AsDtype('>f4'))\n",
      "GenPileUpMissingE... | int32_t                  | AsDtype('>i4')\n",
      "ScalarHT             | TClonesArray             | AsGroup(<TBranchElement 'Sc...\n",
      "ScalarHT/ScalarHT... | uint32_t[]               | AsJagged(AsDtype('>u4'))\n",
      "ScalarHT/ScalarHT... | uint32_t[]               | AsJagged(AsDtype('>u4'))\n",
      "ScalarHT/ScalarHT.HT | float[]                  | AsJagged(AsDtype('>f4'))\n",
      "ScalarHT_size        | int32_t                  | AsDtype('>i4')\n"
     ]
    }
   ],
   "source": [
    "# Read tree and show branches\n",
    "infile = \"../data/W_enu_pu200.root:Delphes\"  # tree name: Delphes\n",
    "tree = uproot.open(infile)\n",
    "tree.show()"
   ]
  },
  {
   "cell_type": "code",
   "execution_count": 5,
   "metadata": {},
   "outputs": [
    {
     "name": "stdout",
     "output_type": "stream",
     "text": [
      "Number of events: 1000\n"
     ]
    }
   ],
   "source": [
    "# Show the number of events\n",
    "print(\"Number of events: {0}\".format(tree.num_entries))\n",
    "\n",
    "# Save the cut-flow\n",
    "cut0 = np.zeros(tree.num_entries)"
   ]
  },
  {
   "cell_type": "markdown",
   "metadata": {},
   "source": [
    "### 2. Branch to Array"
   ]
  },
  {
   "cell_type": "code",
   "execution_count": 6,
   "metadata": {
    "tags": []
   },
   "outputs": [
    {
     "name": "stdout",
     "output_type": "stream",
     "text": [
      "name                 | typename                 | interpretation                \n",
      "---------------------+--------------------------+-------------------------------\n",
      "Electron             | TClonesArray             | AsGroup(<TBranchElement 'ElectElectron.fUniqueID   | uint32_t[]               | AsJagged(AsDtype('>u4'))\n",
      "Electron.fBits       | uint32_t[]               | AsJagged(AsDtype('>u4'))\n",
      "Electron.PT          | float[]                  | AsJagged(AsDtype('>f4'))\n",
      "Electron.Eta         | float[]                  | AsJagged(AsDtype('>f4'))\n",
      "Electron.Phi         | float[]                  | AsJagged(AsDtype('>f4'))\n",
      "Electron.T           | float[]                  | AsJagged(AsDtype('>f4'))\n",
      "Electron.Charge      | int32_t[]                | AsJagged(AsDtype('>i4'))\n",
      "Electron.EhadOverEem | float[]                  | AsJagged(AsDtype('>f4'))\n",
      "Electron.Particle    | TRef*                    | AsJagged(AsStridedObjects(M...\n",
      "Electron.Isolatio... | float[]                  | AsJagged(AsDtype('>f4'))\n",
      "Electron.Isolatio... | float[]                  | AsJagged(AsDtype('>f4'))\n",
      "Electron.SumPtCha... | float[]                  | AsJagged(AsDtype('>f4'))\n",
      "Electron.SumPtNeu... | float[]                  | AsJagged(AsDtype('>f4'))\n",
      "Electron.SumPtCha... | float[]                  | AsJagged(AsDtype('>f4'))\n",
      "Electron.SumPt       | float[]                  | AsJagged(AsDtype('>f4'))\n",
      "Electron.D0          | float[]                  | AsJagged(AsDtype('>f4'))\n",
      "Electron.DZ          | float[]                  | AsJagged(AsDtype('>f4'))\n",
      "Electron.ErrorD0     | float[]                  | AsJagged(AsDtype('>f4'))\n",
      "Electron.ErrorDZ     | float[]                  | AsJagged(AsDtype('>f4'))\n"
     ]
    }
   ],
   "source": [
    "# Check the Electron branch\n",
    "tree['Electron'].show()"
   ]
  },
  {
   "cell_type": "code",
   "execution_count": 7,
   "metadata": {},
   "outputs": [
    {
     "name": "stdout",
     "output_type": "stream",
     "text": [
      "name                 | typename                 | interpretation                \n",
      "---------------------+--------------------------+-------------------------------\n",
      "MissingET            | TClonesArray             | AsGroup(<TBranchElement 'MissiMissingET.fUniqueID  | uint32_t[]               | AsJagged(AsDtype('>u4'))\n",
      "MissingET.fBits      | uint32_t[]               | AsJagged(AsDtype('>u4'))\n",
      "MissingET.MET        | float[]                  | AsJagged(AsDtype('>f4'))\n",
      "MissingET.Eta        | float[]                  | AsJagged(AsDtype('>f4'))\n",
      "MissingET.Phi        | float[]                  | AsJagged(AsDtype('>f4'))\n"
     ]
    }
   ],
   "source": [
    "# Check the MET branch\n",
    "tree['MissingET'].show()"
   ]
  },
  {
   "cell_type": "code",
   "execution_count": 8,
   "metadata": {},
   "outputs": [],
   "source": [
    "# Branch to array\n",
    "\n",
    "tree_arr = tree.arrays(filter_name=['Electron*','MissingET*'])\n",
    "# You can add other particels (e.g. filter_name=['Jet*]')"
   ]
  },
  {
   "cell_type": "code",
   "execution_count": 9,
   "metadata": {},
   "outputs": [
    {
     "data": {
      "text/plain": [
       "<Array [[148, 46.1], [129], ... [222], [203]] type='1000 * var * float32'>"
      ]
     },
     "execution_count": 9,
     "metadata": {},
     "output_type": "execute_result"
    }
   ],
   "source": [
    "# You can access the all physics variables\n",
    "# But this looks ugly... \n",
    "tree_arr['Electron.PT']"
   ]
  },
  {
   "cell_type": "code",
   "execution_count": 10,
   "metadata": {},
   "outputs": [],
   "source": [
    "# Electron group ( for more convenient )\n",
    "Electron = ak.zip({\n",
    "\t\"PT\"\t\t: tree_arr[\"Electron.PT\"],\n",
    "\t\"Eta\"\t\t: tree_arr[\"Electron.Eta\"],\n",
    "\t\"Phi\"\t\t: tree_arr[\"Electron.Phi\"],\n",
    "\t\"T\"\t\t\t: tree_arr[\"Electron.T\"],\n",
    "\t\"Charge\"\t: tree_arr[\"Electron.Charge\"]\n",
    "})"
   ]
  },
  {
   "cell_type": "code",
   "execution_count": 11,
   "metadata": {},
   "outputs": [],
   "source": [
    "# MET group\n",
    "MET = ak.zip({\n",
    "\t\"MET\"\t\t: tree_arr[\"MissingET.MET\"],\n",
    "\t\"Eta\"\t\t: tree_arr[\"MissingET.Eta\"],\n",
    "\t\"Phi\"\t\t: tree_arr[\"MissingET.Phi\"],\n",
    "})"
   ]
  },
  {
   "cell_type": "code",
   "execution_count": 12,
   "metadata": {},
   "outputs": [
    {
     "name": "stdout",
     "output_type": "stream",
     "text": [
      "[[148, 46.1], [129], [], [211], [313], ... [205], [], [218, 15.4], [222], [203]]\n",
      "[[235], [338], [354], [238], [281], [322, ... [322], [247], [149], [350], [237]]\n"
     ]
    }
   ],
   "source": [
    "# Now, you can access the physics variables in this way\n",
    "print(Electron.PT)\n",
    "print(MET.MET)"
   ]
  },
  {
   "cell_type": "markdown",
   "metadata": {},
   "source": [
    "### 3. Selection"
   ]
  },
  {
   "cell_type": "markdown",
   "metadata": {},
   "source": [
    "3.1 Electron definition"
   ]
  },
  {
   "cell_type": "code",
   "execution_count": 13,
   "metadata": {},
   "outputs": [],
   "source": [
    "# Minimum PT cut >= 10 GeV\n",
    "Ele_PT_mask = Electron.PT >= 10\n",
    "\n",
    "# Tracker coverage |eta| <= 2.5\n",
    "Ele_Eta_mask = abs(Electron.Eta) <= 2.5\n",
    "\n",
    "# Combine cut1 and cut2 using AND(&) operator\n",
    "Electron_selection_mask = (Ele_PT_mask) & (Ele_Eta_mask)"
   ]
  },
  {
   "cell_type": "markdown",
   "metadata": {},
   "source": [
    "3.2 Select event with one or more selected Electrons"
   ]
  },
  {
   "cell_type": "code",
   "execution_count": 14,
   "metadata": {},
   "outputs": [
    {
     "name": "stdout",
     "output_type": "stream",
     "text": [
      "Cut0: 1000, Cut1: 792\n"
     ]
    }
   ],
   "source": [
    "# Event mask\n",
    "Electron = Electron[Electron_selection_mask]\n",
    "Electron_event_mask = (ak.num(Electron) >= 1)\n",
    "\n",
    "# Apply event selection\n",
    "Electron = Electron[Electron_event_mask]\n",
    "MET = MET[Electron_event_mask]\n",
    "# Photon = Photo[Electron_event_mask]\n",
    "# Jet = Jet[Electron_event_mask]\n",
    "\n",
    "\n",
    "# CutFlow\n",
    "cut1 = np.ones(len(Electron))\n",
    "print(\"Cut0: {0}, Cut1: {1}\".format(len(cut0), len(cut1)))"
   ]
  },
  {
   "cell_type": "markdown",
   "metadata": {},
   "source": [
    "### 4. Construct Kinematic variabels ( High-level variables )"
   ]
  },
  {
   "cell_type": "code",
   "execution_count": 15,
   "metadata": {},
   "outputs": [],
   "source": [
    "import vector"
   ]
  },
  {
   "cell_type": "code",
   "execution_count": 16,
   "metadata": {},
   "outputs": [],
   "source": [
    "leading_Electron = Electron[:,0] # Highest PT "
   ]
  },
  {
   "cell_type": "code",
   "execution_count": 17,
   "metadata": {},
   "outputs": [],
   "source": [
    "Ele2vec = vector.obj(pt=leading_Electron.PT, phi=leading_Electron.Phi)\n",
    "MET2vec = vector.obj(pt=MET.MET, phi=MET.Phi)"
   ]
  },
  {
   "cell_type": "code",
   "execution_count": 18,
   "metadata": {},
   "outputs": [],
   "source": [
    "MT =np.sqrt( 2 * leading_Electron.PT * MET.MET * (1 - np.cos(abs(MET2vec.deltaphi(Ele2vec)))) )"
   ]
  },
  {
   "cell_type": "markdown",
   "metadata": {},
   "source": [
    "### 5. Visualize"
   ]
  },
  {
   "cell_type": "code",
   "execution_count": 19,
   "metadata": {},
   "outputs": [],
   "source": [
    "def draw(arr,title,start,end,bin): # Array, Name, x_min, x_max, bin-number\n",
    "    plt.figure(figsize=(8,5)) # Figure size\n",
    "    bins = np.linspace(start,end,bin) # divide start-end range with 'bin' number\n",
    "    binwidth = (end - start) / bin # width of one bin\n",
    "    \n",
    "    # Draw histogram\n",
    "    plt.hist(arr,bins=bins,alpha=0.7,label=title) # label is needed to draw legend \n",
    "    \n",
    "    plt.xticks(fontsize=16) # xtick size\n",
    "    plt.xlabel(title,fontsize=16) # X-label\n",
    "    #plt.xlabel('$e_{PT}',fontsize=16) # X-label (If you want LateX format)\n",
    "    \n",
    "    plt.ylabel('Number of Events/(%d GeV)' % binwidth,fontsize=16) # Y-label\n",
    "    #plt.ylabel('Number of Events',fontsize=16) # Y-label withou bin-width \n",
    "    plt.yticks(fontsize=16) # ytick size\n",
    "    \n",
    "    plt.grid(alpha=0.5) # grid\n",
    "    plt.legend(prop={'size':15}) # show legend\n",
    "\n",
    "    # svae figuew\n",
    "    #outname_fig = title + \".png\"\n",
    "    #plt.savefig(outname_fig)\n",
    "\n",
    "    plt.show() # show histogram"
   ]
  },
  {
   "cell_type": "code",
   "execution_count": 20,
   "metadata": {},
   "outputs": [
    {
     "data": {
      "image/png": "[encoded data removed]",
      "text/plain": [
       "<Figure size 576x360 with 1 Axes>"
      ]
     },
     "metadata": {
      "needs_background": "light"
     },
     "output_type": "display_data"
    }
   ],
   "source": [
    "# Electron PT\n",
    "draw(ak.flatten(Electron.PT),'Electron_PT',0,700,25)"
   ]
  },
  {
   "cell_type": "code",
   "execution_count": 21,
   "metadata": {},
   "outputs": [
    {
     "data": {
      "image/png": "[encoded data removed]",
      "text/plain": [
       "<Figure size 576x360 with 1 Axes>"
      ]
     },
     "metadata": {
      "needs_background": "light"
     },
     "output_type": "display_data"
    }
   ],
   "source": [
    "# MET PT\n",
    "draw(ak.flatten(MET.MET),'MET_PT',0,800,25)"
   ]
  },
  {
   "cell_type": "code",
   "execution_count": 22,
   "metadata": {},
   "outputs": [
    {
     "data": {
      "image/png": "[encoded data removed]",
      "text/plain": [
       "<Figure size 576x360 with 1 Axes>"
      ]
     },
     "metadata": {
      "needs_background": "light"
     },
     "output_type": "display_data"
    }
   ],
   "source": [
    "# MT\n",
    "draw(ak.flatten(MT),'W_MT',0,1400,25)"
   ]
  },
  {
   "cell_type": "code",
   "execution_count": 27,
   "metadata": {},
   "outputs": [
    {
     "data": {
      "image/png": "[encoded data removed]",
      "text/plain": [
       "<Figure size 432x288 with 1 Axes>"
      ]
     },
     "metadata": {
      "needs_background": "light"
     },
     "output_type": "display_data"
    }
   ],
   "source": [
    "cutflow = np.concatenate([cut0,cut1])\n",
    "plt.title('CutFlow')\n",
    "plt.hist(cutflow,bins=2)\n",
    "plt.show()\n",
    "# 0 --> No cut \n",
    "# 1 --> Electron selection"
   ]
  },
  {
   "cell_type": "code",
   "execution_count": null,
   "metadata": {},
   "outputs": [],
   "source": []
  }
 ],
 "metadata": {
  "kernelspec": {
   "display_name": "Python 3",
   "language": "python",
   "name": "python3"
  },
  "language_info": {
   "codemirror_mode": {
    "name": "ipython",
    "version": 3
   },
   "file_extension": ".py",
   "mimetype": "text/x-python",
   "name": "python",
   "nbconvert_exporter": "python",
   "pygments_lexer": "ipython3",
   "version": "3.8.5"
  }
 },
 "nbformat": 4,
 "nbformat_minor": 4
}
